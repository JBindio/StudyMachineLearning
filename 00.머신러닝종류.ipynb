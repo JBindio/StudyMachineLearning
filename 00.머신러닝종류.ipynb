{
 "cells": [
  {
   "cell_type": "code",
   "execution_count": null,
   "id": "9ed0e2ac-f90b-49b1-9808-db2b13b29c33",
   "metadata": {},
   "outputs": [],
   "source": [
    "# <머신러닝 모델 종류>\n",
    "# 분류모델, 회귀모델, 군집모델\n",
    "\n",
    "# 머신러닝시 모든 분류모델 테스트 -> 결정계수(예측정확도) 가장 좋은 모델 선택\n",
    "# 결정계수 일반적으로 > 0.3 이상\n",
    "\n",
    "# <분류모델>\n",
    "# - 범주형, 연속형 / 독립변수(연속형), 종속변수\n",
    "# - 의사결정나무, ★랜덤포레스트, SVM(서포트벡터머신), KNN, ★로지스틱회귀분류모델\n",
    "\n",
    "# <회귀모델>\n",
    "# - 연속형 / 독립변수, 종속변수 둘다 연속형\n",
    "# - 선형회귀분석, 단순선형회귀분석, ★★다중선형회귀분석, ★다항회귀분석, ★로지스틱회귀분류모델\n",
    "# * 선형회귀분석 : 독립변수 1개만 사용\n",
    "\n",
    "# <군집모델>\n",
    "# - 범주형, 연속형 / 독립변수만 있음(종속변수 X)\n",
    "# - ★클러스터링분석, K-Mean군집분석, DBscan분석\n",
    "# 분류대상이 여러개일때 사용\n",
    "\n",
    "# 지도학습 : 종속변수(단 하나)가 있는 분석\n",
    "# 비지도학습 : 독립변수(여러개)가 있는 분석\n",
    "\n",
    "# 분석방법 \n",
    "# 1. 데이터수집\n",
    "# 2. 전처리\n",
    "# 3. 학습모델 선정\n",
    "# 4. 예측(테스트)\n",
    "# 5. 모델평가\n"
   ]
  }
 ],
 "metadata": {
  "kernelspec": {
   "display_name": "Python 3 (ipykernel)",
   "language": "python",
   "name": "python3"
  },
  "language_info": {
   "codemirror_mode": {
    "name": "ipython",
    "version": 3
   },
   "file_extension": ".py",
   "mimetype": "text/x-python",
   "name": "python",
   "nbconvert_exporter": "python",
   "pygments_lexer": "ipython3",
   "version": "3.9.12"
  }
 },
 "nbformat": 4,
 "nbformat_minor": 5
}
