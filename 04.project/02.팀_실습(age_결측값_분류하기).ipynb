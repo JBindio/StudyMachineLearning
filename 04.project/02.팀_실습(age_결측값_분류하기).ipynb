{
 "cells": [
  {
   "cell_type": "code",
   "execution_count": 1,
   "id": "966922d7-ce69-4d03-8a84-a1e04e375bdf",
   "metadata": {},
   "outputs": [],
   "source": [
    "import pandas as pd\n",
    "import numpy as np\n",
    "import matplotlib\n",
    "import matplotlib.pyplot as plt\n",
    "from matplotlib import font_manager, rc\n",
    "import seaborn as sns\n",
    "import platform\n",
    "\n",
    "# seaborn 설정 리셋\n",
    "sns.reset_defaults()\n",
    "\n",
    "# 폰트설정\n",
    "if platform.system() == 'Windows' :\n",
    "    path = 'c:/Windows/Fonts/malgun.ttf'\n",
    "    font_name = font_manager.FontProperties(fname=path).get_name()\n",
    "    rc('font', family=font_name)\n",
    "elif platform.system() == 'Darwin':\n",
    "    rc('font', family='AppleGothic')\n",
    "else :\n",
    "    print('Check your OS System')\n",
    "    \n",
    "# 그래프에 마이너스 표시\n",
    "matplotlib.rcParams['axes.unicode_minus'] = False"
   ]
  },
  {
   "cell_type": "markdown",
   "id": "3ac6fcd0-ca49-4465-9ac0-304a78ec9188",
   "metadata": {},
   "source": [
    "## age 결측값 어린이 ,성인, 노인 분류 하기"
   ]
  },
  {
   "cell_type": "code",
   "execution_count": 2,
   "id": "43e7179a-54e6-4646-b8c4-55f69848c0b9",
   "metadata": {},
   "outputs": [],
   "source": [
    "# 데이터 불러오기\n",
    "\n",
    "### <변수설명>\n",
    "# PassengerId : 각 승객의 고유 번호\n",
    "# Survived : 생존 여부(종속 변수)\n",
    "#     0 = 사망\n",
    "#     1 = 생존\n",
    "# Pclass : 객실 등급 - 승객의 사회적, 경제적 지위\n",
    "#     1st = Upper(first class)\n",
    "#     2nd = Middle(second class)\n",
    "#     3rd = Lower(third class)\n",
    "# Name : 이름\n",
    "# Sex : 성별\n",
    "# Age : 나이\n",
    "# SibSp : 동반한 Sibling(형제자매)와 Spouse(배우자)의 수\n",
    "# Parch : 동반한 Parent(부모) Child(자식)의 수\n",
    "# Ticket : 티켓의 고유넘버\n",
    "# Fare : 티켓의 요금\n",
    "# Cabin : 객실 번호\n",
    "# Embarked : 승선한 항\n",
    "#     C = Cherbourg\n",
    "#     Q = Queenstown\n",
    "#     S = Southampton"
   ]
  },
  {
   "cell_type": "code",
   "execution_count": 3,
   "id": "15d722fc-e037-4ea6-aef0-f1a3170bffc5",
   "metadata": {},
   "outputs": [
    {
     "data": {
      "text/html": [
       "<div>\n",
       "<style scoped>\n",
       "    .dataframe tbody tr th:only-of-type {\n",
       "        vertical-align: middle;\n",
       "    }\n",
       "\n",
       "    .dataframe tbody tr th {\n",
       "        vertical-align: top;\n",
       "    }\n",
       "\n",
       "    .dataframe thead th {\n",
       "        text-align: right;\n",
       "    }\n",
       "</style>\n",
       "<table border=\"1\" class=\"dataframe\">\n",
       "  <thead>\n",
       "    <tr style=\"text-align: right;\">\n",
       "      <th></th>\n",
       "      <th>survived</th>\n",
       "      <th>pclass</th>\n",
       "      <th>sex</th>\n",
       "      <th>age</th>\n",
       "      <th>sibsp</th>\n",
       "      <th>parch</th>\n",
       "      <th>fare</th>\n",
       "      <th>embarked</th>\n",
       "      <th>class</th>\n",
       "      <th>who</th>\n",
       "      <th>adult_male</th>\n",
       "      <th>deck</th>\n",
       "      <th>embark_town</th>\n",
       "      <th>alive</th>\n",
       "      <th>alone</th>\n",
       "    </tr>\n",
       "  </thead>\n",
       "  <tbody>\n",
       "    <tr>\n",
       "      <th>0</th>\n",
       "      <td>0</td>\n",
       "      <td>3</td>\n",
       "      <td>male</td>\n",
       "      <td>22.0</td>\n",
       "      <td>1</td>\n",
       "      <td>0</td>\n",
       "      <td>7.2500</td>\n",
       "      <td>S</td>\n",
       "      <td>Third</td>\n",
       "      <td>man</td>\n",
       "      <td>True</td>\n",
       "      <td>NaN</td>\n",
       "      <td>Southampton</td>\n",
       "      <td>no</td>\n",
       "      <td>False</td>\n",
       "    </tr>\n",
       "    <tr>\n",
       "      <th>1</th>\n",
       "      <td>1</td>\n",
       "      <td>1</td>\n",
       "      <td>female</td>\n",
       "      <td>38.0</td>\n",
       "      <td>1</td>\n",
       "      <td>0</td>\n",
       "      <td>71.2833</td>\n",
       "      <td>C</td>\n",
       "      <td>First</td>\n",
       "      <td>woman</td>\n",
       "      <td>False</td>\n",
       "      <td>C</td>\n",
       "      <td>Cherbourg</td>\n",
       "      <td>yes</td>\n",
       "      <td>False</td>\n",
       "    </tr>\n",
       "    <tr>\n",
       "      <th>2</th>\n",
       "      <td>1</td>\n",
       "      <td>3</td>\n",
       "      <td>female</td>\n",
       "      <td>26.0</td>\n",
       "      <td>0</td>\n",
       "      <td>0</td>\n",
       "      <td>7.9250</td>\n",
       "      <td>S</td>\n",
       "      <td>Third</td>\n",
       "      <td>woman</td>\n",
       "      <td>False</td>\n",
       "      <td>NaN</td>\n",
       "      <td>Southampton</td>\n",
       "      <td>yes</td>\n",
       "      <td>True</td>\n",
       "    </tr>\n",
       "    <tr>\n",
       "      <th>3</th>\n",
       "      <td>1</td>\n",
       "      <td>1</td>\n",
       "      <td>female</td>\n",
       "      <td>35.0</td>\n",
       "      <td>1</td>\n",
       "      <td>0</td>\n",
       "      <td>53.1000</td>\n",
       "      <td>S</td>\n",
       "      <td>First</td>\n",
       "      <td>woman</td>\n",
       "      <td>False</td>\n",
       "      <td>C</td>\n",
       "      <td>Southampton</td>\n",
       "      <td>yes</td>\n",
       "      <td>False</td>\n",
       "    </tr>\n",
       "    <tr>\n",
       "      <th>4</th>\n",
       "      <td>0</td>\n",
       "      <td>3</td>\n",
       "      <td>male</td>\n",
       "      <td>35.0</td>\n",
       "      <td>0</td>\n",
       "      <td>0</td>\n",
       "      <td>8.0500</td>\n",
       "      <td>S</td>\n",
       "      <td>Third</td>\n",
       "      <td>man</td>\n",
       "      <td>True</td>\n",
       "      <td>NaN</td>\n",
       "      <td>Southampton</td>\n",
       "      <td>no</td>\n",
       "      <td>True</td>\n",
       "    </tr>\n",
       "    <tr>\n",
       "      <th>...</th>\n",
       "      <td>...</td>\n",
       "      <td>...</td>\n",
       "      <td>...</td>\n",
       "      <td>...</td>\n",
       "      <td>...</td>\n",
       "      <td>...</td>\n",
       "      <td>...</td>\n",
       "      <td>...</td>\n",
       "      <td>...</td>\n",
       "      <td>...</td>\n",
       "      <td>...</td>\n",
       "      <td>...</td>\n",
       "      <td>...</td>\n",
       "      <td>...</td>\n",
       "      <td>...</td>\n",
       "    </tr>\n",
       "    <tr>\n",
       "      <th>886</th>\n",
       "      <td>0</td>\n",
       "      <td>2</td>\n",
       "      <td>male</td>\n",
       "      <td>27.0</td>\n",
       "      <td>0</td>\n",
       "      <td>0</td>\n",
       "      <td>13.0000</td>\n",
       "      <td>S</td>\n",
       "      <td>Second</td>\n",
       "      <td>man</td>\n",
       "      <td>True</td>\n",
       "      <td>NaN</td>\n",
       "      <td>Southampton</td>\n",
       "      <td>no</td>\n",
       "      <td>True</td>\n",
       "    </tr>\n",
       "    <tr>\n",
       "      <th>887</th>\n",
       "      <td>1</td>\n",
       "      <td>1</td>\n",
       "      <td>female</td>\n",
       "      <td>19.0</td>\n",
       "      <td>0</td>\n",
       "      <td>0</td>\n",
       "      <td>30.0000</td>\n",
       "      <td>S</td>\n",
       "      <td>First</td>\n",
       "      <td>woman</td>\n",
       "      <td>False</td>\n",
       "      <td>B</td>\n",
       "      <td>Southampton</td>\n",
       "      <td>yes</td>\n",
       "      <td>True</td>\n",
       "    </tr>\n",
       "    <tr>\n",
       "      <th>888</th>\n",
       "      <td>0</td>\n",
       "      <td>3</td>\n",
       "      <td>female</td>\n",
       "      <td>NaN</td>\n",
       "      <td>1</td>\n",
       "      <td>2</td>\n",
       "      <td>23.4500</td>\n",
       "      <td>S</td>\n",
       "      <td>Third</td>\n",
       "      <td>woman</td>\n",
       "      <td>False</td>\n",
       "      <td>NaN</td>\n",
       "      <td>Southampton</td>\n",
       "      <td>no</td>\n",
       "      <td>False</td>\n",
       "    </tr>\n",
       "    <tr>\n",
       "      <th>889</th>\n",
       "      <td>1</td>\n",
       "      <td>1</td>\n",
       "      <td>male</td>\n",
       "      <td>26.0</td>\n",
       "      <td>0</td>\n",
       "      <td>0</td>\n",
       "      <td>30.0000</td>\n",
       "      <td>C</td>\n",
       "      <td>First</td>\n",
       "      <td>man</td>\n",
       "      <td>True</td>\n",
       "      <td>C</td>\n",
       "      <td>Cherbourg</td>\n",
       "      <td>yes</td>\n",
       "      <td>True</td>\n",
       "    </tr>\n",
       "    <tr>\n",
       "      <th>890</th>\n",
       "      <td>0</td>\n",
       "      <td>3</td>\n",
       "      <td>male</td>\n",
       "      <td>32.0</td>\n",
       "      <td>0</td>\n",
       "      <td>0</td>\n",
       "      <td>7.7500</td>\n",
       "      <td>Q</td>\n",
       "      <td>Third</td>\n",
       "      <td>man</td>\n",
       "      <td>True</td>\n",
       "      <td>NaN</td>\n",
       "      <td>Queenstown</td>\n",
       "      <td>no</td>\n",
       "      <td>True</td>\n",
       "    </tr>\n",
       "  </tbody>\n",
       "</table>\n",
       "<p>891 rows × 15 columns</p>\n",
       "</div>"
      ],
      "text/plain": [
       "     survived  pclass     sex   age  sibsp  parch     fare embarked   class  \\\n",
       "0           0       3    male  22.0      1      0   7.2500        S   Third   \n",
       "1           1       1  female  38.0      1      0  71.2833        C   First   \n",
       "2           1       3  female  26.0      0      0   7.9250        S   Third   \n",
       "3           1       1  female  35.0      1      0  53.1000        S   First   \n",
       "4           0       3    male  35.0      0      0   8.0500        S   Third   \n",
       "..        ...     ...     ...   ...    ...    ...      ...      ...     ...   \n",
       "886         0       2    male  27.0      0      0  13.0000        S  Second   \n",
       "887         1       1  female  19.0      0      0  30.0000        S   First   \n",
       "888         0       3  female   NaN      1      2  23.4500        S   Third   \n",
       "889         1       1    male  26.0      0      0  30.0000        C   First   \n",
       "890         0       3    male  32.0      0      0   7.7500        Q   Third   \n",
       "\n",
       "       who  adult_male deck  embark_town alive  alone  \n",
       "0      man        True  NaN  Southampton    no  False  \n",
       "1    woman       False    C    Cherbourg   yes  False  \n",
       "2    woman       False  NaN  Southampton   yes   True  \n",
       "3    woman       False    C  Southampton   yes  False  \n",
       "4      man        True  NaN  Southampton    no   True  \n",
       "..     ...         ...  ...          ...   ...    ...  \n",
       "886    man        True  NaN  Southampton    no   True  \n",
       "887  woman       False    B  Southampton   yes   True  \n",
       "888  woman       False  NaN  Southampton    no  False  \n",
       "889    man        True    C    Cherbourg   yes   True  \n",
       "890    man        True  NaN   Queenstown    no   True  \n",
       "\n",
       "[891 rows x 15 columns]"
      ]
     },
     "execution_count": 3,
     "metadata": {},
     "output_type": "execute_result"
    }
   ],
   "source": [
    "# 데이터불러오기\n",
    "titanic = pd.read_csv('./data/06_(문제)타이타닉_분류_데이터셋.csv')\n",
    "titanic"
   ]
  },
  {
   "cell_type": "code",
   "execution_count": 4,
   "id": "8dd4c999-7c6e-47d4-83c2-74bd7d6d83e9",
   "metadata": {},
   "outputs": [
    {
     "name": "stdout",
     "output_type": "stream",
     "text": [
      "<class 'pandas.core.frame.DataFrame'>\n",
      "RangeIndex: 891 entries, 0 to 890\n",
      "Data columns (total 15 columns):\n",
      " #   Column       Non-Null Count  Dtype  \n",
      "---  ------       --------------  -----  \n",
      " 0   survived     891 non-null    int64  \n",
      " 1   pclass       891 non-null    int64  \n",
      " 2   sex          891 non-null    object \n",
      " 3   age          714 non-null    float64\n",
      " 4   sibsp        891 non-null    int64  \n",
      " 5   parch        891 non-null    int64  \n",
      " 6   fare         891 non-null    float64\n",
      " 7   embarked     889 non-null    object \n",
      " 8   class        891 non-null    object \n",
      " 9   who          891 non-null    object \n",
      " 10  adult_male   891 non-null    bool   \n",
      " 11  deck         203 non-null    object \n",
      " 12  embark_town  889 non-null    object \n",
      " 13  alive        891 non-null    object \n",
      " 14  alone        891 non-null    bool   \n",
      "dtypes: bool(2), float64(2), int64(4), object(7)\n",
      "memory usage: 92.4+ KB\n"
     ]
    }
   ],
   "source": [
    "# 데이터전처리 - 결측치 확인\n",
    "titanic.info()"
   ]
  },
  {
   "cell_type": "code",
   "execution_count": 5,
   "id": "478a3091-8503-4992-be75-f3109e0694d7",
   "metadata": {},
   "outputs": [],
   "source": [
    "# 데이터전처리 - 결측치 처리 \n",
    "# 결측치가 너무 많은 deck컬럼 제거 \n",
    "titanic= titanic.drop(columns='deck')"
   ]
  },
  {
   "cell_type": "code",
   "execution_count": 6,
   "id": "3b361572-45fb-4e17-9a6e-a58653fbd69f",
   "metadata": {},
   "outputs": [],
   "source": [
    "# 데이터 전처리 - 결측치 처리\n",
    "# embarked의 결측치 2건 > 머신러닝을 통해 분류한 값 'S' 입력\n",
    "titanic['embarked'].fillna('S', inplace=True)"
   ]
  },
  {
   "cell_type": "code",
   "execution_count": 7,
   "id": "56b9bfd7-9dae-45ba-8517-f8fece8edbd7",
   "metadata": {},
   "outputs": [],
   "source": [
    "# one_hot 인코딩을 통한 데이터 정형화\n",
    "titanic_one_hot = pd.get_dummies(titanic)"
   ]
  },
  {
   "cell_type": "code",
   "execution_count": 8,
   "id": "1df9732d-6f00-4919-bd28-1aa8d6509230",
   "metadata": {},
   "outputs": [],
   "source": [
    "# True, False > 1, 0 치환\n",
    "titanic_one_hot[['adult_male','alone']] = titanic_one_hot[['adult_male','alone']].astype(int)"
   ]
  },
  {
   "cell_type": "code",
   "execution_count": 9,
   "id": "392366ab-d3df-4569-ae90-7c010bae7bed",
   "metadata": {},
   "outputs": [
    {
     "name": "stdout",
     "output_type": "stream",
     "text": [
      "<class 'pandas.core.frame.DataFrame'>\n",
      "RangeIndex: 891 entries, 0 to 890\n",
      "Data columns (total 24 columns):\n",
      " #   Column                   Non-Null Count  Dtype  \n",
      "---  ------                   --------------  -----  \n",
      " 0   survived                 891 non-null    int64  \n",
      " 1   pclass                   891 non-null    int64  \n",
      " 2   age                      714 non-null    float64\n",
      " 3   sibsp                    891 non-null    int64  \n",
      " 4   parch                    891 non-null    int64  \n",
      " 5   fare                     891 non-null    float64\n",
      " 6   adult_male               891 non-null    int32  \n",
      " 7   alone                    891 non-null    int32  \n",
      " 8   sex_female               891 non-null    uint8  \n",
      " 9   sex_male                 891 non-null    uint8  \n",
      " 10  embarked_C               891 non-null    uint8  \n",
      " 11  embarked_Q               891 non-null    uint8  \n",
      " 12  embarked_S               891 non-null    uint8  \n",
      " 13  class_First              891 non-null    uint8  \n",
      " 14  class_Second             891 non-null    uint8  \n",
      " 15  class_Third              891 non-null    uint8  \n",
      " 16  who_child                891 non-null    uint8  \n",
      " 17  who_man                  891 non-null    uint8  \n",
      " 18  who_woman                891 non-null    uint8  \n",
      " 19  embark_town_Cherbourg    891 non-null    uint8  \n",
      " 20  embark_town_Queenstown   891 non-null    uint8  \n",
      " 21  embark_town_Southampton  891 non-null    uint8  \n",
      " 22  alive_no                 891 non-null    uint8  \n",
      " 23  alive_yes                891 non-null    uint8  \n",
      "dtypes: float64(2), int32(2), int64(4), uint8(16)\n",
      "memory usage: 62.8 KB\n"
     ]
    }
   ],
   "source": [
    "# 최종 결측치 확인\n",
    "titanic_one_hot.info()"
   ]
  },
  {
   "cell_type": "code",
   "execution_count": 10,
   "id": "db8667dd-319e-4fa0-923e-2faddb6a673b",
   "metadata": {},
   "outputs": [],
   "source": [
    "# 예측데이터 분리\n",
    "predict = titanic_one_hot[titanic_one_hot['age'].isna()].drop(columns='age')"
   ]
  },
  {
   "cell_type": "code",
   "execution_count": 11,
   "id": "131fe5cc-fe69-463d-8b0e-ba9c03af54aa",
   "metadata": {},
   "outputs": [],
   "source": [
    "# 새로운 변수에 저장\n",
    "age_change = titanic_one_hot"
   ]
  },
  {
   "cell_type": "code",
   "execution_count": 12,
   "id": "7ae3dd62-91c4-494d-a710-7da5c5050779",
   "metadata": {},
   "outputs": [],
   "source": [
    "# 성인, 노인 분리\n",
    "age_change['age_type'] = (age_change['age'] >= 16) & (age_change['age'] <= 49)"
   ]
  },
  {
   "cell_type": "code",
   "execution_count": 13,
   "id": "3306d604-5fca-48f5-a2eb-689a330700e0",
   "metadata": {},
   "outputs": [],
   "source": [
    "age_change['age_type'] = age_change['age_type'].astype(int)"
   ]
  },
  {
   "cell_type": "code",
   "execution_count": 14,
   "id": "dc8d1baa-b960-4b5d-b547-13f2e1588026",
   "metadata": {},
   "outputs": [],
   "source": [
    "# 어린이는 who컬럼 확인결과 결측치에 포함되지않기 때문에 분리\n",
    "age_change = age_change[age_change['age'] >= 15]"
   ]
  },
  {
   "cell_type": "code",
   "execution_count": 15,
   "id": "f5c30676-11d0-4c62-bbe4-9a853783548a",
   "metadata": {},
   "outputs": [],
   "source": [
    "# 종속변수 지정\n",
    "target = age_change[age_change['age'].isna()==False]['age_type'].to_numpy()"
   ]
  },
  {
   "cell_type": "code",
   "execution_count": 16,
   "id": "3558ccd7-f4ab-435f-b3e3-644b778e8d40",
   "metadata": {},
   "outputs": [],
   "source": [
    "# 독립변수 지정\n",
    "data = age_change[age_change['age'].isna()==False].drop(columns=['age','age_type']).to_numpy()"
   ]
  },
  {
   "cell_type": "code",
   "execution_count": 17,
   "id": "1fc7308b-d0e4-4092-bf9f-2b07b9d78155",
   "metadata": {},
   "outputs": [
    {
     "name": "stdout",
     "output_type": "stream",
     "text": [
      "(636, 23) (636,)\n"
     ]
    }
   ],
   "source": [
    "# 분리 확인\n",
    "print(data.shape, target.shape)"
   ]
  },
  {
   "cell_type": "code",
   "execution_count": 18,
   "id": "690e2053-0fc6-4f20-99fa-c6cca27887d8",
   "metadata": {},
   "outputs": [],
   "source": [
    "# 훈련데이터, 테스트데이터 분리\n",
    "from sklearn.model_selection import train_test_split\n",
    "\n",
    "train_input, test_input, train_target, test_target = \\\n",
    "    train_test_split(data, target, random_state= 111, stratify= target)"
   ]
  },
  {
   "cell_type": "code",
   "execution_count": 19,
   "id": "d39fdc4f-8354-4bcd-9d41-905ffc6aa256",
   "metadata": {},
   "outputs": [
    {
     "name": "stdout",
     "output_type": "stream",
     "text": [
      "(477, 23) (477,)\n",
      "(159, 23) (159,)\n"
     ]
    }
   ],
   "source": [
    "# 분리확인\n",
    "print(train_input.shape, train_target.shape)\n",
    "print(test_input.shape, test_target.shape)"
   ]
  },
  {
   "cell_type": "code",
   "execution_count": 20,
   "id": "a09a4893-8950-4983-b51b-1f41c0c5bcbb",
   "metadata": {},
   "outputs": [],
   "source": [
    "# 정규화\n",
    "from sklearn.preprocessing import StandardScaler\n",
    "\n",
    "ss = StandardScaler()\n",
    "ss.fit(train_input, train_target)\n",
    "\n",
    "train_scaled = ss.transform(train_input)\n",
    "test_scaled = ss.transform(test_input)"
   ]
  },
  {
   "cell_type": "code",
   "execution_count": 21,
   "id": "68905327-3a8b-4b1b-8276-e260e24ba649",
   "metadata": {},
   "outputs": [],
   "source": [
    "# 하이퍼파라미터 튜닝 모델 불러오기\n",
    "from sklearn.model_selection import GridSearchCV"
   ]
  },
  {
   "cell_type": "code",
   "execution_count": 22,
   "id": "d3d6ca30-4cba-42a0-ad28-1f2c127ce3fa",
   "metadata": {},
   "outputs": [],
   "source": [
    "# 교차검증 모델 불러오기\n",
    "from sklearn.model_selection import cross_validate"
   ]
  },
  {
   "cell_type": "markdown",
   "id": "710abef9-c442-4874-893b-bf3b5d805f84",
   "metadata": {},
   "source": [
    "## 1. KNN모델"
   ]
  },
  {
   "cell_type": "code",
   "execution_count": 23,
   "id": "0b0b162b-e10c-4353-8171-c4d9bfd06cbe",
   "metadata": {},
   "outputs": [],
   "source": [
    "# KNN 모델 불러오기\n",
    "from sklearn.neighbors import KNeighborsClassifier"
   ]
  },
  {
   "cell_type": "code",
   "execution_count": 24,
   "id": "c6139675-2471-4055-ad7e-0b30385257b7",
   "metadata": {},
   "outputs": [
    {
     "name": "stdout",
     "output_type": "stream",
     "text": [
      "<KNN> 기본   훈련데이터 정확도 : 0.891\n",
      "<KNN> 기본 테스트데이터 정확도 : 0.8742\n"
     ]
    }
   ],
   "source": [
    "# 기본 데이터 훈련 및 정확도 확인\n",
    "kn = KNeighborsClassifier()\n",
    "kn.fit(train_input, train_target)\n",
    "\n",
    "print('<KNN> 기본   훈련데이터 정확도 :', round(kn.score(train_input, train_target),4))\n",
    "print('<KNN> 기본 테스트데이터 정확도 :', round(kn.score(test_input, test_target),4))"
   ]
  },
  {
   "cell_type": "code",
   "execution_count": 25,
   "id": "17c9c52d-16f9-4493-b8cd-42bfb022eaee",
   "metadata": {},
   "outputs": [
    {
     "name": "stdout",
     "output_type": "stream",
     "text": [
      "<KNN> 기본   훈련데이터 정확도 : 0.891\n",
      "<KNN> 기본 테스트데이터 정확도 : 0.8805\n"
     ]
    }
   ],
   "source": [
    "# 정규화 데이터 훈련 및 정확도 확인\n",
    "kn = KNeighborsClassifier()\n",
    "kn.fit(train_scaled, train_target)\n",
    "\n",
    "print('<KNN> 기본   훈련데이터 정확도 :', round(kn.score(train_scaled, train_target),4))\n",
    "print('<KNN> 기본 테스트데이터 정확도 :', round(kn.score(test_scaled, test_target),4))"
   ]
  },
  {
   "cell_type": "code",
   "execution_count": 57,
   "id": "c6bdac59-747e-466b-9e7d-31fbef3e3598",
   "metadata": {},
   "outputs": [
    {
     "name": "stdout",
     "output_type": "stream",
     "text": [
      "<KNN> 튜닝   훈련데이터 정확도 : 0.8779\n",
      "<KNN> 튜닝 테스트데이터 정확도 : 0.8763\n"
     ]
    }
   ],
   "source": [
    "# 하이퍼파라미터 튜닝 및 교차검증을 통한 정확도 확인\n",
    "kn = KNeighborsClassifier()\n",
    "\n",
    "# 그리드 서치를 활용한 최적의 이웃갯수 값 탐색\n",
    "params = {'n_neighbors' : range(3, 51, 2)}\n",
    "gs = GridSearchCV(kn, params, n_jobs=-1)\n",
    "gs.fit(train_input, train_target)\n",
    "\n",
    "# 최적의 이웃갯수 값을 적용한 모델 생성\n",
    "kn = gs.best_estimator_\n",
    "\n",
    "# 교차검증을 통한 정확도 확인\n",
    "scores = cross_validate(kn, train_input, train_target,\n",
    "                        return_train_score=True, n_jobs=-1)\n",
    "\n",
    "print('<KNN> 튜닝   훈련데이터 정확도 :', round(scores['train_score'].mean(),4))\n",
    "print('<KNN> 튜닝 테스트데이터 정확도 :', round(scores['test_score'].mean(),4))"
   ]
  },
  {
   "cell_type": "markdown",
   "id": "1386d2ad-a69a-48d7-b657-09affa8c0d88",
   "metadata": {},
   "source": [
    "## 2.로지스틱 회귀분류모델"
   ]
  },
  {
   "cell_type": "code",
   "execution_count": 58,
   "id": "8f8a3ca1-61d1-4fdb-bcac-04985217395b",
   "metadata": {},
   "outputs": [],
   "source": [
    "# 로지스틱 회귀분류모델 불러오기\n",
    "from sklearn.linear_model import LogisticRegression\n",
    "\n",
    "# 반복훈련횟수 설정 (독립변수의 갯수 * 100(기본값))\n",
    "max_iter = len(titanic_one_hot.columns) * 100"
   ]
  },
  {
   "cell_type": "code",
   "execution_count": 59,
   "id": "ee462934-0386-4bb6-a254-38d94ef6ef19",
   "metadata": {},
   "outputs": [
    {
     "name": "stdout",
     "output_type": "stream",
     "text": [
      "<로지스틱> 기본   훈련데이터 정확도 : 0.8805\n",
      "<로지스틱> 기본 테스트데이터 정확도 : 0.8742\n"
     ]
    }
   ],
   "source": [
    "# 기본 데이터를 통한 모델 훈련 및 정확도 확인 (하이퍼파라미터 : max_iter = 독립변수의 갯수 * 100(기본값))\n",
    "lr = LogisticRegression(max_iter= max_iter)\n",
    "\n",
    "lr.fit(train_input, train_target)\n",
    "\n",
    "print('<로지스틱> 기본   훈련데이터 정확도 :', round(lr.score(train_input, train_target),4))\n",
    "print('<로지스틱> 기본 테스트데이터 정확도 :', round(lr.score(test_input, test_target),4))"
   ]
  },
  {
   "cell_type": "code",
   "execution_count": 60,
   "id": "8f8c62b9-254b-408e-b6e4-a264d2ed3e70",
   "metadata": {},
   "outputs": [
    {
     "name": "stdout",
     "output_type": "stream",
     "text": [
      "<로지스틱> 정규화   훈련데이터 정확도 : 0.8847\n",
      "<로지스틱> 정규화 테스트데이터 정확도 : 0.8805\n"
     ]
    }
   ],
   "source": [
    "# 기본 데이터를 통한 모델 훈련 및 정확도 확인 (하이퍼파라미터 : max_iter = 독립변수의 갯수 * 100(기본값))\n",
    "lr = LogisticRegression(max_iter = max_iter)\n",
    "\n",
    "lr.fit(train_scaled, train_target)\n",
    "\n",
    "print('<로지스틱> 정규화   훈련데이터 정확도 :', round(lr.score(train_scaled, train_target),4))\n",
    "print('<로지스틱> 정규화 테스트데이터 정확도 :', round(lr.score(test_scaled, test_target),4))"
   ]
  },
  {
   "cell_type": "code",
   "execution_count": 61,
   "id": "470a7d1e-2374-4b26-bace-026111233382",
   "metadata": {},
   "outputs": [
    {
     "name": "stdout",
     "output_type": "stream",
     "text": [
      "<로지스틱> 튜닝   훈련데이터 정확도 : 0.8753\n",
      "<로지스틱> 튜닝 테스트데이터 정확도 : 0.8721\n"
     ]
    }
   ],
   "source": [
    "# 하이퍼파라미터 튜닝 및 교차검증을 통한 정확도 확인\n",
    "lr = lr = LogisticRegression()\n",
    "\n",
    "# 그리드 서치를 활용한 최적의 가중치, 훈련반복횟수 값 탐색\n",
    "params = {'C' : np.arange(0.001, 0.01, 0.001),\n",
    "          'max_iter' : range(3000, 5000, 1000)}\n",
    "\n",
    "gs = GridSearchCV(lr, params, n_jobs=-1)\n",
    "gs.fit(train_input, train_target)\n",
    "\n",
    "# 최적의 이웃갯수 값을 적용한 모델 생성\n",
    "lr = gs.best_estimator_\n",
    "\n",
    "# # 교차검증을 통한 정확도 확인\n",
    "scores = cross_validate(lr, train_input, train_target,\n",
    "                        return_train_score=True, n_jobs=-1)\n",
    "\n",
    "print('<로지스틱> 튜닝   훈련데이터 정확도 :', round(scores['train_score'].mean(),4))\n",
    "print('<로지스틱> 튜닝 테스트데이터 정확도 :', round(scores['test_score'].mean(),4))"
   ]
  },
  {
   "cell_type": "code",
   "execution_count": 31,
   "id": "564db331-5ac5-4e22-8d5b-bd4383841c85",
   "metadata": {},
   "outputs": [],
   "source": [
    "# 랜덤포레스트 모델 불러오기\n",
    "from sklearn.ensemble import RandomForestClassifier"
   ]
  },
  {
   "cell_type": "code",
   "execution_count": 71,
   "id": "03605a54-50b2-4bd6-9614-e9ce9b796f75",
   "metadata": {},
   "outputs": [
    {
     "name": "stdout",
     "output_type": "stream",
     "text": [
      "<랜덤포레스트> 기본   훈련데이터 정확도 : 0.9686\n",
      "<랜덤포레스트> 기본 테스트데이터 정확도 : 0.8491\n"
     ]
    }
   ],
   "source": [
    "# 기본 데이터를 통한 모델 훈련 및 정확도 확인(하이퍼파라미터 : random_state = 42)\n",
    "rf = RandomForestClassifier(n_jobs=-1, random_state=111)\n",
    "\n",
    "rf.fit(train_input, train_target)\n",
    "\n",
    "print('<랜덤포레스트> 기본   훈련데이터 정확도 :', round(rf.score(train_input, train_target),4))\n",
    "print('<랜덤포레스트> 기본 테스트데이터 정확도 :', round(rf.score(test_input, test_target),4))"
   ]
  },
  {
   "cell_type": "code",
   "execution_count": 72,
   "id": "bb14b0fa-b5e1-40bd-9991-03680b6ada0c",
   "metadata": {},
   "outputs": [
    {
     "name": "stdout",
     "output_type": "stream",
     "text": [
      "<랜덤포레스트> 정규화   훈련데이터 정확도 : 0.9686\n",
      "<랜덤포레스트> 정규화 테스트데이터 정확도 : 0.8491\n"
     ]
    }
   ],
   "source": [
    "# 정규화 데이터를 통한 모델 훈련 및 정확도 확인(하이퍼파라미터 : random_state = 42)\n",
    "rf = RandomForestClassifier(n_jobs=-1, random_state=111)\n",
    "\n",
    "rf.fit(train_scaled, train_target)\n",
    "\n",
    "print('<랜덤포레스트> 정규화   훈련데이터 정확도 :', round(rf.score(train_scaled, train_target),4))\n",
    "print('<랜덤포레스트> 정규화 테스트데이터 정확도 :', round(rf.score(test_scaled, test_target),4))"
   ]
  },
  {
   "cell_type": "code",
   "execution_count": 73,
   "id": "a495ab0d-017c-4e5d-9da1-9db97136190e",
   "metadata": {},
   "outputs": [
    {
     "name": "stdout",
     "output_type": "stream",
     "text": [
      "<랜덤포레스트> 교차검증   훈련데이터 정확도 : 0.9691\n",
      "<랜덤포레스트> 교차검증 테스트데이터 정확도 : 0.8554\n"
     ]
    }
   ],
   "source": [
    "# 교차검증을 통한 모델 훈련 및 정확도 확인(하이퍼파라미터 : random_state = 42)\n",
    "rf = RandomForestClassifier(n_jobs=-1, random_state=111)\n",
    "\n",
    "scores = cross_validate(rf, train_input, train_target,\n",
    "                        return_train_score=True, n_jobs=-1)\n",
    "\n",
    "print('<랜덤포레스트> 교차검증   훈련데이터 정확도 :', round(scores['train_score'].mean(),4))\n",
    "print('<랜덤포레스트> 교차검증 테스트데이터 정확도 :', round(scores['test_score'].mean(),4))"
   ]
  },
  {
   "cell_type": "code",
   "execution_count": 35,
   "id": "6ff73f75-1edd-4bcc-9980-635e4c5e7cd4",
   "metadata": {},
   "outputs": [],
   "source": [
    "# 그레디언트부스팅 모델 불러오기\n",
    "from sklearn.ensemble import GradientBoostingClassifier"
   ]
  },
  {
   "cell_type": "code",
   "execution_count": 74,
   "id": "a79500be-99ef-4129-9f5c-ef0b3e7903f2",
   "metadata": {},
   "outputs": [
    {
     "name": "stdout",
     "output_type": "stream",
     "text": [
      "<그레디언트부스팅> 기본   훈련데이터 정확도 : 0.9329\n",
      "<그레디언트부스팅> 기본 테스트데이터 정확도 : 0.8742\n"
     ]
    }
   ],
   "source": [
    "# 기본 데이터를 통한 모델 훈련 및 정확도 확인(하이퍼파라미터 : random_state = 42)\n",
    "gb = GradientBoostingClassifier(random_state=111)\n",
    "\n",
    "gb.fit(train_input, train_target)\n",
    "\n",
    "print('<그레디언트부스팅> 기본   훈련데이터 정확도 :', round(gb.score(train_input, train_target),4))\n",
    "print('<그레디언트부스팅> 기본 테스트데이터 정확도 :', round(gb.score(test_input, test_target),4))"
   ]
  },
  {
   "cell_type": "code",
   "execution_count": 75,
   "id": "bf3e0d0d-35a4-47a5-aef8-628dff5b56f0",
   "metadata": {},
   "outputs": [
    {
     "name": "stdout",
     "output_type": "stream",
     "text": [
      "<그레디언트부스팅> 정규화   훈련데이터 정확도 : 0.9329\n",
      "<그레디언트부스팅> 정규화 테스트데이터 정확도 : 0.8742\n"
     ]
    }
   ],
   "source": [
    "# 정규화 데이터를 통한 모델 훈련 및 정확도 확인(하이퍼파라미터 : random_state = 42)\n",
    "gb = GradientBoostingClassifier(random_state=111)\n",
    "\n",
    "gb.fit(train_scaled, train_target)\n",
    "\n",
    "print('<그레디언트부스팅> 정규화   훈련데이터 정확도 :', round(gb.score(train_scaled, train_target),4))\n",
    "print('<그레디언트부스팅> 정규화 테스트데이터 정확도 :', round(gb.score(test_scaled, test_target),4))"
   ]
  },
  {
   "cell_type": "code",
   "execution_count": 78,
   "id": "aaa65a26-8dad-44a5-a5d3-8f09b48e79b2",
   "metadata": {},
   "outputs": [
    {
     "name": "stdout",
     "output_type": "stream",
     "text": [
      "<그레디언트부스팅> 교차검증   훈련데이터 정확도 : 0.9382\n",
      "<그레디언트부스팅> 교차검증 테스트데이터 정확도 : 0.8804\n"
     ]
    }
   ],
   "source": [
    "# 교차검증을 통한 모델 훈련 및 정확도 확인(하이퍼파라미터 : random_state = 42)\n",
    "gb = GradientBoostingClassifier(random_state=111)\n",
    "\n",
    "scores = cross_validate(gb, train_input, train_target,\n",
    "                        return_train_score=True, n_jobs=-1)\n",
    "\n",
    "print('<그레디언트부스팅> 교차검증   훈련데이터 정확도 :', round(scores['train_score'].mean(),4))\n",
    "print('<그레디언트부스팅> 교차검증 테스트데이터 정확도 :', round(scores['test_score'].mean(),4))"
   ]
  },
  {
   "cell_type": "code",
   "execution_count": 77,
   "id": "b03cd27d-9860-4fee-a057-a2d61cf8a60d",
   "metadata": {},
   "outputs": [],
   "source": [
    "# 히스토그램기반 그레디언트부스팅 모델 불러오기\n",
    "from sklearn.ensemble import HistGradientBoostingClassifier"
   ]
  },
  {
   "cell_type": "code",
   "execution_count": 79,
   "id": "77599a96-866b-4d7e-8589-58d9a23eea87",
   "metadata": {},
   "outputs": [
    {
     "name": "stdout",
     "output_type": "stream",
     "text": [
      "<히스토그램기반 그레디언트부스팅> 기본   훈련데이터 정확도 : 0.935\n",
      "<히스토그램기반 그레디언트부스팅> 기본 테스트데이터 정확도 : 0.8491\n"
     ]
    }
   ],
   "source": [
    "# 기본 데이터를 통한 모델 훈련 및 정확도 확인(하이퍼파라미터 : random_state = 42)\n",
    "hgb = HistGradientBoostingClassifier(random_state=42)\n",
    "\n",
    "hgb.fit(train_input, train_target)\n",
    "\n",
    "print('<히스토그램기반 그레디언트부스팅> 기본   훈련데이터 정확도 :', round(hgb.score(train_input, train_target),4))\n",
    "print('<히스토그램기반 그레디언트부스팅> 기본 테스트데이터 정확도 :', round(hgb.score(test_input, test_target),4))"
   ]
  },
  {
   "cell_type": "code",
   "execution_count": 80,
   "id": "82b685ff-13fb-4b92-8428-610ebf0966a0",
   "metadata": {},
   "outputs": [
    {
     "name": "stdout",
     "output_type": "stream",
     "text": [
      "<히스토그램기반 그레디언트부스팅> 정규화   훈련데이터 정확도 : 0.935\n",
      "<히스토그램기반 그레디언트부스팅> 정규화 테스트데이터 정확도 : 0.8491\n"
     ]
    }
   ],
   "source": [
    "# 정규화 데이터를 통한 모델 훈련 및 정확도 확인(하이퍼파라미터 : random_state = 42)\n",
    "hgb = HistGradientBoostingClassifier(random_state=42)\n",
    "\n",
    "hgb.fit(train_scaled, train_target)\n",
    "\n",
    "print('<히스토그램기반 그레디언트부스팅> 정규화   훈련데이터 정확도 :', round(hgb.score(train_scaled, train_target),4))\n",
    "print('<히스토그램기반 그레디언트부스팅> 정규화 테스트데이터 정확도 :', round(hgb.score(test_scaled, test_target),4))"
   ]
  },
  {
   "cell_type": "code",
   "execution_count": 81,
   "id": "f80a0c5b-75c5-4016-83d2-6b03c5d1c3ef",
   "metadata": {},
   "outputs": [
    {
     "name": "stdout",
     "output_type": "stream",
     "text": [
      "<히스토그램기반 그레디언트부스팅> 교차검증   훈련데이터 정확도 : 0.9345\n",
      "<히스토그램기반 그레디언트부스팅> 교차검증 테스트데이터 정확도 : 0.8762\n"
     ]
    }
   ],
   "source": [
    "# 교차검증을 통한 모델 훈련 및 정확도 확인(하이퍼파라미터 : random_state = 42)\n",
    "hgb = HistGradientBoostingClassifier(random_state=42)\n",
    "\n",
    "scores = cross_validate(hgb, train_input, train_target,\n",
    "                        return_train_score=True, n_jobs=-1)\n",
    "\n",
    "print('<히스토그램기반 그레디언트부스팅> 교차검증   훈련데이터 정확도 :', round(scores['train_score'].mean(),4))\n",
    "print('<히스토그램기반 그레디언트부스팅> 교차검증 테스트데이터 정확도 :', round(scores['test_score'].mean(),4))"
   ]
  },
  {
   "cell_type": "code",
   "execution_count": 82,
   "id": "028ddce0-139f-4c2c-a78b-54102806368a",
   "metadata": {},
   "outputs": [],
   "source": [
    "# <최종모델선정>\n",
    "# 교차검증을 통한 그레디언트부스팅 모델\n",
    "\n",
    "# <최종모델 정확도>\n",
    "# <그레디언트부스팅> 교차검증   훈련데이터 정확도 : 0.9382\n",
    "# <그레디언트부스팅> 교차검증 테스트데이터 정확도 : 0.8804\n",
    "\n",
    "# <선정이유>\n",
    "# 전체적인 정확도가 좋으며 일반화의 정도가 0.05 정도로 크지 않기때문에 선정"
   ]
  },
  {
   "cell_type": "code",
   "execution_count": 85,
   "id": "8d93d072-5567-4fab-b548-977cf88eb0dd",
   "metadata": {},
   "outputs": [
    {
     "name": "stderr",
     "output_type": "stream",
     "text": [
      "C:\\Users\\admin\\anaconda3\\lib\\site-packages\\sklearn\\base.py:443: UserWarning: X has feature names, but GradientBoostingClassifier was fitted without feature names\n",
      "  warnings.warn(\n"
     ]
    },
    {
     "data": {
      "text/plain": [
       "array([1, 1, 1, 1, 1, 1, 1, 1, 1, 1, 1, 1, 1, 1, 1, 1, 1, 1, 1, 1, 1, 1,\n",
       "       1, 1, 1, 1, 1, 1, 1, 1, 1, 1, 1, 1, 1, 1, 1, 1, 1, 1, 1, 1, 1, 1,\n",
       "       1, 1, 1, 1, 1, 1, 1, 1, 1, 1, 1, 1, 1, 1, 1, 1, 1, 1, 1, 1, 1, 1,\n",
       "       1, 1, 1, 1, 1, 1, 1, 1, 1, 1, 1, 1, 1, 1, 1, 1, 1, 1, 1, 1, 1, 1,\n",
       "       1, 1, 1, 1, 1, 1, 1, 1, 1, 1, 1, 1, 1, 1, 1, 1, 1, 1, 1, 1, 1, 1,\n",
       "       1, 1, 1, 1, 1, 1, 1, 1, 1, 1, 1, 1, 1, 1, 1, 1, 1, 1, 1, 1, 1, 1,\n",
       "       1, 1, 1, 1, 1, 1, 1, 1, 1, 1, 1, 1, 1, 1, 0, 1, 1, 1, 1, 1, 1, 1,\n",
       "       1, 1, 1, 1, 1, 1, 1, 1, 1, 1, 1, 1, 1, 1, 1, 1, 1, 1, 1, 1, 1, 1,\n",
       "       1])"
      ]
     },
     "execution_count": 85,
     "metadata": {},
     "output_type": "execute_result"
    }
   ],
   "source": [
    "# <선정모델을 통한 예측결과>\n",
    "gb.fit(train_input, train_target)\n",
    "gb.predict(predict)\n",
    "\n",
    "# 0 = 노인, 1 = 성인\n",
    "# 1명의 노인 승객 확인"
   ]
  }
 ],
 "metadata": {
  "kernelspec": {
   "display_name": "ml_kernel",
   "language": "python",
   "name": "ml"
  },
  "language_info": {
   "codemirror_mode": {
    "name": "ipython",
    "version": 3
   },
   "file_extension": ".py",
   "mimetype": "text/x-python",
   "name": "python",
   "nbconvert_exporter": "python",
   "pygments_lexer": "ipython3",
   "version": "3.9.12"
  }
 },
 "nbformat": 4,
 "nbformat_minor": 5
}
