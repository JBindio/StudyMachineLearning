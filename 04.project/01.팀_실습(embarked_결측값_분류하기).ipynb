{
 "cells": [
  {
   "cell_type": "markdown",
   "id": "fd6f89bf-5a29-4e64-9c68-f23d6afcc65d",
   "metadata": {},
   "source": [
    "## 1. 데이터 불러오기"
   ]
  },
  {
   "cell_type": "code",
   "execution_count": 31,
   "id": "fa8ac410-cba8-4bd7-b65c-e457936baa38",
   "metadata": {},
   "outputs": [
    {
     "data": {
      "text/html": [
       "<div>\n",
       "<style scoped>\n",
       "    .dataframe tbody tr th:only-of-type {\n",
       "        vertical-align: middle;\n",
       "    }\n",
       "\n",
       "    .dataframe tbody tr th {\n",
       "        vertical-align: top;\n",
       "    }\n",
       "\n",
       "    .dataframe thead th {\n",
       "        text-align: right;\n",
       "    }\n",
       "</style>\n",
       "<table border=\"1\" class=\"dataframe\">\n",
       "  <thead>\n",
       "    <tr style=\"text-align: right;\">\n",
       "      <th></th>\n",
       "      <th>survived</th>\n",
       "      <th>pclass</th>\n",
       "      <th>sex</th>\n",
       "      <th>age</th>\n",
       "      <th>sibsp</th>\n",
       "      <th>parch</th>\n",
       "      <th>fare</th>\n",
       "      <th>embarked</th>\n",
       "      <th>class</th>\n",
       "      <th>who</th>\n",
       "      <th>adult_male</th>\n",
       "      <th>deck</th>\n",
       "      <th>embark_town</th>\n",
       "      <th>alive</th>\n",
       "      <th>alone</th>\n",
       "    </tr>\n",
       "  </thead>\n",
       "  <tbody>\n",
       "    <tr>\n",
       "      <th>0</th>\n",
       "      <td>0</td>\n",
       "      <td>3</td>\n",
       "      <td>male</td>\n",
       "      <td>22.0</td>\n",
       "      <td>1</td>\n",
       "      <td>0</td>\n",
       "      <td>7.2500</td>\n",
       "      <td>S</td>\n",
       "      <td>Third</td>\n",
       "      <td>man</td>\n",
       "      <td>True</td>\n",
       "      <td>NaN</td>\n",
       "      <td>Southampton</td>\n",
       "      <td>no</td>\n",
       "      <td>False</td>\n",
       "    </tr>\n",
       "    <tr>\n",
       "      <th>1</th>\n",
       "      <td>1</td>\n",
       "      <td>1</td>\n",
       "      <td>female</td>\n",
       "      <td>38.0</td>\n",
       "      <td>1</td>\n",
       "      <td>0</td>\n",
       "      <td>71.2833</td>\n",
       "      <td>C</td>\n",
       "      <td>First</td>\n",
       "      <td>woman</td>\n",
       "      <td>False</td>\n",
       "      <td>C</td>\n",
       "      <td>Cherbourg</td>\n",
       "      <td>yes</td>\n",
       "      <td>False</td>\n",
       "    </tr>\n",
       "    <tr>\n",
       "      <th>2</th>\n",
       "      <td>1</td>\n",
       "      <td>3</td>\n",
       "      <td>female</td>\n",
       "      <td>26.0</td>\n",
       "      <td>0</td>\n",
       "      <td>0</td>\n",
       "      <td>7.9250</td>\n",
       "      <td>S</td>\n",
       "      <td>Third</td>\n",
       "      <td>woman</td>\n",
       "      <td>False</td>\n",
       "      <td>NaN</td>\n",
       "      <td>Southampton</td>\n",
       "      <td>yes</td>\n",
       "      <td>True</td>\n",
       "    </tr>\n",
       "    <tr>\n",
       "      <th>3</th>\n",
       "      <td>1</td>\n",
       "      <td>1</td>\n",
       "      <td>female</td>\n",
       "      <td>35.0</td>\n",
       "      <td>1</td>\n",
       "      <td>0</td>\n",
       "      <td>53.1000</td>\n",
       "      <td>S</td>\n",
       "      <td>First</td>\n",
       "      <td>woman</td>\n",
       "      <td>False</td>\n",
       "      <td>C</td>\n",
       "      <td>Southampton</td>\n",
       "      <td>yes</td>\n",
       "      <td>False</td>\n",
       "    </tr>\n",
       "    <tr>\n",
       "      <th>4</th>\n",
       "      <td>0</td>\n",
       "      <td>3</td>\n",
       "      <td>male</td>\n",
       "      <td>35.0</td>\n",
       "      <td>0</td>\n",
       "      <td>0</td>\n",
       "      <td>8.0500</td>\n",
       "      <td>S</td>\n",
       "      <td>Third</td>\n",
       "      <td>man</td>\n",
       "      <td>True</td>\n",
       "      <td>NaN</td>\n",
       "      <td>Southampton</td>\n",
       "      <td>no</td>\n",
       "      <td>True</td>\n",
       "    </tr>\n",
       "    <tr>\n",
       "      <th>...</th>\n",
       "      <td>...</td>\n",
       "      <td>...</td>\n",
       "      <td>...</td>\n",
       "      <td>...</td>\n",
       "      <td>...</td>\n",
       "      <td>...</td>\n",
       "      <td>...</td>\n",
       "      <td>...</td>\n",
       "      <td>...</td>\n",
       "      <td>...</td>\n",
       "      <td>...</td>\n",
       "      <td>...</td>\n",
       "      <td>...</td>\n",
       "      <td>...</td>\n",
       "      <td>...</td>\n",
       "    </tr>\n",
       "    <tr>\n",
       "      <th>886</th>\n",
       "      <td>0</td>\n",
       "      <td>2</td>\n",
       "      <td>male</td>\n",
       "      <td>27.0</td>\n",
       "      <td>0</td>\n",
       "      <td>0</td>\n",
       "      <td>13.0000</td>\n",
       "      <td>S</td>\n",
       "      <td>Second</td>\n",
       "      <td>man</td>\n",
       "      <td>True</td>\n",
       "      <td>NaN</td>\n",
       "      <td>Southampton</td>\n",
       "      <td>no</td>\n",
       "      <td>True</td>\n",
       "    </tr>\n",
       "    <tr>\n",
       "      <th>887</th>\n",
       "      <td>1</td>\n",
       "      <td>1</td>\n",
       "      <td>female</td>\n",
       "      <td>19.0</td>\n",
       "      <td>0</td>\n",
       "      <td>0</td>\n",
       "      <td>30.0000</td>\n",
       "      <td>S</td>\n",
       "      <td>First</td>\n",
       "      <td>woman</td>\n",
       "      <td>False</td>\n",
       "      <td>B</td>\n",
       "      <td>Southampton</td>\n",
       "      <td>yes</td>\n",
       "      <td>True</td>\n",
       "    </tr>\n",
       "    <tr>\n",
       "      <th>888</th>\n",
       "      <td>0</td>\n",
       "      <td>3</td>\n",
       "      <td>female</td>\n",
       "      <td>NaN</td>\n",
       "      <td>1</td>\n",
       "      <td>2</td>\n",
       "      <td>23.4500</td>\n",
       "      <td>S</td>\n",
       "      <td>Third</td>\n",
       "      <td>woman</td>\n",
       "      <td>False</td>\n",
       "      <td>NaN</td>\n",
       "      <td>Southampton</td>\n",
       "      <td>no</td>\n",
       "      <td>False</td>\n",
       "    </tr>\n",
       "    <tr>\n",
       "      <th>889</th>\n",
       "      <td>1</td>\n",
       "      <td>1</td>\n",
       "      <td>male</td>\n",
       "      <td>26.0</td>\n",
       "      <td>0</td>\n",
       "      <td>0</td>\n",
       "      <td>30.0000</td>\n",
       "      <td>C</td>\n",
       "      <td>First</td>\n",
       "      <td>man</td>\n",
       "      <td>True</td>\n",
       "      <td>C</td>\n",
       "      <td>Cherbourg</td>\n",
       "      <td>yes</td>\n",
       "      <td>True</td>\n",
       "    </tr>\n",
       "    <tr>\n",
       "      <th>890</th>\n",
       "      <td>0</td>\n",
       "      <td>3</td>\n",
       "      <td>male</td>\n",
       "      <td>32.0</td>\n",
       "      <td>0</td>\n",
       "      <td>0</td>\n",
       "      <td>7.7500</td>\n",
       "      <td>Q</td>\n",
       "      <td>Third</td>\n",
       "      <td>man</td>\n",
       "      <td>True</td>\n",
       "      <td>NaN</td>\n",
       "      <td>Queenstown</td>\n",
       "      <td>no</td>\n",
       "      <td>True</td>\n",
       "    </tr>\n",
       "  </tbody>\n",
       "</table>\n",
       "<p>891 rows × 15 columns</p>\n",
       "</div>"
      ],
      "text/plain": [
       "     survived  pclass     sex   age  sibsp  parch     fare embarked   class  \\\n",
       "0           0       3    male  22.0      1      0   7.2500        S   Third   \n",
       "1           1       1  female  38.0      1      0  71.2833        C   First   \n",
       "2           1       3  female  26.0      0      0   7.9250        S   Third   \n",
       "3           1       1  female  35.0      1      0  53.1000        S   First   \n",
       "4           0       3    male  35.0      0      0   8.0500        S   Third   \n",
       "..        ...     ...     ...   ...    ...    ...      ...      ...     ...   \n",
       "886         0       2    male  27.0      0      0  13.0000        S  Second   \n",
       "887         1       1  female  19.0      0      0  30.0000        S   First   \n",
       "888         0       3  female   NaN      1      2  23.4500        S   Third   \n",
       "889         1       1    male  26.0      0      0  30.0000        C   First   \n",
       "890         0       3    male  32.0      0      0   7.7500        Q   Third   \n",
       "\n",
       "       who  adult_male deck  embark_town alive  alone  \n",
       "0      man        True  NaN  Southampton    no  False  \n",
       "1    woman       False    C    Cherbourg   yes  False  \n",
       "2    woman       False  NaN  Southampton   yes   True  \n",
       "3    woman       False    C  Southampton   yes  False  \n",
       "4      man        True  NaN  Southampton    no   True  \n",
       "..     ...         ...  ...          ...   ...    ...  \n",
       "886    man        True  NaN  Southampton    no   True  \n",
       "887  woman       False    B  Southampton   yes   True  \n",
       "888  woman       False  NaN  Southampton    no  False  \n",
       "889    man        True    C    Cherbourg   yes   True  \n",
       "890    man        True  NaN   Queenstown    no   True  \n",
       "\n",
       "[891 rows x 15 columns]"
      ]
     },
     "execution_count": 31,
     "metadata": {},
     "output_type": "execute_result"
    }
   ],
   "source": [
    "import pandas as pd\n",
    "\n",
    "titan = pd.read_csv('../data/06_(문제)타이타닉_분류_데이터셋.csv')\n",
    "titan"
   ]
  },
  {
   "cell_type": "markdown",
   "id": "6cff936d-08e3-4cad-a7d9-d3bb0f1374d6",
   "metadata": {},
   "source": [
    "### 1-1. 데이터 확인"
   ]
  },
  {
   "cell_type": "code",
   "execution_count": 32,
   "id": "d66ffd18-1b61-4f09-85e4-5bce65450e9c",
   "metadata": {
    "tags": []
   },
   "outputs": [
    {
     "name": "stdout",
     "output_type": "stream",
     "text": [
      "<class 'pandas.core.frame.DataFrame'>\n",
      "RangeIndex: 891 entries, 0 to 890\n",
      "Data columns (total 15 columns):\n",
      " #   Column       Non-Null Count  Dtype  \n",
      "---  ------       --------------  -----  \n",
      " 0   survived     891 non-null    int64  \n",
      " 1   pclass       891 non-null    int64  \n",
      " 2   sex          891 non-null    object \n",
      " 3   age          714 non-null    float64\n",
      " 4   sibsp        891 non-null    int64  \n",
      " 5   parch        891 non-null    int64  \n",
      " 6   fare         891 non-null    float64\n",
      " 7   embarked     889 non-null    object \n",
      " 8   class        891 non-null    object \n",
      " 9   who          891 non-null    object \n",
      " 10  adult_male   891 non-null    bool   \n",
      " 11  deck         203 non-null    object \n",
      " 12  embark_town  889 non-null    object \n",
      " 13  alive        891 non-null    object \n",
      " 14  alone        891 non-null    bool   \n",
      "dtypes: bool(2), float64(2), int64(4), object(7)\n",
      "memory usage: 92.4+ KB\n"
     ]
    }
   ],
   "source": [
    "titan.info()"
   ]
  },
  {
   "cell_type": "code",
   "execution_count": 10,
   "id": "c2f50cdc-03ae-4c24-b44c-82244e45cf26",
   "metadata": {
    "tags": []
   },
   "outputs": [
    {
     "data": {
      "text/html": [
       "<div>\n",
       "<style scoped>\n",
       "    .dataframe tbody tr th:only-of-type {\n",
       "        vertical-align: middle;\n",
       "    }\n",
       "\n",
       "    .dataframe tbody tr th {\n",
       "        vertical-align: top;\n",
       "    }\n",
       "\n",
       "    .dataframe thead th {\n",
       "        text-align: right;\n",
       "    }\n",
       "</style>\n",
       "<table border=\"1\" class=\"dataframe\">\n",
       "  <thead>\n",
       "    <tr style=\"text-align: right;\">\n",
       "      <th></th>\n",
       "      <th>survived</th>\n",
       "      <th>pclass</th>\n",
       "      <th>age</th>\n",
       "      <th>sibsp</th>\n",
       "      <th>parch</th>\n",
       "      <th>fare</th>\n",
       "      <th>adult_male</th>\n",
       "      <th>alone</th>\n",
       "    </tr>\n",
       "  </thead>\n",
       "  <tbody>\n",
       "    <tr>\n",
       "      <th>survived</th>\n",
       "      <td>1.000000</td>\n",
       "      <td>-0.338481</td>\n",
       "      <td>-0.077221</td>\n",
       "      <td>-0.035322</td>\n",
       "      <td>0.081629</td>\n",
       "      <td>0.257307</td>\n",
       "      <td>-0.557080</td>\n",
       "      <td>-0.203367</td>\n",
       "    </tr>\n",
       "    <tr>\n",
       "      <th>pclass</th>\n",
       "      <td>-0.338481</td>\n",
       "      <td>1.000000</td>\n",
       "      <td>-0.369226</td>\n",
       "      <td>0.083081</td>\n",
       "      <td>0.018443</td>\n",
       "      <td>-0.549500</td>\n",
       "      <td>0.094035</td>\n",
       "      <td>0.135207</td>\n",
       "    </tr>\n",
       "    <tr>\n",
       "      <th>age</th>\n",
       "      <td>-0.077221</td>\n",
       "      <td>-0.369226</td>\n",
       "      <td>1.000000</td>\n",
       "      <td>-0.308247</td>\n",
       "      <td>-0.189119</td>\n",
       "      <td>0.096067</td>\n",
       "      <td>0.280328</td>\n",
       "      <td>0.198270</td>\n",
       "    </tr>\n",
       "    <tr>\n",
       "      <th>sibsp</th>\n",
       "      <td>-0.035322</td>\n",
       "      <td>0.083081</td>\n",
       "      <td>-0.308247</td>\n",
       "      <td>1.000000</td>\n",
       "      <td>0.414838</td>\n",
       "      <td>0.159651</td>\n",
       "      <td>-0.253586</td>\n",
       "      <td>-0.584471</td>\n",
       "    </tr>\n",
       "    <tr>\n",
       "      <th>parch</th>\n",
       "      <td>0.081629</td>\n",
       "      <td>0.018443</td>\n",
       "      <td>-0.189119</td>\n",
       "      <td>0.414838</td>\n",
       "      <td>1.000000</td>\n",
       "      <td>0.216225</td>\n",
       "      <td>-0.349943</td>\n",
       "      <td>-0.583398</td>\n",
       "    </tr>\n",
       "    <tr>\n",
       "      <th>fare</th>\n",
       "      <td>0.257307</td>\n",
       "      <td>-0.549500</td>\n",
       "      <td>0.096067</td>\n",
       "      <td>0.159651</td>\n",
       "      <td>0.216225</td>\n",
       "      <td>1.000000</td>\n",
       "      <td>-0.182024</td>\n",
       "      <td>-0.271832</td>\n",
       "    </tr>\n",
       "    <tr>\n",
       "      <th>adult_male</th>\n",
       "      <td>-0.557080</td>\n",
       "      <td>0.094035</td>\n",
       "      <td>0.280328</td>\n",
       "      <td>-0.253586</td>\n",
       "      <td>-0.349943</td>\n",
       "      <td>-0.182024</td>\n",
       "      <td>1.000000</td>\n",
       "      <td>0.404744</td>\n",
       "    </tr>\n",
       "    <tr>\n",
       "      <th>alone</th>\n",
       "      <td>-0.203367</td>\n",
       "      <td>0.135207</td>\n",
       "      <td>0.198270</td>\n",
       "      <td>-0.584471</td>\n",
       "      <td>-0.583398</td>\n",
       "      <td>-0.271832</td>\n",
       "      <td>0.404744</td>\n",
       "      <td>1.000000</td>\n",
       "    </tr>\n",
       "  </tbody>\n",
       "</table>\n",
       "</div>"
      ],
      "text/plain": [
       "            survived    pclass       age     sibsp     parch      fare  \\\n",
       "survived    1.000000 -0.338481 -0.077221 -0.035322  0.081629  0.257307   \n",
       "pclass     -0.338481  1.000000 -0.369226  0.083081  0.018443 -0.549500   \n",
       "age        -0.077221 -0.369226  1.000000 -0.308247 -0.189119  0.096067   \n",
       "sibsp      -0.035322  0.083081 -0.308247  1.000000  0.414838  0.159651   \n",
       "parch       0.081629  0.018443 -0.189119  0.414838  1.000000  0.216225   \n",
       "fare        0.257307 -0.549500  0.096067  0.159651  0.216225  1.000000   \n",
       "adult_male -0.557080  0.094035  0.280328 -0.253586 -0.349943 -0.182024   \n",
       "alone      -0.203367  0.135207  0.198270 -0.584471 -0.583398 -0.271832   \n",
       "\n",
       "            adult_male     alone  \n",
       "survived     -0.557080 -0.203367  \n",
       "pclass        0.094035  0.135207  \n",
       "age           0.280328  0.198270  \n",
       "sibsp        -0.253586 -0.584471  \n",
       "parch        -0.349943 -0.583398  \n",
       "fare         -0.182024 -0.271832  \n",
       "adult_male    1.000000  0.404744  \n",
       "alone         0.404744  1.000000  "
      ]
     },
     "execution_count": 10,
     "metadata": {},
     "output_type": "execute_result"
    }
   ],
   "source": [
    "titan.corr()"
   ]
  },
  {
   "cell_type": "markdown",
   "id": "9039ec1e-ff0c-4876-834e-46eb4bd091ff",
   "metadata": {
    "tags": []
   },
   "source": [
    "## 2. embarked 결측값 분류하기"
   ]
  },
  {
   "cell_type": "markdown",
   "id": "2857f30c-e5c6-4df8-87e2-2b0a4e41f163",
   "metadata": {},
   "source": [
    "### 2-1. 데이터 정제\n",
    "- 필요 없는 컬럼 제거"
   ]
  },
  {
   "cell_type": "code",
   "execution_count": 33,
   "id": "51ee11e0-2598-4b4a-aed9-2b3991864fb4",
   "metadata": {},
   "outputs": [],
   "source": [
    "titan = titan.drop(columns=['deck', 'class','alive', 'embark_town'])"
   ]
  },
  {
   "cell_type": "markdown",
   "id": "0504bc74-fd84-444d-99d1-f84b1d50462d",
   "metadata": {},
   "source": [
    "- 컬럼 타입 변경"
   ]
  },
  {
   "cell_type": "code",
   "execution_count": 34,
   "id": "1f64db43-48da-4862-83ea-637622d59f3b",
   "metadata": {},
   "outputs": [],
   "source": [
    "titan[['adult_male','alone']] = titan[['adult_male','alone']].astype('int')"
   ]
  },
  {
   "cell_type": "markdown",
   "id": "1c1f1770-1075-450e-9921-77dd1c933dfb",
   "metadata": {},
   "source": [
    "- 예측할 데이터 생성"
   ]
  },
  {
   "cell_type": "code",
   "execution_count": 35,
   "id": "eca78100-4891-4d97-b8c3-b8636fbef35e",
   "metadata": {
    "tags": []
   },
   "outputs": [],
   "source": [
    "data1 = titan[(titan['embarked'].isnull() == False) & (titan['age'].isnull() == False)]\n",
    "pred1 = titan[titan['embarked'].isnull() == True]"
   ]
  },
  {
   "cell_type": "markdown",
   "id": "1aa33e03-562b-46ac-af33-19ef5fc63ef0",
   "metadata": {},
   "source": [
    "- 타겟 데이터 생성"
   ]
  },
  {
   "cell_type": "code",
   "execution_count": 36,
   "id": "96705184-aa54-4b09-8b75-8ebfc45cc288",
   "metadata": {
    "tags": []
   },
   "outputs": [],
   "source": [
    "target = data1['embarked']"
   ]
  },
  {
   "cell_type": "code",
   "execution_count": 37,
   "id": "62236a06-97e5-4631-aa23-5a1e12dfc927",
   "metadata": {},
   "outputs": [],
   "source": [
    "target = target.replace({'C':0,\n",
    "                         'Q':1,\n",
    "                         'S':2})"
   ]
  },
  {
   "cell_type": "markdown",
   "id": "c97e37fb-43e5-48a1-bc6d-0feaeb9b96c6",
   "metadata": {},
   "source": [
    "- 원핫인코딩"
   ]
  },
  {
   "cell_type": "code",
   "execution_count": 38,
   "id": "013eb35c-728c-4536-89a9-22765e5fa34b",
   "metadata": {},
   "outputs": [],
   "source": [
    "data1 = data1.drop(columns=['embarked'])"
   ]
  },
  {
   "cell_type": "code",
   "execution_count": 39,
   "id": "74490c85-6c1e-4b58-a744-84f84c9e71e8",
   "metadata": {},
   "outputs": [],
   "source": [
    "data1 = pd.get_dummies(data1)\n",
    "pred1 = pd.get_dummies(pred1)"
   ]
  },
  {
   "cell_type": "code",
   "execution_count": 40,
   "id": "896a8a16-068e-4ee8-8b63-25a654648fa3",
   "metadata": {},
   "outputs": [
    {
     "name": "stdout",
     "output_type": "stream",
     "text": [
      "<class 'pandas.core.frame.DataFrame'>\n",
      "Int64Index: 712 entries, 0 to 890\n",
      "Data columns (total 13 columns):\n",
      " #   Column      Non-Null Count  Dtype  \n",
      "---  ------      --------------  -----  \n",
      " 0   survived    712 non-null    int64  \n",
      " 1   pclass      712 non-null    int64  \n",
      " 2   age         712 non-null    float64\n",
      " 3   sibsp       712 non-null    int64  \n",
      " 4   parch       712 non-null    int64  \n",
      " 5   fare        712 non-null    float64\n",
      " 6   adult_male  712 non-null    int32  \n",
      " 7   alone       712 non-null    int32  \n",
      " 8   sex_female  712 non-null    uint8  \n",
      " 9   sex_male    712 non-null    uint8  \n",
      " 10  who_child   712 non-null    uint8  \n",
      " 11  who_man     712 non-null    uint8  \n",
      " 12  who_woman   712 non-null    uint8  \n",
      "dtypes: float64(2), int32(2), int64(4), uint8(5)\n",
      "memory usage: 48.0 KB\n"
     ]
    }
   ],
   "source": [
    "data1.info()"
   ]
  },
  {
   "cell_type": "code",
   "execution_count": 41,
   "id": "754424e0-2f91-4afe-9397-befe13e68256",
   "metadata": {},
   "outputs": [],
   "source": [
    "pred1[['sex_male', 'who_child','who_man']] = 0"
   ]
  },
  {
   "cell_type": "code",
   "execution_count": 42,
   "id": "39216952-ffe9-4855-973f-31d15dce9ea8",
   "metadata": {},
   "outputs": [
    {
     "name": "stdout",
     "output_type": "stream",
     "text": [
      "<class 'pandas.core.frame.DataFrame'>\n",
      "Int64Index: 2 entries, 61 to 829\n",
      "Data columns (total 13 columns):\n",
      " #   Column      Non-Null Count  Dtype  \n",
      "---  ------      --------------  -----  \n",
      " 0   survived    2 non-null      int64  \n",
      " 1   pclass      2 non-null      int64  \n",
      " 2   age         2 non-null      float64\n",
      " 3   sibsp       2 non-null      int64  \n",
      " 4   parch       2 non-null      int64  \n",
      " 5   fare        2 non-null      float64\n",
      " 6   adult_male  2 non-null      int32  \n",
      " 7   alone       2 non-null      int32  \n",
      " 8   sex_female  2 non-null      uint8  \n",
      " 9   who_woman   2 non-null      uint8  \n",
      " 10  sex_male    2 non-null      int64  \n",
      " 11  who_child   2 non-null      int64  \n",
      " 12  who_man     2 non-null      int64  \n",
      "dtypes: float64(2), int32(2), int64(7), uint8(2)\n",
      "memory usage: 180.0 bytes\n"
     ]
    }
   ],
   "source": [
    "pred1.info()"
   ]
  },
  {
   "cell_type": "markdown",
   "id": "ea74822d-2c27-43c4-bec2-c8f98d7ebd1b",
   "metadata": {},
   "source": [
    "- 생성된 변수들 배열화"
   ]
  },
  {
   "cell_type": "code",
   "execution_count": 43,
   "id": "c4af1c2d-bc56-466c-a733-c82b8d00373a",
   "metadata": {},
   "outputs": [],
   "source": [
    "data1 = data1.to_numpy()\n",
    "target = target.to_numpy()\n",
    "pred1 = pred1.to_numpy()"
   ]
  },
  {
   "cell_type": "markdown",
   "id": "0ef82c4e-8a4b-4564-a38b-844c1c90e5aa",
   "metadata": {},
   "source": [
    "### 2-2. 데이터 분리"
   ]
  },
  {
   "cell_type": "code",
   "execution_count": 44,
   "id": "368cd433-5436-43b1-ae07-9dc5640f5a85",
   "metadata": {},
   "outputs": [
    {
     "name": "stdout",
     "output_type": "stream",
     "text": [
      "(534, 13) (534,)\n",
      "(178, 13) (178,)\n"
     ]
    }
   ],
   "source": [
    "# 데이터분리\n",
    "from sklearn.model_selection import train_test_split\n",
    "\n",
    "train_data, test_data, train_target, test_target = train_test_split(\n",
    "    data1, target, random_state=111, stratify = target)\n",
    "\n",
    "print(train_data.shape, train_target.shape)\n",
    "print(test_data.shape, test_target.shape)"
   ]
  },
  {
   "cell_type": "markdown",
   "id": "f404c51c-4f60-434b-bb21-1b8c329de09e",
   "metadata": {},
   "source": [
    "### 2-3. 랜덤포레스트"
   ]
  },
  {
   "cell_type": "code",
   "execution_count": 45,
   "id": "15832bb0-d32b-403a-b5f4-2277bb4b5006",
   "metadata": {
    "tags": []
   },
   "outputs": [
    {
     "name": "stdout",
     "output_type": "stream",
     "text": [
      "0.9962546816479401\n",
      "0.797752808988764\n"
     ]
    }
   ],
   "source": [
    "from sklearn.ensemble import RandomForestClassifier\n",
    "\n",
    "rf = RandomForestClassifier(n_jobs=-1, random_state=111)\n",
    "rf.fit(train_data, train_target)\n",
    "\n",
    "print(rf.score(train_data, train_target))\n",
    "print(rf.score(test_data, test_target))"
   ]
  },
  {
   "cell_type": "code",
   "execution_count": 46,
   "id": "de1e9424-c97e-4e2c-91a4-ddd21d5ea60b",
   "metadata": {},
   "outputs": [
    {
     "name": "stdout",
     "output_type": "stream",
     "text": [
      "{'fit_time': array([0.172539  , 0.17337966, 0.14960051, 0.20049477, 0.20048189]), 'score_time': array([0.01994777, 0.01993608, 0.02094483, 0.02292657, 0.02194142]), 'test_score': array([0.79439252, 0.8411215 , 0.70093458, 0.77570093, 0.78301887]), 'train_score': array([0.99765808, 0.99765808, 0.99765808, 0.99765808, 0.9953271 ])}\n",
      "0.9971918842609819 0.7790336801269617\n",
      "[0.02897679 0.07235062 0.29522306 0.05711179 0.05101514 0.42057389\n",
      " 0.00846869 0.02115112 0.00644854 0.00866368 0.01215326 0.0073813\n",
      " 0.01048211]\n"
     ]
    }
   ],
   "source": [
    "# 교차검증\n",
    "from sklearn.model_selection import cross_validate\n",
    "import numpy as np\n",
    "\n",
    "rf = RandomForestClassifier(n_jobs=-1, random_state=111)\n",
    "scores = cross_validate(rf, train_data, train_target,\n",
    "                        return_train_score=True, n_jobs=-1)\n",
    "\n",
    "print(scores)\n",
    "print(np.mean(scores['train_score']), np.mean(scores['test_score']))\n",
    "\n",
    "rf.fit(train_data, train_target)\n",
    "\n",
    "print(rf.feature_importances_)"
   ]
  },
  {
   "cell_type": "code",
   "execution_count": 47,
   "id": "e3b1b4a5-6419-4b35-b9f2-7f0f068b9781",
   "metadata": {},
   "outputs": [
    {
     "name": "stdout",
     "output_type": "stream",
     "text": [
      "[2 2 0 2 2]\n",
      "[2 2 2 2 2]\n"
     ]
    }
   ],
   "source": [
    "print(rf.predict(test_data[:5]))\n",
    "print(test_target[:5])"
   ]
  },
  {
   "cell_type": "markdown",
   "id": "e2b05493-a3f7-4de7-94d2-358f83c021e9",
   "metadata": {},
   "source": [
    "### 2-4. 엑스트라 트리"
   ]
  },
  {
   "cell_type": "code",
   "execution_count": 48,
   "id": "057015a0-bda3-4465-afd9-77b101b75635",
   "metadata": {},
   "outputs": [
    {
     "name": "stdout",
     "output_type": "stream",
     "text": [
      "0.9962546816479401\n",
      "0.7808988764044944\n"
     ]
    }
   ],
   "source": [
    "from sklearn.ensemble import ExtraTreesClassifier\n",
    "\n",
    "et = ExtraTreesClassifier(n_jobs=-1, random_state=111)\n",
    "et.fit(train_data, train_target)\n",
    "\n",
    "print(et.score(train_data, train_target))\n",
    "print(et.score(test_data, test_target))"
   ]
  },
  {
   "cell_type": "code",
   "execution_count": 49,
   "id": "973553a4-3294-484d-8c52-b7a20da0802f",
   "metadata": {},
   "outputs": [
    {
     "name": "stdout",
     "output_type": "stream",
     "text": [
      "[2 2 0 2 2]\n",
      "[2 2 2 2 2]\n"
     ]
    }
   ],
   "source": [
    "print(et.predict(test_data[:5]))\n",
    "print(test_target[:5])"
   ]
  },
  {
   "cell_type": "markdown",
   "id": "50636cfb-ee20-4937-a90f-5a931b8693f6",
   "metadata": {},
   "source": [
    "### 2-5. 그레디언트 부스팅"
   ]
  },
  {
   "cell_type": "code",
   "execution_count": 50,
   "id": "f415401c-1ad6-4ded-b5d5-d29b22f931f7",
   "metadata": {},
   "outputs": [
    {
     "name": "stdout",
     "output_type": "stream",
     "text": [
      "0.9662921348314607\n",
      "0.8202247191011236\n"
     ]
    }
   ],
   "source": [
    "from sklearn.ensemble import GradientBoostingClassifier\n",
    "\n",
    "gb = GradientBoostingClassifier(random_state=111)\n",
    "gb.fit(train_data, train_target)\n",
    "\n",
    "print(gb.score(train_data, train_target))\n",
    "print(gb.score(test_data, test_target))"
   ]
  },
  {
   "cell_type": "code",
   "execution_count": 51,
   "id": "caf73cef-1c48-40ce-bd86-a80f9bd0f366",
   "metadata": {},
   "outputs": [
    {
     "name": "stdout",
     "output_type": "stream",
     "text": [
      "{'fit_time': array([0.36869192, 0.35233283, 0.34222126, 0.32988262, 0.37726831]), 'score_time': array([0.00059509, 0.00099707, 0.0009973 , 0.00099635, 0.0009973 ]), 'test_score': array([0.8411215 , 0.8411215 , 0.80373832, 0.77570093, 0.83018868]), 'train_score': array([0.97423888, 0.9765808 , 0.96252927, 0.96955504, 0.97663551])}\n",
      "0.9719078990566656 0.8183741844471875\n",
      "[0.03052815 0.08491248 0.3002064  0.05814283 0.05974653 0.40070727\n",
      " 0.00603424 0.01884103 0.00774774 0.00617085 0.01361782 0.00403628\n",
      " 0.0093084 ]\n"
     ]
    }
   ],
   "source": [
    "from sklearn.ensemble import GradientBoostingClassifier\n",
    "\n",
    "gb = GradientBoostingClassifier(random_state=111)\n",
    "scores = cross_validate(gb, train_data, train_target,\n",
    "                        return_train_score=True, n_jobs=-1)\n",
    "\n",
    "print(scores)\n",
    "print(np.mean(scores['train_score']), np.mean(scores['test_score']))\n",
    "\n",
    "gb.fit(train_data, train_target)\n",
    "\n",
    "print(et.feature_importances_)"
   ]
  },
  {
   "cell_type": "code",
   "execution_count": 53,
   "id": "bb4da213-c278-42fd-96ea-dbebaee600f1",
   "metadata": {},
   "outputs": [
    {
     "name": "stdout",
     "output_type": "stream",
     "text": [
      "[2 2 0 2 2]\n",
      "[2 2 2 2 2]\n"
     ]
    }
   ],
   "source": [
    "print(et.predict(test_data[:5]))\n",
    "print(test_target[:5])"
   ]
  },
  {
   "cell_type": "markdown",
   "id": "a0191763-1e7c-4a97-8b0a-1b717f8cb74b",
   "metadata": {},
   "source": [
    "### alone, pclass 독립변수"
   ]
  },
  {
   "cell_type": "code",
   "execution_count": 54,
   "id": "4fb4d49f-98a4-4040-8ec6-56eb82ad53bf",
   "metadata": {},
   "outputs": [
    {
     "data": {
      "text/plain": [
       "array([[0, 3],\n",
       "       [0, 1],\n",
       "       [1, 3],\n",
       "       ...,\n",
       "       [1, 1],\n",
       "       [1, 1],\n",
       "       [1, 3]], dtype=int64)"
      ]
     },
     "execution_count": 54,
     "metadata": {},
     "output_type": "execute_result"
    }
   ],
   "source": [
    "data1 = titan[(titan['embarked'].isnull() == False) & (titan['age'].isnull() == False)]\n",
    "data2 = data1[['alone', 'pclass']]\n",
    "data2.to_numpy()"
   ]
  },
  {
   "cell_type": "code",
   "execution_count": 55,
   "id": "3ad04f65-a6c8-4416-a93f-6c6211dc87ac",
   "metadata": {
    "tags": []
   },
   "outputs": [
    {
     "name": "stdout",
     "output_type": "stream",
     "text": [
      "(534, 2) (534,)\n",
      "(178, 2) (178,)\n"
     ]
    }
   ],
   "source": [
    "from sklearn.model_selection import train_test_split\n",
    "\n",
    "train_data, test_data, train_target, test_target = train_test_split(\n",
    "    data2, target, random_state=111, stratify = target)\n",
    "\n",
    "print(train_data.shape, train_target.shape)\n",
    "print(test_data.shape, test_target.shape)"
   ]
  },
  {
   "cell_type": "code",
   "execution_count": 56,
   "id": "aa908620-48c8-41d1-9b63-7531a2ff5ac0",
   "metadata": {
    "tags": []
   },
   "outputs": [
    {
     "name": "stdout",
     "output_type": "stream",
     "text": [
      "{'fit_time': array([0.15396047, 0.15173125, 0.14116645, 0.19073176, 0.19372439]), 'score_time': array([0.02094436, 0.02194166, 0.01994681, 0.02494287, 0.02493334]), 'test_score': array([0.78504673, 0.77570093, 0.77570093, 0.77570093, 0.78301887]), 'train_score': array([0.77751756, 0.77985948, 0.77985948, 0.77985948, 0.77803738])}\n",
      "0.7790266803825865 0.7790336801269617\n",
      "[0.10725995 0.89274005]\n"
     ]
    }
   ],
   "source": [
    "# 교차검증\n",
    "\n",
    "from sklearn.model_selection import cross_validate\n",
    "import numpy as np\n",
    "\n",
    "rf = RandomForestClassifier(n_jobs=-1, random_state=111)\n",
    "scores = cross_validate(rf, train_data, train_target,\n",
    "                        return_train_score=True, n_jobs=-1)\n",
    "\n",
    "print(scores)\n",
    "print(np.mean(scores['train_score']), np.mean(scores['test_score']))\n",
    "\n",
    "rf.fit(train_data, train_target)\n",
    "\n",
    "print(rf.feature_importances_)"
   ]
  },
  {
   "cell_type": "code",
   "execution_count": 57,
   "id": "f8ef533d-9501-4128-8bb6-954b29248f96",
   "metadata": {},
   "outputs": [
    {
     "name": "stdout",
     "output_type": "stream",
     "text": [
      "[2 2 2 2 2 2 2 2 2 2]\n",
      "[2 2 2 2 2 0 2 2 2 1]\n"
     ]
    }
   ],
   "source": [
    "print(rf.predict(test_data[:10]))\n",
    "print(test_target[:10])"
   ]
  },
  {
   "cell_type": "code",
   "execution_count": 58,
   "id": "3c3be927-1ac8-4943-9152-28f0078b84c0",
   "metadata": {},
   "outputs": [
    {
     "name": "stdout",
     "output_type": "stream",
     "text": [
      "{'fit_time': array([0.27581048, 0.23389959, 0.2527678 , 0.26629186, 0.27441096]), 'score_time': array([0.0029943 , 0.00300765, 0.00207853, 0.00099754, 0.00299191]), 'test_score': array([0.78504673, 0.77570093, 0.77570093, 0.77570093, 0.78301887]), 'train_score': array([0.77751756, 0.77985948, 0.77985948, 0.77985948, 0.77803738])}\n",
      "0.7790266803825865 0.7790336801269617\n",
      "[0.09072827 0.90927173]\n"
     ]
    }
   ],
   "source": [
    "from sklearn.ensemble import GradientBoostingClassifier\n",
    "\n",
    "gb = GradientBoostingClassifier(random_state=111)\n",
    "scores = cross_validate(gb, train_data, train_target,\n",
    "                        return_train_score=True, n_jobs=-1)\n",
    "\n",
    "print(scores)\n",
    "print(np.mean(scores['train_score']), np.mean(scores['test_score']))\n",
    "\n",
    "gb.fit(train_data, train_target)\n",
    "\n",
    "print(gb.feature_importances_)"
   ]
  },
  {
   "cell_type": "code",
   "execution_count": 59,
   "id": "90c819b3-fd94-4f26-8550-98811ae69eb1",
   "metadata": {},
   "outputs": [
    {
     "name": "stdout",
     "output_type": "stream",
     "text": [
      "[2 2 2 2 2 2 2 2 2 2]\n",
      "[2 2 2 2 2 0 2 2 2 1]\n"
     ]
    }
   ],
   "source": [
    "print(gb.predict(test_data[:10]))\n",
    "print(test_target[:10])"
   ]
  },
  {
   "cell_type": "code",
   "execution_count": 60,
   "id": "5e7cfe80-431e-4afe-8a20-5432768d4b11",
   "metadata": {},
   "outputs": [
    {
     "name": "stdout",
     "output_type": "stream",
     "text": [
      "{'fit_time': array([0.23239636, 0.22840762, 0.17948174, 0.23838115, 0.22242546]), 'score_time': array([0.00797844, 0.00797868, 0.00498629, 0.00804925, 0.00897503]), 'test_score': array([0.78504673, 0.77570093, 0.77570093, 0.77570093, 0.78301887]), 'train_score': array([0.77751756, 0.77985948, 0.77985948, 0.77985948, 0.77803738])}\n",
      "0.7790266803825865 0.7790336801269617\n"
     ]
    },
    {
     "data": {
      "text/plain": [
       "0.7752808988764045"
      ]
     },
     "execution_count": 60,
     "metadata": {},
     "output_type": "execute_result"
    }
   ],
   "source": [
    "from sklearn.ensemble import HistGradientBoostingClassifier\n",
    "from sklearn.model_selection import cross_validate\n",
    "\n",
    "hgb = HistGradientBoostingClassifier(random_state=111)\n",
    "scores = cross_validate(hgb, train_data, train_target,\n",
    "                        return_train_score=True, n_jobs=-1)\n",
    "\n",
    "print(scores)\n",
    "print(np.mean(scores['train_score']), np.mean(scores['test_score']))\n",
    "\n",
    "hgb.fit(train_data, train_target)\n",
    "hgb.score(test_data, test_target)"
   ]
  },
  {
   "cell_type": "code",
   "execution_count": 26,
   "id": "0765a2c7-f97d-4ad3-8727-329ebad2e771",
   "metadata": {},
   "outputs": [
    {
     "name": "stdout",
     "output_type": "stream",
     "text": [
      "[2 2 2 2 2 2 2 2 2 2]\n",
      "[2 2 2 2 2 0 2 2 2 1]\n"
     ]
    }
   ],
   "source": [
    "print(hgb.predict(test_data[:10]))\n",
    "print(test_target[:10])"
   ]
  }
 ],
 "metadata": {
  "kernelspec": {
   "display_name": "django_kernel",
   "language": "python",
   "name": "django"
  },
  "language_info": {
   "codemirror_mode": {
    "name": "ipython",
    "version": 3
   },
   "file_extension": ".py",
   "mimetype": "text/x-python",
   "name": "python",
   "nbconvert_exporter": "python",
   "pygments_lexer": "ipython3",
   "version": "3.10.5"
  }
 },
 "nbformat": 4,
 "nbformat_minor": 5
}
