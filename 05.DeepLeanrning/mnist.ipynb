{
 "cells": [
  {
   "cell_type": "code",
   "execution_count": 53,
   "id": "1de84f20-6215-493a-a487-d68438bb9ee2",
   "metadata": {},
   "outputs": [],
   "source": [
    "# 필요한 모듈 호출\n",
    "import pandas as pd\n",
    "import numpy as np\n",
    "import matplotlib.pyplot as plt\n",
    "import seaborn as sns\n",
    "from sklearn.model_selection import train_test_split\n",
    "\n",
    "# 텐서플로우 모듈\n",
    "import tensorflow as tf\n",
    "from tensorflow import keras\n",
    "from keras.models import Sequential, Model\n",
    "from tensorflow.keras.layers import Dense, Input\n",
    "from tensorflow.keras.optimizers import RMSprop\n",
    "from tensorflow.keras.utils import plot_model, to_categorical\n",
    "from tensorflow.keras.losses import binary_crossentropy, CategoricalCrossentropy\n",
    "from keras.datasets import mnist"
   ]
  },
  {
   "cell_type": "code",
   "execution_count": 145,
   "id": "ef2acc8b-1503-496a-8a81-4f414bd0eead",
   "metadata": {},
   "outputs": [],
   "source": [
    "# 데이터 수집\n",
    "(x_train_full, y_train_full),(x_test, y_test) = mnist.load_data()"
   ]
  },
  {
   "cell_type": "code",
   "execution_count": 146,
   "id": "58691014-76a0-48eb-afe8-bb239f72618a",
   "metadata": {},
   "outputs": [
    {
     "name": "stdout",
     "output_type": "stream",
     "text": [
      "(60000, 28, 28)\n",
      "(60000,)\n"
     ]
    }
   ],
   "source": [
    "print(x_train_full.shape)\n",
    "print(y_train_full.shape)"
   ]
  },
  {
   "cell_type": "code",
   "execution_count": 147,
   "id": "cc56e59a-e9c4-414b-bb0a-e9b96d8c0989",
   "metadata": {},
   "outputs": [],
   "source": [
    "x_train, x_val, y_train, y_val = \\\n",
    "    train_test_split(x_train_full, y_train_full)"
   ]
  },
  {
   "cell_type": "code",
   "execution_count": 148,
   "id": "9278992e-43cc-4ab6-849e-7e64c68dd032",
   "metadata": {},
   "outputs": [],
   "source": [
    "x1 = x_train.shape[1]\n",
    "x2 = x_train.shape[2]\n",
    "x_train = x_train.reshape(-1, x1*x2)\n",
    "x_val = x_val.reshape(-1, x1*x2)\n",
    "x_test = x_test.reshape(-1, x1*x2)"
   ]
  },
  {
   "cell_type": "code",
   "execution_count": 149,
   "id": "f7b4e231-f787-471a-a6f1-66039ebdbb44",
   "metadata": {},
   "outputs": [],
   "source": [
    "y_train = to_categorical(y_train)\n",
    "y_test = to_categorical(y_test)\n",
    "y_val = to_categorical(y_val)"
   ]
  },
  {
   "cell_type": "code",
   "execution_count": 150,
   "id": "d54204b6-f487-4cc9-910a-5ec2ec8124af",
   "metadata": {},
   "outputs": [],
   "source": [
    "input_shape = x_train.shape[1:]\n",
    "output_shape = y_train.shape[1]"
   ]
  },
  {
   "cell_type": "code",
   "execution_count": 68,
   "id": "c3d0d4c4-075a-4015-9acb-42051321e410",
   "metadata": {},
   "outputs": [
    {
     "name": "stdout",
     "output_type": "stream",
     "text": [
      "(784,)\n",
      "10\n"
     ]
    }
   ],
   "source": [
    "print(input_shape)\n",
    "print(output_shape)"
   ]
  },
  {
   "cell_type": "code",
   "execution_count": 69,
   "id": "24c5148c-817f-4bda-a375-a4b2e66329fc",
   "metadata": {},
   "outputs": [],
   "source": [
    "model1 = Sequential()\n",
    "model1.add(Dense(1024, activation ='relu', input_shape=input_shape))\n",
    "model1.add(Dense(512, activation ='relu'))\n",
    "model1.add(Dense(output_shape, activation ='softmax'))"
   ]
  },
  {
   "cell_type": "code",
   "execution_count": 70,
   "id": "ce4230b7-11a9-40cf-bcdf-8521caed9a6a",
   "metadata": {},
   "outputs": [],
   "source": [
    "model2 = Sequential(\n",
    "        [\n",
    "            Dense(1024, activation='relu', input_shape=input_shape),\n",
    "            Dense(512, activation ='relu'),\n",
    "            Dense(output_shape, activation ='softmax'),\n",
    "        ]\n",
    ")"
   ]
  },
  {
   "cell_type": "code",
   "execution_count": 71,
   "id": "c02afa21-f67e-4075-8ed3-a992c1607b59",
   "metadata": {},
   "outputs": [],
   "source": [
    "input_ = Input(shape = input_shape)\n",
    "l1 = Dense(1024, activation='relu')(input_)\n",
    "l2 = Dense(512, activation ='relu')(l1)\n",
    "output_ = Dense(output_shape, activation ='softmax')(l2)\n",
    "\n",
    "model3 = Model(inputs=[input_], outputs=[output_])"
   ]
  },
  {
   "cell_type": "code",
   "execution_count": 72,
   "id": "3a9c0e7e-5687-435f-8b72-a609a4c03a75",
   "metadata": {},
   "outputs": [],
   "source": [
    "optimizer = RMSprop()\n",
    "loss = CategoricalCrossentropy()\n",
    "metrics = ['accuracy']"
   ]
  },
  {
   "cell_type": "code",
   "execution_count": 73,
   "id": "06e38080-489d-44f0-a33a-b93147475bbf",
   "metadata": {},
   "outputs": [],
   "source": [
    "model1.compile(optimizer= optimizer,\n",
    "               loss = loss,\n",
    "               metrics= metrics\n",
    "               )\n",
    "\n",
    "model2.compile(optimizer= optimizer,\n",
    "               loss = loss,\n",
    "               metrics= metrics\n",
    "               )\n",
    "\n",
    "model3.compile(optimizer= optimizer,\n",
    "               loss = loss,\n",
    "               metrics= metrics\n",
    "               )"
   ]
  },
  {
   "cell_type": "code",
   "execution_count": 74,
   "id": "28e95b2c-18f2-47fd-9e12-005d75190500",
   "metadata": {},
   "outputs": [
    {
     "name": "stdout",
     "output_type": "stream",
     "text": [
      "Epoch 1/10\n",
      "113/113 [==============================] - 3s 22ms/step - loss: 17.1520 - accuracy: 0.8364 - val_loss: 0.5750 - val_accuracy: 0.9404\n",
      "Epoch 2/10\n",
      "113/113 [==============================] - 2s 20ms/step - loss: 0.5385 - accuracy: 0.9351 - val_loss: 0.9314 - val_accuracy: 0.8738\n",
      "Epoch 3/10\n",
      "113/113 [==============================] - 2s 22ms/step - loss: 0.2910 - accuracy: 0.9547 - val_loss: 0.4972 - val_accuracy: 0.9384\n",
      "Epoch 4/10\n",
      "113/113 [==============================] - 2s 20ms/step - loss: 0.2236 - accuracy: 0.9640 - val_loss: 0.2871 - val_accuracy: 0.9617\n",
      "Epoch 5/10\n",
      "113/113 [==============================] - 3s 24ms/step - loss: 0.1843 - accuracy: 0.9702 - val_loss: 0.3908 - val_accuracy: 0.9494\n",
      "Epoch 6/10\n",
      "113/113 [==============================] - 2s 20ms/step - loss: 0.1594 - accuracy: 0.9741 - val_loss: 0.4061 - val_accuracy: 0.9559\n",
      "Epoch 7/10\n",
      "113/113 [==============================] - 2s 21ms/step - loss: 0.1468 - accuracy: 0.9767 - val_loss: 0.4320 - val_accuracy: 0.9606\n",
      "Epoch 8/10\n",
      "113/113 [==============================] - 2s 21ms/step - loss: 0.1347 - accuracy: 0.9802 - val_loss: 0.4546 - val_accuracy: 0.9626\n",
      "Epoch 9/10\n",
      "113/113 [==============================] - 3s 24ms/step - loss: 0.1323 - accuracy: 0.9820 - val_loss: 0.4975 - val_accuracy: 0.9615\n",
      "Epoch 10/10\n",
      "113/113 [==============================] - 3s 25ms/step - loss: 0.1202 - accuracy: 0.9837 - val_loss: 0.4909 - val_accuracy: 0.9654\n",
      "Epoch 1/10\n",
      "113/113 [==============================] - 4s 27ms/step - loss: 16.2564 - accuracy: 0.8429 - val_loss: 0.8706 - val_accuracy: 0.9085\n",
      "Epoch 2/10\n",
      "113/113 [==============================] - 3s 25ms/step - loss: 0.5459 - accuracy: 0.9278 - val_loss: 0.3506 - val_accuracy: 0.9326\n",
      "Epoch 3/10\n",
      "113/113 [==============================] - 3s 25ms/step - loss: 0.2885 - accuracy: 0.9506 - val_loss: 0.3518 - val_accuracy: 0.9450\n",
      "Epoch 4/10\n",
      "113/113 [==============================] - 3s 26ms/step - loss: 0.2295 - accuracy: 0.9600 - val_loss: 0.4601 - val_accuracy: 0.9367\n",
      "Epoch 5/10\n",
      "113/113 [==============================] - 3s 26ms/step - loss: 0.2163 - accuracy: 0.9666 - val_loss: 0.5640 - val_accuracy: 0.9391\n",
      "Epoch 6/10\n",
      "113/113 [==============================] - 3s 27ms/step - loss: 0.1740 - accuracy: 0.9728 - val_loss: 0.5287 - val_accuracy: 0.9497\n",
      "Epoch 7/10\n",
      "113/113 [==============================] - 3s 25ms/step - loss: 0.1683 - accuracy: 0.9758 - val_loss: 0.5435 - val_accuracy: 0.9530\n",
      "Epoch 8/10\n",
      "113/113 [==============================] - 3s 25ms/step - loss: 0.1491 - accuracy: 0.9788 - val_loss: 0.4503 - val_accuracy: 0.9611\n",
      "Epoch 9/10\n",
      "113/113 [==============================] - 3s 26ms/step - loss: 0.1434 - accuracy: 0.9814 - val_loss: 0.3801 - val_accuracy: 0.9685\n",
      "Epoch 10/10\n",
      "113/113 [==============================] - 3s 26ms/step - loss: 0.1514 - accuracy: 0.9818 - val_loss: 0.6618 - val_accuracy: 0.9527\n",
      "Epoch 1/10\n",
      "113/113 [==============================] - 4s 29ms/step - loss: 20.4139 - accuracy: 0.8377 - val_loss: 0.8500 - val_accuracy: 0.9151\n",
      "Epoch 2/10\n",
      "113/113 [==============================] - 3s 28ms/step - loss: 0.5375 - accuracy: 0.9346 - val_loss: 0.3879 - val_accuracy: 0.9419\n",
      "Epoch 3/10\n",
      "113/113 [==============================] - 3s 27ms/step - loss: 0.2964 - accuracy: 0.9523 - val_loss: 0.4417 - val_accuracy: 0.9452\n",
      "Epoch 4/10\n",
      "113/113 [==============================] - 3s 28ms/step - loss: 0.2329 - accuracy: 0.9624 - val_loss: 0.3824 - val_accuracy: 0.9526\n",
      "Epoch 5/10\n",
      "113/113 [==============================] - 3s 28ms/step - loss: 0.1959 - accuracy: 0.9685 - val_loss: 0.3040 - val_accuracy: 0.9610\n",
      "Epoch 6/10\n",
      "113/113 [==============================] - 3s 27ms/step - loss: 0.1631 - accuracy: 0.9736 - val_loss: 0.3086 - val_accuracy: 0.9670\n",
      "Epoch 7/10\n",
      "113/113 [==============================] - 3s 28ms/step - loss: 0.1457 - accuracy: 0.9786 - val_loss: 0.5907 - val_accuracy: 0.9470\n",
      "Epoch 8/10\n",
      "113/113 [==============================] - 3s 27ms/step - loss: 0.1482 - accuracy: 0.9810 - val_loss: 0.3590 - val_accuracy: 0.9703\n",
      "Epoch 9/10\n",
      "113/113 [==============================] - 3s 28ms/step - loss: 0.1487 - accuracy: 0.9817 - val_loss: 0.4274 - val_accuracy: 0.9669\n",
      "Epoch 10/10\n",
      "113/113 [==============================] - 3s 30ms/step - loss: 0.1305 - accuracy: 0.9843 - val_loss: 0.4457 - val_accuracy: 0.9675\n",
      "313/313 [==============================] - 1s 3ms/step - loss: 0.4420 - accuracy: 0.9666\n",
      "313/313 [==============================] - 1s 3ms/step - loss: 0.4420 - accuracy: 0.9666\n",
      "313/313 [==============================] - 1s 3ms/step - loss: 0.4420 - accuracy: 0.9666\n"
     ]
    }
   ],
   "source": [
    "model1.fit(x_train,\n",
    "           y_train,\n",
    "           epochs=10,\n",
    "           batch_size = 400,\n",
    "           validation_data=(x_val, y_val))\n",
    "\n",
    "model2.fit(x_train,\n",
    "           y_train,\n",
    "           epochs=10,\n",
    "           batch_size = 400,\n",
    "           validation_data=(x_val, y_val))\n",
    "\n",
    "model3.fit(x_train,\n",
    "           y_train,\n",
    "           epochs=10,\n",
    "           batch_size = 400,\n",
    "           validation_data=(x_val, y_val))\n",
    "\n",
    "model1_result = model1.evaluate(x_test, y_test)\n",
    "model2_result = model1.evaluate(x_test, y_test)\n",
    "model3_result = model1.evaluate(x_test, y_test)"
   ]
  },
  {
   "cell_type": "code",
   "execution_count": 76,
   "id": "22e4c8a1-dee2-4759-9302-252ab686d283",
   "metadata": {},
   "outputs": [
    {
     "name": "stdout",
     "output_type": "stream",
     "text": [
      "[0.4420497417449951, 0.9666000008583069]\n",
      "[0.4420497417449951, 0.9666000008583069]\n",
      "[0.4420497417449951, 0.9666000008583069]\n"
     ]
    }
   ],
   "source": [
    "print(model1_result)\n",
    "print(model2_result)\n",
    "print(model3_result)"
   ]
  },
  {
   "cell_type": "code",
   "execution_count": 103,
   "id": "1876a74d-9b9c-45e5-a477-180adb1dbdbf",
   "metadata": {},
   "outputs": [],
   "source": [
    "model4 = Sequential()\n",
    "l1 = Dense(1024, input_shape= input_shape, activation = 'sigmoid')\n",
    "l2 = Dense(512, activation ='sigmoid')\n",
    "out = Dense(output_shape, activation = 'softmax')\n",
    "\n",
    "model4.add(l1)\n",
    "model4.add(l2)\n",
    "model4.add(out)\n",
    "\n",
    "model5 = Sequential(\n",
    "        [\n",
    "         l1,\n",
    "         l2,\n",
    "         out\n",
    "        ]\n",
    ")\n",
    "input_ = Input(shape =input_shape)\n",
    "layer1 = l1(input_)\n",
    "layer2 = l2(layer1)\n",
    "output_ = out(layer2)\n",
    "\n",
    "model6 = Model(inputs = [input_], outputs =[output_])"
   ]
  },
  {
   "cell_type": "code",
   "execution_count": 104,
   "id": "3fe2ff38-ca77-409c-8dd8-b638658bc38c",
   "metadata": {},
   "outputs": [
    {
     "data": {
      "text/plain": [
       "array([[ 0.02658674, -0.02672465, -0.04435593, ...,  0.0164571 ,\n",
       "        -0.0175196 ,  0.01056575],\n",
       "       [-0.0427243 , -0.02091216, -0.01348579, ...,  0.03913102,\n",
       "         0.03208362,  0.01492956],\n",
       "       [-0.04202013, -0.00843723, -0.02447345, ...,  0.05497674,\n",
       "        -0.04443869, -0.00713075],\n",
       "       ...,\n",
       "       [-0.05584696, -0.0473906 , -0.04268008, ..., -0.01206711,\n",
       "        -0.05581775, -0.02058504],\n",
       "       [ 0.04652879,  0.04543196, -0.03309656, ...,  0.0352075 ,\n",
       "        -0.02438034,  0.05201242],\n",
       "       [ 0.00664478, -0.01905608, -0.02003508, ...,  0.00044754,\n",
       "        -0.00844408, -0.01426196]], dtype=float32)"
      ]
     },
     "execution_count": 104,
     "metadata": {},
     "output_type": "execute_result"
    }
   ],
   "source": [
    "model4.layers[0].get_weights()[0]"
   ]
  },
  {
   "cell_type": "code",
   "execution_count": 105,
   "id": "982cb8a0-57f3-4ef9-b07e-317a18b0df9c",
   "metadata": {},
   "outputs": [],
   "source": [
    "model5.layers[0].set_weights([model4.layers[0].get_weights()[0],\n",
    "                              model4.layers[0].get_weights()[1]])"
   ]
  },
  {
   "cell_type": "code",
   "execution_count": 106,
   "id": "0f99573b-7353-4bee-b2e9-da238a3ad3e9",
   "metadata": {},
   "outputs": [
    {
     "data": {
      "text/plain": [
       "array([[ 0.05209352, -0.01652952, -0.0173744 , ...,  0.04705472,\n",
       "         0.00863801, -0.00060713],\n",
       "       [-0.03291358,  0.04568323, -0.03057523, ..., -0.02011156,\n",
       "        -0.03947467,  0.05153629],\n",
       "       [-0.04694629,  0.00371315,  0.00516039, ..., -0.0123347 ,\n",
       "         0.00162414, -0.03181472],\n",
       "       ...,\n",
       "       [ 0.01553053, -0.0205688 ,  0.05695686, ..., -0.0018692 ,\n",
       "         0.00100921, -0.00901085],\n",
       "       [-0.03401139, -0.00450732, -0.00548504, ...,  0.04689234,\n",
       "        -0.05889447,  0.01606618],\n",
       "       [ 0.02175233, -0.06127331, -0.01310666, ..., -0.02951972,\n",
       "        -0.01079042, -0.01967299]], dtype=float32)"
      ]
     },
     "execution_count": 106,
     "metadata": {},
     "output_type": "execute_result"
    }
   ],
   "source": [
    "model5.layers[1].get_weights()[0]"
   ]
  },
  {
   "cell_type": "code",
   "execution_count": 107,
   "id": "11bf1d97-e3d9-4364-a288-15eecef0a55e",
   "metadata": {},
   "outputs": [],
   "source": [
    "for i in range(len(model4.layers)):\n",
    "    model5.layers[i].set_weights([model4.layers[i].get_weights()[0],\n",
    "                                 model4.layers[i].get_weights()[1]])\n",
    "    model6.layers[i+1].set_weights([model4.layers[i].get_weights()[0],\n",
    "                                 model4.layers[i].get_weights()[1]])"
   ]
  },
  {
   "cell_type": "code",
   "execution_count": 108,
   "id": "18deaca4-e36b-43b6-ba8c-5128996de7d9",
   "metadata": {},
   "outputs": [
    {
     "data": {
      "text/plain": [
       "-5.0120196"
      ]
     },
     "execution_count": 108,
     "metadata": {},
     "output_type": "execute_result"
    }
   ],
   "source": [
    "np.sum(model5.layers[2].get_weights()[0])"
   ]
  },
  {
   "cell_type": "code",
   "execution_count": 109,
   "id": "d595cdec-405d-41dd-8413-ac9d5fb4f182",
   "metadata": {},
   "outputs": [
    {
     "data": {
      "text/plain": [
       "-5.0120196"
      ]
     },
     "execution_count": 109,
     "metadata": {},
     "output_type": "execute_result"
    }
   ],
   "source": [
    "np.sum(model4.layers[2].get_weights()[0])"
   ]
  },
  {
   "cell_type": "code",
   "execution_count": 112,
   "id": "5fc39b60-80ff-4683-b50b-dd5beb4a5864",
   "metadata": {},
   "outputs": [],
   "source": [
    "optimizer = 'rmsprop'\n",
    "loss = \"categorical_crossentropy\"\n",
    "model4.compile(optimizer= optimizer,\n",
    "               loss= loss)\n",
    "model5.compile(optimizer= optimizer,\n",
    "               loss= loss)\n",
    "model6.compile(optimizer= optimizer,\n",
    "               loss= loss)"
   ]
  },
  {
   "cell_type": "code",
   "execution_count": 115,
   "id": "347dc984-95a4-4463-9f93-a167d15dd325",
   "metadata": {},
   "outputs": [
    {
     "name": "stdout",
     "output_type": "stream",
     "text": [
      "313/313 [==============================] - 1s 3ms/step - loss: 0.1092\n",
      "0.1092308983206749\n",
      "313/313 [==============================] - 1s 3ms/step - loss: 0.1092\n",
      "0.1092308983206749\n",
      "313/313 [==============================] - 1s 3ms/step - loss: 0.1092\n",
      "0.1092308983206749\n"
     ]
    }
   ],
   "source": [
    "model4.fit(x_train, y_train, epochs=10, batch_size = 100, verbose =0)\n",
    "model5.fit(x_train, y_train, epochs=10, batch_size = 100, verbose =0)\n",
    "model6.fit(x_train, y_train, epochs=10, batch_size = 100, verbose =0)\n",
    "print(model4.evaluate(x_test, y_test))\n",
    "print(model5.evaluate(x_test, y_test))\n",
    "print(model6.evaluate(x_test, y_test))"
   ]
  },
  {
   "cell_type": "code",
   "execution_count": 118,
   "id": "bd5ebc00-6e3a-4541-8074-2ab71e149226",
   "metadata": {},
   "outputs": [
    {
     "name": "stdout",
     "output_type": "stream",
     "text": [
      "938\n",
      "938\n",
      "938\n"
     ]
    }
   ],
   "source": [
    "print(np.sum(np.argmax(model4.predict(x_test),axis=1) == np.argmax(y_test,axis=1) / len(y_test)))\n",
    "print(np.sum(np.argmax(model5.predict(x_test),axis=1) == np.argmax(y_test,axis=1) / len(y_test)))\n",
    "print(np.sum(np.argmax(model6.predict(x_test),axis=1) == np.argmax(y_test,axis=1) / len(y_test)))"
   ]
  },
  {
   "cell_type": "code",
   "execution_count": 121,
   "id": "39e63930-d3a2-48cc-9e58-bf44de9ba93e",
   "metadata": {},
   "outputs": [],
   "source": [
    "def sigmoid(x):\n",
    "    return 1/(1+np.exp(-x))"
   ]
  },
  {
   "cell_type": "code",
   "execution_count": 122,
   "id": "e426e021-bce8-4016-ba36-abe2df7632cd",
   "metadata": {},
   "outputs": [],
   "source": [
    "def softmax(x):\n",
    "    c = np.max(x,axis=1).reshape(-1,1)\n",
    "    x = x-c\n",
    "    return np.exp(x)/np.sum(np.exp(x),axis=1).reshape(-1,1)"
   ]
  },
  {
   "cell_type": "code",
   "execution_count": 123,
   "id": "2217b473-660b-479b-8c6f-19db9cf73418",
   "metadata": {},
   "outputs": [],
   "source": [
    "import numpy as np\n",
    "class Relu:\n",
    "    def __init__(self):\n",
    "        self.mask = None\n",
    "    def forward(self,x):\n",
    "        self.mask = (x <=0)\n",
    "        out = x.copy()\n",
    "        out[self.mask] = 0\n",
    "        return out\n",
    "    def backward(self,dout):\n",
    "        dout[self.mask] = 0\n",
    "        dx = dout\n",
    "        return dx\n",
    "        \n",
    "class Sigmoid:\n",
    "    def __init__(self):\n",
    "        self.out = None\n",
    "    \n",
    "    def forward(self,x):\n",
    "        out = sigmoid(x)\n",
    "        self.out = out\n",
    "        return out\n",
    "    \n",
    "    def backward(self,dout):\n",
    "        dx = ((1-self.out)*self.out)*dout\n",
    "        return dx\n",
    "\n",
    "class Affine:\n",
    "    def __init__(self,W,b):\n",
    "        self.W = W\n",
    "        self.b = b\n",
    "        self.x = None\n",
    "        self.origin_shape = None\n",
    "        self.dW = None\n",
    "        self.db = None\n",
    "    \n",
    "    def forward(self,x):\n",
    "        self.origin_shape = x.shape\n",
    "        self.x = x\n",
    "        out = np.dot(x,self.W) + self.b\n",
    "        return out\n",
    "    \n",
    "    def backward(self,dout):\n",
    "        dx = np.dot(dout,self.W.T)\n",
    "        self.dW = np.dot(self.x.T,dout)\n",
    "        self.db = np.sum(dout,axis=0)\n",
    "        dx = dx.reshape(self.origin_shape)\n",
    "        return dx\n",
    "\n",
    "class Loss:\n",
    "    def __init__(self):\n",
    "        self.loss = None\n",
    "        self.y = None\n",
    "        self.t = None\n",
    "    \n",
    "    def forward(self,t,y):\n",
    "        self.y = softmax(y)\n",
    "        self.t = t\n",
    "        self.loss = categorical_crossentropy(self.t, self.y)\n",
    "        return self.loss\n",
    "    \n",
    "    def backward(self,dout=1):\n",
    "        dx = (self.y - self.t)*dout\n",
    "        return dx"
   ]
  },
  {
   "cell_type": "code",
   "execution_count": 120,
   "id": "cbf768a1-56a3-408d-bc26-61a7187d00c7",
   "metadata": {},
   "outputs": [],
   "source": [
    "l_1_w = model4.layers[0].get_weights()[0]\n",
    "l_1_b = model4.layers[0].get_weights()[1]\n",
    "# sigmoid\n",
    "l_2_w = model4.layers[1].get_weights()[0]\n",
    "l_2_b = model4.layers[1].get_weights()[1]\n",
    "# sigmoid\n",
    "l_3_w = model4.layers[2].get_weights()[0]\n",
    "l_3_b = model4.layers[2].get_weights()[1]"
   ]
  },
  {
   "cell_type": "code",
   "execution_count": 124,
   "id": "f2ad43fa-5e71-4b09-806c-0fbe7a717447",
   "metadata": {},
   "outputs": [
    {
     "name": "stderr",
     "output_type": "stream",
     "text": [
      "C:\\Users\\admin\\AppData\\Local\\Temp\\ipykernel_11908\\4033946986.py:2: RuntimeWarning: overflow encountered in exp\n",
      "  return 1/(1+np.exp(-x))\n"
     ]
    }
   ],
   "source": [
    "a = np.dot(x_test, l_1_w) + l_1_b\n",
    "a = sigmoid(a)\n",
    "a = np.dot(a, l_2_w) + l_2_b\n",
    "a = sigmoid(a)\n",
    "a = np.dot(a, l_3_w) + l_3_b"
   ]
  },
  {
   "cell_type": "code",
   "execution_count": 129,
   "id": "94292bc0-665e-432b-8d77-8dbc44fe5ae5",
   "metadata": {},
   "outputs": [
    {
     "data": {
      "text/plain": [
       "0.9744"
      ]
     },
     "execution_count": 129,
     "metadata": {},
     "output_type": "execute_result"
    }
   ],
   "source": [
    "np.sum(np.argmax(a, axis=1) == np.argmax(y_test,axis=1)) / len(y_test)"
   ]
  },
  {
   "cell_type": "code",
   "execution_count": 132,
   "id": "0dca884f-641e-4970-92ec-f4f0a95c1d83",
   "metadata": {},
   "outputs": [],
   "source": [
    "# 모델 저장 모듈\n",
    "from keras.models import save_model\n",
    "from keras.models import load_model"
   ]
  },
  {
   "cell_type": "code",
   "execution_count": 139,
   "id": "9e046707-d333-49e6-90b5-1c5e3377a3ae",
   "metadata": {},
   "outputs": [
    {
     "name": "stdout",
     "output_type": "stream",
     "text": [
      "INFO:tensorflow:Assets written to: ./models/model4.h6\\assets\n",
      "INFO:tensorflow:Assets written to: ./models/model6.h4\\assets\n"
     ]
    }
   ],
   "source": [
    "# 모델 저장\n",
    "save_model(model4,'./models/model4.h6')\n",
    "save_model(model5,'./models/model5.h5')\n",
    "save_model(model6,'./models/model6.h4')"
   ]
  },
  {
   "cell_type": "code",
   "execution_count": 140,
   "id": "d74bfb90-0bc5-4ace-b674-78dfc66ca1db",
   "metadata": {},
   "outputs": [],
   "source": [
    "model4_1 = load_model('./models/model4.h6')\n",
    "model5_1 = load_model('./models/model5.h5')\n",
    "model6_1 = load_model('./models/model6.h4')"
   ]
  },
  {
   "cell_type": "code",
   "execution_count": 160,
   "id": "e20a52c6-ca10-4f71-ae09-d1942c975557",
   "metadata": {},
   "outputs": [],
   "source": [
    "model7 = Sequential([\n",
    "    Dense(1024,input_shape =input_shape, activation ='relu'),\n",
    "    Dense(512, activation ='relu'),\n",
    "    Dense(output_shape, activation ='softmax')\n",
    "    ])\n",
    "\n",
    "model8 = Sequential([\n",
    "    Dense(1024,input_shape =input_shape, activation ='relu'),\n",
    "    Dense(512, activation ='relu'),\n",
    "    Dense(output_shape, activation ='softmax')\n",
    "    ])\n",
    "\n",
    "model9 = Sequential([\n",
    "    Dense(1024,input_shape =input_shape, activation ='relu'),\n",
    "    Dense(512, activation ='relu'),\n",
    "    Dense(output_shape, activation ='softmax')\n",
    "    ])"
   ]
  },
  {
   "cell_type": "code",
   "execution_count": 154,
   "id": "208de39e-6b76-4d53-bf1e-e1526413cc00",
   "metadata": {},
   "outputs": [
    {
     "data": {
      "text/plain": [
       "array([[0., 0., 0., ..., 0., 0., 0.],\n",
       "       [0., 0., 0., ..., 0., 0., 0.],\n",
       "       [0., 0., 0., ..., 0., 0., 0.],\n",
       "       ...,\n",
       "       [0., 0., 0., ..., 0., 0., 0.],\n",
       "       [0., 0., 0., ..., 0., 0., 0.],\n",
       "       [0., 0., 0., ..., 0., 0., 0.]], dtype=float32)"
      ]
     },
     "execution_count": 154,
     "metadata": {},
     "output_type": "execute_result"
    }
   ],
   "source": [
    "np.zeros_like(model7.layers[0].get_weights()[0])"
   ]
  },
  {
   "cell_type": "code",
   "execution_count": 162,
   "id": "34ad3399-f149-4bd0-b360-983d820f83f8",
   "metadata": {},
   "outputs": [],
   "source": [
    "model7.layers[0].set_weights([np.ones_like(model1.layers[0].get_weights()[0]),\n",
    "                                np.zeros_like(model1.layers[0].get_weights()[1])])"
   ]
  },
  {
   "cell_type": "code",
   "execution_count": 163,
   "id": "57f8ab6d-77fa-442a-8bc9-f261fbbc05a9",
   "metadata": {
    "tags": []
   },
   "outputs": [],
   "source": [
    "model8.layers[1].set_weights([np.ones_like(model1.layers[1].get_weights()[0]),\n",
    "                                np.zeros_like(model1.layers[1].get_weights()[1])])"
   ]
  },
  {
   "cell_type": "code",
   "execution_count": 167,
   "id": "bbdeab2d-024e-4f6e-943a-5260eac9648c",
   "metadata": {},
   "outputs": [],
   "source": [
    "optimizer = 'rmsprop'\n",
    "loss = \"categorical_crossentropy\"\n",
    "metrics = ['accuracy']\n",
    "model7.compile(optimizer= optimizer,\n",
    "               loss= loss,\n",
    "               metrics= metrics)\n",
    "model8.compile(optimizer= optimizer,\n",
    "               loss= loss,\n",
    "               metrics= metrics)\n",
    "model9.compile(optimizer= optimizer,\n",
    "               loss= loss,\n",
    "               metrics= metrics)"
   ]
  },
  {
   "cell_type": "code",
   "execution_count": 166,
   "id": "87bed0c3-13f0-46ae-8026-d4834de4dd0c",
   "metadata": {},
   "outputs": [
    {
     "name": "stdout",
     "output_type": "stream",
     "text": [
      "313/313 [==============================] - 1s 2ms/step - loss: 2.3009\n",
      "2.3008952140808105\n",
      "313/313 [==============================] - 1s 2ms/step - loss: 2.5177\n",
      "2.5177438259124756\n",
      "313/313 [==============================] - 1s 2ms/step - loss: 0.4663\n",
      "0.46629461646080017\n"
     ]
    }
   ],
   "source": [
    "model7.fit(x_train, y_train, epochs=10, batch_size = 100, verbose =0)\n",
    "model8.fit(x_train, y_train, epochs=10, batch_size = 100, verbose =0)\n",
    "model9.fit(x_train, y_train, epochs=10, batch_size = 100, verbose =0)\n",
    "print(model7.evaluate(x_test, y_test))\n",
    "print(model8.evaluate(x_test, y_test))\n",
    "print(model9.evaluate(x_test, y_test))"
   ]
  }
 ],
 "metadata": {
  "kernelspec": {
   "display_name": "keras",
   "language": "python",
   "name": "keras"
  },
  "language_info": {
   "codemirror_mode": {
    "name": "ipython",
    "version": 3
   },
   "file_extension": ".py",
   "mimetype": "text/x-python",
   "name": "python",
   "nbconvert_exporter": "python",
   "pygments_lexer": "ipython3",
   "version": "3.8.13"
  }
 },
 "nbformat": 4,
 "nbformat_minor": 5
}
