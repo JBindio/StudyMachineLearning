{
 "cells": [
  {
   "cell_type": "code",
   "execution_count": 2,
   "id": "2ed9e007-4f44-4a9f-b092-efe1a7b38bab",
   "metadata": {},
   "outputs": [],
   "source": [
    "import pandas as pd\n",
    "import numpy as np\n",
    "import matplotlib.pyplot as plt\n",
    "import matplotlib\n",
    "import seaborn as sns\n",
    "from matplotlib import font_manager, rc\n",
    "import platform\n",
    "\n",
    "# seaborn 설정 리셋\n",
    "sns.reset_defaults()\n",
    "\n",
    "# 폰트설정\n",
    "if platform.system() == 'Windows' :\n",
    "    path = 'c:/Windows/Fonts/malgun.ttf'\n",
    "    font_name = font_manager.FontProperties(fname=path).get_name()\n",
    "    rc('font', family=font_name)\n",
    "elif platform.system() == 'Darwin':\n",
    "    rc('font', family='AppleGothic')\n",
    "else :\n",
    "    print('Check your OS System')\n",
    "    \n",
    "# 그래프에 마이너스 표시\n",
    "matplotlib.rcParams['axes.unicode_minus'] = False"
   ]
  },
  {
   "cell_type": "code",
   "execution_count": 3,
   "id": "8eda7676-7287-4193-b77b-a32ce6c25482",
   "metadata": {},
   "outputs": [],
   "source": [
    "# 1. NAND w1, w2, theta\n",
    "# 2. AND w1, w2, theta\n",
    "# 3. OR w1, w2, theta\n",
    "# 함수 and논리를 출력하는 함수\n",
    "# 함수 nand논리를 출력하는 함수\n",
    "# 함수 or논리를 출력하는 함수\n",
    "# 함수 xor논리를 출력하는 함수"
   ]
  },
  {
   "cell_type": "code",
   "execution_count": 4,
   "id": "184d2da9-ea3a-4b0d-968e-cfb5801ee481",
   "metadata": {},
   "outputs": [],
   "source": [
    "X = np.array([[0,0,1,1],[0,1,0,1]]).T"
   ]
  },
  {
   "cell_type": "code",
   "execution_count": 5,
   "id": "0a3f4ee6-2f7f-4f63-ae70-88ff52358cf9",
   "metadata": {},
   "outputs": [
    {
     "data": {
      "text/plain": [
       "array([[0, 0],\n",
       "       [0, 1],\n",
       "       [1, 0],\n",
       "       [1, 1]])"
      ]
     },
     "execution_count": 5,
     "metadata": {},
     "output_type": "execute_result"
    }
   ],
   "source": [
    "X"
   ]
  },
  {
   "cell_type": "code",
   "execution_count": 298,
   "id": "493c541f-25f4-48fb-bbac-d0fcb2e49c82",
   "metadata": {},
   "outputs": [],
   "source": [
    "def AND(x) :\n",
    "    W =np.array([[0.1], [0.1]]) \n",
    "    theta = 0.1\n",
    "    return np.where(np.dot(x, W) > theta, 1, 0)"
   ]
  },
  {
   "cell_type": "code",
   "execution_count": 299,
   "id": "c752c383-bdb3-42f3-92d3-7192385d3287",
   "metadata": {},
   "outputs": [
    {
     "data": {
      "text/plain": [
       "array([[0],\n",
       "       [0],\n",
       "       [0],\n",
       "       [1]])"
      ]
     },
     "execution_count": 299,
     "metadata": {},
     "output_type": "execute_result"
    }
   ],
   "source": [
    "AND(X)"
   ]
  },
  {
   "cell_type": "code",
   "execution_count": 251,
   "id": "3f674f39-6f2a-4fab-8af9-36500a970502",
   "metadata": {},
   "outputs": [],
   "source": [
    "def NAND(x) :\n",
    "    W =np.array([[0.1], [0.1]]) \n",
    "    theta = 0.11\n",
    "    return np.where(np.dot(x, W) < theta, 1, 0)"
   ]
  },
  {
   "cell_type": "code",
   "execution_count": 252,
   "id": "ccd486e7-a73d-4cc8-aa88-17ab100574c8",
   "metadata": {},
   "outputs": [
    {
     "data": {
      "text/plain": [
       "array([[1],\n",
       "       [1],\n",
       "       [1],\n",
       "       [0]])"
      ]
     },
     "execution_count": 252,
     "metadata": {},
     "output_type": "execute_result"
    }
   ],
   "source": [
    "NAND(X)"
   ]
  },
  {
   "cell_type": "code",
   "execution_count": 300,
   "id": "632d58ba-ea9e-41f8-ace1-97b338110207",
   "metadata": {},
   "outputs": [],
   "source": [
    "def OR(x) :\n",
    "    W =np.array([[0.2], [0.2]]) \n",
    "    theta = 0.03\n",
    "    return np.where(np.dot(x, W) > theta, 1, 0)"
   ]
  },
  {
   "cell_type": "code",
   "execution_count": 301,
   "id": "b44d1a28-c0ac-4b01-aa34-0996a70dc82a",
   "metadata": {},
   "outputs": [
    {
     "data": {
      "text/plain": [
       "array([[0],\n",
       "       [1],\n",
       "       [1],\n",
       "       [1]])"
      ]
     },
     "execution_count": 301,
     "metadata": {},
     "output_type": "execute_result"
    }
   ],
   "source": [
    "OR(X)"
   ]
  },
  {
   "cell_type": "code",
   "execution_count": 148,
   "id": "7e5ee876-070d-4a97-ad76-ca9f9236c2ae",
   "metadata": {},
   "outputs": [],
   "source": [
    "def XOR(x) :\n",
    "    x = np.c_[NAND(x), OR(x)]\n",
    "    return AND(x)"
   ]
  },
  {
   "cell_type": "code",
   "execution_count": 149,
   "id": "63b0b77a-a705-45fa-91d6-6712428130f6",
   "metadata": {},
   "outputs": [
    {
     "data": {
      "text/plain": [
       "array([[0],\n",
       "       [1],\n",
       "       [1],\n",
       "       [0]])"
      ]
     },
     "execution_count": 149,
     "metadata": {},
     "output_type": "execute_result"
    }
   ],
   "source": [
    "XOR(X)"
   ]
  },
  {
   "cell_type": "code",
   "execution_count": 198,
   "id": "e2c52bf3-800b-43e3-adb7-3d620048296f",
   "metadata": {},
   "outputs": [],
   "source": [
    "def XOR(x) :\n",
    "    W1 = np.array([[-0.1 ,0.30000000000000004],[-0.1,0.30000000000000004]])\n",
    "    W2 = np.array([[0.2],[0.2]])    \n",
    "    b1 = 0.1\n",
    "    b2 = 0.1\n",
    "    layer1 = np.where(np.dot(x,W1) > b1, 1, 0)\n",
    "    layer2 = np.where(np.dot(layer1,W2) > b2, 1, 0)\n",
    "    return layer2"
   ]
  },
  {
   "cell_type": "code",
   "execution_count": 255,
   "id": "351d8822-4f60-4743-a2dd-a36ebd885226",
   "metadata": {},
   "outputs": [],
   "source": [
    "# AND\n",
    "w1s = np.linspace(0.1, 1, 10)\n",
    "w2s = np.linspace(0.1, 1, 10)\n",
    "thetas = np.linspace(0.1, 1, 10)\n",
    "\n",
    "for w1 in w1s:\n",
    "    for w2 in w2s:\n",
    "        for theta in thetas:\n",
    "            result = np.where(X[:,0]*w1 + X[:,1]*w2 > theta, 1, 0)\n",
    "            if np.sum(result == np.array([0, 0, 0, 1])) == 4:\n",
    "                break\n",
    "                print(w1, w2, theta)"
   ]
  },
  {
   "cell_type": "code",
   "execution_count": 293,
   "id": "1187783a-c07e-4cf8-85f9-1274a7a443dc",
   "metadata": {},
   "outputs": [],
   "source": [
    "# OR\n",
    "w1s = np.linspace(0.1, 1, 10)\n",
    "w2s = np.linspace(0.1, 1, 10)\n",
    "thetas = np.linspace(0.1, 1, 10)\n",
    "\n",
    "for w1 in w1s:\n",
    "    for w2 in w2s:\n",
    "        for theta in thetas:\n",
    "            result = np.where(X[:,0]*w1 + X[:,1]*w2 > theta, 1, 0)\n",
    "            if np.sum(result == np.array([0, 1, 1, 1])) == 4:\n",
    "                break\n",
    "                print(w1, w2, theta)"
   ]
  },
  {
   "cell_type": "code",
   "execution_count": 295,
   "id": "4fba259f-4137-43fe-b7a4-8c33d0f09143",
   "metadata": {},
   "outputs": [],
   "source": [
    "# NAND\n",
    "w1s = np.linspace(0.1, 1, 10)\n",
    "w2s = np.linspace(0.1, 1, 50)\n",
    "thetas = np.linspace(0.1, 1, 10)\n",
    "\n",
    "for w1 in w1s:\n",
    "    for w2 in w2s:\n",
    "        for theta in thetas:\n",
    "            result = np.where(X[:,0]*w1 + X[:,1]*w2 < theta, 1, 0)\n",
    "            if np.sum(result == np.array([1, 1, 1, 0])) == 4:\n",
    "                break\n",
    "                print(w1, w2, theta)"
   ]
  },
  {
   "cell_type": "code",
   "execution_count": 302,
   "id": "ebb61645-946d-4953-b424-2a9aca5835b9",
   "metadata": {},
   "outputs": [],
   "source": [
    "def XOR(x):\n",
    "    # W1 = np.array([[NAND,OR],[NAND,OR]])\n",
    "    # W2 = np.array([[AND],[AND]])\n",
    "    # b1 = NAND_theta\n",
    "    # b2 = OR_theta\n",
    "    # b3 = AND_theta\n",
    "    \n",
    "    W1 = np.array([[0.1,0.1],[0.1,0.7]])\n",
    "    W2 = np.array([[0.1],[0.1]])\n",
    "    b1 = 0.11\n",
    "    b2 = 0.03\n",
    "    b3 = 0.1\n",
    "    s1 = np.where(np.dot(x,W1[:,0]) < b1, 1, 0)\n",
    "    s2 = np.where(np.dot(x,W1[:,1]) > b2, 1, 0)\n",
    "    s = np.c_[s1, s2]\n",
    "    result = np.where(np.dot(s,W2) > b3 , 1 ,0)\n",
    "    return result"
   ]
  },
  {
   "cell_type": "code",
   "execution_count": 303,
   "id": "7792095b-5fc6-4bcf-8996-97670a0b12d8",
   "metadata": {},
   "outputs": [
    {
     "data": {
      "text/plain": [
       "array([[0],\n",
       "       [1],\n",
       "       [1],\n",
       "       [0]])"
      ]
     },
     "execution_count": 303,
     "metadata": {},
     "output_type": "execute_result"
    }
   ],
   "source": [
    "XOR(X)"
   ]
  },
  {
   "cell_type": "code",
   "execution_count": null,
   "id": "2a37c724-aec3-4e27-8a4a-ba6de93a401f",
   "metadata": {},
   "outputs": [],
   "source": []
  },
  {
   "cell_type": "code",
   "execution_count": null,
   "id": "1c141b4b-3289-4e4d-acd2-0ca749ab5985",
   "metadata": {},
   "outputs": [],
   "source": []
  },
  {
   "cell_type": "code",
   "execution_count": null,
   "id": "9fdbe211-4f2c-495f-9f2f-37b0770d2db8",
   "metadata": {},
   "outputs": [],
   "source": []
  },
  {
   "cell_type": "code",
   "execution_count": null,
   "id": "a97c1ec8-6330-4171-b024-1a6b25c8debb",
   "metadata": {},
   "outputs": [],
   "source": []
  },
  {
   "cell_type": "code",
   "execution_count": null,
   "id": "7a972765-898e-4b2d-888e-9e7e88cb9291",
   "metadata": {},
   "outputs": [],
   "source": []
  },
  {
   "cell_type": "code",
   "execution_count": null,
   "id": "328d0eeb-6d3f-432e-8b2a-1c3267c52a01",
   "metadata": {},
   "outputs": [],
   "source": []
  },
  {
   "cell_type": "code",
   "execution_count": null,
   "id": "ed8eda9a-e3db-486e-8d24-5beb54c030e7",
   "metadata": {},
   "outputs": [],
   "source": []
  },
  {
   "cell_type": "code",
   "execution_count": null,
   "id": "25e92237-d60d-4de8-81a5-7fcad9c2c451",
   "metadata": {},
   "outputs": [],
   "source": []
  },
  {
   "cell_type": "code",
   "execution_count": null,
   "id": "cab9ea06-5190-4efa-b322-40a87e6ca18d",
   "metadata": {},
   "outputs": [],
   "source": []
  }
 ],
 "metadata": {
  "kernelspec": {
   "display_name": "ml_kernel",
   "language": "python",
   "name": "ml"
  },
  "language_info": {
   "codemirror_mode": {
    "name": "ipython",
    "version": 3
   },
   "file_extension": ".py",
   "mimetype": "text/x-python",
   "name": "python",
   "nbconvert_exporter": "python",
   "pygments_lexer": "ipython3",
   "version": "3.9.12"
  }
 },
 "nbformat": 4,
 "nbformat_minor": 5
}
