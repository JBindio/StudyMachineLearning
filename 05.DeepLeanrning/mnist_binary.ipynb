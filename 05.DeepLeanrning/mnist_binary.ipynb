{
 "cells": [
  {
   "cell_type": "code",
   "execution_count": 1,
   "id": "0a038a08-fbf8-4c55-87c1-77c77bdeb876",
   "metadata": {},
   "outputs": [],
   "source": [
    "def categorical_crossentropy(t,y):\n",
    "    return np.mean(-t*np.log(y+0.0001))"
   ]
  },
  {
   "cell_type": "code",
   "execution_count": 2,
   "id": "5cbfa8f2-cc15-4f08-ad31-9f1d6078222c",
   "metadata": {},
   "outputs": [],
   "source": [
    "def sigmoid(x):\n",
    "    return 1/(1+np.exp(-x))"
   ]
  },
  {
   "cell_type": "code",
   "execution_count": 3,
   "id": "95bb5ea8-7975-40e4-a7d4-ed459a6ee0f8",
   "metadata": {},
   "outputs": [],
   "source": [
    "def softmax(x):\n",
    "    c = np.max(x,axis=1).reshape(-1,1)\n",
    "    x = x-c\n",
    "    return np.exp(x)/np.sum(np.exp(x),axis=1).reshape(-1,1)"
   ]
  },
  {
   "cell_type": "code",
   "execution_count": 4,
   "id": "2bd53960-5924-4503-898f-8941a7b5ec07",
   "metadata": {},
   "outputs": [],
   "source": [
    "import numpy as np\n",
    "class Relu:\n",
    "    def __init__(self):\n",
    "        self.mask = None\n",
    "    def forward(self,x):\n",
    "        self.mask = (x <=0)\n",
    "        out = x.copy()\n",
    "        out[self.mask] = 0\n",
    "        return out\n",
    "    def backward(self,dout):\n",
    "        dout[self.mask] = 0\n",
    "        dx = dout\n",
    "        return dx\n",
    "        \n",
    "class Sigmoid:\n",
    "    def __init__(self):\n",
    "        self.out = None\n",
    "    \n",
    "    def forward(self,x):\n",
    "        out = sigmoid(x)\n",
    "        self.out = out\n",
    "        return out\n",
    "    \n",
    "    def backward(self,dout):\n",
    "        dx = ((1-self.out)*self.out)*dout\n",
    "        return dx\n",
    "\n",
    "class Affine:\n",
    "    def __init__(self,W,b):\n",
    "        self.W = W\n",
    "        self.b = b\n",
    "        self.x = None\n",
    "        self.origin_shape = None\n",
    "        self.dW = None\n",
    "        self.db = None\n",
    "    \n",
    "    def forward(self,x):\n",
    "        self.origin_shape = x.shape\n",
    "        self.x = x\n",
    "        out = np.dot(x,self.W) + self.b\n",
    "        return out\n",
    "    \n",
    "    def backward(self,dout):\n",
    "        dx = np.dot(dout,self.W.T)\n",
    "        self.dW = np.dot(self.x.T,dout)\n",
    "        self.db = np.sum(dout,axis=0)\n",
    "        dx = dx.reshape(self.origin_shape)\n",
    "        return dx\n",
    "\n",
    "class Loss:\n",
    "    def __init__(self):\n",
    "        self.loss = None\n",
    "        self.y = None\n",
    "        self.t = None\n",
    "    \n",
    "    def forward(self,t,y):\n",
    "        self.y = softmax(y)\n",
    "        self.t = t\n",
    "        self.loss = categorical_crossentropy(self.t, self.y)\n",
    "        return self.loss\n",
    "    \n",
    "    def backward(self,dout=1):\n",
    "        dx = (self.y - self.t)*dout\n",
    "        return dx"
   ]
  },
  {
   "cell_type": "code",
   "execution_count": 5,
   "id": "8d67e903-9652-4681-af18-7f8298fef282",
   "metadata": {},
   "outputs": [],
   "source": [
    "class Layers:\n",
    "    def __init__(self):\n",
    "        self.layers = {}\n",
    "        \n",
    "    def add(self,x1,x2,activation):\n",
    "        activation_dict = {\n",
    "            'sigmoid':Sigmoid,\n",
    "            'relu':Relu,\n",
    "            'softmax':Loss\n",
    "        }\n",
    "        w = np.random.randn(x1,x2)\n",
    "        b = np.zeros(x2)\n",
    "        activation_layer = 'activation'+str((int(len(self.layers)/2+1))) \n",
    "        Affine_layer = 'Affine'+str((int(len(self.layers)/2+1)))\n",
    "        self.layers[Affine_layer] = Affine(w,b)\n",
    "        self.layers[activation_layer] = activation_dict[activation]()\n",
    "        \n",
    "    \n",
    "    def predict(self,x):\n",
    "        out = x.copy()\n",
    "        ind = 1 \n",
    "        layer_len = len(self.layers)\n",
    "        for key, layer in self.layers.items():\n",
    "            if ind < layer_len :\n",
    "                out = layer.forward(out)\n",
    "            ind += 1\n",
    "        return out\n",
    "            \n",
    "    \n",
    "    def loss(self,x,t):\n",
    "        y = self.predict(x)\n",
    "        out = list(self.layers.values())[-1].forward(t,y)\n",
    "        return out\n",
    "    \n",
    "    def accuracy(self,x,t):\n",
    "        y = self.predict(x)\n",
    "        y = np.argmax(y,axis=1)\n",
    "        t = np.argmax(t,axis=1)\n",
    "        self.acc = np.sum(y==t)/t.size\n",
    "        return self.acc\n",
    "    \n",
    "    def gradient(self,x,t):\n",
    "        self.loss(x,t)\n",
    "        lr = 1e-4\n",
    "        dout = 1\n",
    "        dout = list(self.layers.values())[-1].backward(dout)\n",
    "        layers = list(self.layers.values())[::-1][1:]\n",
    "        self.layers_key = list(self.layers.keys())[::-1][1:]\n",
    "        for layer in layers:\n",
    "            dout = layer.backward(dout)\n",
    "        self.grads = {}\n",
    "        for layer_key in self.layers_key:\n",
    "            if 'Affine' in layer_key:\n",
    "                self.grads[layer_key] = [self.layers[layer_key].dW, self.layers[layer_key].db]\n",
    "        for layer_key in self.layers_key:\n",
    "            if 'Affine' in layer_key:\n",
    "                self.layers[layer_key].W -= lr*self.grads[layer_key][0]\n",
    "                self.layers[layer_key].b -= lr*self.grads[layer_key][1]\n",
    "        result = self.loss(x,t)       \n",
    "        return result\n",
    "    \n",
    "    def fit(self,x,t,epochs,lr):\n",
    "        self.lr = lr\n",
    "        self.history = {}\n",
    "        accuracy = []\n",
    "        loss = []\n",
    "        for epoch in range(epochs):\n",
    "            self.gradient(x,t)\n",
    "            loss.append(self.err)\n",
    "            accuracy.append(self.accuracy(x,t))\n",
    "            if epoch % 100 == 0:\n",
    "                print(f'loss : {self.err} === accuracy : {self.accuracy(x,t)}')\n",
    "        self.history['accuracy'] = accuracy\n",
    "        self.history['loss'] = loss\n",
    "                "
   ]
  },
  {
   "cell_type": "code",
   "execution_count": 16,
   "id": "1de84f20-6215-493a-a487-d68438bb9ee2",
   "metadata": {},
   "outputs": [],
   "source": [
    "# 필요한 모듈 호출\n",
    "import pandas as pd\n",
    "import numpy as np\n",
    "import matplotlib.pyplot as plt\n",
    "import seaborn as sns\n",
    "from sklearn.model_selection import train_test_split\n",
    "\n",
    "# 텐서플로우 모듈\n",
    "import tensorflow as tf\n",
    "from tensorflow import keras\n",
    "from keras.models import Sequential\n",
    "from keras.layers import Dense\n",
    "from tensorflow.keras.utils import plot_model, to_categorical\n",
    "from tensorflow.keras.losses import binary_crossentropy, categorical_crossentropy\n",
    "from keras.datasets import mnist"
   ]
  },
  {
   "cell_type": "code",
   "execution_count": 156,
   "id": "ef2acc8b-1503-496a-8a81-4f414bd0eead",
   "metadata": {},
   "outputs": [],
   "source": [
    "# 데이터 수집\n",
    "(x_train_full, y_train_full),(x_test_full, y_test_full) = mnist.load_data()"
   ]
  },
  {
   "cell_type": "code",
   "execution_count": 157,
   "id": "89e99f64-c997-480e-b10e-bba68af2b8c8",
   "metadata": {},
   "outputs": [],
   "source": [
    "# y 데이터 바이너리 범주형 변환\n",
    "y_train_full[np.isin(y_train_full, (1,7,9))== False] = 0\n",
    "y_train_full[np.isin(y_train_full, (1,7,9))== True] = 1"
   ]
  },
  {
   "cell_type": "code",
   "execution_count": 158,
   "id": "6cc42216-af2c-49ac-b68a-f8a15267f164",
   "metadata": {},
   "outputs": [],
   "source": [
    "y_test_full[np.isin(y_test_full, (1,7,9))== False] = 0\n",
    "y_test_full[np.isin(y_test_full, (1,7,9))== True] = 1"
   ]
  },
  {
   "cell_type": "code",
   "execution_count": 159,
   "id": "e03200cf-7dcc-4de5-9aa6-86ae8cf16af2",
   "metadata": {},
   "outputs": [],
   "source": [
    "# 데이터 분배\n",
    "x_train, x_val, y_train, y_val = \\\n",
    "    train_test_split(x_train_full, y_train_full, test_size= .2, random_state=42)"
   ]
  },
  {
   "cell_type": "code",
   "execution_count": 160,
   "id": "c356a8ae-7a78-4a3f-b23b-efddc6685c15",
   "metadata": {},
   "outputs": [
    {
     "name": "stdout",
     "output_type": "stream",
     "text": [
      "(48000, 28, 28)\n",
      "(12000, 28, 28)\n",
      "(48000,)\n",
      "(12000,)\n"
     ]
    }
   ],
   "source": [
    "# 분배 및 차원 확인\n",
    "print(x_train.shape)\n",
    "print(x_val.shape)\n",
    "print(y_train.shape)\n",
    "print(y_val.shape)"
   ]
  },
  {
   "cell_type": "code",
   "execution_count": 161,
   "id": "46dbe1cb-ae12-42de-9068-d4b6736193c1",
   "metadata": {},
   "outputs": [
    {
     "data": {
      "text/plain": [
       "array([0, 0, 1, ..., 0, 0, 0], dtype=uint8)"
      ]
     },
     "execution_count": 161,
     "metadata": {},
     "output_type": "execute_result"
    }
   ],
   "source": [
    "y_train"
   ]
  },
  {
   "cell_type": "code",
   "execution_count": 165,
   "id": "8afc64f0-042d-427a-a2bc-c5d84a9e4db0",
   "metadata": {},
   "outputs": [
    {
     "data": {
      "image/png": "[encoded data removed]",
      "text/plain": [
       "<Figure size 432x288 with 1 Axes>"
      ]
     },
     "metadata": {
      "needs_background": "light"
     },
     "output_type": "display_data"
    },
    {
     "name": "stdout",
     "output_type": "stream",
     "text": [
      "target = 1\n"
     ]
    }
   ],
   "source": [
    "# 데이터 타입 확인\n",
    "plt.imshow(x_train[2])\n",
    "plt.show()\n",
    "print('target =', y_train[2])"
   ]
  },
  {
   "cell_type": "code",
   "execution_count": 166,
   "id": "511086a6-360e-4a57-a5b8-7f6743bbb978",
   "metadata": {},
   "outputs": [],
   "source": [
    "# x 데이터 reshape\n",
    "x_train_reshape = x_train.reshape(-1,784)\n",
    "x_val_reshape = x_val.reshape(-1, 784)\n",
    "x_test_reshape = x_test.reshape(-1, 784)"
   ]
  },
  {
   "cell_type": "code",
   "execution_count": 167,
   "id": "cbd9867c-c13c-4cb7-80f6-1c1dd565fd6e",
   "metadata": {},
   "outputs": [
    {
     "data": {
      "text/plain": [
       "array([0, 1], dtype=uint8)"
      ]
     },
     "execution_count": 167,
     "metadata": {},
     "output_type": "execute_result"
    }
   ],
   "source": [
    "# y 데이터 종류\n",
    "# 연속형\n",
    "# 바이너리 범주형(둘중하나) -> 0, 1 변경\n",
    "# 카테고리컬 범주형(2개이상) -> one_hot 변경\n",
    "\n",
    "# y 데이터 확인 -> 카테고리컬 범주형 -> one_hot\n",
    "np.unique(y_train)"
   ]
  },
  {
   "cell_type": "code",
   "execution_count": 172,
   "id": "52d02dff-834b-40d5-8653-858f081c03e7",
   "metadata": {},
   "outputs": [],
   "source": [
    "# 모델생성\n",
    "model2 = Sequential()\n",
    "l1 = Dense(1024, activation ='relu', input_shape=(784,))\n",
    "batch = keras.layers.BatchNormalization()\n",
    "l2 = Dense(512, activation ='relu')\n",
    "out = Dense(1, activation='sigmoid')\n",
    "model2.add(l1)\n",
    "model2.add(batch)\n",
    "model2.add(l2)\n",
    "model2.add(out)"
   ]
  },
  {
   "cell_type": "code",
   "execution_count": 173,
   "id": "10234e20-4b01-4f7d-b97f-83811b548564",
   "metadata": {},
   "outputs": [],
   "source": [
    "# 모델설정\n",
    "optimizer = 'sgd'\n",
    "loss = 'binary_crossentropy'\n",
    "metrics = ['accuracy']\n",
    "model2.compile(\n",
    "    optimizer= optimizer,\n",
    "    loss= loss,\n",
    "    metrics = metrics\n",
    ")"
   ]
  },
  {
   "cell_type": "code",
   "execution_count": 174,
   "id": "42268ba4-3411-460b-a093-3960744ac1a2",
   "metadata": {},
   "outputs": [
    {
     "name": "stdout",
     "output_type": "stream",
     "text": [
      "Epoch 1/10\n",
      "120/120 [==============================] - 3s 18ms/step - loss: 0.2106 - accuracy: 0.9238 - val_loss: 0.1388 - val_accuracy: 0.9528\n",
      "Epoch 2/10\n",
      "120/120 [==============================] - 2s 17ms/step - loss: 0.1143 - accuracy: 0.9641 - val_loss: 0.1015 - val_accuracy: 0.9667\n",
      "Epoch 3/10\n",
      "120/120 [==============================] - 2s 16ms/step - loss: 0.0943 - accuracy: 0.9693 - val_loss: 0.0887 - val_accuracy: 0.9713\n",
      "Epoch 4/10\n",
      "120/120 [==============================] - 2s 17ms/step - loss: 0.0824 - accuracy: 0.9735 - val_loss: 0.0805 - val_accuracy: 0.9741\n",
      "Epoch 5/10\n",
      "120/120 [==============================] - 2s 17ms/step - loss: 0.0743 - accuracy: 0.9764 - val_loss: 0.0745 - val_accuracy: 0.9758\n",
      "Epoch 6/10\n",
      "120/120 [==============================] - 2s 17ms/step - loss: 0.0686 - accuracy: 0.9776 - val_loss: 0.0699 - val_accuracy: 0.9777\n",
      "Epoch 7/10\n",
      "120/120 [==============================] - 2s 17ms/step - loss: 0.0631 - accuracy: 0.9795 - val_loss: 0.0665 - val_accuracy: 0.9782\n",
      "Epoch 8/10\n",
      "120/120 [==============================] - 2s 17ms/step - loss: 0.0588 - accuracy: 0.9809 - val_loss: 0.0633 - val_accuracy: 0.9797\n",
      "Epoch 9/10\n",
      "120/120 [==============================] - 2s 17ms/step - loss: 0.0554 - accuracy: 0.9821 - val_loss: 0.0609 - val_accuracy: 0.9800\n",
      "Epoch 10/10\n",
      "120/120 [==============================] - 2s 18ms/step - loss: 0.0518 - accuracy: 0.9829 - val_loss: 0.0588 - val_accuracy: 0.9807\n"
     ]
    },
    {
     "data": {
      "text/plain": [
       "<keras.callbacks.History at 0x23fb8f8a220>"
      ]
     },
     "execution_count": 174,
     "metadata": {},
     "output_type": "execute_result"
    }
   ],
   "source": [
    "# 모델 학습\n",
    "model2.fit(\n",
    "    x_train_reshape,\n",
    "    y_train,\n",
    "    epochs = 10,\n",
    "    batch_size = 400,\n",
    "    validation_data =(x_val_reshape, y_val),\n",
    "    verbose = 1\n",
    ")"
   ]
  },
  {
   "cell_type": "code",
   "execution_count": 221,
   "id": "3ce25f01-0906-4854-a841-54faeb0edc3d",
   "metadata": {},
   "outputs": [],
   "source": [
    "## 활용\n",
    "def mnist_test(size):\n",
    "    index = np.random.choice(np.arange(len(x_test_reshape)),size,replace=False)\n",
    "    size = size\n",
    "    score = 0\n",
    "\n",
    "    for i in index:\n",
    "        plt.imshow(x_test_reshape[i].reshape(28,28))\n",
    "        predict = np.where(model2.predict(x_test_reshape[[i]]) > 0.5,1,0)\n",
    "        real = y_test_full[i]\n",
    "        if predict == real:\n",
    "            result = '정답'\n",
    "            score += 1\n",
    "        else :\n",
    "            result = '오답'\n",
    "        plt.show()\n",
    "        print('실제값=',real)\n",
    "        print('예측값=',predict)\n",
    "        print(result)\n",
    "    score_per = (score/size)*100\n",
    "    print('=======================================')\n",
    "    print('총 정답 갯수=',score)\n",
    "    print(f'예측률= {score_per}%')\n",
    "    print('=======================================')"
   ]
  },
  {
   "cell_type": "code",
   "execution_count": 222,
   "id": "46d2d717-6780-4710-9c1e-78233c4966cf",
   "metadata": {},
   "outputs": [
    {
     "data": {
      "image/png": "[encoded data removed]",
      "text/plain": [
       "<Figure size 432x288 with 1 Axes>"
      ]
     },
     "metadata": {
      "needs_background": "light"
     },
     "output_type": "display_data"
    },
    {
     "name": "stdout",
     "output_type": "stream",
     "text": [
      "실제값= 0\n",
      "예측값= [[0]]\n",
      "정답\n"
     ]
    },
    {
     "data": {
      "image/png": "[encoded data removed]",
      "text/plain": [
       "<Figure size 432x288 with 1 Axes>"
      ]
     },
     "metadata": {
      "needs_background": "light"
     },
     "output_type": "display_data"
    },
    {
     "name": "stdout",
     "output_type": "stream",
     "text": [
      "실제값= 0\n",
      "예측값= [[0]]\n",
      "정답\n"
     ]
    },
    {
     "data": {
      "image/png": "[encoded data removed]",
      "text/plain": [
       "<Figure size 432x288 with 1 Axes>"
      ]
     },
     "metadata": {
      "needs_background": "light"
     },
     "output_type": "display_data"
    },
    {
     "name": "stdout",
     "output_type": "stream",
     "text": [
      "실제값= 1\n",
      "예측값= [[1]]\n",
      "정답\n"
     ]
    },
    {
     "data": {
      "image/png": "[encoded data removed]",
      "text/plain": [
       "<Figure size 432x288 with 1 Axes>"
      ]
     },
     "metadata": {
      "needs_background": "light"
     },
     "output_type": "display_data"
    },
    {
     "name": "stdout",
     "output_type": "stream",
     "text": [
      "실제값= 0\n",
      "예측값= [[0]]\n",
      "정답\n"
     ]
    },
    {
     "data": {
      "image/png": "[encoded data removed]",
      "text/plain": [
       "<Figure size 432x288 with 1 Axes>"
      ]
     },
     "metadata": {
      "needs_background": "light"
     },
     "output_type": "display_data"
    },
    {
     "name": "stdout",
     "output_type": "stream",
     "text": [
      "실제값= 1\n",
      "예측값= [[1]]\n",
      "정답\n",
      "=======================================\n",
      "총 정답 갯수= 5\n",
      "예측률= 100.0%\n",
      "=======================================\n"
     ]
    }
   ],
   "source": [
    "mnist_test(5)"
   ]
  },
  {
   "cell_type": "code",
   "execution_count": null,
   "id": "af4787c9-296d-46f8-b205-143556ec77de",
   "metadata": {},
   "outputs": [],
   "source": []
  },
  {
   "cell_type": "code",
   "execution_count": null,
   "id": "65be3192-3da6-483e-9b31-64fd14c2390c",
   "metadata": {},
   "outputs": [],
   "source": []
  },
  {
   "cell_type": "code",
   "execution_count": null,
   "id": "6d3b7f62-fd1b-4a18-97e0-409190095b5e",
   "metadata": {},
   "outputs": [],
   "source": [
    "model2 = Sequential()\n",
    "model2.compile()"
   ]
  },
  {
   "cell_type": "code",
   "execution_count": null,
   "id": "2bdecc02-0bc9-4a4f-9890-00c5f771f82b",
   "metadata": {},
   "outputs": [],
   "source": [
    "model1.compile(\n",
    "    optimizer= optimizer,\n",
    "    loss= loss,\n",
    "    metrics = metrics\n",
    ")"
   ]
  }
 ],
 "metadata": {
  "kernelspec": {
   "display_name": "keras",
   "language": "python",
   "name": "keras"
  },
  "language_info": {
   "codemirror_mode": {
    "name": "ipython",
    "version": 3
   },
   "file_extension": ".py",
   "mimetype": "text/x-python",
   "name": "python",
   "nbconvert_exporter": "python",
   "pygments_lexer": "ipython3",
   "version": "3.8.13"
  }
 },
 "nbformat": 4,
 "nbformat_minor": 5
}
