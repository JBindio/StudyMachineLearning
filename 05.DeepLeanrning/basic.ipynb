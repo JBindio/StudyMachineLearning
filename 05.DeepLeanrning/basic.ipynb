{
 "cells": [
  {
   "cell_type": "code",
   "execution_count": 2,
   "id": "7552dd4f-4231-4a7e-a082-bff90a4c4f16",
   "metadata": {},
   "outputs": [],
   "source": [
    "import pandas as pd\n",
    "import numpy as np\n",
    "import matplotlib.pyplot as plt\n",
    "import matplotlib\n",
    "import seaborn as sns\n",
    "from matplotlib import font_manager, rc\n",
    "import platform\n",
    "\n",
    "# seaborn 설정 리셋\n",
    "sns.reset_defaults()\n",
    "\n",
    "# 폰트설정\n",
    "if platform.system() == 'Windows' :\n",
    "    path = 'c:/Windows/Fonts/malgun.ttf'\n",
    "    font_name = font_manager.FontProperties(fname=path).get_name()\n",
    "    rc('font', family=font_name)\n",
    "elif platform.system() == 'Darwin':\n",
    "    rc('font', family='AppleGothic')\n",
    "else :\n",
    "    print('Check your OS System')\n",
    "    \n",
    "# 그래프에 마이너스 표시\n",
    "matplotlib.rcParams['axes.unicode_minus'] = False"
   ]
  },
  {
   "cell_type": "code",
   "execution_count": 14,
   "id": "3969c5cd-db8c-41f1-9dd4-c59f2f3d9230",
   "metadata": {},
   "outputs": [],
   "source": [
    "l1 = [1,2,3]"
   ]
  },
  {
   "cell_type": "code",
   "execution_count": 15,
   "id": "e09780f4-6f20-4c2f-897d-d4315b7b6d5d",
   "metadata": {},
   "outputs": [],
   "source": [
    "l2 = l1.copy()"
   ]
  },
  {
   "cell_type": "code",
   "execution_count": 16,
   "id": "c3adb613-9a0d-43c3-a812-94a77b26e1b3",
   "metadata": {},
   "outputs": [
    {
     "data": {
      "text/plain": [
       "[1, 2, 3]"
      ]
     },
     "execution_count": 16,
     "metadata": {},
     "output_type": "execute_result"
    }
   ],
   "source": [
    "l2"
   ]
  },
  {
   "cell_type": "code",
   "execution_count": 17,
   "id": "418513a0-f336-473c-a7bc-ac7dd58dc305",
   "metadata": {},
   "outputs": [],
   "source": [
    "l1[0] = 3"
   ]
  },
  {
   "cell_type": "code",
   "execution_count": 19,
   "id": "35abd72f-8dc9-4b02-acc5-093b988ee74c",
   "metadata": {},
   "outputs": [
    {
     "data": {
      "text/plain": [
       "[3, 2, 3]"
      ]
     },
     "execution_count": 19,
     "metadata": {},
     "output_type": "execute_result"
    }
   ],
   "source": [
    "l1"
   ]
  },
  {
   "cell_type": "code",
   "execution_count": 20,
   "id": "652d0aba-a1f0-411e-afe2-916877353575",
   "metadata": {},
   "outputs": [
    {
     "data": {
      "text/plain": [
       "[1, 2, 3]"
      ]
     },
     "execution_count": 20,
     "metadata": {},
     "output_type": "execute_result"
    }
   ],
   "source": [
    "l2"
   ]
  },
  {
   "cell_type": "code",
   "execution_count": 21,
   "id": "42fc8213-3174-4f7f-b11c-5c207eddc43e",
   "metadata": {},
   "outputs": [
    {
     "data": {
      "text/plain": [
       "numpy.float32"
      ]
     },
     "execution_count": 21,
     "metadata": {},
     "output_type": "execute_result"
    }
   ],
   "source": [
    "np.float32"
   ]
  },
  {
   "cell_type": "code",
   "execution_count": 22,
   "id": "cc5aa29e-786f-45ca-90b6-123e244bdbba",
   "metadata": {},
   "outputs": [],
   "source": [
    "x = np.arange(1,10)"
   ]
  },
  {
   "cell_type": "code",
   "execution_count": 26,
   "id": "b45c32f0-2082-4b0c-85b3-6c12ba0ce077",
   "metadata": {},
   "outputs": [],
   "source": [
    "x= x.astype('int16')"
   ]
  },
  {
   "cell_type": "code",
   "execution_count": 28,
   "id": "19b6c4e0-2e9d-4457-9ba4-476e60305537",
   "metadata": {},
   "outputs": [
    {
     "data": {
      "text/plain": [
       "dtype('int16')"
      ]
     },
     "execution_count": 28,
     "metadata": {},
     "output_type": "execute_result"
    }
   ],
   "source": [
    "x.dtype"
   ]
  },
  {
   "cell_type": "code",
   "execution_count": 29,
   "id": "d6115ad6-7653-4fd3-8dfe-30dd0ad5727c",
   "metadata": {},
   "outputs": [],
   "source": [
    "x = x.astype(np.int32)"
   ]
  },
  {
   "cell_type": "code",
   "execution_count": 31,
   "id": "bd243c0a-c606-476d-9797-b1a72628f57e",
   "metadata": {},
   "outputs": [
    {
     "data": {
      "text/plain": [
       "dtype('int32')"
      ]
     },
     "execution_count": 31,
     "metadata": {},
     "output_type": "execute_result"
    }
   ],
   "source": [
    "x.dtype"
   ]
  },
  {
   "cell_type": "code",
   "execution_count": 34,
   "id": "8e4fe088-f59c-4113-9e05-778fd628afa6",
   "metadata": {},
   "outputs": [],
   "source": [
    "x = np.random.randn(5)\n",
    "y = np.random.randn(5)"
   ]
  },
  {
   "cell_type": "code",
   "execution_count": 38,
   "id": "8784e87b-85bc-46da-8247-fe4ca4b53fbd",
   "metadata": {},
   "outputs": [
    {
     "data": {
      "text/plain": [
       "(5,)"
      ]
     },
     "execution_count": 38,
     "metadata": {},
     "output_type": "execute_result"
    }
   ],
   "source": [
    "x.shape"
   ]
  },
  {
   "cell_type": "code",
   "execution_count": 39,
   "id": "b135060d-2877-4793-b215-e1031bfe0975",
   "metadata": {},
   "outputs": [
    {
     "data": {
      "text/plain": [
       "(5,)"
      ]
     },
     "execution_count": 39,
     "metadata": {},
     "output_type": "execute_result"
    }
   ],
   "source": [
    "y.shape"
   ]
  },
  {
   "cell_type": "code",
   "execution_count": 40,
   "id": "aba10e81-87f3-4928-84c1-cd27778c2d4c",
   "metadata": {},
   "outputs": [],
   "source": [
    "y1 = np.random.randn(4)"
   ]
  },
  {
   "cell_type": "code",
   "execution_count": 41,
   "id": "e79416cb-b14a-4c86-a476-698abefe0777",
   "metadata": {},
   "outputs": [
    {
     "ename": "ValueError",
     "evalue": "operands could not be broadcast together with shapes (5,) (4,) ",
     "output_type": "error",
     "traceback": [
      "\u001b[1;31m---------------------------------------------------------------------------\u001b[0m",
      "\u001b[1;31mValueError\u001b[0m                                Traceback (most recent call last)",
      "Input \u001b[1;32mIn [41]\u001b[0m, in \u001b[0;36m<cell line: 1>\u001b[1;34m()\u001b[0m\n\u001b[1;32m----> 1\u001b[0m \u001b[43mx\u001b[49m\u001b[38;5;241;43m+\u001b[39;49m\u001b[43m \u001b[49m\u001b[43my1\u001b[49m\n",
      "\u001b[1;31mValueError\u001b[0m: operands could not be broadcast together with shapes (5,) (4,) "
     ]
    }
   ],
   "source": [
    "x+ y1"
   ]
  },
  {
   "cell_type": "code",
   "execution_count": 42,
   "id": "f2b99a02-0536-46cf-a22b-a2edb5b72a92",
   "metadata": {},
   "outputs": [],
   "source": [
    "x = np.random.randn(3,4)\n",
    "y = np.random.randn(3,4)"
   ]
  },
  {
   "cell_type": "code",
   "execution_count": 44,
   "id": "ef1e214e-a0d2-4155-a5b2-62f8691c101d",
   "metadata": {},
   "outputs": [
    {
     "data": {
      "text/plain": [
       "(3, 4)"
      ]
     },
     "execution_count": 44,
     "metadata": {},
     "output_type": "execute_result"
    }
   ],
   "source": [
    "(x+y).shape"
   ]
  },
  {
   "cell_type": "code",
   "execution_count": 45,
   "id": "a83a1d88-d8f7-4b7b-93ab-09b516cb5dad",
   "metadata": {},
   "outputs": [],
   "source": [
    "y1 = np.random.randn(3,5)"
   ]
  },
  {
   "cell_type": "code",
   "execution_count": 46,
   "id": "9fe1989b-e4de-487e-9666-a23dd3844f69",
   "metadata": {},
   "outputs": [
    {
     "ename": "ValueError",
     "evalue": "operands could not be broadcast together with shapes (3,4) (3,5) ",
     "output_type": "error",
     "traceback": [
      "\u001b[1;31m---------------------------------------------------------------------------\u001b[0m",
      "\u001b[1;31mValueError\u001b[0m                                Traceback (most recent call last)",
      "Input \u001b[1;32mIn [46]\u001b[0m, in \u001b[0;36m<cell line: 1>\u001b[1;34m()\u001b[0m\n\u001b[1;32m----> 1\u001b[0m \u001b[43mx\u001b[49m\u001b[43m \u001b[49m\u001b[38;5;241;43m+\u001b[39;49m\u001b[43m \u001b[49m\u001b[43my1\u001b[49m\n",
      "\u001b[1;31mValueError\u001b[0m: operands could not be broadcast together with shapes (3,4) (3,5) "
     ]
    }
   ],
   "source": [
    "x + y1"
   ]
  },
  {
   "cell_type": "code",
   "execution_count": 48,
   "id": "30d380ef-f7b6-46f5-8ac0-e30062e12f87",
   "metadata": {},
   "outputs": [
    {
     "data": {
      "text/plain": [
       "range(0, 10)"
      ]
     },
     "execution_count": 48,
     "metadata": {},
     "output_type": "execute_result"
    }
   ],
   "source": [
    "x = range(0,10)\n",
    "x"
   ]
  },
  {
   "cell_type": "code",
   "execution_count": 49,
   "id": "4b6f6006-05af-4311-9fb7-d75f5b7fac01",
   "metadata": {},
   "outputs": [
    {
     "data": {
      "text/plain": [
       "array([0, 1, 2, 3, 4, 5, 6, 7, 8, 9])"
      ]
     },
     "execution_count": 49,
     "metadata": {},
     "output_type": "execute_result"
    }
   ],
   "source": [
    "x1 = np.arange(10)\n",
    "x1"
   ]
  },
  {
   "cell_type": "code",
   "execution_count": 25,
   "id": "9a6fbc77-38bf-40a0-a3a5-3cb6f92d93ec",
   "metadata": {},
   "outputs": [],
   "source": [
    "x = np.random.randint(1,10,100)"
   ]
  },
  {
   "cell_type": "code",
   "execution_count": 26,
   "id": "81136f36-8f1d-4d52-9cfd-1649786447c6",
   "metadata": {},
   "outputs": [],
   "source": [
    "x = x.reshape(-1,5)"
   ]
  },
  {
   "cell_type": "code",
   "execution_count": 16,
   "id": "6ea781a3-d15a-4a68-8dd4-1d6a53f43d5e",
   "metadata": {},
   "outputs": [],
   "source": [
    "x = np.zeros_like(x)"
   ]
  },
  {
   "cell_type": "code",
   "execution_count": 5,
   "id": "c27c3b1a-fed2-46b0-a699-d7af8537dd38",
   "metadata": {},
   "outputs": [
    {
     "data": {
      "text/plain": [
       "array([0, 0, 0, 0, 0, 0, 0, 0, 0, 0, 0, 0, 0, 0, 0, 0, 0, 0, 0, 0, 0, 0,\n",
       "       0, 0, 0, 0, 0, 0, 0, 0, 0, 0, 0, 0, 0, 0, 0, 0, 0, 0, 0, 0, 0, 0,\n",
       "       0, 0, 0, 0, 0, 0, 0, 0, 0, 0, 0, 0, 0, 0, 0, 0, 0, 0, 0, 0, 0, 0,\n",
       "       0, 0, 0, 0, 0, 0, 0, 0, 0, 0, 0, 0, 0, 0, 0, 0, 0, 0, 0, 0, 0, 0,\n",
       "       0, 0, 0, 0, 0, 0, 0, 0, 0, 0, 0, 0])"
      ]
     },
     "execution_count": 5,
     "metadata": {},
     "output_type": "execute_result"
    }
   ],
   "source": [
    "np.zeros_like(x)"
   ]
  },
  {
   "cell_type": "code",
   "execution_count": 19,
   "id": "45c2197b-0b21-42de-aff1-5ba8c26c0f19",
   "metadata": {},
   "outputs": [],
   "source": [
    "x = np.full((2,2),0.1)"
   ]
  },
  {
   "cell_type": "code",
   "execution_count": 21,
   "id": "af0411ff-867b-49e3-8798-614da0d9389f",
   "metadata": {},
   "outputs": [
    {
     "data": {
      "text/plain": [
       "array([[0.1, 0.1],\n",
       "       [0.1, 0.1]])"
      ]
     },
     "execution_count": 21,
     "metadata": {},
     "output_type": "execute_result"
    }
   ],
   "source": [
    "np.zeros((2,2)) + 0.1"
   ]
  },
  {
   "cell_type": "code",
   "execution_count": 27,
   "id": "db902462-ac5d-4b3b-bd91-06413d3a8e5a",
   "metadata": {},
   "outputs": [],
   "source": [
    "np.random.seed(10)\n",
    "x = np.random.randn(2,3)\n",
    "y = np.random.normal(3.,2.,(2,3))"
   ]
  },
  {
   "cell_type": "code",
   "execution_count": 30,
   "id": "5d55cdb7-bc20-42f5-8a6f-c8887cde00fd",
   "metadata": {},
   "outputs": [
    {
     "data": {
      "text/plain": [
       "0.3943317496597166"
      ]
     },
     "execution_count": 30,
     "metadata": {},
     "output_type": "execute_result"
    }
   ],
   "source": [
    "np.sum(x)"
   ]
  },
  {
   "cell_type": "code",
   "execution_count": 31,
   "id": "ed037d18-12ff-49e2-8774-63b2f5db327a",
   "metadata": {},
   "outputs": [
    {
     "data": {
      "text/plain": [
       "21.67962979102798"
      ]
     },
     "execution_count": 31,
     "metadata": {},
     "output_type": "execute_result"
    }
   ],
   "source": [
    "np.sum(y)"
   ]
  },
  {
   "cell_type": "code",
   "execution_count": 32,
   "id": "1b125730-c7d7-4f2a-9350-cba4709dd6fe",
   "metadata": {},
   "outputs": [],
   "source": [
    "x = 3*x + 2"
   ]
  },
  {
   "cell_type": "code",
   "execution_count": 34,
   "id": "02a1b361-3adf-484e-82a1-30138ffe1059",
   "metadata": {},
   "outputs": [
    {
     "data": {
      "text/plain": [
       "13.182995248979148"
      ]
     },
     "execution_count": 34,
     "metadata": {},
     "output_type": "execute_result"
    }
   ],
   "source": [
    "np.sum(x)"
   ]
  },
  {
   "cell_type": "code",
   "execution_count": 37,
   "id": "5e535bd4-9b34-4c99-9080-3b30109368d2",
   "metadata": {},
   "outputs": [],
   "source": [
    "x = np.array([2,2,1,3])\n",
    "y = np.array([5,5,3,7])"
   ]
  },
  {
   "cell_type": "code",
   "execution_count": 38,
   "id": "3b0d1d6d-0e7b-45aa-b586-7ee49813b054",
   "metadata": {},
   "outputs": [],
   "source": [
    "a_ = np.linspace(-5, 5, 20)"
   ]
  },
  {
   "cell_type": "code",
   "execution_count": 44,
   "id": "453cf7a3-8074-42c4-9dd4-1d8423c661ba",
   "metadata": {},
   "outputs": [],
   "source": [
    "errs = []\n",
    "\n",
    "for a in a_:\n",
    "    y_hat = a * x\n",
    "    err = (y_hat - y).mean()\n",
    "    errs.append((a, err))"
   ]
  },
  {
   "cell_type": "code",
   "execution_count": 45,
   "id": "53b519ed-229c-43f0-972a-451a288d511f",
   "metadata": {},
   "outputs": [
    {
     "data": {
      "text/plain": [
       "[(-5.0, -15.0),\n",
       " (-4.473684210526316, -13.947368421052634),\n",
       " (-3.947368421052632, -12.894736842105264),\n",
       " (-3.4210526315789473, -11.842105263157894),\n",
       " (-2.8947368421052633, -10.789473684210527),\n",
       " (-2.368421052631579, -9.736842105263158),\n",
       " (-1.8421052631578947, -8.68421052631579),\n",
       " (-1.3157894736842106, -7.631578947368421),\n",
       " (-0.7894736842105265, -6.578947368421053),\n",
       " (-0.2631578947368425, -5.526315789473685),\n",
       " (0.2631578947368416, -4.473684210526317),\n",
       " (0.7894736842105257, -3.4210526315789487),\n",
       " (1.3157894736842106, -2.3684210526315788),\n",
       " (1.8421052631578947, -1.3157894736842106),\n",
       " (2.3684210526315788, -0.2631578947368425),\n",
       " (2.894736842105263, 0.7894736842105254),\n",
       " (3.421052631578947, 1.8421052631578938),\n",
       " (3.947368421052632, 2.8947368421052637),\n",
       " (4.473684210526315, 3.94736842105263),\n",
       " (5.0, 5.0)]"
      ]
     },
     "execution_count": 45,
     "metadata": {},
     "output_type": "execute_result"
    }
   ],
   "source": [
    "errs"
   ]
  },
  {
   "cell_type": "code",
   "execution_count": 51,
   "id": "7d0578c3-d147-4ed2-bee5-9930949d04bd",
   "metadata": {},
   "outputs": [],
   "source": [
    "x = np.random.randint(1,10,1000)"
   ]
  },
  {
   "cell_type": "code",
   "execution_count": 59,
   "id": "baadfaf0-74c2-4bef-b2d6-4cd907b16b5c",
   "metadata": {},
   "outputs": [],
   "source": [
    "y = x*6 + np.random.normal(0,4,1000)"
   ]
  },
  {
   "cell_type": "code",
   "execution_count": 67,
   "id": "2070f829-edfa-41f0-98ac-2f2b69395280",
   "metadata": {},
   "outputs": [
    {
     "data": {
      "image/png": "[encoded data removed]",
      "text/plain": [
       "<Figure size 640x480 with 1 Axes>"
      ]
     },
     "metadata": {},
     "output_type": "display_data"
    }
   ],
   "source": [
    "plt.scatter(x, y)\n",
    "plt.show()"
   ]
  },
  {
   "cell_type": "code",
   "execution_count": 91,
   "id": "78e9507d-b292-4891-80b8-80bfe27f60a2",
   "metadata": {},
   "outputs": [],
   "source": [
    "x1 = np.random.randint(1,10,100)\n",
    "x2 = np.random.randint(1,10,100)\n",
    "\n",
    "a1 = 5\n",
    "a2 = 7\n",
    "\n",
    "b = 100\n",
    "y = x1*a1 + x2*a2 + b"
   ]
  },
  {
   "cell_type": "code",
   "execution_count": 101,
   "id": "bdcec8bc-6f69-40a7-91cc-b30e242cf428",
   "metadata": {},
   "outputs": [],
   "source": [
    "# a1_hat = 70\n",
    "# a2_hat = 70\n",
    "# b_hat = 0\n",
    "# lr = 1e-3\n",
    "for i in np.arange(10000) :\n",
    "    y_hat = a1_hat*x1 + a2_hat*x2 + b_hat\n",
    "    a1_hat -= lr*((y_hat - y) * x1).mean()\n",
    "    a2_hat -= lr*((y_hat - y) * x2).mean()\n",
    "    b_hat -= lr*(y_hat - y).mean()\n",
    "    err = ((y_hat-y)**2).mean()"
   ]
  },
  {
   "cell_type": "code",
   "execution_count": 106,
   "id": "7b580010-5f27-4d75-b251-b52748f6ae55",
   "metadata": {},
   "outputs": [
    {
     "data": {
      "text/plain": [
       "7.765701744211263"
      ]
     },
     "execution_count": 106,
     "metadata": {},
     "output_type": "execute_result"
    }
   ],
   "source": [
    "a_hat"
   ]
  },
  {
   "cell_type": "code",
   "execution_count": 103,
   "id": "3c69be27-86e1-4975-b10f-8bcddb30408d",
   "metadata": {},
   "outputs": [
    {
     "data": {
      "text/plain": [
       "5.749895719871842"
      ]
     },
     "execution_count": 103,
     "metadata": {},
     "output_type": "execute_result"
    }
   ],
   "source": [
    "a1_hat"
   ]
  },
  {
   "cell_type": "code",
   "execution_count": 104,
   "id": "f38c1de8-c658-4f21-8715-aedff3669856",
   "metadata": {},
   "outputs": [
    {
     "data": {
      "text/plain": [
       "90.7672277176585"
      ]
     },
     "execution_count": 104,
     "metadata": {},
     "output_type": "execute_result"
    }
   ],
   "source": [
    "b_hat"
   ]
  },
  {
   "cell_type": "code",
   "execution_count": 110,
   "id": "9ea1a3a2-10ab-4684-a117-31e998475522",
   "metadata": {},
   "outputs": [
    {
     "data": {
      "text/plain": [
       "10.685336709526899"
      ]
     },
     "execution_count": 110,
     "metadata": {},
     "output_type": "execute_result"
    }
   ],
   "source": [
    "err"
   ]
  },
  {
   "cell_type": "code",
   "execution_count": 112,
   "id": "08a80410-4af1-4b70-b466-159da0950417",
   "metadata": {},
   "outputs": [],
   "source": [
    "a1 = 5\n",
    "a2 = 7\n",
    "b = 100"
   ]
  },
  {
   "cell_type": "code",
   "execution_count": 116,
   "id": "e89ee4c6-683d-47ed-82a5-f0eb9180dc04",
   "metadata": {},
   "outputs": [
    {
     "name": "stdout",
     "output_type": "stream",
     "text": [
      "[[5 7]]\n",
      "[[5]\n",
      " [7]]\n"
     ]
    }
   ],
   "source": [
    "w = np.c_[a1,a2]\n",
    "print(w)\n",
    "w = w.T\n",
    "print(w)"
   ]
  },
  {
   "cell_type": "code",
   "execution_count": 108,
   "id": "29e8d7b8-0283-4b23-9790-365af3994f2c",
   "metadata": {},
   "outputs": [],
   "source": [
    "x1 = np.random.randint(1,10,100)\n",
    "x2 = np.random.randint(1,10,100)\n",
    "x = np.c_[x1,x2]"
   ]
  },
  {
   "cell_type": "code",
   "execution_count": 119,
   "id": "f17f2890-cbed-469c-bd77-3b8583b2766a",
   "metadata": {},
   "outputs": [],
   "source": [
    "y = np.dot(x,w) + b"
   ]
  },
  {
   "cell_type": "code",
   "execution_count": 127,
   "id": "19a38d9c-e8f9-47e5-a5d4-622407e7c807",
   "metadata": {},
   "outputs": [],
   "source": [
    "w_hat = np.random.randn(2,1)\n",
    "b_hat = np.random.randn(1)\n",
    "epochs = 10000\n",
    "learning_rate = 1e-5\n",
    "for epoch in range(epochs):\n",
    "    y_hat = np.dot(x,w_hat) + b_hat\n",
    "    w_hat -= learning_rate * np.mean(np.dot(x.T,(y_hat - y)),axis=1).reshape(2,1)\n",
    "    b_hat -= learning_rate * (y_hat - y).mean()\n",
    "    err = ((y_hat-y)**2).mean()"
   ]
  },
  {
   "cell_type": "code",
   "execution_count": 128,
   "id": "e1f271d8-1905-42df-a03c-4948f4c702ad",
   "metadata": {},
   "outputs": [
    {
     "data": {
      "text/plain": [
       "array([[13.3912755 ],\n",
       "       [15.75258692]])"
      ]
     },
     "execution_count": 128,
     "metadata": {},
     "output_type": "execute_result"
    }
   ],
   "source": [
    "w_hat"
   ]
  },
  {
   "cell_type": "code",
   "execution_count": 124,
   "id": "9f31a14e-4eaa-44a0-8d2b-e51fd8e8771c",
   "metadata": {},
   "outputs": [
    {
     "data": {
      "text/plain": [
       "array([-5.98560237e-01,  5.27103045e-02,  4.79443088e-01, -9.59949168e-01,\n",
       "        1.08441566e+00,  9.09631837e-01, -5.64149166e-02, -6.35926963e-01,\n",
       "       -1.64223096e-01, -1.43335008e+00,  1.18596101e+00,  7.85216844e-02,\n",
       "        3.38814479e-01, -6.20444894e-01, -8.76876286e-01,  3.43028491e-01,\n",
       "        5.54893736e-01,  6.89898167e-01,  9.24754153e-01,  1.02590207e+00,\n",
       "       -1.73753741e-01, -1.21339562e+00, -5.17302648e-01, -1.36707729e+00,\n",
       "       -8.74069425e-01, -1.13590764e-02, -2.87050458e-01,  8.21263499e-01,\n",
       "       -1.79820673e+00, -1.52896844e-02,  4.75991160e-01, -6.59314819e-01,\n",
       "        1.50404238e+00,  5.20049424e-01,  1.24095041e+00,  3.63212620e-01,\n",
       "        6.24027118e-02, -5.09540284e-01,  4.80009418e-01,  7.91586626e-01,\n",
       "       -1.91938115e-01,  6.12091942e-01, -9.84979073e-01, -3.86789664e-01,\n",
       "       -1.55817407e+00,  3.07308133e-01, -6.64315121e-02,  3.21629718e-01,\n",
       "       -2.97325199e-02,  2.21950087e-01,  7.41478686e-01, -1.04320986e+00,\n",
       "       -4.21906983e-01, -1.14137099e+00,  8.48506348e-01,  1.98367345e-01,\n",
       "        5.20160860e-01,  1.14028783e+00, -8.17274732e-01, -4.12405410e-01,\n",
       "       -1.01485363e+00,  3.91446255e-01, -1.92859770e+00,  6.61857241e-01,\n",
       "        1.03807856e+00, -9.69087320e-01, -3.92031966e-01,  9.72376285e-02,\n",
       "       -7.07770309e-01, -4.94205297e-01,  8.45486423e-01, -1.68820650e-02,\n",
       "        1.36674670e+00,  2.02095652e+00,  6.22261447e-01, -4.44567776e-01,\n",
       "        4.31979278e-01, -2.29975735e-01,  2.94602034e-01,  2.16225116e+00,\n",
       "        1.76461232e+00,  1.41131856e-01, -8.69583861e-01, -1.20522977e+00,\n",
       "       -1.20624264e+00, -1.13826573e-01,  3.39377600e-01,  2.37119130e-01,\n",
       "        2.05276064e-01,  1.10740980e+00,  2.99008753e-01,  5.91868415e-01,\n",
       "       -8.37012382e-01, -3.23352244e-01,  3.08212997e-01,  6.36723927e-01,\n",
       "       -1.17080487e+00,  1.45071980e-03, -1.30529073e+00, -1.59143505e+00])"
      ]
     },
     "execution_count": 124,
     "metadata": {},
     "output_type": "execute_result"
    }
   ],
   "source": [
    "np.mean(np.dot(np.random.randn(100,1), np.random.randn(1,2)),axis=1)"
   ]
  },
  {
   "cell_type": "code",
   "execution_count": 138,
   "id": "3cae3495-474a-4909-97cb-459b3e262c7e",
   "metadata": {},
   "outputs": [],
   "source": [
    "def AND(x1, x2):\n",
    "    w1 = 0.5\n",
    "    w2 = 0.5\n",
    "    theta = 0.6\n",
    "    return np.where(x1*w1 + x2*w2 > theta,1,0)"
   ]
  },
  {
   "cell_type": "code",
   "execution_count": 143,
   "id": "76bec1b2-74fd-49be-9325-cee8b3efb133",
   "metadata": {},
   "outputs": [
    {
     "data": {
      "text/plain": [
       "array(0)"
      ]
     },
     "execution_count": 143,
     "metadata": {},
     "output_type": "execute_result"
    }
   ],
   "source": [
    "AND(0,0)"
   ]
  },
  {
   "cell_type": "code",
   "execution_count": 3,
   "id": "d9d20557-f762-4108-b798-44baad7b4460",
   "metadata": {},
   "outputs": [
    {
     "name": "stdout",
     "output_type": "stream",
     "text": [
      "0.1 0.1 0.1\n",
      "0.1 0.2 0.2\n",
      "0.1 0.30000000000000004 0.30000000000000004\n",
      "0.1 0.4 0.4\n",
      "0.1 0.5 0.5\n",
      "0.1 0.6 0.6\n",
      "0.1 0.7000000000000001 0.7000000000000001\n",
      "0.1 0.8 0.8\n",
      "0.1 0.9 0.9\n",
      "0.1 1.0 1.0\n",
      "0.2 0.1 0.2\n",
      "0.2 0.2 0.2\n",
      "0.2 0.2 0.30000000000000004\n",
      "0.2 0.30000000000000004 0.30000000000000004\n",
      "0.2 0.30000000000000004 0.4\n",
      "0.2 0.4 0.4\n",
      "0.2 0.4 0.5\n",
      "0.2 0.4 0.6\n",
      "0.2 0.5 0.5\n",
      "0.2 0.5 0.6\n",
      "0.2 0.6 0.6\n",
      "0.2 0.6 0.7000000000000001\n",
      "0.2 0.7000000000000001 0.7000000000000001\n",
      "0.2 0.7000000000000001 0.8\n",
      "0.2 0.7000000000000001 0.9\n",
      "0.2 0.8 0.8\n",
      "0.2 0.8 0.9\n",
      "0.2 0.9 0.9\n",
      "0.2 0.9 1.0\n",
      "0.2 1.0 1.0\n",
      "0.30000000000000004 0.1 0.30000000000000004\n",
      "0.30000000000000004 0.2 0.30000000000000004\n",
      "0.30000000000000004 0.2 0.4\n",
      "0.30000000000000004 0.30000000000000004 0.30000000000000004\n",
      "0.30000000000000004 0.30000000000000004 0.4\n",
      "0.30000000000000004 0.30000000000000004 0.5\n",
      "0.30000000000000004 0.30000000000000004 0.6\n",
      "0.30000000000000004 0.4 0.4\n",
      "0.30000000000000004 0.4 0.5\n",
      "0.30000000000000004 0.4 0.6\n",
      "0.30000000000000004 0.5 0.5\n",
      "0.30000000000000004 0.5 0.6\n",
      "0.30000000000000004 0.5 0.7000000000000001\n",
      "0.30000000000000004 0.6 0.6\n",
      "0.30000000000000004 0.6 0.7000000000000001\n",
      "0.30000000000000004 0.6 0.8\n",
      "0.30000000000000004 0.7000000000000001 0.7000000000000001\n",
      "0.30000000000000004 0.7000000000000001 0.8\n",
      "0.30000000000000004 0.7000000000000001 0.9\n",
      "0.30000000000000004 0.8 0.8\n",
      "0.30000000000000004 0.8 0.9\n",
      "0.30000000000000004 0.8 1.0\n",
      "0.30000000000000004 0.9 0.9\n",
      "0.30000000000000004 0.9 1.0\n",
      "0.30000000000000004 1.0 1.0\n",
      "0.4 0.1 0.4\n",
      "0.4 0.2 0.4\n",
      "0.4 0.2 0.5\n",
      "0.4 0.2 0.6\n",
      "0.4 0.30000000000000004 0.4\n",
      "0.4 0.30000000000000004 0.5\n",
      "0.4 0.30000000000000004 0.6\n",
      "0.4 0.4 0.4\n",
      "0.4 0.4 0.5\n",
      "0.4 0.4 0.6\n",
      "0.4 0.4 0.7000000000000001\n",
      "0.4 0.5 0.5\n",
      "0.4 0.5 0.6\n",
      "0.4 0.5 0.7000000000000001\n",
      "0.4 0.5 0.8\n",
      "0.4 0.6 0.6\n",
      "0.4 0.6 0.7000000000000001\n",
      "0.4 0.6 0.8\n",
      "0.4 0.6 0.9\n",
      "0.4 0.7000000000000001 0.7000000000000001\n",
      "0.4 0.7000000000000001 0.8\n",
      "0.4 0.7000000000000001 0.9\n",
      "0.4 0.7000000000000001 1.0\n",
      "0.4 0.8 0.8\n",
      "0.4 0.8 0.9\n",
      "0.4 0.8 1.0\n",
      "0.4 0.9 0.9\n",
      "0.4 0.9 1.0\n",
      "0.4 1.0 1.0\n",
      "0.5 0.1 0.5\n",
      "0.5 0.2 0.5\n",
      "0.5 0.2 0.6\n",
      "0.5 0.30000000000000004 0.5\n",
      "0.5 0.30000000000000004 0.6\n",
      "0.5 0.30000000000000004 0.7000000000000001\n",
      "0.5 0.4 0.5\n",
      "0.5 0.4 0.6\n",
      "0.5 0.4 0.7000000000000001\n",
      "0.5 0.4 0.8\n",
      "0.5 0.5 0.5\n",
      "0.5 0.5 0.6\n",
      "0.5 0.5 0.7000000000000001\n",
      "0.5 0.5 0.8\n",
      "0.5 0.5 0.9\n",
      "0.5 0.6 0.6\n",
      "0.5 0.6 0.7000000000000001\n",
      "0.5 0.6 0.8\n",
      "0.5 0.6 0.9\n",
      "0.5 0.6 1.0\n",
      "0.5 0.7000000000000001 0.7000000000000001\n",
      "0.5 0.7000000000000001 0.8\n",
      "0.5 0.7000000000000001 0.9\n",
      "0.5 0.7000000000000001 1.0\n",
      "0.5 0.8 0.8\n",
      "0.5 0.8 0.9\n",
      "0.5 0.8 1.0\n",
      "0.5 0.9 0.9\n",
      "0.5 0.9 1.0\n",
      "0.5 1.0 1.0\n",
      "0.6 0.1 0.6\n",
      "0.6 0.2 0.6\n",
      "0.6 0.2 0.7000000000000001\n",
      "0.6 0.30000000000000004 0.6\n",
      "0.6 0.30000000000000004 0.7000000000000001\n",
      "0.6 0.30000000000000004 0.8\n",
      "0.6 0.4 0.6\n",
      "0.6 0.4 0.7000000000000001\n",
      "0.6 0.4 0.8\n",
      "0.6 0.4 0.9\n",
      "0.6 0.5 0.6\n",
      "0.6 0.5 0.7000000000000001\n",
      "0.6 0.5 0.8\n",
      "0.6 0.5 0.9\n",
      "0.6 0.5 1.0\n",
      "0.6 0.6 0.6\n",
      "0.6 0.6 0.7000000000000001\n",
      "0.6 0.6 0.8\n",
      "0.6 0.6 0.9\n",
      "0.6 0.6 1.0\n",
      "0.6 0.7000000000000001 0.7000000000000001\n",
      "0.6 0.7000000000000001 0.8\n",
      "0.6 0.7000000000000001 0.9\n",
      "0.6 0.7000000000000001 1.0\n",
      "0.6 0.8 0.8\n",
      "0.6 0.8 0.9\n",
      "0.6 0.8 1.0\n",
      "0.6 0.9 0.9\n",
      "0.6 0.9 1.0\n",
      "0.6 1.0 1.0\n",
      "0.7000000000000001 0.1 0.7000000000000001\n",
      "0.7000000000000001 0.2 0.7000000000000001\n",
      "0.7000000000000001 0.2 0.8\n",
      "0.7000000000000001 0.2 0.9\n",
      "0.7000000000000001 0.30000000000000004 0.7000000000000001\n",
      "0.7000000000000001 0.30000000000000004 0.8\n",
      "0.7000000000000001 0.30000000000000004 0.9\n",
      "0.7000000000000001 0.4 0.7000000000000001\n",
      "0.7000000000000001 0.4 0.8\n",
      "0.7000000000000001 0.4 0.9\n",
      "0.7000000000000001 0.4 1.0\n",
      "0.7000000000000001 0.5 0.7000000000000001\n",
      "0.7000000000000001 0.5 0.8\n",
      "0.7000000000000001 0.5 0.9\n",
      "0.7000000000000001 0.5 1.0\n",
      "0.7000000000000001 0.6 0.7000000000000001\n",
      "0.7000000000000001 0.6 0.8\n",
      "0.7000000000000001 0.6 0.9\n",
      "0.7000000000000001 0.6 1.0\n",
      "0.7000000000000001 0.7000000000000001 0.7000000000000001\n",
      "0.7000000000000001 0.7000000000000001 0.8\n",
      "0.7000000000000001 0.7000000000000001 0.9\n",
      "0.7000000000000001 0.7000000000000001 1.0\n",
      "0.7000000000000001 0.8 0.8\n",
      "0.7000000000000001 0.8 0.9\n",
      "0.7000000000000001 0.8 1.0\n",
      "0.7000000000000001 0.9 0.9\n",
      "0.7000000000000001 0.9 1.0\n",
      "0.7000000000000001 1.0 1.0\n",
      "0.8 0.1 0.8\n",
      "0.8 0.2 0.8\n",
      "0.8 0.2 0.9\n",
      "0.8 0.30000000000000004 0.8\n",
      "0.8 0.30000000000000004 0.9\n",
      "0.8 0.30000000000000004 1.0\n",
      "0.8 0.4 0.8\n",
      "0.8 0.4 0.9\n",
      "0.8 0.4 1.0\n",
      "0.8 0.5 0.8\n",
      "0.8 0.5 0.9\n",
      "0.8 0.5 1.0\n",
      "0.8 0.6 0.8\n",
      "0.8 0.6 0.9\n",
      "0.8 0.6 1.0\n",
      "0.8 0.7000000000000001 0.8\n",
      "0.8 0.7000000000000001 0.9\n",
      "0.8 0.7000000000000001 1.0\n",
      "0.8 0.8 0.8\n",
      "0.8 0.8 0.9\n",
      "0.8 0.8 1.0\n",
      "0.8 0.9 0.9\n",
      "0.8 0.9 1.0\n",
      "0.8 1.0 1.0\n",
      "0.9 0.1 0.9\n",
      "0.9 0.2 0.9\n",
      "0.9 0.2 1.0\n",
      "0.9 0.30000000000000004 0.9\n",
      "0.9 0.30000000000000004 1.0\n",
      "0.9 0.4 0.9\n",
      "0.9 0.4 1.0\n",
      "0.9 0.5 0.9\n",
      "0.9 0.5 1.0\n",
      "0.9 0.6 0.9\n",
      "0.9 0.6 1.0\n",
      "0.9 0.7000000000000001 0.9\n",
      "0.9 0.7000000000000001 1.0\n",
      "0.9 0.8 0.9\n",
      "0.9 0.8 1.0\n",
      "0.9 0.9 0.9\n",
      "0.9 0.9 1.0\n",
      "0.9 1.0 1.0\n",
      "1.0 0.1 1.0\n",
      "1.0 0.2 1.0\n",
      "1.0 0.30000000000000004 1.0\n",
      "1.0 0.4 1.0\n",
      "1.0 0.5 1.0\n",
      "1.0 0.6 1.0\n",
      "1.0 0.7000000000000001 1.0\n",
      "1.0 0.8 1.0\n",
      "1.0 0.9 1.0\n",
      "1.0 1.0 1.0\n"
     ]
    }
   ],
   "source": [
    "w1s = np.linspace(0.1, 1, 10)\n",
    "w2s = np.linspace(0.1, 1, 10)\n",
    "thetas = np.linspace(0.1, 1, 10)\n",
    "x1 = np.array([0,1,0,1])\n",
    "x2 = np.array([0,0,1,1])\n",
    "\n",
    "for w1 in w1s:\n",
    "    for w2 in w2s:\n",
    "        for theta in thetas:\n",
    "            result = np.sum(np.where(x1*w1 + x2*w2 > theta,1,0) == np.array([0,0,0,1]))\n",
    "            if result == 4:\n",
    "                print(w1,w2,theta)"
   ]
  },
  {
   "cell_type": "code",
   "execution_count": null,
   "id": "76b242a5-aa75-4924-b90a-25f6a538445a",
   "metadata": {},
   "outputs": [],
   "source": [
    "x1 = np.array([0,1,0,1])\n",
    "x2 = np.array([0,0,1,1])\n",
    "w1 "
   ]
  },
  {
   "cell_type": "code",
   "execution_count": null,
   "id": "80218c8f-12fc-45b0-8dbb-69420d510467",
   "metadata": {},
   "outputs": [],
   "source": []
  },
  {
   "cell_type": "code",
   "execution_count": null,
   "id": "985ac4a4-cf8f-4da7-88b0-71ba090e07e0",
   "metadata": {},
   "outputs": [],
   "source": []
  },
  {
   "cell_type": "code",
   "execution_count": null,
   "id": "10d272c7-f805-48cd-b494-3b0acb422e2b",
   "metadata": {},
   "outputs": [],
   "source": []
  },
  {
   "cell_type": "code",
   "execution_count": null,
   "id": "374a6d01-b513-4ec8-b327-c2a5d21335bc",
   "metadata": {},
   "outputs": [],
   "source": []
  },
  {
   "cell_type": "code",
   "execution_count": null,
   "id": "c299a949-bf10-4767-bbc3-ef61b2b73215",
   "metadata": {},
   "outputs": [],
   "source": []
  },
  {
   "cell_type": "code",
   "execution_count": null,
   "id": "5b4b4a04-bbfb-4d31-80b3-562c88100a3b",
   "metadata": {},
   "outputs": [],
   "source": []
  },
  {
   "cell_type": "code",
   "execution_count": null,
   "id": "37da3cd9-48a5-409f-b3f4-2b817849474f",
   "metadata": {},
   "outputs": [],
   "source": []
  }
 ],
 "metadata": {
  "kernelspec": {
   "display_name": "ml_kernel",
   "language": "python",
   "name": "ml"
  },
  "language_info": {
   "codemirror_mode": {
    "name": "ipython",
    "version": 3
   },
   "file_extension": ".py",
   "mimetype": "text/x-python",
   "name": "python",
   "nbconvert_exporter": "python",
   "pygments_lexer": "ipython3",
   "version": "3.9.12"
  }
 },
 "nbformat": 4,
 "nbformat_minor": 5
}
