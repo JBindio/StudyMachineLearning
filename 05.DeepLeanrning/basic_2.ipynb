{
 "cells": [
  {
   "cell_type": "code",
   "execution_count": 1,
   "id": "6243c4bb-5f28-442a-a462-6f7a7202739d",
   "metadata": {},
   "outputs": [],
   "source": [
    "import pandas as pd\n",
    "import numpy as np\n",
    "import matplotlib.pyplot as plt\n",
    "import matplotlib\n",
    "import seaborn as sns\n",
    "from matplotlib import font_manager, rc\n",
    "import platform\n",
    "\n",
    "# seaborn 설정 리셋\n",
    "sns.reset_defaults()\n",
    "\n",
    "# 폰트설정\n",
    "if platform.system() == 'Windows' :\n",
    "    path = 'c:/Windows/Fonts/malgun.ttf'\n",
    "    font_name = font_manager.FontProperties(fname=path).get_name()\n",
    "    rc('font', family=font_name)\n",
    "elif platform.system() == 'Darwin':\n",
    "    rc('font', family='AppleGothic')\n",
    "else :\n",
    "    print('Check your OS System')\n",
    "    \n",
    "# 그래프에 마이너스 표시\n",
    "matplotlib.rcParams['axes.unicode_minus'] = False"
   ]
  },
  {
   "cell_type": "code",
   "execution_count": 2,
   "id": "d305e427-1739-4200-a5c3-db8dae4c323c",
   "metadata": {},
   "outputs": [],
   "source": [
    "x1 = np.random.randint(1, 100, 1000)\n",
    "x2 = np.random.randint(1, 100, 1000)\n",
    "X = np.c_[x1,x2]"
   ]
  },
  {
   "cell_type": "code",
   "execution_count": 3,
   "id": "f8b5aa89-c6f5-45e6-965a-3ab002ecdab4",
   "metadata": {},
   "outputs": [],
   "source": [
    "w = np.array([[5],[7]])\n",
    "a1 = 5\n",
    "a2 = 7\n",
    "b = 100\n",
    "y = np.dot(X,w) + b"
   ]
  },
  {
   "cell_type": "code",
   "execution_count": 4,
   "id": "5a64db04-2535-416e-8a84-0d3dfb233a75",
   "metadata": {},
   "outputs": [],
   "source": [
    "a1_ = -5\n",
    "a2_ = -5\n",
    "w_ = np.array([[-5],[-5]])\n",
    "b_ = 0"
   ]
  },
  {
   "cell_type": "code",
   "execution_count": 5,
   "id": "a4e7a1f1-3088-4266-88c3-dd29bd6e05ce",
   "metadata": {},
   "outputs": [],
   "source": [
    "learning_rate = 1e-5\n",
    "y_hat = a1*x1 + a2*x2 + b_\n",
    "a1_ -= learning_rate * ((y_hat-y)*x1).mean()\n",
    "a2_ -= learning_rate * ((y_hat-y)*x2).mean()\n",
    "b_ -= learning_rate *(y_hat-y).mean()"
   ]
  },
  {
   "cell_type": "code",
   "execution_count": 6,
   "id": "cce5f645-7165-41ba-8988-9f37d634ee7e",
   "metadata": {},
   "outputs": [
    {
     "data": {
      "text/plain": [
       "-4.9896450896"
      ]
     },
     "execution_count": 6,
     "metadata": {},
     "output_type": "execute_result"
    }
   ],
   "source": [
    "a1_"
   ]
  },
  {
   "cell_type": "code",
   "execution_count": 7,
   "id": "02ef0742-238c-4a5d-9d1f-838105aa7884",
   "metadata": {},
   "outputs": [
    {
     "data": {
      "text/plain": [
       "-5.00583506857"
      ]
     },
     "execution_count": 7,
     "metadata": {},
     "output_type": "execute_result"
    }
   ],
   "source": [
    "a2_"
   ]
  },
  {
   "cell_type": "code",
   "execution_count": 8,
   "id": "20a15fb3-066a-46bf-b7f8-19b064a548c4",
   "metadata": {},
   "outputs": [
    {
     "data": {
      "text/plain": [
       "0.001"
      ]
     },
     "execution_count": 8,
     "metadata": {},
     "output_type": "execute_result"
    }
   ],
   "source": [
    "b_"
   ]
  },
  {
   "cell_type": "code",
   "execution_count": 14,
   "id": "0d13b77b-d68c-4f5c-9caa-15dbb5f7dab7",
   "metadata": {},
   "outputs": [],
   "source": [
    "learning_rate = 1e-5\n",
    "y_hat = np.dot(X,w_) + b_\n",
    "w_ -= learning_rate*(np.mean(np.dot(X.T,(y_hat - y)),axis=1))"
   ]
  },
  {
   "cell_type": "code",
   "execution_count": 15,
   "id": "5bb1fc5a-b650-4b4b-b9f3-a2e58dd942e9",
   "metadata": {},
   "outputs": [
    {
     "data": {
      "text/plain": [
       "array([50153041.53037819, 50350802.72296193])"
      ]
     },
     "execution_count": 15,
     "metadata": {},
     "output_type": "execute_result"
    }
   ],
   "source": [
    "w_"
   ]
  },
  {
   "cell_type": "code",
   "execution_count": null,
   "id": "f9b09d46-c110-45ef-b4d4-20e1a71c36ec",
   "metadata": {},
   "outputs": [],
   "source": []
  },
  {
   "cell_type": "code",
   "execution_count": null,
   "id": "7b7d30a5-ab26-49f0-9b74-89e27bd5fd0f",
   "metadata": {},
   "outputs": [],
   "source": []
  },
  {
   "cell_type": "code",
   "execution_count": null,
   "id": "7f11c3da-90b4-45a3-96df-012f7097c068",
   "metadata": {},
   "outputs": [],
   "source": []
  },
  {
   "cell_type": "code",
   "execution_count": null,
   "id": "462447c6-d8fe-431e-bcfb-fb43b6202542",
   "metadata": {},
   "outputs": [],
   "source": []
  },
  {
   "cell_type": "code",
   "execution_count": null,
   "id": "bd0a7bda-2ffa-4553-9c43-5bdaee364f46",
   "metadata": {},
   "outputs": [],
   "source": []
  },
  {
   "cell_type": "code",
   "execution_count": null,
   "id": "f7820550-4923-457c-acae-3007faad91b5",
   "metadata": {},
   "outputs": [],
   "source": []
  },
  {
   "cell_type": "code",
   "execution_count": null,
   "id": "b73249ec-3445-4ed5-8ea4-ac6f16a93a1d",
   "metadata": {},
   "outputs": [],
   "source": []
  },
  {
   "cell_type": "code",
   "execution_count": null,
   "id": "b9044b3a-c31c-4dee-a6ef-1d7d809ce609",
   "metadata": {},
   "outputs": [],
   "source": []
  },
  {
   "cell_type": "code",
   "execution_count": null,
   "id": "2be98649-d626-4291-af82-edf77cb059f7",
   "metadata": {},
   "outputs": [],
   "source": []
  },
  {
   "cell_type": "code",
   "execution_count": null,
   "id": "0bdef2ba-d77c-4b11-8291-ffab7fc00214",
   "metadata": {},
   "outputs": [],
   "source": []
  },
  {
   "cell_type": "code",
   "execution_count": null,
   "id": "871cfb46-e128-4204-94f1-152b9d1c23ca",
   "metadata": {},
   "outputs": [],
   "source": []
  },
  {
   "cell_type": "code",
   "execution_count": null,
   "id": "5655be03-3710-44c4-9b43-7ab117352363",
   "metadata": {},
   "outputs": [],
   "source": []
  },
  {
   "cell_type": "code",
   "execution_count": null,
   "id": "529c93dd-3286-44d0-9ce6-e077e923add9",
   "metadata": {},
   "outputs": [],
   "source": []
  },
  {
   "cell_type": "code",
   "execution_count": null,
   "id": "2054e542-95a8-481f-8f6a-db12cb5cc2dc",
   "metadata": {},
   "outputs": [],
   "source": []
  },
  {
   "cell_type": "code",
   "execution_count": null,
   "id": "47c09145-f2ae-49d6-af23-ce40fab17a4d",
   "metadata": {},
   "outputs": [],
   "source": []
  },
  {
   "cell_type": "code",
   "execution_count": null,
   "id": "f5c6d2f3-a4c8-4f4a-9ecc-685d578c6ce2",
   "metadata": {},
   "outputs": [],
   "source": []
  }
 ],
 "metadata": {
  "kernelspec": {
   "display_name": "ml_kernel",
   "language": "python",
   "name": "ml"
  },
  "language_info": {
   "codemirror_mode": {
    "name": "ipython",
    "version": 3
   },
   "file_extension": ".py",
   "mimetype": "text/x-python",
   "name": "python",
   "nbconvert_exporter": "python",
   "pygments_lexer": "ipython3",
   "version": "3.9.12"
  }
 },
 "nbformat": 4,
 "nbformat_minor": 5
}
