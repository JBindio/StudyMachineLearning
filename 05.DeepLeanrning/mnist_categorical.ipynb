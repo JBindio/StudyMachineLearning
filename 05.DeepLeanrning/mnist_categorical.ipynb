{
 "cells": [
  {
   "cell_type": "code",
   "execution_count": 58,
   "id": "0a038a08-fbf8-4c55-87c1-77c77bdeb876",
   "metadata": {},
   "outputs": [],
   "source": [
    "def categorical_crossentropy(t,y):\n",
    "    return np.mean(-t*np.log(y+0.0001))"
   ]
  },
  {
   "cell_type": "code",
   "execution_count": 59,
   "id": "5cbfa8f2-cc15-4f08-ad31-9f1d6078222c",
   "metadata": {},
   "outputs": [],
   "source": [
    "def sigmoid(x):\n",
    "    return 1/(1+np.exp(-x))"
   ]
  },
  {
   "cell_type": "code",
   "execution_count": 60,
   "id": "95bb5ea8-7975-40e4-a7d4-ed459a6ee0f8",
   "metadata": {},
   "outputs": [],
   "source": [
    "def softmax(x):\n",
    "    c = np.max(x,axis=1).reshape(-1,1)\n",
    "    x = x-c\n",
    "    return np.exp(x)/np.sum(np.exp(x),axis=1).reshape(-1,1)"
   ]
  },
  {
   "cell_type": "code",
   "execution_count": 61,
   "id": "2bd53960-5924-4503-898f-8941a7b5ec07",
   "metadata": {},
   "outputs": [],
   "source": [
    "import numpy as np\n",
    "class Relu:\n",
    "    def __init__(self):\n",
    "        self.mask = None\n",
    "    def forward(self,x):\n",
    "        self.mask = (x <=0)\n",
    "        out = x.copy()\n",
    "        out[self.mask] = 0\n",
    "        return out\n",
    "    def backward(self,dout):\n",
    "        dout[self.mask] = 0\n",
    "        dx = dout\n",
    "        return dx\n",
    "        \n",
    "class Sigmoid:\n",
    "    def __init__(self):\n",
    "        self.out = None\n",
    "    \n",
    "    def forward(self,x):\n",
    "        out = sigmoid(x)\n",
    "        self.out = out\n",
    "        return out\n",
    "    \n",
    "    def backward(self,dout):\n",
    "        dx = ((1-self.out)*self.out)*dout\n",
    "        return dx\n",
    "\n",
    "class Affine:\n",
    "    def __init__(self,W,b):\n",
    "        self.W = W\n",
    "        self.b = b\n",
    "        self.x = None\n",
    "        self.origin_shape = None\n",
    "        self.dW = None\n",
    "        self.db = None\n",
    "    \n",
    "    def forward(self,x):\n",
    "        self.origin_shape = x.shape\n",
    "        self.x = x\n",
    "        out = np.dot(x,self.W) + self.b\n",
    "        return out\n",
    "    \n",
    "    def backward(self,dout):\n",
    "        dx = np.dot(dout,self.W.T)\n",
    "        self.dW = np.dot(self.x.T,dout)\n",
    "        self.db = np.sum(dout,axis=0)\n",
    "        dx = dx.reshape(self.origin_shape)\n",
    "        return dx\n",
    "\n",
    "class Loss:\n",
    "    def __init__(self):\n",
    "        self.loss = None\n",
    "        self.y = None\n",
    "        self.t = None\n",
    "    \n",
    "    def forward(self,t,y):\n",
    "        self.y = softmax(y)\n",
    "        self.t = t\n",
    "        self.loss = categorical_crossentropy(self.t, self.y)\n",
    "        return self.loss\n",
    "    \n",
    "    def backward(self,dout=1):\n",
    "        dx = (self.y - self.t)*dout\n",
    "        return dx"
   ]
  },
  {
   "cell_type": "code",
   "execution_count": 62,
   "id": "8d67e903-9652-4681-af18-7f8298fef282",
   "metadata": {},
   "outputs": [],
   "source": [
    "class Layers:\n",
    "    def __init__(self):\n",
    "        self.layers = {}\n",
    "        \n",
    "    def add(self,x1,x2,activation):\n",
    "        activation_dict = {\n",
    "            'sigmoid':Sigmoid,\n",
    "            'relu':Relu,\n",
    "            'softmax':Loss\n",
    "        }\n",
    "        w = np.random.randn(x1,x2)\n",
    "        b = np.zeros(x2)\n",
    "        activation_layer = 'activation'+str((int(len(self.layers)/2+1))) \n",
    "        Affine_layer = 'Affine'+str((int(len(self.layers)/2+1)))\n",
    "        self.layers[Affine_layer] = Affine(w,b)\n",
    "        self.layers[activation_layer] = activation_dict[activation]()\n",
    "        \n",
    "    \n",
    "    def predict(self,x):\n",
    "        out = x.copy()\n",
    "        ind = 1 \n",
    "        layer_len = len(self.layers)\n",
    "        for key, layer in self.layers.items():\n",
    "            if ind < layer_len :\n",
    "                out = layer.forward(out)\n",
    "            ind += 1\n",
    "        return out\n",
    "            \n",
    "    \n",
    "    def loss(self,x,t):\n",
    "        y = self.predict(x)\n",
    "        out = list(self.layers.values())[-1].forward(t,y)\n",
    "        return out\n",
    "    \n",
    "    def accuracy(self,x,t):\n",
    "        y = self.predict(x)\n",
    "        y = np.argmax(y,axis=1)\n",
    "        t = np.argmax(t,axis=1)\n",
    "        self.acc = np.sum(y==t)/t.size\n",
    "        return self.acc\n",
    "    \n",
    "    def gradient(self,x,t):\n",
    "        self.loss(x,t)\n",
    "        lr = 1e-4\n",
    "        dout = 1\n",
    "        dout = list(self.layers.values())[-1].backward(dout)\n",
    "        layers = list(self.layers.values())[::-1][1:]\n",
    "        self.layers_key = list(self.layers.keys())[::-1][1:]\n",
    "        for layer in layers:\n",
    "            dout = layer.backward(dout)\n",
    "        self.grads = {}\n",
    "        for layer_key in self.layers_key:\n",
    "            if 'Affine' in layer_key:\n",
    "                self.grads[layer_key] = [self.layers[layer_key].dW, self.layers[layer_key].db]\n",
    "        for layer_key in self.layers_key:\n",
    "            if 'Affine' in layer_key:\n",
    "                self.layers[layer_key].W -= lr*self.grads[layer_key][0]\n",
    "                self.layers[layer_key].b -= lr*self.grads[layer_key][1]\n",
    "        result = self.loss(x,t)       \n",
    "        return result\n",
    "    \n",
    "    def fit(self,x,t,epochs,lr):\n",
    "        self.lr = lr\n",
    "        self.history = {}\n",
    "        accuracy = []\n",
    "        loss = []\n",
    "        for epoch in range(epochs):\n",
    "            self.gradient(x,t)\n",
    "            loss.append(self.err)\n",
    "            accuracy.append(self.accuracy(x,t))\n",
    "            if epoch % 100 == 0:\n",
    "                print(f'loss : {self.err} === accuracy : {self.accuracy(x,t)}')\n",
    "        self.history['accuracy'] = accuracy\n",
    "        self.history['loss'] = loss\n",
    "                "
   ]
  },
  {
   "cell_type": "code",
   "execution_count": 6,
   "id": "1de84f20-6215-493a-a487-d68438bb9ee2",
   "metadata": {},
   "outputs": [],
   "source": [
    "# 필요한 모듈 호출\n",
    "import pandas as pd\n",
    "import numpy as np\n",
    "import matplotlib.pyplot as plt\n",
    "import seaborn as sns\n",
    "from sklearn.model_selection import train_test_split\n",
    "\n",
    "# 텐서플로우 모듈\n",
    "import tensorflow as tf\n",
    "from tensorflow import keras\n",
    "from keras.models import Sequential\n",
    "from keras.layers import Dense\n",
    "from tensorflow.keras.utils import plot_model, to_categorical\n",
    "from keras.datasets import mnist"
   ]
  },
  {
   "cell_type": "code",
   "execution_count": 47,
   "id": "ef2acc8b-1503-496a-8a81-4f414bd0eead",
   "metadata": {},
   "outputs": [],
   "source": [
    "# 데이터 정리\n",
    "(x_train_full, y_train_full),(x_test, y_test) = mnist.load_data()\n",
    "x_train, x_val, y_train, y_val = \\\n",
    "    train_test_split(x_train_full, y_train_full, test_size= .2, random_state=42)"
   ]
  },
  {
   "cell_type": "code",
   "execution_count": 48,
   "id": "c356a8ae-7a78-4a3f-b23b-efddc6685c15",
   "metadata": {},
   "outputs": [
    {
     "name": "stdout",
     "output_type": "stream",
     "text": [
      "(48000, 28, 28)\n",
      "(12000, 28, 28)\n",
      "(48000,)\n",
      "(12000,)\n"
     ]
    }
   ],
   "source": [
    "# 분배 및 차원 확인\n",
    "print(x_train.shape)\n",
    "print(x_val.shape)\n",
    "print(y_train.shape)\n",
    "print(y_val.shape)"
   ]
  },
  {
   "cell_type": "code",
   "execution_count": 49,
   "id": "8afc64f0-042d-427a-a2bc-c5d84a9e4db0",
   "metadata": {},
   "outputs": [
    {
     "data": {
      "image/png": "[encoded data removed]",
      "text/plain": [
       "<Figure size 432x288 with 1 Axes>"
      ]
     },
     "metadata": {
      "needs_background": "light"
     },
     "output_type": "display_data"
    },
    {
     "name": "stdout",
     "output_type": "stream",
     "text": [
      "target = 5\n"
     ]
    }
   ],
   "source": [
    "# 데이터 타입 확인\n",
    "plt.imshow(x_train[0])\n",
    "plt.show()\n",
    "print('target =', y_train[0])"
   ]
  },
  {
   "cell_type": "code",
   "execution_count": 50,
   "id": "511086a6-360e-4a57-a5b8-7f6743bbb978",
   "metadata": {},
   "outputs": [],
   "source": [
    "# x 데이터 reshape\n",
    "x_train_reshape = x_train.reshape(-1,784)\n",
    "x_val_reshape = x_val.reshape(-1, 784)\n",
    "x_test_reshape = x_test.reshape(-1, 784)"
   ]
  },
  {
   "cell_type": "code",
   "execution_count": 51,
   "id": "9a68b7a1-7d06-43d4-b7a7-1c24af303237",
   "metadata": {},
   "outputs": [
    {
     "data": {
      "text/plain": [
       "array([0, 1, 2, 3, 4, 5, 6, 7, 8, 9], dtype=uint8)"
      ]
     },
     "execution_count": 51,
     "metadata": {},
     "output_type": "execute_result"
    }
   ],
   "source": [
    "# y 데이터 종류\n",
    "# 연속형\n",
    "# 바이너리 범주형(둘중하나) -> 0, 1 변경\n",
    "# 카테고리컬 범주형(2개이상) -> one_hot 변경\n",
    "\n",
    "# y 데이터 확인 -> 카테고리컬 범주형 -> one_hot\n",
    "np.unique(y_train)"
   ]
  },
  {
   "cell_type": "code",
   "execution_count": 52,
   "id": "471d4727-d4b3-4b89-8dd8-9305cce348c3",
   "metadata": {},
   "outputs": [],
   "source": [
    "# y 데이터 one_hot 변환\n",
    "y_train_one_hot = to_categorical(y_train)\n",
    "y_val_one_hot = to_categorical(y_val)\n",
    "y_test_one_hot = to_categorical(y_test)"
   ]
  },
  {
   "cell_type": "code",
   "execution_count": 64,
   "id": "52d02dff-834b-40d5-8653-858f081c03e7",
   "metadata": {},
   "outputs": [],
   "source": [
    "# 모델생성\n",
    "model1 = Sequential()\n",
    "l1 = Dense(1024, activation ='relu', input_dim =784)\n",
    "l2 = Dense(512, activation ='sigmoid')\n",
    "out = Dense(10, activation='softmax')\n",
    "model1.add(l1)\n",
    "model1.add(l2)\n",
    "model1.add(out)"
   ]
  },
  {
   "cell_type": "code",
   "execution_count": 65,
   "id": "10234e20-4b01-4f7d-b97f-83811b548564",
   "metadata": {},
   "outputs": [],
   "source": [
    "# 모델설정\n",
    "optimizer = 'sgd'\n",
    "loss = 'categorical_crossentropy'\n",
    "metrics = ['accuracy']\n",
    "model1.compile(\n",
    "    optimizer= optimizer,\n",
    "    loss= loss,\n",
    "    metrics = metrics\n",
    ")"
   ]
  },
  {
   "cell_type": "code",
   "execution_count": 69,
   "id": "11cc27b2-1e74-4be0-b94e-4163bb5606ca",
   "metadata": {},
   "outputs": [
    {
     "name": "stdout",
     "output_type": "stream",
     "text": [
      "Model: \"sequential_1\"\n",
      "_________________________________________________________________\n",
      " Layer (type)                Output Shape              Param #   \n",
      "=================================================================\n",
      " dense (Dense)               (None, 1024)              803840    \n",
      "                                                                 \n",
      " dense_1 (Dense)             (None, 512)               524800    \n",
      "                                                                 \n",
      " dense_2 (Dense)             (None, 10)                5130      \n",
      "                                                                 \n",
      "=================================================================\n",
      "Total params: 1,333,770\n",
      "Trainable params: 1,333,770\n",
      "Non-trainable params: 0\n",
      "_________________________________________________________________\n"
     ]
    }
   ],
   "source": [
    "model1.summary()"
   ]
  },
  {
   "cell_type": "code",
   "execution_count": 67,
   "id": "42268ba4-3411-460b-a093-3960744ac1a2",
   "metadata": {},
   "outputs": [
    {
     "name": "stdout",
     "output_type": "stream",
     "text": [
      "Epoch 1/10\n",
      "1500/1500 [==============================] - 6s 4ms/step - loss: 0.4139 - accuracy: 0.8889 - val_loss: 0.2454 - val_accuracy: 0.9312\n",
      "Epoch 2/10\n",
      "1500/1500 [==============================] - 5s 3ms/step - loss: 0.2092 - accuracy: 0.9400 - val_loss: 0.1796 - val_accuracy: 0.9487\n",
      "Epoch 3/10\n",
      "1500/1500 [==============================] - 5s 4ms/step - loss: 0.1554 - accuracy: 0.9557 - val_loss: 0.1495 - val_accuracy: 0.9567\n",
      "Epoch 4/10\n",
      "1500/1500 [==============================] - 6s 4ms/step - loss: 0.1233 - accuracy: 0.9643 - val_loss: 0.1346 - val_accuracy: 0.9611\n",
      "Epoch 5/10\n",
      "1500/1500 [==============================] - 7s 4ms/step - loss: 0.0994 - accuracy: 0.9712 - val_loss: 0.1190 - val_accuracy: 0.9657\n",
      "Epoch 6/10\n",
      "1500/1500 [==============================] - 7s 4ms/step - loss: 0.0832 - accuracy: 0.9760 - val_loss: 0.1080 - val_accuracy: 0.9682\n",
      "Epoch 7/10\n",
      "1500/1500 [==============================] - 6s 4ms/step - loss: 0.0695 - accuracy: 0.9804 - val_loss: 0.1000 - val_accuracy: 0.9711\n",
      "Epoch 8/10\n",
      "1500/1500 [==============================] - 6s 4ms/step - loss: 0.0558 - accuracy: 0.9851 - val_loss: 0.0933 - val_accuracy: 0.9720\n",
      "Epoch 9/10\n",
      "1500/1500 [==============================] - 7s 5ms/step - loss: 0.0457 - accuracy: 0.9880 - val_loss: 0.0865 - val_accuracy: 0.9748\n",
      "Epoch 10/10\n",
      "1500/1500 [==============================] - 7s 5ms/step - loss: 0.0374 - accuracy: 0.9911 - val_loss: 0.0843 - val_accuracy: 0.9755\n"
     ]
    },
    {
     "data": {
      "text/plain": [
       "<keras.callbacks.History at 0x16d14632fd0>"
      ]
     },
     "execution_count": 67,
     "metadata": {},
     "output_type": "execute_result"
    }
   ],
   "source": [
    "# 모델 학습\n",
    "model1.fit(\n",
    "    x_train_reshape,\n",
    "    y_train_one_hot,\n",
    "    epochs = 10,\n",
    "    validation_data =(x_val_reshape, y_val_one_hot)\n",
    ")"
   ]
  },
  {
   "cell_type": "code",
   "execution_count": 70,
   "id": "67118e46-f6f1-458e-9ce0-96685ca9337b",
   "metadata": {},
   "outputs": [
    {
     "name": "stdout",
     "output_type": "stream",
     "text": [
      "313/313 [==============================] - 1s 2ms/step - loss: 0.0816 - accuracy: 0.9748\n"
     ]
    },
    {
     "data": {
      "text/plain": [
       "[0.08161752671003342, 0.9747999906539917]"
      ]
     },
     "execution_count": 70,
     "metadata": {},
     "output_type": "execute_result"
    }
   ],
   "source": [
    "# test 정확도 검증\n",
    "model1.evaluate(x_test_reshape, y_test_one_hot)"
   ]
  },
  {
   "cell_type": "code",
   "execution_count": 77,
   "id": "91732029-41ea-4b57-99ca-50b3bcaa3bd7",
   "metadata": {},
   "outputs": [
    {
     "data": {
      "text/plain": [
       "0.9748"
      ]
     },
     "execution_count": 77,
     "metadata": {},
     "output_type": "execute_result"
    }
   ],
   "source": [
    "np.sum(np.argmax(model1.predict(x_test_reshape),axis=1) == np.argmax(y_test_one_hot,axis=1)) / len(y_test_one_hot)"
   ]
  },
  {
   "cell_type": "code",
   "execution_count": 111,
   "id": "3ce25f01-0906-4854-a841-54faeb0edc3d",
   "metadata": {},
   "outputs": [],
   "source": [
    "## 활용\n",
    "def mnist_test(size):\n",
    "    index = np.random.choice(np.arange(len(x_test_reshape)),size,replace=False)\n",
    "    size = size\n",
    "    score = 0\n",
    "\n",
    "    for i in index:\n",
    "        plt.imshow(x_test_reshape[i].reshape(28,28))\n",
    "        predict = np.argmax(model1.predict(x_test_reshape[[i]]))\n",
    "        real = np.argmax(y_test_one_hot[i])\n",
    "        if predict == real:\n",
    "            result = '정답'\n",
    "            score += 1\n",
    "        else :\n",
    "            result = '오답'\n",
    "        plt.show()\n",
    "        print('실제값=',real)\n",
    "        print('예측값=',predict)\n",
    "        print(result)\n",
    "    score_per = (score/size)*100\n",
    "    print('=======================================')\n",
    "    print('총 정답 갯수=',score)\n",
    "    print(f'예측률= {score_per}%')\n",
    "    print('=======================================')"
   ]
  },
  {
   "cell_type": "code",
   "execution_count": 114,
   "id": "46d2d717-6780-4710-9c1e-78233c4966cf",
   "metadata": {},
   "outputs": [
    {
     "data": {
      "image/png": "[encoded data removed]",
      "text/plain": [
       "<Figure size 432x288 with 1 Axes>"
      ]
     },
     "metadata": {
      "needs_background": "light"
     },
     "output_type": "display_data"
    },
    {
     "name": "stdout",
     "output_type": "stream",
     "text": [
      "실제값= 3\n",
      "예측값= 3\n",
      "정답\n"
     ]
    },
    {
     "data": {
      "image/png": "[encoded data removed]",
      "text/plain": [
       "<Figure size 432x288 with 1 Axes>"
      ]
     },
     "metadata": {
      "needs_background": "light"
     },
     "output_type": "display_data"
    },
    {
     "name": "stdout",
     "output_type": "stream",
     "text": [
      "실제값= 9\n",
      "예측값= 9\n",
      "정답\n"
     ]
    },
    {
     "data": {
      "image/png": "[encoded data removed]",
      "text/plain": [
       "<Figure size 432x288 with 1 Axes>"
      ]
     },
     "metadata": {
      "needs_background": "light"
     },
     "output_type": "display_data"
    },
    {
     "name": "stdout",
     "output_type": "stream",
     "text": [
      "실제값= 8\n",
      "예측값= 0\n",
      "오답\n"
     ]
    },
    {
     "data": {
      "image/png": "[encoded data removed]",
      "text/plain": [
       "<Figure size 432x288 with 1 Axes>"
      ]
     },
     "metadata": {
      "needs_background": "light"
     },
     "output_type": "display_data"
    },
    {
     "name": "stdout",
     "output_type": "stream",
     "text": [
      "실제값= 4\n",
      "예측값= 4\n",
      "정답\n"
     ]
    },
    {
     "data": {
      "image/png": "[encoded data removed]",
      "text/plain": [
       "<Figure size 432x288 with 1 Axes>"
      ]
     },
     "metadata": {
      "needs_background": "light"
     },
     "output_type": "display_data"
    },
    {
     "name": "stdout",
     "output_type": "stream",
     "text": [
      "실제값= 4\n",
      "예측값= 4\n",
      "정답\n",
      "=======================================\n",
      "총 정답 갯수= 4\n",
      "예측률= 80.0%\n",
      "=======================================\n"
     ]
    }
   ],
   "source": [
    "mnist_test(5)"
   ]
  },
  {
   "cell_type": "code",
   "execution_count": null,
   "id": "af4787c9-296d-46f8-b205-143556ec77de",
   "metadata": {},
   "outputs": [],
   "source": []
  },
  {
   "cell_type": "code",
   "execution_count": null,
   "id": "65be3192-3da6-483e-9b31-64fd14c2390c",
   "metadata": {},
   "outputs": [],
   "source": []
  },
  {
   "cell_type": "code",
   "execution_count": null,
   "id": "6d3b7f62-fd1b-4a18-97e0-409190095b5e",
   "metadata": {},
   "outputs": [],
   "source": [
    "model2 = Sequential()\n",
    "model2.compile()"
   ]
  },
  {
   "cell_type": "code",
   "execution_count": null,
   "id": "2bdecc02-0bc9-4a4f-9890-00c5f771f82b",
   "metadata": {},
   "outputs": [],
   "source": [
    "model1.compile(\n",
    "    optimizer= optimizer,\n",
    "    loss= loss,\n",
    "    metrics = metrics\n",
    ")"
   ]
  }
 ],
 "metadata": {
  "kernelspec": {
   "display_name": "keras",
   "language": "python",
   "name": "keras"
  },
  "language_info": {
   "codemirror_mode": {
    "name": "ipython",
    "version": 3
   },
   "file_extension": ".py",
   "mimetype": "text/x-python",
   "name": "python",
   "nbconvert_exporter": "python",
   "pygments_lexer": "ipython3",
   "version": "3.8.13"
  }
 },
 "nbformat": 4,
 "nbformat_minor": 5
}
