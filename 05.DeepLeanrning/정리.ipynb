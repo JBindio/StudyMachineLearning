{
 "cells": [
  {
   "cell_type": "code",
   "execution_count": 2,
   "id": "33bc89e9-618a-446d-a65e-8d7bb8e72639",
   "metadata": {},
   "outputs": [],
   "source": [
    "import pandas as pd\n",
    "import numpy as np\n",
    "import matplotlib.pyplot as plt\n",
    "import matplotlib\n",
    "import seaborn as sns\n",
    "from matplotlib import font_manager, rc\n",
    "import platform\n",
    "\n",
    "# seaborn 설정 리셋\n",
    "sns.reset_defaults()\n",
    "\n",
    "# 폰트설정\n",
    "if platform.system() == 'Windows' :\n",
    "    path = 'c:/Windows/Fonts/malgun.ttf'\n",
    "    font_name = font_manager.FontProperties(fname=path).get_name()\n",
    "    rc('font', family=font_name)\n",
    "elif platform.system() == 'Darwin':\n",
    "    rc('font', family='AppleGothic')\n",
    "else :\n",
    "    print('Check your OS System')\n",
    "    \n",
    "# 그래프에 마이너스 표시\n",
    "matplotlib.rcParams['axes.unicode_minus'] = False"
   ]
  },
  {
   "cell_type": "code",
   "execution_count": null,
   "id": "dc891e98-9476-409a-bc7d-505f869fa12b",
   "metadata": {},
   "outputs": [],
   "source": [
    "# 머신러닝 : 알고리즘 선택 O -> 하이퍼파라미터튜닝 -> 결과값(모델) 평가(Accuracy, r)\n",
    "# 딥러닝 : 알고리즘 선택 X -> 네트워크 구성(w집합) -> 예측(Predict) -> loss-> loss미분 -> 평가(Accuracy, loss) -> 반복\n",
    "    # 네트워크구성, loss계산법, loss미분계산법"
   ]
  },
  {
   "cell_type": "code",
   "execution_count": null,
   "id": "d412fba0-b667-480a-b22e-a810c99c9cf3",
   "metadata": {},
   "outputs": [],
   "source": [
    "# 미분\n",
    "# x = [1,2,3,4], 네트워크(w)는 a  -> predict a+b, 2a+b, 3a+b, 4a+b -> loss(a+b), loss(2a+b), loss(3a+b), loss(4a+b)"
   ]
  },
  {
   "cell_type": "code",
   "execution_count": 23,
   "id": "e9197025-c6a5-4b9d-be66-2a443a8d338d",
   "metadata": {},
   "outputs": [],
   "source": [
    "from sklearn.datasets import load_iris"
   ]
  },
  {
   "cell_type": "code",
   "execution_count": 24,
   "id": "8f0d4b4d-d4ef-46d7-a2a5-d52cf55e0a28",
   "metadata": {},
   "outputs": [],
   "source": [
    "iris = load_iris()"
   ]
  },
  {
   "cell_type": "code",
   "execution_count": 315,
   "id": "d4f829ec-1815-4158-9f3e-de162425f5d6",
   "metadata": {},
   "outputs": [],
   "source": [
    "data = iris['data']\n",
    "target = iris['target']"
   ]
  },
  {
   "cell_type": "code",
   "execution_count": 26,
   "id": "40fb26d0-9401-4a1b-93e6-3d9210749a70",
   "metadata": {},
   "outputs": [],
   "source": [
    "def sigmoid(x) :\n",
    "    return 1/(1+np.exp(-x))"
   ]
  },
  {
   "cell_type": "code",
   "execution_count": 60,
   "id": "a9dc9995-1295-462c-beba-a33ad83be12f",
   "metadata": {},
   "outputs": [],
   "source": [
    "def softmax(x) :\n",
    "    c = np.max(x, axis=1).reshape(-1,1)\n",
    "    x = x-c\n",
    "    return np.exp(x)/np.sum(np.exp(x),axis=1).reshape(-1,1)"
   ]
  },
  {
   "cell_type": "code",
   "execution_count": 63,
   "id": "1420cc38-5b17-4ce7-9043-d944c9c799f7",
   "metadata": {},
   "outputs": [
    {
     "data": {
      "text/plain": [
       "150.0"
      ]
     },
     "execution_count": 63,
     "metadata": {},
     "output_type": "execute_result"
    }
   ],
   "source": [
    "np.sum(softmax(data))"
   ]
  },
  {
   "cell_type": "code",
   "execution_count": 311,
   "id": "ae9c03cd-708e-4bc1-b032-0c45a4cee56d",
   "metadata": {},
   "outputs": [],
   "source": [
    "def categorical_crossentropy(t,y):\n",
    "    return np.mean(-t * np.log(y))"
   ]
  },
  {
   "cell_type": "code",
   "execution_count": 312,
   "id": "6ef86815-512f-45a7-9f59-894942a54868",
   "metadata": {},
   "outputs": [],
   "source": [
    "def make_one_hot(x):\n",
    "    result = np.zeros((x.size, np.unique(x).size))\n",
    "    for idx1, idx2 in enumerate(x):\n",
    "        result[idx1, idx2] = 1\n",
    "    return result"
   ]
  },
  {
   "cell_type": "code",
   "execution_count": 313,
   "id": "aa184f0b-0571-44bf-9933-d0060aca4df5",
   "metadata": {},
   "outputs": [
    {
     "data": {
      "text/plain": [
       "(150, 4)"
      ]
     },
     "execution_count": 313,
     "metadata": {},
     "output_type": "execute_result"
    }
   ],
   "source": [
    "data.shape"
   ]
  },
  {
   "cell_type": "code",
   "execution_count": 316,
   "id": "e92ea4ec-3dff-4b99-bffe-c952aaa0a643",
   "metadata": {},
   "outputs": [],
   "source": [
    "target = make_one_hot(target)"
   ]
  },
  {
   "cell_type": "code",
   "execution_count": 35,
   "id": "39971e3d-a776-4459-b328-733129b724f2",
   "metadata": {},
   "outputs": [],
   "source": [
    "input_shape = data.shape[1:]\n",
    "output_shape = target.shape[1:]"
   ]
  },
  {
   "cell_type": "code",
   "execution_count": 342,
   "id": "5c669011-96e2-488c-8add-8d210f16b23c",
   "metadata": {},
   "outputs": [],
   "source": [
    "def numerical_gradient(f,x):\n",
    "    h = 1e-4\n",
    "    grad = np.zeros_like(x)\n",
    "    it = np.nditer(x, flags=[\"multi_index\"],op_flags=[\"readwrite\"])\n",
    "    \n",
    "    while not it.finished:\n",
    "        idx = it.multi_index\n",
    "        tmp_val = x[idx]\n",
    "        x[idx] = tmp_val + h\n",
    "        fxh = f(x)\n",
    "        x[idx] = tmp_val\n",
    "        fx = f(x)\n",
    "        grad[idx] = (fxh-fx)/h\n",
    "        it.iternext()\n",
    "    return grad"
   ]
  },
  {
   "cell_type": "code",
   "execution_count": 343,
   "id": "3b155389-e94b-48df-a833-eded9b7ce517",
   "metadata": {
    "tags": []
   },
   "outputs": [],
   "source": [
    "def gradient_descent(x,t) :\n",
    "    y = predict(x)\n",
    "    loss = categorical_crossentropy(y, t)\n",
    "    w_loss = lambda w: categorical_crossentropy(y,t) \n",
    "    dw1 = numerical_gradient(w_loss,w1)\n",
    "    db1 = numerical_gradient(w_loss, b1)\n",
    "    dw2 = numerical_gradient(w_loss, w2)\n",
    "    db2 = numerical_gradient(w_loss, b2)\n",
    "    w1 -= dw1 * learning_rate\n",
    "    b1 -= db1 * learning_rate\n",
    "    w2 -= dw2 * learning_rate\n",
    "    b2 -= db2 * learning_rate"
   ]
  },
  {
   "cell_type": "code",
   "execution_count": 365,
   "id": "a0e9d80d-7061-451f-9f01-fc04e0ec0182",
   "metadata": {},
   "outputs": [],
   "source": [
    "class Network:\n",
    "    def __init__(self):\n",
    "        self.w1 = np.random.randn(4, 50)\n",
    "        self.b1 = np.zeros(50)\n",
    "        self.w2 = np.random.randn(50, 3)\n",
    "        self.b2 = np.zeros(3)\n",
    "        self.err = None\n",
    "        \n",
    "    def predict(self,x):\n",
    "        y = np.dot(x,self.w1) + self.b1\n",
    "        y = sigmoid(y)\n",
    "        y = np.dot(y,self.w2) + self.b2\n",
    "        y = softmax(y)\n",
    "        return y\n",
    "\n",
    "    def loss(self,x,t):\n",
    "        y = self.predict(x)\n",
    "        err = categorical_crossentropy(t,y)\n",
    "        self.err = err\n",
    "        return err\n",
    "    \n",
    "    def gradient(self,x,t):\n",
    "        # self.loss(x,t)\n",
    "        learning_rate = 1e-4\n",
    "        w_loss = lambda w : self.loss(x,t)\n",
    "        dw1 = numerical_gradient(w_loss,self.w1)\n",
    "        db1 = numerical_gradient(w_loss,self.b1)\n",
    "        dw2 = numerical_gradient(w_loss,self.w2)\n",
    "        db2 = numerical_gradient(w_loss,self.b2)\n",
    "        \n",
    "        self.w1 -= dw1*learning_rate\n",
    "        self.b1 -= db1*learning_rate        \n",
    "        self.w2 -= dw2*learning_rate        \n",
    "        self.b2 -= db2*learning_rate  \n",
    "        \n",
    "        return self.err"
   ]
  },
  {
   "cell_type": "code",
   "execution_count": 366,
   "id": "0603416c-24dd-4a33-ab8d-263d175da88f",
   "metadata": {},
   "outputs": [],
   "source": [
    "model = Network()"
   ]
  },
  {
   "cell_type": "code",
   "execution_count": 367,
   "id": "b06f32f6-54f8-454f-b789-3d772aadfecb",
   "metadata": {},
   "outputs": [
    {
     "data": {
      "text/plain": [
       "0"
      ]
     },
     "execution_count": 367,
     "metadata": {},
     "output_type": "execute_result"
    }
   ],
   "source": [
    "np.argmax(model.predict(data[0:1]))"
   ]
  },
  {
   "cell_type": "code",
   "execution_count": 368,
   "id": "6f044871-f03a-4251-8734-b93d27dc89de",
   "metadata": {},
   "outputs": [
    {
     "data": {
      "text/plain": [
       "1.8425239114172407"
      ]
     },
     "execution_count": 368,
     "metadata": {},
     "output_type": "execute_result"
    }
   ],
   "source": [
    "model.gradient(data, target)"
   ]
  },
  {
   "cell_type": "code",
   "execution_count": null,
   "id": "701c1c8d-db50-4e70-b0f7-66160dde00fc",
   "metadata": {},
   "outputs": [],
   "source": []
  },
  {
   "cell_type": "code",
   "execution_count": null,
   "id": "39d869da-bee4-4d3d-adec-47de6880b839",
   "metadata": {},
   "outputs": [],
   "source": []
  },
  {
   "cell_type": "code",
   "execution_count": null,
   "id": "eb53082b-eeed-4398-af66-593fb7fbbfc5",
   "metadata": {},
   "outputs": [],
   "source": []
  },
  {
   "cell_type": "code",
   "execution_count": null,
   "id": "455f0d7c-9082-4c9d-b342-d68f913f7574",
   "metadata": {},
   "outputs": [],
   "source": []
  },
  {
   "cell_type": "code",
   "execution_count": null,
   "id": "848f78df-4f65-4dc3-9068-254d74863028",
   "metadata": {},
   "outputs": [],
   "source": []
  },
  {
   "cell_type": "code",
   "execution_count": null,
   "id": "86fa2a37-362c-4852-b9b4-10edccba0190",
   "metadata": {},
   "outputs": [],
   "source": []
  },
  {
   "cell_type": "code",
   "execution_count": null,
   "id": "3792e372-8add-4987-9f95-79cb6ae373c6",
   "metadata": {},
   "outputs": [],
   "source": []
  }
 ],
 "metadata": {
  "kernelspec": {
   "display_name": "ml_kernel",
   "language": "python",
   "name": "ml"
  },
  "language_info": {
   "codemirror_mode": {
    "name": "ipython",
    "version": 3
   },
   "file_extension": ".py",
   "mimetype": "text/x-python",
   "name": "python",
   "nbconvert_exporter": "python",
   "pygments_lexer": "ipython3",
   "version": "3.9.12"
  }
 },
 "nbformat": 4,
 "nbformat_minor": 5
}
