{
 "cells": [
  {
   "cell_type": "code",
   "execution_count": 2,
   "id": "635e4f05-118a-4624-b9e0-e8d0f4a4c760",
   "metadata": {},
   "outputs": [],
   "source": [
    "import pandas as pd\n",
    "import numpy as np\n",
    "import matplotlib.pyplot as plt\n",
    "import matplotlib\n",
    "import seaborn as sns\n",
    "from matplotlib import font_manager, rc\n",
    "import platform\n",
    "\n",
    "# seaborn 설정 리셋\n",
    "sns.reset_defaults()\n",
    "\n",
    "# 폰트설정\n",
    "if platform.system() == 'Windows' :\n",
    "    path = 'c:/Windows/Fonts/malgun.ttf'\n",
    "    font_name = font_manager.FontProperties(fname=path).get_name()\n",
    "    rc('font', family=font_name)\n",
    "elif platform.system() == 'Darwin':\n",
    "    rc('font', family='AppleGothic')\n",
    "else :\n",
    "    print('Check your OS System')\n",
    "    \n",
    "# 그래프에 마이너스 표시\n",
    "matplotlib.rcParams['axes.unicode_minus'] = False"
   ]
  },
  {
   "cell_type": "code",
   "execution_count": 4,
   "id": "86336e0b-bcee-483a-b406-d0c078a47ee5",
   "metadata": {},
   "outputs": [],
   "source": [
    "def sigmoid(x):\n",
    "    return 1/(1+np.exp(-x))"
   ]
  },
  {
   "cell_type": "code",
   "execution_count": 5,
   "id": "a923fe1e-8ed6-45bb-83d1-9e0437dc6df3",
   "metadata": {},
   "outputs": [],
   "source": [
    "def softmax(x) :\n",
    "    c = np.max(x, axis=1).reshape(-1,1)\n",
    "    x = x-c\n",
    "    return np.exp(x)/np.sum(np.exp(x),axis=1).reshape(-1,1)"
   ]
  },
  {
   "cell_type": "code",
   "execution_count": 19,
   "id": "3aba705c-651c-4c2e-aacc-f5e3d94ca981",
   "metadata": {},
   "outputs": [
    {
     "data": {
      "text/plain": [
       "array([[-1,  0],\n",
       "       [ 1,  2],\n",
       "       [ 2,  0]])"
      ]
     },
     "execution_count": 19,
     "metadata": {},
     "output_type": "execute_result"
    }
   ],
   "source": [
    "x= np.array([[-1,0],[1,2],[2,0]])\n",
    "x"
   ]
  },
  {
   "cell_type": "code",
   "execution_count": 71,
   "id": "38ec907e-d11c-49c6-8441-b66936b36f82",
   "metadata": {},
   "outputs": [],
   "source": [
    "def categorical_crossentropy(t,y):\n",
    "    return np.mean(-t * np.log(y))"
   ]
  },
  {
   "cell_type": "code",
   "execution_count": 86,
   "id": "f97cd24b-7dc3-4a7c-bf1a-2f062f40fe09",
   "metadata": {},
   "outputs": [],
   "source": [
    "class Relu:\n",
    "    def __init__(self):\n",
    "        self.mask = None\n",
    "    \n",
    "    def forward(self, x):\n",
    "        self.mask = (x <= 0)\n",
    "        out = x.copy()\n",
    "        out[self.mask] = 0\n",
    "        return out\n",
    "    \n",
    "    def backward(self, dout):\n",
    "        dout[self.mask] = 0\n",
    "        dx = dout\n",
    "        return dx\n",
    "    \n",
    "class Sigmoid:\n",
    "    def __init__(self):\n",
    "        pass\n",
    "    \n",
    "    def forward(self, x):\n",
    "        out = sigmoid(x)\n",
    "        self.out = out\n",
    "        return out\n",
    "    \n",
    "    def backward(self, dout):\n",
    "        dx = ((1-self.out)*self.out) * dout\n",
    "        return dx\n",
    "    \n",
    "class Affine:\n",
    "    def __init__(self,w,b):\n",
    "        self.w = w\n",
    "        self.b = b\n",
    "        self.x = None\n",
    "        self.origin_shape = None\n",
    "        self.dw = None\n",
    "        self.db = None\n",
    "    \n",
    "    def forward(self,x):\n",
    "        self.origin_shape = x.shape\n",
    "        self.x = x\n",
    "        out = np.dot(x,self.w) + self.b\n",
    "        return out\n",
    "    \n",
    "    def backward(self,dout):\n",
    "        dx = np.dot(dout,self.w.T)\n",
    "        self.dw = np.dot(self.x.T,dout)\n",
    "        self.db = np.sum(dout,axis=0)\n",
    "        dx = dx.reshape(self.origin_shape)\n",
    "        return dx, self.dw, self.db\n",
    "    \n",
    "class Loss:\n",
    "    def __init__(self):\n",
    "        self.loss = None\n",
    "        self.y = None\n",
    "        self.t = None\n",
    "        self.predict = None\n",
    "        \n",
    "    def forward(self,y,t):\n",
    "        self.y = y\n",
    "        self.t = t\n",
    "        self.loss = categorical_crossentropy(self.t, self.y)\n",
    "        return self.loss\n",
    "    \n",
    "    def backward(self,dout = 1):\n",
    "        dx = self.y - self.t\n",
    "        return dx"
   ]
  },
  {
   "cell_type": "code",
   "execution_count": 7,
   "id": "70ce5ef4-2fc3-4fac-b9b4-3ffe752d8a36",
   "metadata": {},
   "outputs": [],
   "source": [
    "xx = Sigmoid()"
   ]
  },
  {
   "cell_type": "code",
   "execution_count": 9,
   "id": "cb4a6c92-6ade-4833-bf74-3d84337450ae",
   "metadata": {},
   "outputs": [],
   "source": [
    "a = xx.forward(np.random.randn(2,3))"
   ]
  },
  {
   "cell_type": "code",
   "execution_count": 10,
   "id": "a53d2249-e4df-49f6-86e2-64643699325a",
   "metadata": {},
   "outputs": [
    {
     "data": {
      "text/plain": [
       "array([[0.09361349, 0.03932356, 0.14783214],\n",
       "       [0.03392713, 0.14351435, 0.12609638]])"
      ]
     },
     "execution_count": 10,
     "metadata": {},
     "output_type": "execute_result"
    }
   ],
   "source": [
    "xx.backward(a)"
   ]
  },
  {
   "cell_type": "code",
   "execution_count": 26,
   "id": "0168d7f4-e5d6-4c3d-926b-3ab06c0a7951",
   "metadata": {},
   "outputs": [],
   "source": [
    "y = np.array([[7,6],[-2,5],[4,1]])"
   ]
  },
  {
   "cell_type": "code",
   "execution_count": 24,
   "id": "37a29b59-8b60-40f8-9288-d4f788e4feb6",
   "metadata": {},
   "outputs": [
    {
     "data": {
      "text/plain": [
       "array([[0, 0],\n",
       "       [1, 2],\n",
       "       [2, 0]])"
      ]
     },
     "execution_count": 24,
     "metadata": {},
     "output_type": "execute_result"
    }
   ],
   "source": [
    "relu_d = Relu()\n",
    "relu_d.forward(x)"
   ]
  },
  {
   "cell_type": "code",
   "execution_count": 27,
   "id": "559ce93d-da30-4e2e-8586-5d7619fe669b",
   "metadata": {},
   "outputs": [
    {
     "data": {
      "text/plain": [
       "array([[ 0,  0],\n",
       "       [-2,  5],\n",
       "       [ 4,  0]])"
      ]
     },
     "execution_count": 27,
     "metadata": {},
     "output_type": "execute_result"
    }
   ],
   "source": [
    "relu_d.backward(y)"
   ]
  },
  {
   "cell_type": "code",
   "execution_count": 59,
   "id": "53fc8bab-5cb8-4114-bb4c-4a9dc5284b8d",
   "metadata": {},
   "outputs": [],
   "source": [
    "sig = sigmoid"
   ]
  },
  {
   "cell_type": "code",
   "execution_count": 60,
   "id": "c0ef57b3-2ce0-492d-9e54-105bec528590",
   "metadata": {},
   "outputs": [
    {
     "data": {
      "text/plain": [
       "array([[0.38436498, 0.23262633, 0.12994354],\n",
       "       [0.17693802, 0.07657477, 0.7489652 ]])"
      ]
     },
     "execution_count": 60,
     "metadata": {},
     "output_type": "execute_result"
    }
   ],
   "source": [
    "sig(np.random.randn(2,3))"
   ]
  },
  {
   "cell_type": "code",
   "execution_count": 66,
   "id": "e24eee7e-64e0-4890-a776-7e881de858a9",
   "metadata": {},
   "outputs": [],
   "source": [
    "Affine1 = Affine(np.random.randn(5,3),np.zeros(3))"
   ]
  },
  {
   "cell_type": "code",
   "execution_count": 67,
   "id": "ee8365de-ab48-4455-b3f1-3425c21b39d0",
   "metadata": {},
   "outputs": [
    {
     "data": {
      "text/plain": [
       "array([[-0.53444476,  0.70366698, -0.48281884],\n",
       "       [ 2.29484412, -0.94666759, -3.39876404],\n",
       "       [-2.96643611, -2.04356294,  0.43939576],\n",
       "       [-2.3043202 , -1.08764593,  1.8439517 ],\n",
       "       [-0.01428214,  0.35715397, -0.04761793],\n",
       "       [-4.72800148,  3.20538883, -1.61072392],\n",
       "       [-5.20584864,  4.43128573,  2.08908369],\n",
       "       [-3.81295376,  0.52898543,  3.24114587],\n",
       "       [ 1.7538301 , -1.69012153,  1.25380734],\n",
       "       [ 0.42070439,  2.50489234,  0.93272485]])"
      ]
     },
     "execution_count": 67,
     "metadata": {},
     "output_type": "execute_result"
    }
   ],
   "source": [
    "Affine1.forward(np.random.randn(10,5))"
   ]
  },
  {
   "cell_type": "code",
   "execution_count": 74,
   "id": "aea0dc36-1feb-4ed5-bc11-38b962a9e847",
   "metadata": {},
   "outputs": [
    {
     "data": {
      "text/plain": [
       "(array([[ 0.39576501, -0.88663313,  2.7140866 , -0.13500568,  0.25818474],\n",
       "        [ 0.64622149, -0.2370506 ,  0.34020653,  0.57636187,  1.32554666],\n",
       "        [ 0.66539526, -2.1356573 ,  6.46526248, -0.57018593, -0.23909205],\n",
       "        [-1.47388092,  1.37193909, -1.50478162, -1.37668533, -0.96647668],\n",
       "        [-1.75134978,  0.06245018,  0.42017854, -1.76279826, -4.45198249],\n",
       "        [ 0.6435247 , -0.21557712, -1.02561586,  0.96672063,  0.44127059],\n",
       "        [ 1.51420921, -1.78192978,  0.68567704,  1.78975041, -0.74786511],\n",
       "        [-2.33682962,  1.70960003,  0.06040083, -2.74473381, -1.27755681],\n",
       "        [-0.30442506,  1.35565742, -5.06891411,  0.75355361, -0.18199585],\n",
       "        [ 1.18113924, -0.213838  , -3.51276899,  2.19148968,  0.24448657]]),\n",
       " array([[ 2.05647447,  4.19118745, -2.00504628],\n",
       "        [-3.50711108, -0.37284952, -3.91425713],\n",
       "        [-1.32877853,  2.73678766, -1.00140948],\n",
       "        [ 1.22712266, -0.56321925, -2.42913131],\n",
       "        [-3.98743891, -1.20390859, -5.34872602]]),\n",
       " array([ 1.61651581,  3.52352437, -0.56263953]))"
      ]
     },
     "execution_count": 74,
     "metadata": {},
     "output_type": "execute_result"
    }
   ],
   "source": [
    "Affine1.backward(np.random.randn(10,3))"
   ]
  },
  {
   "cell_type": "code",
   "execution_count": 76,
   "id": "32332e92-3eba-46ce-9e43-af53f9f91827",
   "metadata": {},
   "outputs": [
    {
     "data": {
      "text/plain": [
       "array([[0.01625139, 0.68478362, 0.29896499],\n",
       "       [0.38766205, 0.34178007, 0.27055788],\n",
       "       [0.04979505, 0.22035042, 0.72985453],\n",
       "       [0.4308588 , 0.41306679, 0.15607442],\n",
       "       [0.09521766, 0.42725617, 0.47752617],\n",
       "       [0.11908561, 0.56504533, 0.31586906],\n",
       "       [0.44452981, 0.02124384, 0.53422634],\n",
       "       [0.23815235, 0.4383816 , 0.32346605],\n",
       "       [0.49500368, 0.26280615, 0.24219017],\n",
       "       [0.17815059, 0.20700576, 0.61484365]])"
      ]
     },
     "execution_count": 76,
     "metadata": {},
     "output_type": "execute_result"
    }
   ],
   "source": [
    "y = softmax(np.random.randn(10,3))\n",
    "y"
   ]
  },
  {
   "cell_type": "code",
   "execution_count": 105,
   "id": "322403c1-cf6f-4119-88df-9f1b843ca432",
   "metadata": {},
   "outputs": [],
   "source": [
    "x = softmax(np.random.randn(10,3))"
   ]
  },
  {
   "cell_type": "code",
   "execution_count": 110,
   "id": "2e42022a-ebd6-4a1f-8b7b-0f12bfe58a9f",
   "metadata": {},
   "outputs": [],
   "source": [
    "t = np.random.randn(10,3)"
   ]
  },
  {
   "cell_type": "code",
   "execution_count": 111,
   "id": "45a0ce10-1fd0-4254-a125-89cf67595f61",
   "metadata": {},
   "outputs": [],
   "source": [
    "x = np.argmax(t,axis=1)"
   ]
  },
  {
   "cell_type": "code",
   "execution_count": 114,
   "id": "01babb9d-e38d-4da8-be8f-37712b9bf6cb",
   "metadata": {},
   "outputs": [],
   "source": [
    "t = np.zeros((10,3))"
   ]
  },
  {
   "cell_type": "code",
   "execution_count": 115,
   "id": "f086b8f4-db35-4906-838b-ee73c5a5c553",
   "metadata": {},
   "outputs": [],
   "source": [
    "for i, k in enumerate(x):\n",
    "    t[i,k] = k"
   ]
  },
  {
   "cell_type": "code",
   "execution_count": 116,
   "id": "b3f15b75-e689-4988-8538-05dc196d2a50",
   "metadata": {},
   "outputs": [
    {
     "data": {
      "text/plain": [
       "array([[0., 1., 0.],\n",
       "       [0., 1., 0.],\n",
       "       [0., 0., 2.],\n",
       "       [0., 1., 0.],\n",
       "       [0., 1., 0.],\n",
       "       [0., 1., 0.],\n",
       "       [0., 0., 0.],\n",
       "       [0., 0., 0.],\n",
       "       [0., 0., 0.],\n",
       "       [0., 0., 0.]])"
      ]
     },
     "execution_count": 116,
     "metadata": {},
     "output_type": "execute_result"
    }
   ],
   "source": [
    "t"
   ]
  },
  {
   "cell_type": "code",
   "execution_count": 117,
   "id": "b5a60d59-4e67-4dcd-b1e3-69ccac55fd75",
   "metadata": {},
   "outputs": [],
   "source": [
    "loss = Loss()"
   ]
  },
  {
   "cell_type": "code",
   "execution_count": 118,
   "id": "5f05a514-bb3c-46da-9443-602b38ede89b",
   "metadata": {},
   "outputs": [
    {
     "data": {
      "text/plain": [
       "0.14624756944695763"
      ]
     },
     "execution_count": 118,
     "metadata": {},
     "output_type": "execute_result"
    }
   ],
   "source": [
    "loss.forward(y,t)"
   ]
  },
  {
   "cell_type": "code",
   "execution_count": null,
   "id": "110941d9-f320-454e-8e76-de8437b26850",
   "metadata": {},
   "outputs": [],
   "source": []
  },
  {
   "cell_type": "code",
   "execution_count": null,
   "id": "4489230e-1c4b-4895-8ada-f72d69ddcda4",
   "metadata": {},
   "outputs": [],
   "source": []
  }
 ],
 "metadata": {
  "kernelspec": {
   "display_name": "ml_kernel",
   "language": "python",
   "name": "ml"
  },
  "language_info": {
   "codemirror_mode": {
    "name": "ipython",
    "version": 3
   },
   "file_extension": ".py",
   "mimetype": "text/x-python",
   "name": "python",
   "nbconvert_exporter": "python",
   "pygments_lexer": "ipython3",
   "version": "3.9.12"
  }
 },
 "nbformat": 4,
 "nbformat_minor": 5
}
