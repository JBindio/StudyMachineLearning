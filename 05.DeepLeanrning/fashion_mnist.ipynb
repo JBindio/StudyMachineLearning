{
 "cells": [
  {
   "cell_type": "code",
   "execution_count": 17,
   "id": "71475a67-4906-442e-95ec-1888dee269c9",
   "metadata": {},
   "outputs": [],
   "source": [
    "# 필요한 모듈 호출\n",
    "import pandas as pd\n",
    "import numpy as np\n",
    "import matplotlib.pyplot as plt\n",
    "import seaborn as sns\n",
    "from sklearn.model_selection import train_test_split\n",
    "\n",
    "# 텐서플로우 모듈\n",
    "import tensorflow as tf\n",
    "from tensorflow import keras\n",
    "from keras.models import Sequential, Model\n",
    "from tensorflow.keras.layers import Dense, Input\n",
    "from tensorflow.keras.optimizers import RMSprop\n",
    "from tensorflow.keras.utils import plot_model, to_categorical\n",
    "from tensorflow.keras.losses import binary_crossentropy, CategoricalCrossentropy"
   ]
  },
  {
   "cell_type": "code",
   "execution_count": 64,
   "id": "0a7b1871-5ff8-43b2-bfbd-5992b654903c",
   "metadata": {},
   "outputs": [],
   "source": [
    "from keras.datasets import fashion_mnist"
   ]
  },
  {
   "cell_type": "code",
   "execution_count": 65,
   "id": "ef8e09b3-943a-4b03-b9b6-1f56ef19c199",
   "metadata": {},
   "outputs": [],
   "source": [
    "fashion_dict ={0 : 'T-shirt/top',\n",
    "1 : 'Trouser',\n",
    "2 : 'Pullover',\n",
    "3 : 'Dress',\n",
    "4 : 'Coat',\n",
    "5 : 'Sandal',\n",
    "6 : 'Shirt',\n",
    "7 : 'Sneaker',\n",
    "8 : 'Bag',\n",
    "9 : 'Ankel boot',}"
   ]
  },
  {
   "cell_type": "code",
   "execution_count": 66,
   "id": "5891e789-7797-4251-a4d3-124cfcf678d6",
   "metadata": {},
   "outputs": [],
   "source": [
    "(x_train_full, y_train_full),(x_test, y_test) = fashion_mnist.load_data()"
   ]
  },
  {
   "cell_type": "code",
   "execution_count": 67,
   "id": "40238e33-e051-485b-92c9-259be648fee5",
   "metadata": {},
   "outputs": [],
   "source": [
    "x_train, x_val, y_train, y_val = \\\n",
    "    train_test_split(x_train_full, y_train_full, random_state=42)"
   ]
  },
  {
   "cell_type": "code",
   "execution_count": 68,
   "id": "0f2abac6-d74b-4cf3-ba1e-c35ecbfae442",
   "metadata": {},
   "outputs": [
    {
     "name": "stdout",
     "output_type": "stream",
     "text": [
      "Shirt\n"
     ]
    },
    {
     "data": {
      "image/png": "[encoded data removed]",
      "text/plain": [
       "<Figure size 432x288 with 1 Axes>"
      ]
     },
     "metadata": {
      "needs_background": "light"
     },
     "output_type": "display_data"
    }
   ],
   "source": [
    "plt.imshow(x_train[0])\n",
    "print(fashion_dict[y_train[0]])"
   ]
  },
  {
   "cell_type": "code",
   "execution_count": 69,
   "id": "79442ae9-166b-425d-8218-6fcad69382c6",
   "metadata": {},
   "outputs": [],
   "source": [
    "from keras.layers import Flatten"
   ]
  },
  {
   "cell_type": "code",
   "execution_count": 70,
   "id": "4a06d5b5-523f-4a84-8c26-7f2bca5090ab",
   "metadata": {},
   "outputs": [
    {
     "data": {
      "text/plain": [
       "array([[[  0,   0,   0, ...,   0,   0,   0],\n",
       "        [  0,   0,   0, ...,   0,   0,   0],\n",
       "        [  0,   0,   0, ...,   0,   0,   0],\n",
       "        ...,\n",
       "        [  0,   0,   0, ...,   0,   0,   0],\n",
       "        [  0,   0,   0, ...,   0,   0,   0],\n",
       "        [  0,   0,   0, ...,   0,   0,   0]],\n",
       "\n",
       "       [[  0,   0,   0, ...,   0,   0,   0],\n",
       "        [  0,   0,   0, ...,   0,   0,   0],\n",
       "        [  0,   0,   0, ...,   0,   0,   0],\n",
       "        ...,\n",
       "        [  0,   0,   0, ..., 181,   0,   0],\n",
       "        [  0,   0,   0, ..., 212,   0,   0],\n",
       "        [  0,   0,   0, ..., 108,   0,   0]],\n",
       "\n",
       "       [[  0,   0,   0, ...,   0,   0,   0],\n",
       "        [  0,   0,   0, ...,   0,   0,   0],\n",
       "        [  0,   0,   0, ...,   0,   0,   0],\n",
       "        ...,\n",
       "        [  0,   0,   0, ...,   0,   0,   0],\n",
       "        [  0,   0,   0, ...,   0,   0,   0],\n",
       "        [  0,   0,   0, ...,   0,   0,   0]],\n",
       "\n",
       "       ...,\n",
       "\n",
       "       [[  0,   0,   0, ...,   0,   0,   0],\n",
       "        [  0,   0,   0, ...,   0,   0,   0],\n",
       "        [  0,   0,   0, ...,   0,   0,   0],\n",
       "        ...,\n",
       "        [  0,   0,   0, ...,   0,   0,   0],\n",
       "        [  0,   0,   0, ...,   0,   0,   0],\n",
       "        [  0,   0,   0, ...,   0,   0,   0]],\n",
       "\n",
       "       [[  0,   0,   0, ...,   0,   0,   0],\n",
       "        [  0,   0,   0, ...,   0,   0,   0],\n",
       "        [  0,   0,   0, ...,   0,   0,   0],\n",
       "        ...,\n",
       "        [  0,   0,   0, ...,   0,   0,   0],\n",
       "        [  0,   0,   0, ...,   0,   0,   0],\n",
       "        [  0,   0,   0, ...,   0,   0,   0]],\n",
       "\n",
       "       [[  0,   0,   0, ...,   0,   0,   0],\n",
       "        [  0,   0,   0, ...,   0,   0,   0],\n",
       "        [  0,   0,   0, ...,   0,   0,   0],\n",
       "        ...,\n",
       "        [  0,   0,   0, ...,   0,   0,   0],\n",
       "        [  0,   0,   0, ...,   0,   0,   0],\n",
       "        [  0,   0,   0, ...,   0,   0,   0]]], dtype=uint8)"
      ]
     },
     "execution_count": 70,
     "metadata": {},
     "output_type": "execute_result"
    }
   ],
   "source": [
    "x_train"
   ]
  },
  {
   "cell_type": "code",
   "execution_count": 71,
   "id": "a9d10e5a-bce9-4d89-8cab-a0b576ea12ba",
   "metadata": {},
   "outputs": [],
   "source": [
    "y_train = to_categorical(y_train)\n",
    "y_val = to_categorical(y_val)\n",
    "y_test = to_categorical(y_test)"
   ]
  },
  {
   "cell_type": "code",
   "execution_count": 72,
   "id": "3e8c5179-2213-4b2f-9fa4-149c929b55c5",
   "metadata": {},
   "outputs": [],
   "source": [
    "# x_train --> Flatten --> Dense --> Dense --> Dense --> Dense"
   ]
  },
  {
   "cell_type": "code",
   "execution_count": 74,
   "id": "145676cb-8161-4b8b-a1ad-bc39a55f6e90",
   "metadata": {},
   "outputs": [],
   "source": [
    "input_shape = x_train.shape[1:]\n",
    "output_shape = y_train.shape[1]\n",
    "\n",
    "model1 = Sequential(\n",
    "    [\n",
    "        Flatten(input_shape = input_shape),\n",
    "        Dense(2048, activation = 'relu'),\n",
    "        Dense(1024, activation = 'relu'),\n",
    "        Dense(512, activation = 'relu'),\n",
    "        Dense(output_shape, activation = 'softmax')\n",
    "        \n",
    "    ])\n",
    "\n",
    "model2 = Sequential(\n",
    "    [\n",
    "        Flatten(input_shape = input_shape),\n",
    "        Dense(2048, activation = 'sigmoid'),\n",
    "        Dense(1024, activation = 'sigmoid'),\n",
    "        Dense(512, activation = 'sigmoid'),\n",
    "        Dense(output_shape, activation = 'softmax')\n",
    "        \n",
    "    ])"
   ]
  },
  {
   "cell_type": "code",
   "execution_count": 78,
   "id": "7787b365-aa41-4c3a-b346-89e7b6f4f4b7",
   "metadata": {},
   "outputs": [
    {
     "data": {
      "text/plain": [
       "True"
      ]
     },
     "execution_count": 78,
     "metadata": {},
     "output_type": "execute_result"
    }
   ],
   "source": [
    "for i in range(1, len(model1.layers)):\n",
    "    model2.layers[i].set_weights([model1.layers[i].get_weights()[0],\n",
    "                                  model1.layers[i].get_weights()[1]])\n",
    "np.sum(model1.layers[1].get_weights()[0]) == np.sum(model2.layers[1].get_weights()[0])"
   ]
  },
  {
   "cell_type": "code",
   "execution_count": 79,
   "id": "b57e9d7f-289d-4801-be9c-b6c8080ecc68",
   "metadata": {},
   "outputs": [],
   "source": [
    "optimizer = 'adam'\n",
    "loss = 'categorical_crossentropy'\n",
    "metrics = ['accuracy']\n",
    "\n",
    "model1.compile(optimizer = optimizer,\n",
    "               loss = loss,\n",
    "               metrics= metrics)\n",
    "\n",
    "model2.compile(optimizer = optimizer,\n",
    "               loss = loss,\n",
    "               metrics= metrics)"
   ]
  },
  {
   "cell_type": "code",
   "execution_count": 85,
   "id": "5f251bb9-d8dd-454c-ae23-2fe2057236b5",
   "metadata": {},
   "outputs": [
    {
     "data": {
      "text/plain": [
       "<keras.callbacks.History at 0x20f05bc8ac0>"
      ]
     },
     "execution_count": 85,
     "metadata": {},
     "output_type": "execute_result"
    }
   ],
   "source": [
    "model1.fit(x_train,\n",
    "           y_train,\n",
    "           epochs=30,\n",
    "           batch_size=400,\n",
    "           verbose = 0)\n",
    "\n",
    "model2.fit(x_train,\n",
    "           y_train,\n",
    "           epochs=30,\n",
    "           batch_size=400,\n",
    "           verbose = 0)"
   ]
  },
  {
   "cell_type": "code",
   "execution_count": 82,
   "id": "b013e040-f9ae-4e45-a51f-91ee637798aa",
   "metadata": {},
   "outputs": [
    {
     "name": "stdout",
     "output_type": "stream",
     "text": [
      "313/313 [==============================] - 1s 3ms/step - loss: 0.4553 - accuracy: 0.8766\n",
      "[0.45533207058906555, 0.8766000270843506]\n",
      "313/313 [==============================] - 1s 3ms/step - loss: 0.5474 - accuracy: 0.7964\n",
      "[0.5473549365997314, 0.7964000105857849]\n"
     ]
    }
   ],
   "source": [
    "print(model1.evaluate(x_test, y_test))\n",
    "print(model2.evaluate(x_test, y_test))"
   ]
  },
  {
   "cell_type": "code",
   "execution_count": 88,
   "id": "733b1a96-7e24-426e-afe5-5027a2014ff9",
   "metadata": {},
   "outputs": [],
   "source": [
    "input_shape = x_train.shape[1:]\n",
    "output_shape = y_train.shape[1]\n",
    "\n",
    "model3 = Sequential(\n",
    "    [\n",
    "        Flatten(input_shape = input_shape),\n",
    "        Dense(1024, activation = 'relu'),\n",
    "        Dense(512, activation = 'relu'),\n",
    "        Dense(256, activation = 'relu'),\n",
    "        Dense(output_shape, activation = 'softmax')\n",
    "        \n",
    "    ])\n",
    "\n",
    "model4 = Sequential(\n",
    "    [\n",
    "        Flatten(input_shape = input_shape),\n",
    "        Dense(2048, activation = 'relu'),\n",
    "        Dense(1024, activation = 'relu'),\n",
    "        Dense(512, activation = 'relu'),\n",
    "        Dense(output_shape, activation = 'softmax')\n",
    "        \n",
    "    ])"
   ]
  },
  {
   "cell_type": "code",
   "execution_count": 90,
   "id": "dcb7173f-58c3-4f21-b1b9-8120b463b663",
   "metadata": {},
   "outputs": [],
   "source": [
    "optimizer = 'adam'\n",
    "loss = 'categorical_crossentropy'\n",
    "metrics = ['accuracy']\n",
    "\n",
    "model3.compile(optimizer = optimizer,\n",
    "               loss = loss,\n",
    "               metrics= metrics)\n",
    "\n",
    "model4.compile(optimizer = optimizer,\n",
    "               loss = loss,\n",
    "               metrics= metrics)"
   ]
  },
  {
   "cell_type": "code",
   "execution_count": 91,
   "id": "bb96da06-1be1-4b03-9d4c-526773052fb8",
   "metadata": {},
   "outputs": [
    {
     "data": {
      "text/plain": [
       "<keras.callbacks.History at 0x20f0651c100>"
      ]
     },
     "execution_count": 91,
     "metadata": {},
     "output_type": "execute_result"
    }
   ],
   "source": [
    "model3.fit(x_train,\n",
    "           y_train,\n",
    "           epochs=30,\n",
    "           batch_size=400,\n",
    "           verbose = 0)\n",
    "\n",
    "model4.fit(x_train,\n",
    "           y_train,\n",
    "           epochs=30,\n",
    "           batch_size=400,\n",
    "           verbose = 0)"
   ]
  },
  {
   "cell_type": "code",
   "execution_count": 92,
   "id": "21f691da-22f8-4e20-ada2-036b7250f65d",
   "metadata": {},
   "outputs": [
    {
     "name": "stdout",
     "output_type": "stream",
     "text": [
      "313/313 [==============================] - 1s 2ms/step - loss: 0.4470 - accuracy: 0.8676\n",
      "[0.4469723105430603, 0.8676000237464905]\n",
      "313/313 [==============================] - 1s 3ms/step - loss: 0.4750 - accuracy: 0.8737\n",
      "[0.47499334812164307, 0.8737000226974487]\n"
     ]
    }
   ],
   "source": [
    "print(model3.evaluate(x_test, y_test))\n",
    "print(model4.evaluate(x_test, y_test))"
   ]
  },
  {
   "cell_type": "code",
   "execution_count": 93,
   "id": "b6dec343-a7fb-45f0-a116-83e8c9d5942c",
   "metadata": {},
   "outputs": [],
   "source": [
    "input_shape = x_train.shape[1:]\n",
    "output_shape = y_train.shape[1]\n",
    "\n",
    "model5 = Sequential(\n",
    "    [\n",
    "        Flatten(input_shape = input_shape),\n",
    "        Dense(1024, activation = 'relu'),\n",
    "        Dense(512, activation = 'relu'),\n",
    "        Dense(256, activation = 'relu'),\n",
    "        Dense(output_shape, activation = 'softmax')\n",
    "        \n",
    "    ])\n",
    "\n",
    "model6 = Sequential(\n",
    "    [\n",
    "        Flatten(input_shape = input_shape),\n",
    "        Dense(2048, activation = 'relu'),\n",
    "        Dense(1024, activation = 'relu'),\n",
    "        Dense(512, activation = 'relu'),\n",
    "        Dense(256, activation = 'relu'),\n",
    "        Dense(128, activation = 'relu'),\n",
    "        Dense(output_shape, activation = 'softmax')\n",
    "        \n",
    "    ])"
   ]
  },
  {
   "cell_type": "code",
   "execution_count": 94,
   "id": "a76155c0-c473-480b-8621-b39bcfed12aa",
   "metadata": {},
   "outputs": [],
   "source": [
    "optimizer = 'adam'\n",
    "loss = 'categorical_crossentropy'\n",
    "metrics = ['accuracy']\n",
    "\n",
    "model5.compile(optimizer = optimizer,\n",
    "               loss = loss,\n",
    "               metrics= metrics)\n",
    "\n",
    "model6.compile(optimizer = optimizer,\n",
    "               loss = loss,\n",
    "               metrics= metrics)"
   ]
  },
  {
   "cell_type": "code",
   "execution_count": 95,
   "id": "473a461b-f5de-40f0-8a9a-17e2e0432fc7",
   "metadata": {},
   "outputs": [
    {
     "data": {
      "text/plain": [
       "<keras.callbacks.History at 0x20f11934af0>"
      ]
     },
     "execution_count": 95,
     "metadata": {},
     "output_type": "execute_result"
    }
   ],
   "source": [
    "model5.fit(x_train,\n",
    "           y_train,\n",
    "           epochs=10,\n",
    "           batch_size=400,\n",
    "           verbose = 0)\n",
    "\n",
    "model6.fit(x_train,\n",
    "           y_train,\n",
    "           epochs=10,\n",
    "           batch_size=400,\n",
    "           verbose = 0)"
   ]
  },
  {
   "cell_type": "code",
   "execution_count": 96,
   "id": "ff02f3b8-234d-4ee1-b96c-ad4f978ee02a",
   "metadata": {},
   "outputs": [
    {
     "name": "stdout",
     "output_type": "stream",
     "text": [
      "313/313 [==============================] - 1s 2ms/step - loss: 0.4561 - accuracy: 0.8584\n",
      "[0.4561493694782257, 0.8583999872207642]\n",
      "313/313 [==============================] - 1s 3ms/step - loss: 0.3838 - accuracy: 0.8640\n",
      "[0.3837832808494568, 0.8640000224113464]\n"
     ]
    }
   ],
   "source": [
    "print(model5.evaluate(x_test, y_test))\n",
    "print(model6.evaluate(x_test, y_test))"
   ]
  },
  {
   "cell_type": "code",
   "execution_count": 97,
   "id": "86b66ce3-403a-4fc7-b44f-f12c77523b34",
   "metadata": {},
   "outputs": [],
   "source": [
    "input_shape = x_train.shape[1:]\n",
    "output_shape = y_train.shape[1]\n",
    "\n",
    "model7 = Sequential(\n",
    "    [\n",
    "        Flatten(input_shape = input_shape),\n",
    "        Dense(2048, activation = 'relu'),\n",
    "        Dense(1024, activation = 'relu'),\n",
    "        Dense(512, activation = 'relu'),\n",
    "        Dense(256, activation = 'relu'),\n",
    "        Dense(output_shape, activation = 'softmax')\n",
    "        \n",
    "    ])\n",
    "\n",
    "model8 = Sequential(\n",
    "    [\n",
    "        Flatten(input_shape = input_shape),\n",
    "        Dense(2048, activation = 'relu'),\n",
    "        Dense(1024, activation = 'relu'),\n",
    "        Dense(512, activation = 'relu'),\n",
    "        Dense(256, activation = 'relu'),\n",
    "        Dense(output_shape, activation = 'softmax')\n",
    "        \n",
    "    ])"
   ]
  },
  {
   "cell_type": "code",
   "execution_count": 102,
   "id": "585560d8-05eb-4b43-8ea4-db2652c25692",
   "metadata": {},
   "outputs": [],
   "source": [
    "optimizer ='sgd'\n",
    "loss = 'categorical_crossentropy'\n",
    "metrics = ['accuracy']\n",
    "\n",
    "model7.compile(\n",
    "    optimizer = optimizer,\n",
    "    loss= loss,\n",
    "    metrics= metrics)\n",
    "\n",
    "\n",
    "model8.compile(\n",
    "    optimizer = optimizer,\n",
    "    loss= loss,\n",
    "    metrics= metrics)"
   ]
  },
  {
   "cell_type": "code",
   "execution_count": 100,
   "id": "8011dd42-a208-479a-b1d0-df90456fc404",
   "metadata": {},
   "outputs": [
    {
     "data": {
      "text/plain": [
       "<keras.callbacks.History at 0x20f59e90040>"
      ]
     },
     "execution_count": 100,
     "metadata": {},
     "output_type": "execute_result"
    }
   ],
   "source": [
    "model7.fit(x_train,\n",
    "           y_train,\n",
    "           epochs= 20,\n",
    "           batch_size = len(x_train),\n",
    "           verbose =0)\n",
    "\n",
    "model8.fit(x_train,\n",
    "           y_train,\n",
    "           epochs= 20,\n",
    "           batch_size = 400,\n",
    "           verbose =0)"
   ]
  },
  {
   "cell_type": "code",
   "execution_count": 101,
   "id": "3f0e724b-3b8f-4bf9-b0a8-2c860e30722d",
   "metadata": {},
   "outputs": [
    {
     "name": "stdout",
     "output_type": "stream",
     "text": [
      "313/313 [==============================] - 1s 3ms/step - loss: nan - accuracy: 0.1000\n",
      "[nan, 0.10000000149011612]\n",
      "313/313 [==============================] - 1s 3ms/step - loss: nan - accuracy: 0.1000\n",
      "[nan, 0.10000000149011612]\n"
     ]
    }
   ],
   "source": [
    "print(model7.evaluate(x_test, y_test))\n",
    "print(model8.evaluate(x_test, y_test))"
   ]
  }
 ],
 "metadata": {
  "kernelspec": {
   "display_name": "keras",
   "language": "python",
   "name": "keras"
  },
  "language_info": {
   "codemirror_mode": {
    "name": "ipython",
    "version": 3
   },
   "file_extension": ".py",
   "mimetype": "text/x-python",
   "name": "python",
   "nbconvert_exporter": "python",
   "pygments_lexer": "ipython3",
   "version": "3.8.13"
  }
 },
 "nbformat": 4,
 "nbformat_minor": 5
}
