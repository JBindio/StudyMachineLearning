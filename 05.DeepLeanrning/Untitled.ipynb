{
 "cells": [
  {
   "cell_type": "code",
   "execution_count": 3,
   "id": "be0ff557-43c0-438f-afe1-20e72e50ccc6",
   "metadata": {},
   "outputs": [],
   "source": [
    "import pandas as pd\n",
    "import numpy as np\n",
    "import matplotlib.pyplot as plt\n",
    "import matplotlib\n",
    "import seaborn as sns\n",
    "from matplotlib import font_manager, rc\n",
    "import platform\n",
    "\n",
    "# seaborn 설정 리셋\n",
    "sns.reset_defaults()\n",
    "\n",
    "# 폰트설정\n",
    "if platform.system() == 'Windows' :\n",
    "    path = 'c:/Windows/Fonts/malgun.ttf'\n",
    "    font_name = font_manager.FontProperties(fname=path).get_name()\n",
    "    rc('font', family=font_name)\n",
    "elif platform.system() == 'Darwin':\n",
    "    rc('font', family='AppleGothic')\n",
    "else :\n",
    "    print('Check your OS System')\n",
    "    \n",
    "# 그래프에 마이너스 표시\n",
    "matplotlib.rcParams['axes.unicode_minus'] = False"
   ]
  },
  {
   "cell_type": "code",
   "execution_count": 11,
   "id": "717d3172-a044-4ad8-beb5-d5bfab7bbc61",
   "metadata": {},
   "outputs": [],
   "source": [
    "def sigmoid(x):\n",
    "    return 1/(1+np.exp(-x))"
   ]
  },
  {
   "cell_type": "code",
   "execution_count": 12,
   "id": "74210c40-14e0-4bf9-97a0-49f87366e2e9",
   "metadata": {},
   "outputs": [],
   "source": [
    "def softmax(x) :\n",
    "    c = np.max(x, axis=1).reshape(-1,1)\n",
    "    x = x-c\n",
    "    return np.exp(x)/np.sum(np.exp(x),axis=1).reshape(-1,1)"
   ]
  },
  {
   "cell_type": "code",
   "execution_count": 25,
   "id": "50fee537-682b-4e61-923c-350d2a3e2dcc",
   "metadata": {},
   "outputs": [],
   "source": [
    "x = np.random.randn(100000,10000)"
   ]
  },
  {
   "cell_type": "code",
   "execution_count": 26,
   "id": "4019250d-c6be-4f18-9b4b-029f69b43341",
   "metadata": {},
   "outputs": [],
   "source": [
    "l1 = np.random.randn(10000,1024)"
   ]
  },
  {
   "cell_type": "code",
   "execution_count": 27,
   "id": "44df2f97-5971-496a-a0b3-764640a0d29c",
   "metadata": {},
   "outputs": [],
   "source": [
    "a1 = sigmoid"
   ]
  },
  {
   "cell_type": "code",
   "execution_count": 28,
   "id": "b5ecc7c6-4e30-4b18-a463-869634401d57",
   "metadata": {},
   "outputs": [],
   "source": [
    "l2 = np.random.randn(1024,10)"
   ]
  },
  {
   "cell_type": "code",
   "execution_count": 29,
   "id": "73f0e91e-ed5a-4521-8cc0-1d945fb7ee44",
   "metadata": {},
   "outputs": [],
   "source": [
    "a2 = softmax"
   ]
  },
  {
   "cell_type": "code",
   "execution_count": 30,
   "id": "87f4100d-ee5e-4238-b6b6-bdc92b88d667",
   "metadata": {},
   "outputs": [],
   "source": [
    "b1 = np.zeros(10000)\n",
    "b2 = np.zeros(1024)"
   ]
  },
  {
   "cell_type": "code",
   "execution_count": 31,
   "id": "ceee499d-2ba5-482a-bba0-956e70a04847",
   "metadata": {},
   "outputs": [
    {
     "name": "stdout",
     "output_type": "stream",
     "text": [
      "CPU times: total: 1min 27s\n",
      "Wall time: 24.2 s\n"
     ]
    }
   ],
   "source": [
    "%%time\n",
    "predict = a2(np.dot(a1(np.dot(x,l1)),l2))"
   ]
  },
  {
   "cell_type": "code",
   "execution_count": 36,
   "id": "fedaf1be-676f-43d0-926d-c65b3c49c8ba",
   "metadata": {},
   "outputs": [
    {
     "data": {
      "text/plain": [
       "21.777209538305428"
      ]
     },
     "execution_count": 36,
     "metadata": {},
     "output_type": "execute_result"
    }
   ],
   "source": [
    "((10000*1024 + 1024*10)*67) /(60*60*24) /365"
   ]
  },
  {
   "cell_type": "code",
   "execution_count": 77,
   "id": "04499b64-96d0-4232-b8cb-48a994f298ef",
   "metadata": {},
   "outputs": [],
   "source": [
    "data = np.linspace(-10,10,100)"
   ]
  },
  {
   "cell_type": "code",
   "execution_count": 78,
   "id": "68280db2-e154-44db-ad9d-8e1c83a39da7",
   "metadata": {},
   "outputs": [
    {
     "data": {
      "image/png": "[encoded data removed]",
      "text/plain": [
       "<Figure size 640x480 with 1 Axes>"
      ]
     },
     "metadata": {},
     "output_type": "display_data"
    }
   ],
   "source": [
    "# sigmoid 미분값\n",
    "# 0.25이상 올라가지 않는다\n",
    "# 딥러닝에는 어울리지 않음 그러나 rnn에서는 좋음\n",
    "plt.plot(data, sigmoid(data) * (1-sigmoid(data)))\n",
    "plt.show()"
   ]
  },
  {
   "cell_type": "code",
   "execution_count": 235,
   "id": "5f30a0c8-9269-4ed6-9f3e-2d4f00b878cd",
   "metadata": {},
   "outputs": [],
   "source": [
    "class AddNode:\n",
    "    def __init__(self):\n",
    "        pass\n",
    "    def forward(self, x, y):\n",
    "        self.x = x\n",
    "        self.y = y\n",
    "        out = self.x+ self.y\n",
    "        return out\n",
    "    def backward(self,dout):\n",
    "        dx = dout * 1\n",
    "        dy = dout * 1\n",
    "        return dx, dy\n",
    "    \n",
    "    \n",
    "class MulNode:\n",
    "    def __init__(self):\n",
    "        self.x = None\n",
    "        self.y = None\n",
    "        \n",
    "    def forward(self,x,y):\n",
    "        self.x = x\n",
    "        self.y = y\n",
    "        out = self.x * self.y\n",
    "        return out\n",
    "    \n",
    "    def backward(self, dout):\n",
    "        dx = self.y * dout\n",
    "        dy = self.x * dout\n",
    "        return dx, dy"
   ]
  },
  {
   "cell_type": "code",
   "execution_count": 243,
   "id": "cffa1753-47ac-4e63-aa5b-4233caadd146",
   "metadata": {},
   "outputs": [],
   "source": [
    "apple = 100\n",
    "apple_num = 2\n",
    "banana = 300\n",
    "banana_num = 5\n",
    "tax = 1.1"
   ]
  },
  {
   "cell_type": "code",
   "execution_count": 244,
   "id": "f23580f9-6835-42a0-af79-b2ccec630047",
   "metadata": {},
   "outputs": [],
   "source": [
    "mul_apple_layer = MulNode()\n",
    "mul_apple_layer_tax = MulNode()"
   ]
  },
  {
   "cell_type": "code",
   "execution_count": 245,
   "id": "b0ad0833-be28-441f-83c9-460ae8df27b5",
   "metadata": {},
   "outputs": [],
   "source": [
    "apple_price = mul_apple_layer.forward(apple,apple_num)"
   ]
  },
  {
   "cell_type": "code",
   "execution_count": 246,
   "id": "8a9e4524-2601-41b2-92eb-ab7d0dbb1a1e",
   "metadata": {},
   "outputs": [],
   "source": [
    "apple_total_price = mul_apple_layer_tax.forward(apple_price,tax)"
   ]
  },
  {
   "cell_type": "code",
   "execution_count": 247,
   "id": "85e432d8-b2be-4ef0-ac80-7b8a8d69eb8c",
   "metadata": {},
   "outputs": [
    {
     "data": {
      "text/plain": [
       "220.00000000000003"
      ]
     },
     "execution_count": 247,
     "metadata": {},
     "output_type": "execute_result"
    }
   ],
   "source": [
    "apple_total_price"
   ]
  },
  {
   "cell_type": "code",
   "execution_count": 248,
   "id": "5efd6996-7201-454a-946e-a4943fe46bc2",
   "metadata": {},
   "outputs": [],
   "source": [
    "dout = 1\n",
    "dapple, dapple_tax =mul_apple_layer_tax.backward(dout)"
   ]
  },
  {
   "cell_type": "code",
   "execution_count": 249,
   "id": "e4091edb-fd1c-4d07-af1d-5e7ed0885b4b",
   "metadata": {},
   "outputs": [
    {
     "name": "stdout",
     "output_type": "stream",
     "text": [
      "1.1\n",
      "200\n"
     ]
    }
   ],
   "source": [
    "print(dapple)\n",
    "print(dapple_tax)"
   ]
  },
  {
   "cell_type": "code",
   "execution_count": 250,
   "id": "315adc4a-f303-45f4-8d74-adfc414a7b7e",
   "metadata": {},
   "outputs": [],
   "source": [
    "mul_banana_layer = MulNode()\n",
    "mul_banana_layer_tax =MulNode()"
   ]
  },
  {
   "cell_type": "code",
   "execution_count": 251,
   "id": "a3d0f19c-91ad-4d9d-814d-03bea777cdc7",
   "metadata": {},
   "outputs": [],
   "source": [
    "banana_price = mul_banana_layer.forward(banana, banana_num)"
   ]
  },
  {
   "cell_type": "code",
   "execution_count": 252,
   "id": "39ed9dd9-ce60-4f5e-9d30-04304e32c60a",
   "metadata": {},
   "outputs": [],
   "source": [
    "banana_total_price = mul_banana_layer_tax.forward(banana_price, tax)"
   ]
  },
  {
   "cell_type": "code",
   "execution_count": 253,
   "id": "83868b01-a4dd-4b1c-a2fc-64672c08b287",
   "metadata": {},
   "outputs": [],
   "source": [
    "dbanana, dtbanana_tax = mul_banana_layer_tax.backward(dout)"
   ]
  },
  {
   "cell_type": "code",
   "execution_count": 254,
   "id": "a6e589cf-9621-4710-aab9-116f868bc39d",
   "metadata": {},
   "outputs": [
    {
     "data": {
      "text/plain": [
       "1650.0000000000002"
      ]
     },
     "execution_count": 254,
     "metadata": {},
     "output_type": "execute_result"
    }
   ],
   "source": [
    "banana_total_price"
   ]
  },
  {
   "cell_type": "code",
   "execution_count": 255,
   "id": "5cabced8-ad50-40b1-b488-d96ce8d40aa1",
   "metadata": {},
   "outputs": [],
   "source": [
    "total_layer = AddNode()"
   ]
  },
  {
   "cell_type": "code",
   "execution_count": 256,
   "id": "17bed856-c08e-40a7-82fe-a7ba473e07e6",
   "metadata": {},
   "outputs": [
    {
     "data": {
      "text/plain": [
       "1870.0000000000002"
      ]
     },
     "execution_count": 256,
     "metadata": {},
     "output_type": "execute_result"
    }
   ],
   "source": [
    "total_layer.forward(apple_total_price, banana_total_price)"
   ]
  },
  {
   "cell_type": "code",
   "execution_count": 257,
   "id": "15a6ba38-3db0-4b68-b56d-243a7d0bcaad",
   "metadata": {},
   "outputs": [],
   "source": [
    "mul_apple_layer = MulNode()\n",
    "mul_banana_layer = MulNode()\n",
    "add_apple_banana_layer = AddNode()\n",
    "mul_tax_layer = MulNode()"
   ]
  },
  {
   "cell_type": "code",
   "execution_count": 260,
   "id": "8e7e29ac-cb83-4b3c-bba8-97ae23de1d82",
   "metadata": {},
   "outputs": [],
   "source": [
    "apple_price = mul_apple_layer.forward(apple, apple_num)\n",
    "banana_price = mul_banana_layer.forward(banana, banana_num)"
   ]
  },
  {
   "cell_type": "code",
   "execution_count": 261,
   "id": "847d40ab-4e2b-4345-8b79-120c7b65175f",
   "metadata": {},
   "outputs": [],
   "source": [
    "all_price = add_apple_banana_layer.forward(apple_price, banana_price)"
   ]
  },
  {
   "cell_type": "code",
   "execution_count": 263,
   "id": "70192c63-58b7-42aa-a9e9-5808f9af5356",
   "metadata": {},
   "outputs": [],
   "source": [
    "total_price = mul_tax_layer.forward(all_price, tax)"
   ]
  },
  {
   "cell_type": "code",
   "execution_count": 264,
   "id": "fe015d24-2caf-4c8d-934b-9c7a249c046f",
   "metadata": {},
   "outputs": [
    {
     "data": {
      "text/plain": [
       "1870.0000000000002"
      ]
     },
     "execution_count": 264,
     "metadata": {},
     "output_type": "execute_result"
    }
   ],
   "source": [
    "total_price"
   ]
  },
  {
   "cell_type": "code",
   "execution_count": 271,
   "id": "2fe5db59-d90a-45c9-ac84-8b90db27b594",
   "metadata": {},
   "outputs": [
    {
     "name": "stdout",
     "output_type": "stream",
     "text": [
      "apple_price = 200\n",
      "banana_price = 1500\n",
      "all_price = 1700\n",
      "total_price = 1870.0000000000002\n"
     ]
    }
   ],
   "source": [
    "print(f'apple_price = {apple_price}')\n",
    "print(f'banana_price = {banana_price}')\n",
    "print(f'all_price = {all_price}')\n",
    "print(f'total_price = {total_price}')\n"
   ]
  },
  {
   "cell_type": "code",
   "execution_count": 274,
   "id": "3ef97508-9e07-4d06-a0fd-8ded09a9cd4f",
   "metadata": {},
   "outputs": [],
   "source": [
    "dout = 1\n",
    "dtotal_price, dtax = mul_tax_layer.backward(dout)"
   ]
  },
  {
   "cell_type": "code",
   "execution_count": 275,
   "id": "649b95ea-865a-45e5-86ee-011fecf1aa1b",
   "metadata": {},
   "outputs": [
    {
     "data": {
      "text/plain": [
       "1.1"
      ]
     },
     "execution_count": 275,
     "metadata": {},
     "output_type": "execute_result"
    }
   ],
   "source": [
    "dtotal_price"
   ]
  },
  {
   "cell_type": "code",
   "execution_count": null,
   "id": "3643b3b4-6b75-4ef5-952f-4450805b11af",
   "metadata": {},
   "outputs": [],
   "source": []
  },
  {
   "cell_type": "code",
   "execution_count": null,
   "id": "98b0c6bc-7cdb-46b5-be53-8a261309f2b4",
   "metadata": {},
   "outputs": [],
   "source": []
  },
  {
   "cell_type": "code",
   "execution_count": null,
   "id": "a67a5029-8c14-4b2e-99a2-cf598e447cd0",
   "metadata": {},
   "outputs": [],
   "source": []
  },
  {
   "cell_type": "code",
   "execution_count": null,
   "id": "3a623a19-6d38-45d4-bba1-668410ff1aa5",
   "metadata": {},
   "outputs": [],
   "source": []
  },
  {
   "cell_type": "code",
   "execution_count": null,
   "id": "02ed5d53-7222-41d2-a5d2-40658f0bc457",
   "metadata": {},
   "outputs": [],
   "source": []
  },
  {
   "cell_type": "code",
   "execution_count": null,
   "id": "c489689f-e9c1-43d1-abe3-e95028952fe2",
   "metadata": {},
   "outputs": [],
   "source": []
  }
 ],
 "metadata": {
  "kernelspec": {
   "display_name": "ml_kernel",
   "language": "python",
   "name": "ml"
  },
  "language_info": {
   "codemirror_mode": {
    "name": "ipython",
    "version": 3
   },
   "file_extension": ".py",
   "mimetype": "text/x-python",
   "name": "python",
   "nbconvert_exporter": "python",
   "pygments_lexer": "ipython3",
   "version": "3.9.12"
  }
 },
 "nbformat": 4,
 "nbformat_minor": 5
}
