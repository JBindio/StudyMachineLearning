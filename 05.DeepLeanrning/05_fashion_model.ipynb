{
 "cells": [
  {
   "cell_type": "code",
   "execution_count": 2,
   "metadata": {},
   "outputs": [],
   "source": [
    "## 기본 모듈\n",
    "import numpy as np\n",
    "import pandas as pd\n",
    "import matplotlib.pyplot as plt\n",
    "import seaborn as sns\n",
    "from sklearn.model_selection import train_test_split\n",
    "\n",
    "## 모듈 import\n",
    "from tensorflow import keras\n",
    "from keras.models import Sequential, Model\n",
    "from keras.layers import Dense, Input\n",
    "from keras.utils import to_categorical, plot_model\n",
    "from keras.datasets import mnist\n",
    "from keras.optimizers import RMSprop\n",
    "from keras.losses import CategoricalCrossentropy"
   ]
  },
  {
   "cell_type": "code",
   "execution_count": 23,
   "metadata": {},
   "outputs": [],
   "source": [
    "###\n",
    "from keras.datasets import fashion_mnist"
   ]
  },
  {
   "cell_type": "code",
   "execution_count": 24,
   "metadata": {},
   "outputs": [],
   "source": [
    "fashion_dict = {0 : \"T-shirt/top\",\n",
    "1 : \"Trouser\",\n",
    "2 : \"Pullover\",\n",
    "3 : \"Dress\",\n",
    "4 : \"Coat\",\n",
    "5 : \"Sandal\",\n",
    "6 : \"Shirt\",\n",
    "7 : \"Sneaker\",\n",
    "8 : \"Bag\",\n",
    "9 : \"Ankel boot\",\n",
    "}"
   ]
  },
  {
   "cell_type": "code",
   "execution_count": 25,
   "metadata": {},
   "outputs": [],
   "source": [
    "(X_train_full, y_train_full), (X_test, y_test) = fashion_mnist.load_data()"
   ]
  },
  {
   "cell_type": "code",
   "execution_count": 26,
   "metadata": {},
   "outputs": [],
   "source": [
    "X_train, X_val, y_train, y_val = train_test_split(X_train_full, y_train_full)"
   ]
  },
  {
   "cell_type": "code",
   "execution_count": 27,
   "metadata": {},
   "outputs": [
    {
     "name": "stdout",
     "output_type": "stream",
     "text": [
      "Dress\n"
     ]
    },
    {
     "data": {
      "image/png": "[encoded data removed]",
      "text/plain": [
       "<Figure size 432x288 with 1 Axes>"
      ]
     },
     "metadata": {
      "needs_background": "light"
     },
     "output_type": "display_data"
    }
   ],
   "source": [
    "plt.imshow(X_train[0])\n",
    "print(fashion_dict[y_train[0]])"
   ]
  },
  {
   "cell_type": "code",
   "execution_count": 28,
   "metadata": {},
   "outputs": [
    {
     "data": {
      "text/plain": [
       "(45000, 28, 28)"
      ]
     },
     "execution_count": 28,
     "metadata": {},
     "output_type": "execute_result"
    }
   ],
   "source": [
    "X_train.shape"
   ]
  },
  {
   "cell_type": "code",
   "execution_count": 29,
   "metadata": {},
   "outputs": [],
   "source": [
    "from keras.layers import Flatten"
   ]
  },
  {
   "cell_type": "markdown",
   "metadata": {},
   "source": [
    "### X_train --> Flatten --> Dense --> Dense --> Dense --> Dense(output)"
   ]
  },
  {
   "cell_type": "code",
   "execution_count": 30,
   "metadata": {},
   "outputs": [],
   "source": [
    "y_train = to_categorical(y_train)\n",
    "y_val = to_categorical(y_val)\n",
    "y_test = to_categorical(y_test)"
   ]
  },
  {
   "cell_type": "code",
   "execution_count": 32,
   "metadata": {},
   "outputs": [],
   "source": [
    "input_shape = X_train.shape[1:]\n",
    "output_shape = y_train.shape[1]\n",
    "\n",
    "model1 = Sequential(\n",
    "    [\n",
    "        Flatten(input_shape=input_shape),\n",
    "        Dense(2048,activation=\"relu\"),\n",
    "        Dense(1024,activation=\"relu\"),\n",
    "        Dense(512,activation=\"relu\"),\n",
    "        Dense(output_shape,activation=\"softmax\")\n",
    "    ]\n",
    ")\n",
    "\n",
    "model2 = Sequential(\n",
    "    [\n",
    "        Flatten(input_shape=input_shape),\n",
    "        Dense(2048,activation=\"sigmoid\"),\n",
    "        Dense(1024,activation=\"sigmoid\"),\n",
    "        Dense(512,activation=\"sigmoid\"),\n",
    "        Dense(output_shape,activation=\"softmax\")\n",
    "    ]\n",
    ")"
   ]
  },
  {
   "cell_type": "code",
   "execution_count": 36,
   "metadata": {},
   "outputs": [
    {
     "data": {
      "text/plain": [
       "True"
      ]
     },
     "execution_count": 36,
     "metadata": {},
     "output_type": "execute_result"
    }
   ],
   "source": [
    "for i in range(1,len(model1.layers)):\n",
    "    model2.layers[i].set_weights([model1.layers[i].get_weights()[0],\n",
    "                                model1.layers[i].get_weights()[1]])\n",
    "np.sum(model1.layers[1].get_weights()[0]) == np.sum(model2.layers[1].get_weights()[0])"
   ]
  },
  {
   "cell_type": "code",
   "execution_count": 38,
   "metadata": {},
   "outputs": [
    {
     "data": {
      "text/plain": [
       "<keras.callbacks.History at 0x18145dbd450>"
      ]
     },
     "execution_count": 38,
     "metadata": {},
     "output_type": "execute_result"
    }
   ],
   "source": [
    "optimizer = \"adam\"\n",
    "loss = \"categorical_crossentropy\"\n",
    "metrics = [\"accuracy\"]\n",
    "\n",
    "model1.compile(optimizer=optimizer,\n",
    "            loss =loss,\n",
    "            metrics=metrics)\n",
    "model2.compile(optimizer=optimizer,\n",
    "            loss =loss,\n",
    "            metrics=metrics)\n",
    "\n",
    "model1.fit(X_train,\n",
    "        y_train,\n",
    "        epochs=10,\n",
    "        batch_size=400,\n",
    "        verbose=0\n",
    "        )\n",
    "model2.fit(X_train,\n",
    "        y_train,\n",
    "        epochs=10,\n",
    "        batch_size=400,\n",
    "        verbose=0\n",
    "        )"
   ]
  },
  {
   "cell_type": "code",
   "execution_count": 40,
   "metadata": {},
   "outputs": [
    {
     "name": "stdout",
     "output_type": "stream",
     "text": [
      "313/313 [==============================] - 2s 8ms/step - loss: 0.3894 - accuracy: 0.8776\n",
      "relu [0.389365017414093, 0.8776000142097473]\n",
      "313/313 [==============================] - 2s 7ms/step - loss: 0.5281 - accuracy: 0.8007\n",
      "sigmoid [0.5280756950378418, 0.8007000088691711]\n"
     ]
    }
   ],
   "source": [
    "print(\"relu\", model1.evaluate(X_test,y_test))\n",
    "print(\"sigmoid\", model2.evaluate(X_test,y_test))"
   ]
  },
  {
   "cell_type": "code",
   "execution_count": 44,
   "metadata": {},
   "outputs": [],
   "source": [
    "### 분포 값 변경 (relu)"
   ]
  },
  {
   "cell_type": "code",
   "execution_count": 47,
   "metadata": {},
   "outputs": [],
   "source": [
    "input_shape = X_train.shape[1:]\n",
    "output_shape = y_train.shape[1]"
   ]
  },
  {
   "cell_type": "code",
   "execution_count": 51,
   "metadata": {},
   "outputs": [],
   "source": [
    "model1 = Sequential(\n",
    "    [\n",
    "        Flatten(input_shape=input_shape),\n",
    "        Dense(1024,activation=\"relu\"),\n",
    "        Dense(512,activation=\"relu\"),\n",
    "        Dense(256,activation=\"relu\"),\n",
    "        Dense(output_shape,activation=\"softmax\")\n",
    "    ]\n",
    ")\n",
    "\n",
    "model2 = Sequential(\n",
    "    [\n",
    "        Flatten(input_shape=input_shape),\n",
    "        Dense(2048,activation=\"relu\"),\n",
    "        Dense(1024,activation=\"relu\"),\n",
    "        Dense(512,activation=\"relu\"),\n",
    "        Dense(output_shape,activation=\"softmax\")\n",
    "    ]\n",
    ")"
   ]
  },
  {
   "cell_type": "code",
   "execution_count": 53,
   "metadata": {},
   "outputs": [],
   "source": [
    "optimizer = \"adam\"\n",
    "loss = \"categorical_crossentropy\"\n",
    "metrics = [\"accuracy\"]\n",
    "\n",
    "model1.compile(optimizer=optimizer,\n",
    "            loss =loss,\n",
    "            metrics=metrics)\n",
    "model2.compile(optimizer=optimizer,\n",
    "            loss =loss,\n",
    "            metrics=metrics)\n",
    "\n",
    "model1.fit(X_train,\n",
    "        y_train,\n",
    "        epochs=10,\n",
    "        batch_size=400,\n",
    "        verbose=0\n",
    "        )\n",
    "model2.fit(X_train,\n",
    "        y_train,\n",
    "        epochs=10,\n",
    "        batch_size=400,\n",
    "        verbose=0\n",
    "        )"
   ]
  },
  {
   "cell_type": "code",
   "execution_count": null,
   "metadata": {},
   "outputs": [],
   "source": [
    "print(\"relu1\", model1.evaluate(X_test,y_test))\n",
    "print(\"relu2\", model2.evaluate(X_test,y_test))"
   ]
  },
  {
   "cell_type": "code",
   "execution_count": null,
   "metadata": {},
   "outputs": [],
   "source": []
  },
  {
   "cell_type": "code",
   "execution_count": null,
   "metadata": {},
   "outputs": [],
   "source": []
  },
  {
   "cell_type": "code",
   "execution_count": null,
   "metadata": {},
   "outputs": [],
   "source": []
  },
  {
   "cell_type": "code",
   "execution_count": null,
   "metadata": {},
   "outputs": [],
   "source": []
  }
 ],
 "metadata": {
  "kernelspec": {
   "display_name": "keras",
   "language": "python",
   "name": "keras"
  },
  "language_info": {
   "codemirror_mode": {
    "name": "ipython",
    "version": 3
   },
   "file_extension": ".py",
   "mimetype": "text/x-python",
   "name": "python",
   "nbconvert_exporter": "python",
   "pygments_lexer": "ipython3",
   "version": "3.8.13"
  }
 },
 "nbformat": 4,
 "nbformat_minor": 4
}
