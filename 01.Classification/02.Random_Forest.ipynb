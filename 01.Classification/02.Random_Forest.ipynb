{
 "cells": [
  {
   "cell_type": "code",
   "execution_count": 1,
   "id": "9ed0e2ac-f90b-49b1-9808-db2b13b29c33",
   "metadata": {},
   "outputs": [
    {
     "data": {
      "text/plain": [
       "'\\n<랜덤포레스트(Random Forest)>\\n\\n- 여러개의 의사결정나무(Decision Tree)를 묶어서 하나의 모델로 사용\\n- 학습 및 테스트 순서\\n1. 데이터 생성\\n2. 전처리\\n3. 학습 및 테스트 데이터 생성\\n4. 학습 모델 생성\\n5. 모델 예측(테스트)\\n6. 정확도 산출(평가)\\n\\n- 사용 데이터 : 타이타닉 생존율 분석\\n- 독립변수 : 연속형 데이터 (Pclass(객실등급), age_sex(성별))\\n- 종속변수 : 범주형 데이터 (Survived(생존여부))\\n'"
      ]
     },
     "execution_count": 1,
     "metadata": {},
     "output_type": "execute_result"
    }
   ],
   "source": [
    "'''\n",
    "<랜덤포레스트(Random Forest)>\n",
    "\n",
    "- 여러개의 의사결정나무(Decision Tree)를 묶어서 하나의 모델로 사용\n",
    "- 학습 및 테스트 순서\n",
    "1. 데이터 생성\n",
    "2. 전처리\n",
    "3. 학습 및 테스트 데이터 생성\n",
    "4. 학습 모델 생성\n",
    "5. 모델 예측(테스트)\n",
    "6. 정확도 산출(평가)\n",
    "\n",
    "- 사용 데이터 : 타이타닉 생존율 분석\n",
    "- 독립변수 : 연속형 데이터 (Pclass(객실등급), age_sex(성별))\n",
    "- 종속변수 : 범주형 데이터 (Survived(생존여부))\n",
    "'''"
   ]
  },
  {
   "cell_type": "markdown",
   "id": "b044ed0a-1cac-4328-9f86-8e4f931b4b2e",
   "metadata": {},
   "source": [
    "### 예시1 - 사람의 키와 머리카락의 길이로 성별 예측\n",
    "- 종속변수 : 성별\n",
    "- 독립변수 : 키, 머리카락 길이"
   ]
  },
  {
   "cell_type": "code",
   "execution_count": 2,
   "id": "8887cfbf-5193-4996-a31a-284aa30ce69d",
   "metadata": {},
   "outputs": [],
   "source": [
    "### 랜덤포레스트 라이브러리\n",
    "# 모델 라이브러리\n",
    "from sklearn.ensemble import RandomForestClassifier\n",
    "\n",
    "# 학습 및 테스트 데이터 추출을 위한 라이브러리\n",
    "from sklearn.model_selection import train_test_split\n",
    "import pandas as pd\n",
    "\n",
    "# 모델 선택 알고리즘\n",
    "from sklearn import model_selection\n",
    "\n",
    "# 평가 라이브러리\n",
    "from sklearn.metrics._scorer import accuracy_scorer"
   ]
  },
  {
   "cell_type": "code",
   "execution_count": 25,
   "id": "783f0b8f-60fc-47a2-956f-d72f35e696ae",
   "metadata": {},
   "outputs": [
    {
     "data": {
      "text/html": [
       "<div>\n",
       "<style scoped>\n",
       "    .dataframe tbody tr th:only-of-type {\n",
       "        vertical-align: middle;\n",
       "    }\n",
       "\n",
       "    .dataframe tbody tr th {\n",
       "        vertical-align: top;\n",
       "    }\n",
       "\n",
       "    .dataframe thead th {\n",
       "        text-align: right;\n",
       "    }\n",
       "</style>\n",
       "<table border=\"1\" class=\"dataframe\">\n",
       "  <thead>\n",
       "    <tr style=\"text-align: right;\">\n",
       "      <th></th>\n",
       "      <th>PassengerId</th>\n",
       "      <th>Survived</th>\n",
       "      <th>Pclass</th>\n",
       "      <th>Name</th>\n",
       "      <th>Sex</th>\n",
       "      <th>Age</th>\n",
       "      <th>SibSp</th>\n",
       "      <th>Parch</th>\n",
       "      <th>Ticket</th>\n",
       "      <th>Fare</th>\n",
       "      <th>Cabin</th>\n",
       "      <th>Embarked</th>\n",
       "    </tr>\n",
       "  </thead>\n",
       "  <tbody>\n",
       "    <tr>\n",
       "      <th>0</th>\n",
       "      <td>1</td>\n",
       "      <td>0</td>\n",
       "      <td>3</td>\n",
       "      <td>Braund, Mr. Owen Harris</td>\n",
       "      <td>male</td>\n",
       "      <td>22.0</td>\n",
       "      <td>1</td>\n",
       "      <td>0</td>\n",
       "      <td>A/5 21171</td>\n",
       "      <td>7.2500</td>\n",
       "      <td>NaN</td>\n",
       "      <td>S</td>\n",
       "    </tr>\n",
       "    <tr>\n",
       "      <th>1</th>\n",
       "      <td>2</td>\n",
       "      <td>1</td>\n",
       "      <td>1</td>\n",
       "      <td>Cumings, Mrs. John Bradley (Florence Briggs Th...</td>\n",
       "      <td>female</td>\n",
       "      <td>38.0</td>\n",
       "      <td>1</td>\n",
       "      <td>0</td>\n",
       "      <td>PC 17599</td>\n",
       "      <td>71.2833</td>\n",
       "      <td>C85</td>\n",
       "      <td>C</td>\n",
       "    </tr>\n",
       "    <tr>\n",
       "      <th>2</th>\n",
       "      <td>3</td>\n",
       "      <td>1</td>\n",
       "      <td>3</td>\n",
       "      <td>Heikkinen, Miss. Laina</td>\n",
       "      <td>female</td>\n",
       "      <td>26.0</td>\n",
       "      <td>0</td>\n",
       "      <td>0</td>\n",
       "      <td>STON/O2. 3101282</td>\n",
       "      <td>7.9250</td>\n",
       "      <td>NaN</td>\n",
       "      <td>S</td>\n",
       "    </tr>\n",
       "    <tr>\n",
       "      <th>3</th>\n",
       "      <td>4</td>\n",
       "      <td>1</td>\n",
       "      <td>1</td>\n",
       "      <td>Futrelle, Mrs. Jacques Heath (Lily May Peel)</td>\n",
       "      <td>female</td>\n",
       "      <td>35.0</td>\n",
       "      <td>1</td>\n",
       "      <td>0</td>\n",
       "      <td>113803</td>\n",
       "      <td>53.1000</td>\n",
       "      <td>C123</td>\n",
       "      <td>S</td>\n",
       "    </tr>\n",
       "    <tr>\n",
       "      <th>4</th>\n",
       "      <td>5</td>\n",
       "      <td>0</td>\n",
       "      <td>3</td>\n",
       "      <td>Allen, Mr. William Henry</td>\n",
       "      <td>male</td>\n",
       "      <td>35.0</td>\n",
       "      <td>0</td>\n",
       "      <td>0</td>\n",
       "      <td>373450</td>\n",
       "      <td>8.0500</td>\n",
       "      <td>NaN</td>\n",
       "      <td>S</td>\n",
       "    </tr>\n",
       "    <tr>\n",
       "      <th>...</th>\n",
       "      <td>...</td>\n",
       "      <td>...</td>\n",
       "      <td>...</td>\n",
       "      <td>...</td>\n",
       "      <td>...</td>\n",
       "      <td>...</td>\n",
       "      <td>...</td>\n",
       "      <td>...</td>\n",
       "      <td>...</td>\n",
       "      <td>...</td>\n",
       "      <td>...</td>\n",
       "      <td>...</td>\n",
       "    </tr>\n",
       "    <tr>\n",
       "      <th>886</th>\n",
       "      <td>887</td>\n",
       "      <td>0</td>\n",
       "      <td>2</td>\n",
       "      <td>Montvila, Rev. Juozas</td>\n",
       "      <td>male</td>\n",
       "      <td>27.0</td>\n",
       "      <td>0</td>\n",
       "      <td>0</td>\n",
       "      <td>211536</td>\n",
       "      <td>13.0000</td>\n",
       "      <td>NaN</td>\n",
       "      <td>S</td>\n",
       "    </tr>\n",
       "    <tr>\n",
       "      <th>887</th>\n",
       "      <td>888</td>\n",
       "      <td>1</td>\n",
       "      <td>1</td>\n",
       "      <td>Graham, Miss. Margaret Edith</td>\n",
       "      <td>female</td>\n",
       "      <td>19.0</td>\n",
       "      <td>0</td>\n",
       "      <td>0</td>\n",
       "      <td>112053</td>\n",
       "      <td>30.0000</td>\n",
       "      <td>B42</td>\n",
       "      <td>S</td>\n",
       "    </tr>\n",
       "    <tr>\n",
       "      <th>888</th>\n",
       "      <td>889</td>\n",
       "      <td>0</td>\n",
       "      <td>3</td>\n",
       "      <td>Johnston, Miss. Catherine Helen \"Carrie\"</td>\n",
       "      <td>female</td>\n",
       "      <td>NaN</td>\n",
       "      <td>1</td>\n",
       "      <td>2</td>\n",
       "      <td>W./C. 6607</td>\n",
       "      <td>23.4500</td>\n",
       "      <td>NaN</td>\n",
       "      <td>S</td>\n",
       "    </tr>\n",
       "    <tr>\n",
       "      <th>889</th>\n",
       "      <td>890</td>\n",
       "      <td>1</td>\n",
       "      <td>1</td>\n",
       "      <td>Behr, Mr. Karl Howell</td>\n",
       "      <td>male</td>\n",
       "      <td>26.0</td>\n",
       "      <td>0</td>\n",
       "      <td>0</td>\n",
       "      <td>111369</td>\n",
       "      <td>30.0000</td>\n",
       "      <td>C148</td>\n",
       "      <td>C</td>\n",
       "    </tr>\n",
       "    <tr>\n",
       "      <th>890</th>\n",
       "      <td>891</td>\n",
       "      <td>0</td>\n",
       "      <td>3</td>\n",
       "      <td>Dooley, Mr. Patrick</td>\n",
       "      <td>male</td>\n",
       "      <td>32.0</td>\n",
       "      <td>0</td>\n",
       "      <td>0</td>\n",
       "      <td>370376</td>\n",
       "      <td>7.7500</td>\n",
       "      <td>NaN</td>\n",
       "      <td>Q</td>\n",
       "    </tr>\n",
       "  </tbody>\n",
       "</table>\n",
       "<p>891 rows × 12 columns</p>\n",
       "</div>"
      ],
      "text/plain": [
       "     PassengerId  Survived  Pclass  \\\n",
       "0              1         0       3   \n",
       "1              2         1       1   \n",
       "2              3         1       3   \n",
       "3              4         1       1   \n",
       "4              5         0       3   \n",
       "..           ...       ...     ...   \n",
       "886          887         0       2   \n",
       "887          888         1       1   \n",
       "888          889         0       3   \n",
       "889          890         1       1   \n",
       "890          891         0       3   \n",
       "\n",
       "                                                  Name     Sex   Age  SibSp  \\\n",
       "0                              Braund, Mr. Owen Harris    male  22.0      1   \n",
       "1    Cumings, Mrs. John Bradley (Florence Briggs Th...  female  38.0      1   \n",
       "2                               Heikkinen, Miss. Laina  female  26.0      0   \n",
       "3         Futrelle, Mrs. Jacques Heath (Lily May Peel)  female  35.0      1   \n",
       "4                             Allen, Mr. William Henry    male  35.0      0   \n",
       "..                                                 ...     ...   ...    ...   \n",
       "886                              Montvila, Rev. Juozas    male  27.0      0   \n",
       "887                       Graham, Miss. Margaret Edith  female  19.0      0   \n",
       "888           Johnston, Miss. Catherine Helen \"Carrie\"  female   NaN      1   \n",
       "889                              Behr, Mr. Karl Howell    male  26.0      0   \n",
       "890                                Dooley, Mr. Patrick    male  32.0      0   \n",
       "\n",
       "     Parch            Ticket     Fare Cabin Embarked  \n",
       "0        0         A/5 21171   7.2500   NaN        S  \n",
       "1        0          PC 17599  71.2833   C85        C  \n",
       "2        0  STON/O2. 3101282   7.9250   NaN        S  \n",
       "3        0            113803  53.1000  C123        S  \n",
       "4        0            373450   8.0500   NaN        S  \n",
       "..     ...               ...      ...   ...      ...  \n",
       "886      0            211536  13.0000   NaN        S  \n",
       "887      0            112053  30.0000   B42        S  \n",
       "888      2        W./C. 6607  23.4500   NaN        S  \n",
       "889      0            111369  30.0000  C148        C  \n",
       "890      0            370376   7.7500   NaN        Q  \n",
       "\n",
       "[891 rows x 12 columns]"
      ]
     },
     "execution_count": 25,
     "metadata": {},
     "output_type": "execute_result"
    }
   ],
   "source": [
    "### 데이터 생성하기\n",
    "file = 'https://raw.githubusercontent.com/pykwon/python/master/testdata_utf8/titanic_data.csv'\n",
    "df = pd.read_csv(file)\n",
    "df"
   ]
  },
  {
   "cell_type": "code",
   "execution_count": 26,
   "id": "b32b0a43-0645-4be0-b690-c78b97b1dc5f",
   "metadata": {},
   "outputs": [
    {
     "name": "stdout",
     "output_type": "stream",
     "text": [
      "PassengerId    False\n",
      "Survived       False\n",
      "Pclass         False\n",
      "Name           False\n",
      "Sex            False\n",
      "Age             True\n",
      "SibSp          False\n",
      "Parch          False\n",
      "Ticket         False\n",
      "Fare           False\n",
      "Cabin           True\n",
      "Embarked        True\n",
      "dtype: bool\n"
     ]
    }
   ],
   "source": [
    "print(df.isnull().any())"
   ]
  },
  {
   "cell_type": "code",
   "execution_count": 27,
   "id": "851af440-960c-453d-b095-36c60be02f12",
   "metadata": {},
   "outputs": [
    {
     "data": {
      "text/plain": [
       "(714, 12)"
      ]
     },
     "execution_count": 27,
     "metadata": {},
     "output_type": "execute_result"
    }
   ],
   "source": [
    "# 결측치 처리하기\n",
    "# 사용할 독립변수를 기준으로 결측치가 있는 모든 행 삭제하기\n",
    "df = df.dropna(subset=['Pclass','Age','Sex'])\n",
    "df.shape"
   ]
  },
  {
   "cell_type": "code",
   "execution_count": 28,
   "id": "1019a643-83f4-42f1-9d95-00127796fc78",
   "metadata": {},
   "outputs": [
    {
     "data": {
      "text/html": [
       "<div>\n",
       "<style scoped>\n",
       "    .dataframe tbody tr th:only-of-type {\n",
       "        vertical-align: middle;\n",
       "    }\n",
       "\n",
       "    .dataframe tbody tr th {\n",
       "        vertical-align: top;\n",
       "    }\n",
       "\n",
       "    .dataframe thead th {\n",
       "        text-align: right;\n",
       "    }\n",
       "</style>\n",
       "<table border=\"1\" class=\"dataframe\">\n",
       "  <thead>\n",
       "    <tr style=\"text-align: right;\">\n",
       "      <th></th>\n",
       "      <th>Pclass</th>\n",
       "      <th>Age</th>\n",
       "      <th>Sex</th>\n",
       "    </tr>\n",
       "  </thead>\n",
       "  <tbody>\n",
       "    <tr>\n",
       "      <th>0</th>\n",
       "      <td>3</td>\n",
       "      <td>22.0</td>\n",
       "      <td>male</td>\n",
       "    </tr>\n",
       "    <tr>\n",
       "      <th>1</th>\n",
       "      <td>1</td>\n",
       "      <td>38.0</td>\n",
       "      <td>female</td>\n",
       "    </tr>\n",
       "    <tr>\n",
       "      <th>2</th>\n",
       "      <td>3</td>\n",
       "      <td>26.0</td>\n",
       "      <td>female</td>\n",
       "    </tr>\n",
       "  </tbody>\n",
       "</table>\n",
       "</div>"
      ],
      "text/plain": [
       "   Pclass   Age     Sex\n",
       "0       3  22.0    male\n",
       "1       1  38.0  female\n",
       "2       3  26.0  female"
      ]
     },
     "execution_count": 28,
     "metadata": {},
     "output_type": "execute_result"
    }
   ],
   "source": [
    "# 사용할 독립변수 추출하기\n",
    "# Sex : 숫자값으로 변경시켜주기\n",
    "# Pclass : 등급별 원핫인코딩\n",
    "df_x = df[['Pclass','Age','Sex']].reset_index(drop=True)\n",
    "df_x.head(3)"
   ]
  },
  {
   "cell_type": "code",
   "execution_count": 29,
   "id": "feea8ab2-e72d-4f43-abe8-477b763bfef3",
   "metadata": {},
   "outputs": [],
   "source": [
    "from sklearn.preprocessing import OneHotEncoder\n",
    "from sklearn.preprocessing import LabelEncoder\n",
    "import numpy as np"
   ]
  },
  {
   "cell_type": "code",
   "execution_count": 30,
   "id": "f59ef856-a7c8-4f96-a925-d2ef6e8e4070",
   "metadata": {},
   "outputs": [
    {
     "data": {
      "text/html": [
       "<div>\n",
       "<style scoped>\n",
       "    .dataframe tbody tr th:only-of-type {\n",
       "        vertical-align: middle;\n",
       "    }\n",
       "\n",
       "    .dataframe tbody tr th {\n",
       "        vertical-align: top;\n",
       "    }\n",
       "\n",
       "    .dataframe thead th {\n",
       "        text-align: right;\n",
       "    }\n",
       "</style>\n",
       "<table border=\"1\" class=\"dataframe\">\n",
       "  <thead>\n",
       "    <tr style=\"text-align: right;\">\n",
       "      <th></th>\n",
       "      <th>Pclass</th>\n",
       "      <th>Age</th>\n",
       "      <th>Sex</th>\n",
       "    </tr>\n",
       "  </thead>\n",
       "  <tbody>\n",
       "    <tr>\n",
       "      <th>0</th>\n",
       "      <td>3</td>\n",
       "      <td>22.0</td>\n",
       "      <td>1</td>\n",
       "    </tr>\n",
       "    <tr>\n",
       "      <th>1</th>\n",
       "      <td>1</td>\n",
       "      <td>38.0</td>\n",
       "      <td>0</td>\n",
       "    </tr>\n",
       "    <tr>\n",
       "      <th>2</th>\n",
       "      <td>3</td>\n",
       "      <td>26.0</td>\n",
       "      <td>0</td>\n",
       "    </tr>\n",
       "  </tbody>\n",
       "</table>\n",
       "</div>"
      ],
      "text/plain": [
       "   Pclass   Age  Sex\n",
       "0       3  22.0    1\n",
       "1       1  38.0    0\n",
       "2       3  26.0    0"
      ]
     },
     "execution_count": 30,
     "metadata": {},
     "output_type": "execute_result"
    }
   ],
   "source": [
    "### 성별 데이터를 정수값 0과 1로 변환하기\n",
    "df_x.loc[ : ,'Sex'] = LabelEncoder().fit_transform(df_x['Sex'])\n",
    "df_x.head(3)"
   ]
  },
  {
   "cell_type": "code",
   "execution_count": 31,
   "id": "5cdee20f-3b50-43a6-b6ba-d22f3dca554e",
   "metadata": {},
   "outputs": [
    {
     "data": {
      "text/html": [
       "<div>\n",
       "<style scoped>\n",
       "    .dataframe tbody tr th:only-of-type {\n",
       "        vertical-align: middle;\n",
       "    }\n",
       "\n",
       "    .dataframe tbody tr th {\n",
       "        vertical-align: top;\n",
       "    }\n",
       "\n",
       "    .dataframe thead th {\n",
       "        text-align: right;\n",
       "    }\n",
       "</style>\n",
       "<table border=\"1\" class=\"dataframe\">\n",
       "  <thead>\n",
       "    <tr style=\"text-align: right;\">\n",
       "      <th></th>\n",
       "      <th>f_class</th>\n",
       "      <th>s_class</th>\n",
       "      <th>t_class</th>\n",
       "    </tr>\n",
       "  </thead>\n",
       "  <tbody>\n",
       "    <tr>\n",
       "      <th>0</th>\n",
       "      <td>0.0</td>\n",
       "      <td>0.0</td>\n",
       "      <td>1.0</td>\n",
       "    </tr>\n",
       "    <tr>\n",
       "      <th>1</th>\n",
       "      <td>1.0</td>\n",
       "      <td>0.0</td>\n",
       "      <td>0.0</td>\n",
       "    </tr>\n",
       "    <tr>\n",
       "      <th>2</th>\n",
       "      <td>0.0</td>\n",
       "      <td>0.0</td>\n",
       "      <td>1.0</td>\n",
       "    </tr>\n",
       "  </tbody>\n",
       "</table>\n",
       "</div>"
      ],
      "text/plain": [
       "   f_class  s_class  t_class\n",
       "0      0.0      0.0      1.0\n",
       "1      1.0      0.0      0.0\n",
       "2      0.0      0.0      1.0"
      ]
     },
     "execution_count": 31,
     "metadata": {},
     "output_type": "execute_result"
    }
   ],
   "source": [
    "df_x2 = pd.DataFrame(OneHotEncoder().fit_transform(df_x['Pclass'].values[ : , np.newaxis]).toarray(),\n",
    "                     columns = ['f_class','s_class','t_class'], index = df_x.index)\n",
    "df_x2.head(3)"
   ]
  },
  {
   "cell_type": "code",
   "execution_count": 32,
   "id": "b333dd72-053c-4b1a-af54-956b46b5c1e1",
   "metadata": {},
   "outputs": [
    {
     "data": {
      "text/html": [
       "<div>\n",
       "<style scoped>\n",
       "    .dataframe tbody tr th:only-of-type {\n",
       "        vertical-align: middle;\n",
       "    }\n",
       "\n",
       "    .dataframe tbody tr th {\n",
       "        vertical-align: top;\n",
       "    }\n",
       "\n",
       "    .dataframe thead th {\n",
       "        text-align: right;\n",
       "    }\n",
       "</style>\n",
       "<table border=\"1\" class=\"dataframe\">\n",
       "  <thead>\n",
       "    <tr style=\"text-align: right;\">\n",
       "      <th></th>\n",
       "      <th>Pclass</th>\n",
       "      <th>Age</th>\n",
       "      <th>Sex</th>\n",
       "      <th>f_class</th>\n",
       "      <th>s_class</th>\n",
       "      <th>t_class</th>\n",
       "    </tr>\n",
       "  </thead>\n",
       "  <tbody>\n",
       "    <tr>\n",
       "      <th>0</th>\n",
       "      <td>3</td>\n",
       "      <td>22.0</td>\n",
       "      <td>1</td>\n",
       "      <td>0.0</td>\n",
       "      <td>0.0</td>\n",
       "      <td>1.0</td>\n",
       "    </tr>\n",
       "    <tr>\n",
       "      <th>1</th>\n",
       "      <td>1</td>\n",
       "      <td>38.0</td>\n",
       "      <td>0</td>\n",
       "      <td>1.0</td>\n",
       "      <td>0.0</td>\n",
       "      <td>0.0</td>\n",
       "    </tr>\n",
       "    <tr>\n",
       "      <th>2</th>\n",
       "      <td>3</td>\n",
       "      <td>26.0</td>\n",
       "      <td>0</td>\n",
       "      <td>0.0</td>\n",
       "      <td>0.0</td>\n",
       "      <td>1.0</td>\n",
       "    </tr>\n",
       "    <tr>\n",
       "      <th>3</th>\n",
       "      <td>1</td>\n",
       "      <td>35.0</td>\n",
       "      <td>0</td>\n",
       "      <td>1.0</td>\n",
       "      <td>0.0</td>\n",
       "      <td>0.0</td>\n",
       "    </tr>\n",
       "    <tr>\n",
       "      <th>4</th>\n",
       "      <td>3</td>\n",
       "      <td>35.0</td>\n",
       "      <td>1</td>\n",
       "      <td>0.0</td>\n",
       "      <td>0.0</td>\n",
       "      <td>1.0</td>\n",
       "    </tr>\n",
       "    <tr>\n",
       "      <th>...</th>\n",
       "      <td>...</td>\n",
       "      <td>...</td>\n",
       "      <td>...</td>\n",
       "      <td>...</td>\n",
       "      <td>...</td>\n",
       "      <td>...</td>\n",
       "    </tr>\n",
       "    <tr>\n",
       "      <th>709</th>\n",
       "      <td>3</td>\n",
       "      <td>39.0</td>\n",
       "      <td>0</td>\n",
       "      <td>0.0</td>\n",
       "      <td>0.0</td>\n",
       "      <td>1.0</td>\n",
       "    </tr>\n",
       "    <tr>\n",
       "      <th>710</th>\n",
       "      <td>2</td>\n",
       "      <td>27.0</td>\n",
       "      <td>1</td>\n",
       "      <td>0.0</td>\n",
       "      <td>1.0</td>\n",
       "      <td>0.0</td>\n",
       "    </tr>\n",
       "    <tr>\n",
       "      <th>711</th>\n",
       "      <td>1</td>\n",
       "      <td>19.0</td>\n",
       "      <td>0</td>\n",
       "      <td>1.0</td>\n",
       "      <td>0.0</td>\n",
       "      <td>0.0</td>\n",
       "    </tr>\n",
       "    <tr>\n",
       "      <th>712</th>\n",
       "      <td>1</td>\n",
       "      <td>26.0</td>\n",
       "      <td>1</td>\n",
       "      <td>1.0</td>\n",
       "      <td>0.0</td>\n",
       "      <td>0.0</td>\n",
       "    </tr>\n",
       "    <tr>\n",
       "      <th>713</th>\n",
       "      <td>3</td>\n",
       "      <td>32.0</td>\n",
       "      <td>1</td>\n",
       "      <td>0.0</td>\n",
       "      <td>0.0</td>\n",
       "      <td>1.0</td>\n",
       "    </tr>\n",
       "  </tbody>\n",
       "</table>\n",
       "<p>714 rows × 6 columns</p>\n",
       "</div>"
      ],
      "text/plain": [
       "     Pclass   Age  Sex  f_class  s_class  t_class\n",
       "0         3  22.0    1      0.0      0.0      1.0\n",
       "1         1  38.0    0      1.0      0.0      0.0\n",
       "2         3  26.0    0      0.0      0.0      1.0\n",
       "3         1  35.0    0      1.0      0.0      0.0\n",
       "4         3  35.0    1      0.0      0.0      1.0\n",
       "..      ...   ...  ...      ...      ...      ...\n",
       "709       3  39.0    0      0.0      0.0      1.0\n",
       "710       2  27.0    1      0.0      1.0      0.0\n",
       "711       1  19.0    0      1.0      0.0      0.0\n",
       "712       1  26.0    1      1.0      0.0      0.0\n",
       "713       3  32.0    1      0.0      0.0      1.0\n",
       "\n",
       "[714 rows x 6 columns]"
      ]
     },
     "execution_count": 32,
     "metadata": {},
     "output_type": "execute_result"
    }
   ],
   "source": [
    "df_x = pd.concat([df_x, df_x2], axis=1)\n",
    "df_x"
   ]
  },
  {
   "cell_type": "code",
   "execution_count": 33,
   "id": "d8a824d5-c183-4039-a656-5fbf181ded65",
   "metadata": {},
   "outputs": [
    {
     "data": {
      "text/plain": [
       "0      0\n",
       "1      1\n",
       "2      1\n",
       "3      1\n",
       "4      0\n",
       "      ..\n",
       "885    0\n",
       "886    0\n",
       "887    1\n",
       "889    1\n",
       "890    0\n",
       "Name: Survived, Length: 714, dtype: int64"
      ]
     },
     "execution_count": 33,
     "metadata": {},
     "output_type": "execute_result"
    }
   ],
   "source": [
    "# 종속변수 추출하기\n",
    "df_y = df['Survived']\n",
    "df_y"
   ]
  },
  {
   "cell_type": "code",
   "execution_count": 34,
   "id": "6e7e87b9-77ff-4fdb-85e4-15cc29fe35db",
   "metadata": {},
   "outputs": [
    {
     "name": "stdout",
     "output_type": "stream",
     "text": [
      "train_x = 499\n",
      "train_y = 499\n",
      "test_x = 215\n",
      "test_y = 215\n"
     ]
    }
   ],
   "source": [
    "### 학습 데이터와 테스트 데이터 만들기\n",
    "# 추출기준 : 학습 데이터 70% , 테스트 데이터 30% \n",
    "# test_size 디폴트 추출기준 : 0.25%\n",
    "train_x, test_x, train_y, test_y = train_test_split(df_x, df_y, test_size=0.3)\n",
    "print('train_x =', len(train_x))\n",
    "print('train_y =', len(train_y))\n",
    "print('test_x =', len(test_x))\n",
    "print('test_y =', len(test_y))"
   ]
  },
  {
   "cell_type": "code",
   "execution_count": 35,
   "id": "4223ffa1-9b9d-4ff5-813b-e89a73333737",
   "metadata": {},
   "outputs": [
    {
     "name": "stdout",
     "output_type": "stream",
     "text": [
      "RandomForestClassifier(criterion='entropy', n_estimators=500)\n"
     ]
    }
   ],
   "source": [
    "### 학습 모델 생성하기\n",
    "# 모델 객체 생성하기\n",
    "# n_estimators : 사용할 트리 갯수 지정\n",
    "# criterion : 균형잡힌 트리로 분리하기\n",
    "model = RandomForestClassifier(n_estimators=500, criterion='entropy')\n",
    "\n",
    "# 학습모델 생성하기\n",
    "fit_model = model.fit(train_x, train_y)\n",
    "\n",
    "# 한번에 객체생성과 학습모델 생성은 아래와같이 붙혀서 동일함\n",
    "print(fit_model)"
   ]
  },
  {
   "cell_type": "code",
   "execution_count": 36,
   "id": "0a611fc6-b60e-4d35-a3a9-0864512bd96d",
   "metadata": {},
   "outputs": [
    {
     "name": "stdout",
     "output_type": "stream",
     "text": [
      "예측값 = \n",
      " [1 1 0 0 1 0 0 1 0 0 1 1 0 1 1 0 1 0 0 0 1 0 0 0 0 1 1 1 0 0 0 1 0 1 1 1 0\n",
      " 1 0 1 0 1 1 0 0 0 0 0 1 0 0 1 1 0 0 0 1 1 0 0 0 1 0 1 1 0 0 0 0 0 0 1 0 1\n",
      " 1 1 1 1 0 0 0 0 0 1 0 1 0 0 1 0 0 0 1 1 1 0 0 0 0 1 0 1 0 1 0 1 1 0 1 1 0\n",
      " 0 0 0 0 1 1 0 0 1 0 1 1 1 1 1 0 0 1 0 0 0 1 1 1 0 0 1 0 1 0 0 0 0 1 1 0 0\n",
      " 1 1 0 0 1 1 0 1 0 1 0 1 1 0 0 1 1 0 1 0 1 0 1 0 0 0 1 1 0 0 0 0 0 1 0 0 0\n",
      " 0 0 0 0 0 0 1 0 1 0 1 1 1 0 1 0 0 0 1 0 0 0 0 0 1 0 0 1 0 0]\n",
      "---------------------------------------------------------------------------\n",
      "실제값 = \n",
      " [0 0 0 0 1 0 0 1 1 0 1 0 0 1 0 0 0 0 1 0 1 1 0 0 1 1 0 1 1 0 1 1 0 0 1 0 0\n",
      " 0 1 1 1 1 1 0 1 0 0 0 0 0 0 1 1 0 0 0 1 1 0 0 0 1 0 1 1 1 0 0 0 0 0 1 0 1\n",
      " 1 1 1 1 0 1 0 0 0 0 0 1 1 0 0 0 0 0 1 1 1 0 0 0 0 1 0 1 0 1 0 0 1 0 1 0 0\n",
      " 0 0 0 0 0 1 1 0 1 0 1 1 0 1 1 0 0 1 0 0 0 0 1 1 0 0 1 0 1 1 0 0 0 1 1 0 0\n",
      " 0 0 0 0 1 0 1 0 1 0 0 1 1 0 0 1 1 0 1 1 1 0 1 1 1 0 1 1 0 1 0 0 0 0 1 0 0\n",
      " 0 0 0 0 0 0 0 0 1 0 0 1 0 0 1 1 0 0 1 0 0 1 0 0 0 0 0 1 0 0]\n"
     ]
    }
   ],
   "source": [
    "### 모델 테스트(예측)하기\n",
    "pred = fit_model.predict(test_x)\n",
    "print('예측값 = \\n', pred)\n",
    "print('---------------------------------------------------------------------------')\n",
    "\n",
    "# ravel() : 2차원 행렬의 데이터를 1차원 리스트로 처리\n",
    "print('실제값 = \\n', test_y.ravel())"
   ]
  },
  {
   "cell_type": "code",
   "execution_count": 37,
   "id": "ed96ebf1-2002-4cdd-9c69-252980a5c6b6",
   "metadata": {},
   "outputs": [
    {
     "name": "stdout",
     "output_type": "stream",
     "text": [
      "정확도(accuracy_score) = 0.7674418604651163\n",
      "Lib 정확도(accuracy_score) = 0.7674418604651163\n"
     ]
    }
   ],
   "source": [
    "### 모델 평가하기 : 정확도 확인하기\n",
    "from sklearn.metrics import accuracy_score\n",
    "\n",
    "# 계산에 의한 정확도 확인\n",
    "print('정확도(accuracy_score) =', sum(test_y == pred) / len(test_y))\n",
    "\n",
    "# 라이브러리를 이용한 정확도 확인\n",
    "print('Lib 정확도(accuracy_score) =', accuracy_score(test_y, pred))"
   ]
  },
  {
   "cell_type": "markdown",
   "id": "54c11fe7-7d7e-4ad6-9bee-4a3a204c8faf",
   "metadata": {},
   "source": [
    "### 병렬처리 vs 직렬처리\n",
    "- 병렬처리(RandomForest 모델)\n",
    "- 직렬처리(Boosting 방식)"
   ]
  },
  {
   "cell_type": "code",
   "execution_count": 64,
   "id": "179d7a7d-41bb-4a8b-ab05-7e0dc83c8a0d",
   "metadata": {},
   "outputs": [],
   "source": [
    "### 라이브러리 불러오기\n",
    "import pandas as pd\n",
    "import numpy as np\n",
    "from sklearn import datasets\n",
    "from sklearn.model_selection import train_test_split\n",
    "from sklearn.ensemble import RandomForestClassifier\n",
    "from sklearn import metrics\n",
    "\n",
    "# 직렬처리 라이브러리\n",
    "# pip install xgboost\n",
    "import xgboost as xgb"
   ]
  },
  {
   "cell_type": "code",
   "execution_count": 65,
   "id": "691c987a-63a9-40f0-a9c8-ab80cd149709",
   "metadata": {},
   "outputs": [],
   "source": [
    "### 데이터 생성\n",
    "iris = datasets.load_iris()\n",
    "\n",
    "### 데이터 프레임 변환\n",
    "data = pd.DataFrame({\n",
    "    'sepal length' : iris.data[ : ,0],\n",
    "    'sepal width' : iris.data[ : ,1],\n",
    "    'petal length' : iris.data[ : ,2],    \n",
    "    'petall width' : iris.data[ : ,3],    \n",
    "    'species' : iris.target\n",
    "})\n",
    "\n",
    "# 독립변수(x)\n",
    "x = data[['sepal length', 'sepal width', 'petal length', 'petall width']]\n",
    "\n",
    "# 종속변수(y)\n",
    "y = data['species']"
   ]
  },
  {
   "cell_type": "code",
   "execution_count": 66,
   "id": "f6e97cd4-0f4c-4e4e-9543-12142cc2106b",
   "metadata": {},
   "outputs": [],
   "source": [
    "### 학습 데이터 70% 학습 데이터 30% 분류하기\n",
    "x_train, x_test, y_train, y_test = train_test_split(x, y,\n",
    "                                                    test_size=0.3, random_state=123)"
   ]
  },
  {
   "cell_type": "markdown",
   "id": "c258ec59-29e5-4de1-bb4b-f70d76e1fca8",
   "metadata": {},
   "source": [
    "### 병렬처리방식"
   ]
  },
  {
   "cell_type": "code",
   "execution_count": 67,
   "id": "a61bef15-9817-4cbb-bc12-8436fe7bdb0c",
   "metadata": {},
   "outputs": [
    {
     "name": "stdout",
     "output_type": "stream",
     "text": [
      "RandomForestClassifier()\n"
     ]
    }
   ],
   "source": [
    "### 학습 모델 생성하기\n",
    "# 병렬 처리방식 객체생성\n",
    "model = RandomForestClassifier(n_estimators=100)\n",
    "\n",
    "# 학습모델 생성\n",
    "fit_model = model.fit(x_train, y_train)\n",
    "\n",
    "print(fit_model)"
   ]
  },
  {
   "cell_type": "code",
   "execution_count": 68,
   "id": "3f82dc5a-ca69-4fd7-8406-3cf509084f5a",
   "metadata": {},
   "outputs": [
    {
     "name": "stdout",
     "output_type": "stream",
     "text": [
      "예측값 = \n",
      " [1 2 2 1 0 1 1 0 0 1 2 0 1 2 2 2 0 0 1 0 0 1 0 2 0 0 0 2 2 0 2 1 0 0 1 1 2\n",
      " 0 0 1 1 0 2 2 2]\n",
      "---------------------------------------------------------------------------\n",
      "실제값 = \n",
      " [1 2 2 1 0 2 1 0 0 1 2 0 1 2 2 2 0 0 1 0 0 2 0 2 0 0 0 2 2 0 2 2 0 0 1 1 2\n",
      " 0 0 1 1 0 2 2 2]\n"
     ]
    }
   ],
   "source": [
    "### 모델 테스트(예측)하기\n",
    "pred = fit_model.predict(x_test)\n",
    "print('예측값 = \\n', pred)\n",
    "print('---------------------------------------------------------------------------')\n",
    "\n",
    "# ravel() : 2차원 행렬의 데이터를 1차원 리스트로 처리\n",
    "print('실제값 = \\n', y_test.ravel())"
   ]
  },
  {
   "cell_type": "code",
   "execution_count": 69,
   "id": "081ab65c-44e5-4b4e-ba37-6c52a9aacb71",
   "metadata": {},
   "outputs": [
    {
     "name": "stdout",
     "output_type": "stream",
     "text": [
      "정확도(accuracy_score) = 0.9333333333333333\n",
      "Lib 정확도(accuracy_score) = 0.9333333333333333\n"
     ]
    }
   ],
   "source": [
    "### 모델 평가하기 : 정확도 확인하기\n",
    "from sklearn.metrics import accuracy_score\n",
    "\n",
    "# 계산에 의한 정확도 확인\n",
    "print('정확도(accuracy_score) =', sum(y_test == pred) / len(y_test))\n",
    "\n",
    "# 라이브러리를 이용한 정확도 확인\n",
    "print('Lib 정확도(accuracy_score) =', accuracy_score(y_test, pred))"
   ]
  },
  {
   "cell_type": "markdown",
   "id": "98e1cc90-9268-4c17-aacb-f1a51423268b",
   "metadata": {},
   "source": [
    "### 직렬처리방식"
   ]
  },
  {
   "cell_type": "code",
   "execution_count": 71,
   "id": "163e3482-014e-4674-8699-e5e92b23bd2f",
   "metadata": {},
   "outputs": [
    {
     "name": "stdout",
     "output_type": "stream",
     "text": [
      "XGBClassifier(base_score=0.5, booster='gbtree', callbacks=None,\n",
      "              colsample_bylevel=1, colsample_bynode=1, colsample_bytree=1,\n",
      "              early_stopping_rounds=None, enable_categorical=False,\n",
      "              eval_metric=None, gamma=0, gpu_id=-1, grow_policy='depthwise',\n",
      "              importance_type=None, interaction_constraints='',\n",
      "              learning_rate=0.300000012, max_bin=256, max_cat_to_onehot=4,\n",
      "              max_delta_step=0, max_depth=4, max_leaves=0, min_child_weight=1,\n",
      "              missing=nan, monotone_constraints='()', n_estimators=100,\n",
      "              n_jobs=0, num_parallel_tree=1, objective='multi:softprob',\n",
      "              predictor='auto', random_state=0, reg_alpha=0, ...)\n"
     ]
    }
   ],
   "source": [
    "### 학습 모델 생성하기\n",
    "# 직렬 처리방식 객체생성\n",
    "# - booster : 의사결정 기반 모형(gbtree), 선형모형(linear) 둘중 한가지 사용\n",
    "# - max_depth : 과적합 방지를 위해 사용(default : 6, 보통 3~10 사이 값 사용)\n",
    "model = xgb.XGBClassifier(booster='gbtree', max_depth=4, n_estimators=100)\n",
    "\n",
    "# 학습모델 생성\n",
    "fit_model = model.fit(x_train, y_train)\n",
    "\n",
    "print(fit_model)"
   ]
  },
  {
   "cell_type": "code",
   "execution_count": 72,
   "id": "21b6f1ee-0f1d-4bf7-a2f5-aabdaa3045fa",
   "metadata": {},
   "outputs": [
    {
     "name": "stdout",
     "output_type": "stream",
     "text": [
      "예측값 = \n",
      " [1 2 2 1 0 1 1 0 0 1 2 0 1 2 2 2 0 0 1 0 0 1 0 2 0 0 0 2 2 0 2 1 0 0 1 1 2\n",
      " 0 0 1 1 0 2 2 2]\n",
      "---------------------------------------------------------------------------\n",
      "실제값 = \n",
      " [1 2 2 1 0 2 1 0 0 1 2 0 1 2 2 2 0 0 1 0 0 2 0 2 0 0 0 2 2 0 2 2 0 0 1 1 2\n",
      " 0 0 1 1 0 2 2 2]\n"
     ]
    }
   ],
   "source": [
    "### 모델 테스트(예측)하기\n",
    "pred = fit_model.predict(x_test)\n",
    "print('예측값 = \\n', pred)\n",
    "print('---------------------------------------------------------------------------')\n",
    "\n",
    "# ravel() : 2차원 행렬의 데이터를 1차원 리스트로 처리\n",
    "print('실제값 = \\n', y_test.ravel())"
   ]
  },
  {
   "cell_type": "code",
   "execution_count": 73,
   "id": "beb15511-2afc-477e-b670-74b814198c60",
   "metadata": {},
   "outputs": [
    {
     "name": "stdout",
     "output_type": "stream",
     "text": [
      "정확도(accuracy_score) = 0.9333333333333333\n",
      "Lib 정확도(accuracy_score) = 0.9333333333333333\n"
     ]
    }
   ],
   "source": [
    "### 모델 평가하기 : 정확도 확인하기\n",
    "from sklearn.metrics import accuracy_score\n",
    "\n",
    "# 계산에 의한 정확도 확인\n",
    "print('정확도(accuracy_score) =', sum(y_test == pred) / len(y_test))\n",
    "\n",
    "# 라이브러리를 이용한 정확도 확인\n",
    "print('Lib 정확도(accuracy_score) =', accuracy_score(y_test, pred))"
   ]
  },
  {
   "cell_type": "code",
   "execution_count": 74,
   "id": "fc88de85-cd2f-4dc6-8bb9-1548f5137c54",
   "metadata": {},
   "outputs": [],
   "source": [
    "import pandas as pd\n",
    "import matplotlib.pyplot as plt\n",
    "import seaborn as sns"
   ]
  },
  {
   "cell_type": "code",
   "execution_count": 75,
   "id": "6b1e65e2-75bc-44f3-baf2-afead90e6dad",
   "metadata": {},
   "outputs": [
    {
     "data": {
      "image/png": "[encoded data removed]",
      "text/plain": [
       "<Figure size 432x288 with 2 Axes>"
      ]
     },
     "metadata": {
      "needs_background": "light"
     },
     "output_type": "display_data"
    }
   ],
   "source": [
    "### 상관관계도\n",
    "data2 = data[['sepal length', 'sepal width', 'petal length', 'petall width']]\n",
    "sns.heatmap(data2.corr(), annot=True, cmap='YlGnBu', linewidths=0.1)\n",
    "plt.show()"
   ]
  },
  {
   "cell_type": "code",
   "execution_count": 84,
   "id": "3a4b6c13-0d04-4d7e-a7aa-ccba59b03862",
   "metadata": {},
   "outputs": [
    {
     "data": {
      "image/png": "[encoded data removed]",
      "text/plain": [
       "<Figure size 504x432 with 2 Axes>"
      ]
     },
     "metadata": {
      "needs_background": "light"
     },
     "output_type": "display_data"
    }
   ],
   "source": [
    "fig, ax = plt.subplots(1, 1, figsize = (7,6))\n",
    "\n",
    "mask = np.zeros_like(data2.corr())\n",
    "mask[np.triu_indices_from(mask)] = True\n",
    "\n",
    "sns.heatmap(data2.corr(), annot=True, cmap='YlGnBu', linewidths=0.1, mask=mask)\n",
    "plt.show()"
   ]
  },
  {
   "cell_type": "code",
   "execution_count": null,
   "id": "069145cc-266d-4e26-95eb-2002c2852abc",
   "metadata": {},
   "outputs": [],
   "source": []
  },
  {
   "cell_type": "code",
   "execution_count": null,
   "id": "b5992aa3-103b-4e1c-ba41-fc8415f71bd6",
   "metadata": {},
   "outputs": [],
   "source": []
  },
  {
   "cell_type": "code",
   "execution_count": null,
   "id": "bf831e71-ab7a-492c-9253-75abebdc6a4a",
   "metadata": {},
   "outputs": [],
   "source": []
  }
 ],
 "metadata": {
  "kernelspec": {
   "display_name": "Python 3 (ipykernel)",
   "language": "python",
   "name": "python3"
  },
  "language_info": {
   "codemirror_mode": {
    "name": "ipython",
    "version": 3
   },
   "file_extension": ".py",
   "mimetype": "text/x-python",
   "name": "python",
   "nbconvert_exporter": "python",
   "pygments_lexer": "ipython3",
   "version": "3.9.12"
  }
 },
 "nbformat": 4,
 "nbformat_minor": 5
}
