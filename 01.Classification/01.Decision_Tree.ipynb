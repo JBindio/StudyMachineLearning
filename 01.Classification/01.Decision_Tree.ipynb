{
 "cells": [
  {
   "cell_type": "code",
   "execution_count": null,
   "id": "9ed0e2ac-f90b-49b1-9808-db2b13b29c33",
   "metadata": {},
   "outputs": [],
   "source": [
    "'''\n",
    "<의사결정나무(Decision Tree)>\n",
    "\n",
    "- 여러 규칙을 순차적으로 적용하면서 분류나 예측을 진행하는 단순 알고리즘 모델\n",
    "- 분류(Classification)와 회귀(Regression)분석에서 모두 사용가능하며 분류분석에 주로 사용됨\n",
    "- 의사결정나무에서 확장된 모델이 랜덤 포레스트(Random Forest)\n",
    "\n",
    "- 독립변수 : 연속형 데이터(숫자 값)\n",
    "- 종속변수 : 범주형 데이터들(구분 가능 값)\n",
    "\n",
    "- 순서\n",
    "1. 데이터 생성\n",
    "2. 전처리\n",
    "3. 학습모델 생성 (fit() 함수 사용)\n",
    "4. 모델 테스트(예측) (predict() 함수 사용)\n",
    "5. 평가\n",
    "'''"
   ]
  },
  {
   "cell_type": "markdown",
   "id": "b044ed0a-1cac-4328-9f86-8e4f931b4b2e",
   "metadata": {},
   "source": [
    "### 예시1 - 사람의 키와 머리카락의 길이로 성별 예측\n",
    "- 종속변수 : 성별\n",
    "- 독립변수 : 키, 머리카락 길이"
   ]
  },
  {
   "cell_type": "code",
   "execution_count": 8,
   "id": "8887cfbf-5193-4996-a31a-284aa30ce69d",
   "metadata": {},
   "outputs": [],
   "source": [
    "# 의사결정나무 라이브러리\n",
    "from sklearn import tree"
   ]
  },
  {
   "cell_type": "code",
   "execution_count": 18,
   "id": "abf713d0-25d5-48be-a03f-ac4a3c171e5d",
   "metadata": {},
   "outputs": [],
   "source": [
    "### 데이터 생성\n",
    "# 종속변수 : x\n",
    "x = [[180, 15],[177, 42],[156, 35],[174, 5],[166, 33]]\n",
    "# 종속변수 : y\n",
    "y = [['Man'],['Women'],['Women'],['Man'],['Women']]\n",
    "label_names = ['Height', 'Hair Length']"
   ]
  },
  {
   "cell_type": "code",
   "execution_count": 19,
   "id": "3191422b-ce5c-4df1-b19f-aa987d66a009",
   "metadata": {},
   "outputs": [
    {
     "name": "stdout",
     "output_type": "stream",
     "text": [
      "model = \n",
      " DecisionTreeClassifier(criterion='entropy', random_state=0)\n",
      "---------------------------------\n"
     ]
    }
   ],
   "source": [
    "\n",
    "### 모델 객체 생성하기\n",
    "# - criterion : 품질 측정방법(지니불순도 방법, 엔트로피 방법)\n",
    "#   - 엔트로피 : 균형잡힌 트리를 생성\n",
    "#   - 지니불순도 : 가장 빈도 높은 클래스를 먼저 분할하는 방법\n",
    "#   - random_state : seed 설정과 동일한 개념, 보통 0과 42 숫자 사용\n",
    "\n",
    "model = tree.DecisionTreeClassifier(criterion='entropy', random_state=0)\n",
    "print('model = \\n', model)\n",
    "print('---------------------------------')"
   ]
  },
  {
   "cell_type": "code",
   "execution_count": 20,
   "id": "dee1e8f1-d1c8-455c-a10c-5bb65e5756f0",
   "metadata": {},
   "outputs": [
    {
     "name": "stdout",
     "output_type": "stream",
     "text": [
      "fit = \n",
      " DecisionTreeClassifier(criterion='entropy', random_state=0)\n",
      "---------------------------------\n"
     ]
    }
   ],
   "source": [
    "### 학습하기\n",
    "fit = model.fit(x, y)\n",
    "print('fit = \\n', fit)\n",
    "print('---------------------------------')"
   ]
  },
  {
   "cell_type": "code",
   "execution_count": 21,
   "id": "ce79a3bd-850f-4193-b734-0754daee1c67",
   "metadata": {},
   "outputs": [
    {
     "name": "stdout",
     "output_type": "stream",
     "text": [
      "accuracy_score = 1.0\n"
     ]
    }
   ],
   "source": [
    "### 학습모델 평가하기\n",
    "\n",
    "# 결정계수\n",
    "# - 값의 범위 : 0 ~ 1\n",
    "# - 1에 가까울 수록 학습모델이 우수함\n",
    "# - 결과값에 * 100을 하면 백분율로 표시됨\n",
    "# - 일반적으로 0.3 이상이면 학습모델 선정\n",
    "accuracy_score = fit.score(x, y)\n",
    "print('accuracy_score =', accuracy_score)"
   ]
  },
  {
   "cell_type": "code",
   "execution_count": 22,
   "id": "d0b18f8a-f038-40c2-ad54-69579f747e7c",
   "metadata": {},
   "outputs": [
    {
     "name": "stdout",
     "output_type": "stream",
     "text": [
      "예측결과 = ['Women']\n"
     ]
    }
   ],
   "source": [
    "### 예측(테스트) 하기\n",
    "# Test 데이터 생성\n",
    "mydata = [[177, 42]]\n",
    "\n",
    "# 예측(테스트)\n",
    "# 예측시에는 독립변수만 넣기(답은 X)\n",
    "# 답은 예측결과\n",
    "pred = fit.predict(mydata)\n",
    "print('예측결과 =', pred)"
   ]
  },
  {
   "cell_type": "code",
   "execution_count": 23,
   "id": "939389f9-6a5f-4702-aed0-190d88517489",
   "metadata": {},
   "outputs": [],
   "source": [
    "### 시각화\n",
    "# pip 라이브러리 설치 : pip install pydotplus\n",
    "# conda 라이브러리 설치 : -c conda-forge graphviz\n",
    "import pydotplus\n",
    "import graphviz\n",
    "import collections"
   ]
  },
  {
   "cell_type": "code",
   "execution_count": 24,
   "id": "5df953c0-bacd-4601-ac23-7d4275d6dba3",
   "metadata": {},
   "outputs": [
    {
     "name": "stdout",
     "output_type": "stream",
     "text": [
      "dot_data = digraph Tree {\n",
      "node [shape=box, style=\"filled, rounded\", color=\"black\", fontname=\"helvetica\"] ;\n",
      "edge [fontname=\"helvetica\"] ;\n",
      "0 [label=\"Hair Length <= 24.0\\nentropy = 0.971\\nsamples = 5\\nvalue = [2, 3]\", fillcolor=\"#bddef6\"] ;\n",
      "1 [label=\"entropy = 0.0\\nsamples = 2\\nvalue = [2, 0]\", fillcolor=\"#e58139\"] ;\n",
      "0 -> 1 [labeldistance=2.5, labelangle=45, headlabel=\"True\"] ;\n",
      "2 [label=\"entropy = 0.0\\nsamples = 3\\nvalue = [0, 3]\", fillcolor=\"#399de5\"] ;\n",
      "0 -> 2 [labeldistance=2.5, labelangle=-45, headlabel=\"False\"] ;\n",
      "}\n",
      "---------------------------------\n",
      "graph = <pydotplus.graphviz.Dot object at 0x000001C74FD22430>\n",
      "---------------------------------\n",
      "edges = defaultdict(<class 'list'>, {})\n",
      "---------------------------------\n",
      "edges 처리 후 분수 = defaultdict(<class 'list'>, {'0': [1, 2]})\n",
      "---------------------------------\n"
     ]
    },
    {
     "data": {
      "image/png": "[encoded data removed]",
      "text/plain": [
       "<Figure size 432x288 with 1 Axes>"
      ]
     },
     "metadata": {
      "needs_background": "light"
     },
     "output_type": "display_data"
    }
   ],
   "source": [
    "### 그래프 그리기\n",
    "# model : 위에서 생성한 모델\n",
    "# feature_name : 독립변수 각 항목 이름\n",
    "# out_file : 파일로 저장할건지 여부\n",
    "# filled : 도형 안쪽 칠할건지 여부\n",
    "# rounded : 도형 사각 영역에 라운드 넣을 건지 여부\n",
    "# 그래프 속성 결정\n",
    "\n",
    "dot_data = tree.export_graphviz(model, \n",
    "                                feature_names = label_names,\n",
    "                                out_file = None, \n",
    "                                filled = True,\n",
    "                                rounded = True)\n",
    "\n",
    "print('dot_data =', dot_data)\n",
    "print('---------------------------------')\n",
    "\n",
    "# 최종 사용할 그래프\n",
    "graph = pydotplus.graph_from_dot_data(dot_data)\n",
    "print('graph =', graph)\n",
    "print('---------------------------------')\n",
    "\n",
    "# 독립변수의 갯수 만큼 색상 지정\n",
    "color = ('red','orange')\n",
    "\n",
    "# list type 변경\n",
    "edges = collections.defaultdict(list)\n",
    "print('edges =',edges)\n",
    "print('---------------------------------')\n",
    "\n",
    "# 트리 데이터 생성하기\n",
    "for e in graph.get_edge_list():\n",
    "    edges[e.get_source()].append(int(e.get_destination()))\n",
    "\n",
    "print('edges 처리 후 분수 =', edges)\n",
    "print('---------------------------------')\n",
    "\n",
    "# 트리 그리기\n",
    "for e in edges :\n",
    "    edges[e].sort()\n",
    "    \n",
    "    for i in range(2) :\n",
    "        dest = graph.get_node(str(edges[e][i]))[0]\n",
    "        dest.set_fillcolor(color[i])\n",
    "        \n",
    "# 그래프 객채를 이미지 파일로 생성\n",
    "graph.write_png('./tree.png')\n",
    "\n",
    "# 생성된 png 이미지 읽기\n",
    "import matplotlib.pyplot as plt\n",
    "\n",
    "img = plt.imread('./tree.png')\n",
    "\n",
    "# 이미지 보여주기\n",
    "plt.imshow(img)\n",
    "plt.show()"
   ]
  },
  {
   "cell_type": "code",
   "execution_count": null,
   "id": "783f0b8f-60fc-47a2-956f-d72f35e696ae",
   "metadata": {},
   "outputs": [],
   "source": []
  },
  {
   "cell_type": "code",
   "execution_count": null,
   "id": "b32b0a43-0645-4be0-b690-c78b97b1dc5f",
   "metadata": {},
   "outputs": [],
   "source": []
  },
  {
   "cell_type": "code",
   "execution_count": null,
   "id": "851af440-960c-453d-b095-36c60be02f12",
   "metadata": {},
   "outputs": [],
   "source": []
  },
  {
   "cell_type": "code",
   "execution_count": null,
   "id": "1019a643-83f4-42f1-9d95-00127796fc78",
   "metadata": {},
   "outputs": [],
   "source": []
  },
  {
   "cell_type": "code",
   "execution_count": null,
   "id": "feea8ab2-e72d-4f43-abe8-477b763bfef3",
   "metadata": {},
   "outputs": [],
   "source": []
  },
  {
   "cell_type": "code",
   "execution_count": null,
   "id": "5cdee20f-3b50-43a6-b6ba-d22f3dca554e",
   "metadata": {},
   "outputs": [],
   "source": []
  },
  {
   "cell_type": "code",
   "execution_count": null,
   "id": "b333dd72-053c-4b1a-af54-956b46b5c1e1",
   "metadata": {},
   "outputs": [],
   "source": []
  },
  {
   "cell_type": "code",
   "execution_count": null,
   "id": "d8a824d5-c183-4039-a656-5fbf181ded65",
   "metadata": {},
   "outputs": [],
   "source": []
  },
  {
   "cell_type": "code",
   "execution_count": null,
   "id": "4223ffa1-9b9d-4ff5-813b-e89a73333737",
   "metadata": {},
   "outputs": [],
   "source": []
  },
  {
   "cell_type": "code",
   "execution_count": null,
   "id": "0a611fc6-b60e-4d35-a3a9-0864512bd96d",
   "metadata": {},
   "outputs": [],
   "source": []
  }
 ],
 "metadata": {
  "kernelspec": {
   "display_name": "Python 3 (ipykernel)",
   "language": "python",
   "name": "python3"
  },
  "language_info": {
   "codemirror_mode": {
    "name": "ipython",
    "version": 3
   },
   "file_extension": ".py",
   "mimetype": "text/x-python",
   "name": "python",
   "nbconvert_exporter": "python",
   "pygments_lexer": "ipython3",
   "version": "3.9.12"
  }
 },
 "nbformat": 4,
 "nbformat_minor": 5
}
