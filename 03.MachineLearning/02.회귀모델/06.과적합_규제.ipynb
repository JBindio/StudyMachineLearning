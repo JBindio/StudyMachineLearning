{
 "cells": [
  {
   "cell_type": "code",
   "execution_count": 1,
   "id": "ac359063-3113-4b5a-96d4-fb36e21c0c3f",
   "metadata": {},
   "outputs": [],
   "source": [
    "import pandas as pd\n",
    "import numpy as np\n",
    "import matplotlib.pyplot as plt\n",
    "import matplotlib\n",
    "import seaborn as sns\n",
    "from matplotlib import font_manager, rc\n",
    "import platform\n",
    "\n",
    "# seaborn 설정 리셋\n",
    "sns.reset_defaults()\n",
    "\n",
    "# 폰트설정\n",
    "if platform.system() == 'Windows' :\n",
    "    path = 'c:/Windows/Fonts/malgun.ttf'\n",
    "    font_name = font_manager.FontProperties(fname=path).get_name()\n",
    "    rc('font', family=font_name)\n",
    "elif platform.system() == 'Darwin':\n",
    "    rc('font', family='AppleGothic')\n",
    "else :\n",
    "    print('Check your OS System')\n",
    "    \n",
    "# 그래프에 마이너스 표시\n",
    "matplotlib.rcParams['axes.unicode_minus'] = False"
   ]
  },
  {
   "cell_type": "markdown",
   "id": "5894c11b-928a-4f19-bb53-0f3a384d3926",
   "metadata": {},
   "source": [
    "## 규제 : 과적합을 줄이는 방법\n",
    "- 과대적합이 일어나지 않도록 제어\n",
    "- 계수(기울기 포함)의 값을 줄이는 방법\n",
    "- 규제 개념이 적용된 모델 : 릿지(ridge)회귀모델, 라쏘(lasso)회귀모델\n",
    "- 주로 릿지(ridge)회귀모델 선호\n",
    "\n",
    "## 규제순서\n",
    "- 1.정규화 : 스케일이 다른 항목들을 표준점수로 동일하게 표준화\n",
    "    - sklearn 제공 클래스 사용\n",
    "    <br>        \n",
    "    <br>\n",
    "\n",
    "- 2.릿지(ridge), 라쏘(lasso) 모델 적용"
   ]
  },
  {
   "cell_type": "markdown",
   "id": "6630c7f4-25cb-431c-87d8-101b658ef400",
   "metadata": {},
   "source": [
    "### 릿지(ridge) 회귀모델\n",
    "- 계수를 제곱한 값을 기준으로 규제 적용\n",
    "- 사용 패키지 : sklearn.linear_model\n",
    "- 사용 클래스 : Ridge\n",
    "- 사용 함수 : fit(), score(), predict()\n",
    "\n",
    "### 라쏘(lasso) 회귀모델\n",
    "- 계수의 절대값을 기준으로 규제 적용\n",
    "- 사용 패키지 : sklearn.linear_model\n",
    "- 사용 클래스 : Lasso\n",
    "- 사용 함수 : fit(), score(), predict"
   ]
  },
  {
   "cell_type": "code",
   "execution_count": 2,
   "id": "aee9a0cc-3453-4f9e-bb88-7ebc4282a68d",
   "metadata": {},
   "outputs": [],
   "source": [
    "# 데이터 준비\n",
    "df = pd.read_csv('./data/03_농어의_길이_높이_두께_데이터.csv')"
   ]
  },
  {
   "cell_type": "code",
   "execution_count": 3,
   "id": "5541eddb-6756-461f-8a34-a467ee6941cc",
   "metadata": {},
   "outputs": [
    {
     "data": {
      "text/html": [
       "<div>\n",
       "<style scoped>\n",
       "    .dataframe tbody tr th:only-of-type {\n",
       "        vertical-align: middle;\n",
       "    }\n",
       "\n",
       "    .dataframe tbody tr th {\n",
       "        vertical-align: top;\n",
       "    }\n",
       "\n",
       "    .dataframe thead th {\n",
       "        text-align: right;\n",
       "    }\n",
       "</style>\n",
       "<table border=\"1\" class=\"dataframe\">\n",
       "  <thead>\n",
       "    <tr style=\"text-align: right;\">\n",
       "      <th></th>\n",
       "      <th>length</th>\n",
       "      <th>height</th>\n",
       "      <th>width</th>\n",
       "    </tr>\n",
       "  </thead>\n",
       "  <tbody>\n",
       "    <tr>\n",
       "      <th>0</th>\n",
       "      <td>8.4</td>\n",
       "      <td>2.11</td>\n",
       "      <td>1.41</td>\n",
       "    </tr>\n",
       "    <tr>\n",
       "      <th>1</th>\n",
       "      <td>13.7</td>\n",
       "      <td>3.53</td>\n",
       "      <td>2.00</td>\n",
       "    </tr>\n",
       "    <tr>\n",
       "      <th>2</th>\n",
       "      <td>15.0</td>\n",
       "      <td>3.82</td>\n",
       "      <td>2.43</td>\n",
       "    </tr>\n",
       "    <tr>\n",
       "      <th>3</th>\n",
       "      <td>16.2</td>\n",
       "      <td>4.59</td>\n",
       "      <td>2.63</td>\n",
       "    </tr>\n",
       "    <tr>\n",
       "      <th>4</th>\n",
       "      <td>17.4</td>\n",
       "      <td>4.59</td>\n",
       "      <td>2.94</td>\n",
       "    </tr>\n",
       "  </tbody>\n",
       "</table>\n",
       "</div>"
      ],
      "text/plain": [
       "   length   height   width\n",
       "0     8.4     2.11    1.41\n",
       "1    13.7     3.53    2.00\n",
       "2    15.0     3.82    2.43\n",
       "3    16.2     4.59    2.63\n",
       "4    17.4     4.59    2.94"
      ]
     },
     "execution_count": 3,
     "metadata": {},
     "output_type": "execute_result"
    }
   ],
   "source": [
    "df.head(5)"
   ]
  },
  {
   "cell_type": "code",
   "execution_count": 4,
   "id": "9818390a-36e9-4c14-b3a8-6f4673f361a2",
   "metadata": {},
   "outputs": [],
   "source": [
    "# 사용할 데이터\n",
    "    # - input데이터(독립변수) : 길이(length), 높이(height), 두께(width)\n",
    "    # - target데이터(종속변수) : 무게(weight)\n",
    "    # - 새로 추가할 데이터 : 면적(길이 * 높이)\n",
    "    # 모든 작업은 sklearn에서 제공하는 함수 이용"
   ]
  },
  {
   "cell_type": "code",
   "execution_count": 5,
   "id": "8ef45bb4-1f99-42b2-bb85-76c13bd416eb",
   "metadata": {},
   "outputs": [
    {
     "name": "stdout",
     "output_type": "stream",
     "text": [
      "[[ 8.4   2.11  1.41]\n",
      " [13.7   3.53  2.  ]\n",
      " [15.    3.82  2.43]\n",
      " [16.2   4.59  2.63]\n",
      " [17.4   4.59  2.94]\n",
      " [18.    5.22  3.32]\n",
      " [18.7   5.2   3.12]\n",
      " [19.    5.64  3.05]\n",
      " [19.6   5.14  3.04]\n",
      " [20.    5.08  2.77]\n",
      " [21.    5.69  3.56]\n",
      " [21.    5.92  3.31]\n",
      " [21.    5.69  3.67]\n",
      " [21.3   6.38  3.53]\n",
      " [22.    6.11  3.41]\n",
      " [22.    5.64  3.52]\n",
      " [22.    6.11  3.52]\n",
      " [22.    5.88  3.52]\n",
      " [22.    5.52  4.  ]\n",
      " [22.5   5.86  3.62]\n",
      " [22.5   6.79  3.62]\n",
      " [22.7   5.95  3.63]\n",
      " [23.    5.22  3.63]\n",
      " [23.5   6.28  3.72]\n",
      " [24.    7.29  3.72]\n",
      " [24.    6.38  3.82]\n",
      " [24.6   6.73  4.17]\n",
      " [25.    6.44  3.68]\n",
      " [25.6   6.56  4.24]\n",
      " [26.5   7.17  4.14]\n",
      " [27.3   8.32  5.14]\n",
      " [27.5   7.17  4.34]\n",
      " [27.5   7.05  4.34]\n",
      " [27.5   7.28  4.57]\n",
      " [28.    7.82  4.2 ]\n",
      " [28.7   7.59  4.64]\n",
      " [30.    7.62  4.77]\n",
      " [32.8  10.03  6.02]\n",
      " [34.5  10.26  6.39]\n",
      " [35.   11.49  7.8 ]\n",
      " [36.5  10.88  6.86]\n",
      " [36.   10.61  6.74]\n",
      " [37.   10.84  6.26]\n",
      " [37.   10.57  6.37]\n",
      " [39.   11.14  7.49]\n",
      " [39.   11.14  6.  ]\n",
      " [39.   12.43  7.35]\n",
      " [40.   11.93  7.11]\n",
      " [40.   11.73  7.22]\n",
      " [40.   12.38  7.46]\n",
      " [40.   11.14  6.63]\n",
      " [42.   12.8   6.87]\n",
      " [43.   11.93  7.28]\n",
      " [43.   12.51  7.42]\n",
      " [43.5  12.6   8.14]\n",
      " [44.   12.49  7.6 ]]\n"
     ]
    }
   ],
   "source": [
    "# 데이터프레임 2차원으로 변경\n",
    "# to_numpy()\n",
    "perch = df.to_numpy()\n",
    "print(perch)"
   ]
  },
  {
   "cell_type": "code",
   "execution_count": 6,
   "id": "ad4d2f04-6575-4860-8598-f5b8017835f0",
   "metadata": {},
   "outputs": [],
   "source": [
    "perch_weight = np.array(\n",
    "    [5.9, 32.0, 40.0, 51.5, 70.0, 100.0, 78.0, 80.0, 85.0, 85.0, \n",
    "     110.0, 115.0, 125.0, 130.0, 120.0, 120.0, 130.0, 135.0, 110.0, \n",
    "     130.0, 150.0, 145.0, 150.0, 170.0, 225.0, 145.0, 188.0, 180.0, \n",
    "     197.0, 218.0, 300.0, 260.0, 265.0, 250.0, 250.0, 300.0, 320.0, \n",
    "     514.0, 556.0, 840.0, 685.0, 700.0, 700.0, 690.0, 900.0, 650.0, \n",
    "     820.0, 850.0, 900.0, 1015.0, 820.0, 1100.0, 1000.0, 1100.0, \n",
    "     1000.0, 1000.0]\n",
    "     )"
   ]
  },
  {
   "cell_type": "code",
   "execution_count": 7,
   "id": "4476f155-60aa-42b8-9daf-818c23345896",
   "metadata": {},
   "outputs": [
    {
     "name": "stdout",
     "output_type": "stream",
     "text": [
      "56\n",
      "56\n"
     ]
    }
   ],
   "source": [
    "print(len(perch))\n",
    "print(len(perch_weight))"
   ]
  },
  {
   "cell_type": "code",
   "execution_count": 8,
   "id": "c7e47ad2-e155-461a-8218-0226a75e8c29",
   "metadata": {},
   "outputs": [],
   "source": [
    "# 훈련데이터, 테스트데이터 설정\n",
    "from sklearn.model_selection import train_test_split\n",
    "\n",
    "train_input, test_input, train_target, test_target = \\\n",
    "    train_test_split(perch, perch_weight, random_state=42)"
   ]
  },
  {
   "cell_type": "code",
   "execution_count": 9,
   "id": "d4480aac-ef6c-42a6-bcd2-a41c915ef6b9",
   "metadata": {},
   "outputs": [
    {
     "name": "stdout",
     "output_type": "stream",
     "text": [
      "<훈련데이터>------------------------------------------------------------------\n",
      "[[19.6   5.14  3.04]\n",
      " [22.    5.88  3.52]\n",
      " [18.7   5.2   3.12]\n",
      " [17.4   4.59  2.94]\n",
      " [36.   10.61  6.74]\n",
      " [25.    6.44  3.68]\n",
      " [40.   11.93  7.11]\n",
      " [39.   12.43  7.35]\n",
      " [43.   11.93  7.28]\n",
      " [22.    5.64  3.52]\n",
      " [20.    5.08  2.77]\n",
      " [22.    6.11  3.52]\n",
      " [24.    7.29  3.72]\n",
      " [27.5   7.17  4.34]\n",
      " [43.   12.51  7.42]\n",
      " [40.   11.73  7.22]\n",
      " [24.    6.38  3.82]\n",
      " [21.    5.92  3.31]\n",
      " [27.5   7.05  4.34]\n",
      " [40.   12.38  7.46]\n",
      " [32.8  10.03  6.02]\n",
      " [26.5   7.17  4.14]\n",
      " [36.5  10.88  6.86]\n",
      " [13.7   3.53  2.  ]\n",
      " [22.7   5.95  3.63]\n",
      " [15.    3.82  2.43]\n",
      " [37.   10.57  6.37]\n",
      " [35.   11.49  7.8 ]\n",
      " [28.7   7.59  4.64]\n",
      " [23.5   6.28  3.72]\n",
      " [39.   11.14  6.  ]\n",
      " [21.    5.69  3.56]\n",
      " [23.    5.22  3.63]\n",
      " [22.    5.52  4.  ]\n",
      " [44.   12.49  7.6 ]\n",
      " [22.5   6.79  3.62]\n",
      " [19.    5.64  3.05]\n",
      " [37.   10.84  6.26]\n",
      " [22.    6.11  3.41]\n",
      " [25.6   6.56  4.24]\n",
      " [42.   12.8   6.87]\n",
      " [34.5  10.26  6.39]]\n",
      "------------------------------------------------------------------------------\n",
      "[  85.  135.   78.   70.  700.  180.  850.  820. 1000.  120.   85.  130.\n",
      "  225.  260. 1100.  900.  145.  115.  265. 1015.  514.  218.  685.   32.\n",
      "  145.   40.  690.  840.  300.  170.  650.  110.  150.  110. 1000.  150.\n",
      "   80.  700.  120.  197. 1100.  556.]\n",
      "\n",
      "<테스트데이터>----------------------------------------------------------------\n",
      "[[ 8.4   2.11  1.41]\n",
      " [18.    5.22  3.32]\n",
      " [27.5   7.28  4.57]\n",
      " [21.3   6.38  3.53]\n",
      " [22.5   5.86  3.62]\n",
      " [40.   11.14  6.63]\n",
      " [30.    7.62  4.77]\n",
      " [24.6   6.73  4.17]\n",
      " [39.   11.14  7.49]\n",
      " [21.    5.69  3.67]\n",
      " [43.5  12.6   8.14]\n",
      " [16.2   4.59  2.63]\n",
      " [28.    7.82  4.2 ]\n",
      " [27.3   8.32  5.14]]\n",
      "------------------------------------------------------------------------------\n",
      "[   5.9  100.   250.   130.   130.   820.   320.   188.   900.   125.\n",
      " 1000.    51.5  250.   300. ]\n"
     ]
    }
   ],
   "source": [
    "print('<훈련데이터>------------------------------------------------------------------')\n",
    "print(train_input)\n",
    "print('------------------------------------------------------------------------------')\n",
    "print(train_target)\n",
    "print()\n",
    "print('<테스트데이터>----------------------------------------------------------------')\n",
    "print(test_input)\n",
    "print('------------------------------------------------------------------------------')\n",
    "print(test_target)"
   ]
  },
  {
   "cell_type": "code",
   "execution_count": 10,
   "id": "f1c7d323-6824-43a4-91a2-eccf4727b16a",
   "metadata": {},
   "outputs": [],
   "source": [
    "# sklearn 변환기 클래스\n",
    "from sklearn.preprocessing import PolynomialFeatures"
   ]
  },
  {
   "cell_type": "code",
   "execution_count": 11,
   "id": "d17d2cd8-befd-462e-96ab-6c1fdc647a1b",
   "metadata": {},
   "outputs": [
    {
     "name": "stdout",
     "output_type": "stream",
     "text": [
      "[[2. 3. 4. 6. 9.]]\n"
     ]
    }
   ],
   "source": [
    "poly = PolynomialFeatures(include_bias=False)\n",
    "\n",
    "# 임의값 사용\n",
    "temp_data =[[2,3]]\n",
    "\n",
    "# 훈련시키키 : 새롭게 만들 특성 조합 스스로 찾기\n",
    "poly.fit(temp_data)\n",
    "\n",
    "# 찾은 특성 조합으로 데이터 변환하기\n",
    "print(poly.transform(temp_data))"
   ]
  },
  {
   "cell_type": "code",
   "execution_count": 12,
   "id": "5989dd0f-180c-4999-958c-7d315f5e999d",
   "metadata": {},
   "outputs": [],
   "source": [
    "# <변환기 특성조합 생성규칙>\n",
    "# 첫번째 값 : 1, y절편 값(무조건 첫번째는 1)\n",
    "# 두번째 값 : 2, 기존 첫번째 값(2)\n",
    "# 세번째 값 : 3, 기존 두번째 값(3)\n",
    "# 네번째 값 : 4, 기존 첫번째 값(2)의 제곱\n",
    "# 다섯번째 값: 6, 기존 첫번째 값(2) * 기존 두번째값(3)\n",
    "# 여섯번째 값: 9, 기존 두번째 값(3)의 제곱\n",
    "\n",
    "# y절편의 1값은 PolynoialFeatures 클래스에서 기본적으로 특성에 추가된 절편값을 무시\n",
    "    # - 추가된 y절편 1은 무시 가능\n",
    "    # - PolynoialFeatures 클래스 생상시 제외시키는 속성 사용\n",
    "    # - include_bias = False옵션 사용시 y절편값 제외"
   ]
  },
  {
   "cell_type": "markdown",
   "id": "914db260-0520-4815-985b-e725d114359a",
   "metadata": {},
   "source": [
    "### 특성 만들기 : sklearn 변환기\n",
    "- sklearn은 특성을 만들거나 전처리 하기 위해 다양한 객체를 제공\n",
    "- sklearn에서 제공하는 이런 클래스들을 '변환기'라고 부릅니다.\n",
    "\n",
    "### 특성 생성패키지\n",
    "- 사용되는 패키지 : sklearn.preprocessing\n",
    "- 사용되는 클래스 : PolynomialFeatures\n",
    "- 사용되는 함수 : fit(), transform(), fit_transforms()\n",
    "- 사용되는 데이터 : train_input, test_input\n",
    "- 훈련에 영향을 미치는 특성(항목)을 스스로 찾아서 생성 -> target 해당사항없음"
   ]
  },
  {
   "cell_type": "code",
   "execution_count": 13,
   "id": "a8317f17-1d1c-4653-9f34-6de1dd740ffa",
   "metadata": {},
   "outputs": [],
   "source": [
    "from sklearn.preprocessing import PolynomialFeatures"
   ]
  },
  {
   "cell_type": "code",
   "execution_count": 14,
   "id": "e60382a2-400a-4e8d-91d1-d304b8fe5685",
   "metadata": {},
   "outputs": [],
   "source": [
    "poly = PolynomialFeatures(degree=5, include_bias=False)\n",
    "\n",
    "# 훈련은 훈련데이터로 1번만\n",
    "poly.fit(train_input)\n",
    "\n",
    "train_poly = poly.transform(train_input)\n",
    "test_poly = poly.transform(test_input)"
   ]
  },
  {
   "cell_type": "code",
   "execution_count": 15,
   "id": "9ecfbe1f-fa7b-4efa-b504-0746abc13323",
   "metadata": {},
   "outputs": [
    {
     "data": {
      "text/plain": [
       "(42, 55)"
      ]
     },
     "execution_count": 15,
     "metadata": {},
     "output_type": "execute_result"
    }
   ],
   "source": [
    "train_poly.shape"
   ]
  },
  {
   "cell_type": "code",
   "execution_count": 16,
   "id": "768bb660-1018-4e42-8598-81a3b21cefd7",
   "metadata": {},
   "outputs": [
    {
     "data": {
      "text/plain": [
       "(14, 55)"
      ]
     },
     "execution_count": 16,
     "metadata": {},
     "output_type": "execute_result"
    }
   ],
   "source": [
    "test_poly.shape"
   ]
  },
  {
   "cell_type": "code",
   "execution_count": 17,
   "id": "bb828f68-f511-4179-ad71-a70ad3188f88",
   "metadata": {},
   "outputs": [
    {
     "name": "stderr",
     "output_type": "stream",
     "text": [
      "C:\\Users\\admin\\anaconda3\\lib\\site-packages\\sklearn\\utils\\deprecation.py:87: FutureWarning: Function get_feature_names is deprecated; get_feature_names is deprecated in 1.0 and will be removed in 1.2. Please use get_feature_names_out instead.\n",
      "  warnings.warn(msg, category=FutureWarning)\n"
     ]
    },
    {
     "data": {
      "text/plain": [
       "array(['x0', 'x1', 'x2', 'x0^2', 'x0 x1', 'x0 x2', 'x1^2', 'x1 x2',\n",
       "       'x2^2', 'x0^3', 'x0^2 x1', 'x0^2 x2', 'x0 x1^2', 'x0 x1 x2',\n",
       "       'x0 x2^2', 'x1^3', 'x1^2 x2', 'x1 x2^2', 'x2^3', 'x0^4', 'x0^3 x1',\n",
       "       'x0^3 x2', 'x0^2 x1^2', 'x0^2 x1 x2', 'x0^2 x2^2', 'x0 x1^3',\n",
       "       'x0 x1^2 x2', 'x0 x1 x2^2', 'x0 x2^3', 'x1^4', 'x1^3 x2',\n",
       "       'x1^2 x2^2', 'x1 x2^3', 'x2^4', 'x0^5', 'x0^4 x1', 'x0^4 x2',\n",
       "       'x0^3 x1^2', 'x0^3 x1 x2', 'x0^3 x2^2', 'x0^2 x1^3',\n",
       "       'x0^2 x1^2 x2', 'x0^2 x1 x2^2', 'x0^2 x2^3', 'x0 x1^4',\n",
       "       'x0 x1^3 x2', 'x0 x1^2 x2^2', 'x0 x1 x2^3', 'x0 x2^4', 'x1^5',\n",
       "       'x1^4 x2', 'x1^3 x2^2', 'x1^2 x2^3', 'x1 x2^4', 'x2^5'],\n",
       "      dtype=object)"
      ]
     },
     "execution_count": 17,
     "metadata": {},
     "output_type": "execute_result"
    }
   ],
   "source": [
    "#훈련모델이 사용된 조합의 패턴 출력하기\n",
    "poly.get_feature_names()\n",
    "poly.get_feature_names_out()"
   ]
  },
  {
   "cell_type": "markdown",
   "id": "52d07c3b-4e9a-4692-bee3-1d46c393eb7b",
   "metadata": {},
   "source": [
    "### 정규화(표준화)"
   ]
  },
  {
   "cell_type": "code",
   "execution_count": 18,
   "id": "6b4dda69-63fc-4cbf-803d-a168786f45d4",
   "metadata": {},
   "outputs": [],
   "source": [
    "# 정규화(표준화)\n",
    "# 사용패키지\n",
    "from sklearn.preprocessing import StandardScaler"
   ]
  },
  {
   "cell_type": "code",
   "execution_count": 19,
   "id": "d61fc1d6-0764-43e1-8afb-cb45d0754d7b",
   "metadata": {},
   "outputs": [
    {
     "data": {
      "text/plain": [
       "StandardScaler()"
      ]
     },
     "execution_count": 19,
     "metadata": {},
     "output_type": "execute_result"
    }
   ],
   "source": [
    "# 표준점수 생성\n",
    "ss = StandardScaler()\n",
    "ss.fit(train_poly, train_target)"
   ]
  },
  {
   "cell_type": "code",
   "execution_count": 20,
   "id": "527a8843-794a-4850-ad47-4d5ffc6ace89",
   "metadata": {},
   "outputs": [],
   "source": [
    "train_scaled = ss.transform(train_poly)\n",
    "test_scaled = ss.transform(test_poly)"
   ]
  },
  {
   "cell_type": "code",
   "execution_count": 21,
   "id": "5051f229-43bb-42f0-bf40-ea5e3ebbe924",
   "metadata": {},
   "outputs": [
    {
     "data": {
      "text/plain": [
       "(42, 55)"
      ]
     },
     "execution_count": 21,
     "metadata": {},
     "output_type": "execute_result"
    }
   ],
   "source": [
    "train_scaled.shape"
   ]
  },
  {
   "cell_type": "code",
   "execution_count": 22,
   "id": "3f533ad3-4a46-4ae1-9b7a-31a4123fe29a",
   "metadata": {},
   "outputs": [
    {
     "data": {
      "text/plain": [
       "(14, 55)"
      ]
     },
     "execution_count": 22,
     "metadata": {},
     "output_type": "execute_result"
    }
   ],
   "source": [
    "test_scaled.shape"
   ]
  },
  {
   "cell_type": "code",
   "execution_count": 23,
   "id": "1cbf9a02-9546-4344-bd7a-d5e336935e52",
   "metadata": {},
   "outputs": [
    {
     "name": "stdout",
     "output_type": "stream",
     "text": [
      "평균 : \n",
      " [2.84452381e+01 8.04238095e+00 4.82047619e+00 8.85315000e+02\n",
      " 2.53486881e+02 1.51959000e+02 7.29365000e+01 4.36999452e+01\n",
      " 2.62868381e+01 2.97326070e+04 8.59817581e+03 5.15200651e+03\n",
      " 2.49680043e+03 1.49567194e+03 8.99184494e+02 7.27945149e+02\n",
      " 4.36019840e+02 2.62115117e+02 1.58141990e+02 1.05917983e+06\n",
      " 3.08429517e+05 1.84644673e+05 9.01239554e+04 5.39478286e+04\n",
      " 3.23998082e+04 2.64224658e+04 1.58167367e+04 9.49991053e+03\n",
      " 5.72489005e+03 7.77162422e+03 4.65285399e+03 2.79521756e+03\n",
      " 1.68494739e+03 1.01911272e+03 3.93876111e+07 1.15192532e+07\n",
      " 6.88842737e+06 3.37865413e+06 2.02034307e+06 1.21184517e+06\n",
      " 9.93774754e+05 5.94291271e+05 3.56516573e+05 2.14541208e+05\n",
      " 2.93110780e+05 1.75313851e+05 1.05196649e+05 6.33244641e+04\n",
      " 3.82394901e+04 8.66870097e+04 5.18625239e+04 3.11308026e+04\n",
      " 1.87477065e+04 1.13270112e+04 6.86569419e+03]\n",
      "표준편차 : \n",
      " [8.72831196e+00 2.87343151e+00 1.74638123e+00 5.24782988e+02\n",
      " 1.60836428e+02 9.64793789e+01 4.95165749e+01 2.97578956e+01\n",
      " 1.81139412e+01 2.50155373e+04 7.49275582e+03 4.47153009e+03\n",
      " 2.25433695e+03 1.34683566e+03 8.11988865e+02 6.81265335e+02\n",
      " 4.07639942e+02 2.46263218e+02 1.50164227e+02 1.10854579e+06\n",
      " 3.28247889e+05 1.95342267e+05 9.76153931e+04 5.81064317e+04\n",
      " 3.48472685e+04 2.91591483e+04 1.73674986e+04 1.04273041e+04\n",
      " 6.30922253e+03 8.75059964e+03 5.21694989e+03 3.13701782e+03\n",
      " 1.90225250e+03 1.16311955e+03 4.77814865e+07 1.40483165e+07\n",
      " 8.34702250e+06 4.14736151e+06 2.46313653e+06 1.47240427e+06\n",
      " 1.22970655e+06 7.30196641e+05 4.36628701e+05 2.62841007e+05\n",
      " 3.66270535e+05 2.17518714e+05 1.30152823e+05 7.84482709e+04\n",
      " 4.76246733e+04 1.09609367e+05 6.51258832e+04 3.90090183e+04\n",
      " 2.35520992e+04 1.43325296e+04 8.79122582e+03]\n"
     ]
    }
   ],
   "source": [
    "# 평균, 표준편차 확인\n",
    "print('평균 : \\n', ss.mean_)\n",
    "print('표준편차 : \\n',ss.scale_)"
   ]
  },
  {
   "cell_type": "markdown",
   "id": "4671a941-cce1-4741-aa15-25cec6e38af3",
   "metadata": {},
   "source": [
    "### 릿지(Ridge) 모델"
   ]
  },
  {
   "cell_type": "code",
   "execution_count": 24,
   "id": "921463fa-10ab-4f82-8612-745bce0f74f1",
   "metadata": {},
   "outputs": [
    {
     "data": {
      "text/plain": [
       "Ridge()"
      ]
     },
     "execution_count": 24,
     "metadata": {},
     "output_type": "execute_result"
    }
   ],
   "source": [
    "# 릿지(Ridge) 모델을 이용한 결정계수 확인\n",
    "from sklearn.linear_model import Ridge\n",
    "ridge = Ridge()\n",
    "ridge.fit(train_scaled, train_target)"
   ]
  },
  {
   "cell_type": "code",
   "execution_count": 25,
   "id": "23f4e25a-5fb4-4f70-ad39-7c1ae2359968",
   "metadata": {},
   "outputs": [
    {
     "name": "stdout",
     "output_type": "stream",
     "text": [
      "Ridge 훈련데이터 결정계수 : 0.9896101671037343\n",
      "Ridge 테스트데이터 결정계수 : 0.9790693977615386\n"
     ]
    }
   ],
   "source": [
    "print('Ridge 훈련데이터 결정계수 :', ridge.score(train_scaled, train_target))\n",
    "print('Ridge 테스트데이터 결정계수 :', ridge.score(test_scaled, test_target))"
   ]
  },
  {
   "cell_type": "markdown",
   "id": "61391551-ba67-4d50-90af-9ce4d49dbcdb",
   "metadata": {},
   "source": [
    "### 라쏘(Lasso) 모델"
   ]
  },
  {
   "cell_type": "code",
   "execution_count": 26,
   "id": "5ee39d7e-748e-441b-b7e6-1e71de4fc4c5",
   "metadata": {},
   "outputs": [
    {
     "data": {
      "text/plain": [
       "Lasso()"
      ]
     },
     "execution_count": 26,
     "metadata": {},
     "output_type": "execute_result"
    }
   ],
   "source": [
    "# 라쏘(Lasso) 모델을 이용한 결정계수 확인\n",
    "from sklearn.linear_model import Lasso\n",
    "lasso = Lasso()\n",
    "lasso.fit(train_scaled, train_target)"
   ]
  },
  {
   "cell_type": "code",
   "execution_count": 27,
   "id": "bc55b608-cce3-4652-bb91-a962c96e0b29",
   "metadata": {},
   "outputs": [
    {
     "name": "stdout",
     "output_type": "stream",
     "text": [
      "Lasso 훈련데이터 결정계수 : 0.989789897208096\n",
      "Lasso 테스트데이터 결정계수 : 0.9800593698421884\n"
     ]
    }
   ],
   "source": [
    "print('Lasso 훈련데이터 결정계수 :', lasso.score(train_scaled, train_target))\n",
    "print('Lasso 테스트데이터 결정계수 :', lasso.score(test_scaled, test_target))"
   ]
  },
  {
   "cell_type": "markdown",
   "id": "f427b46e-2eb7-4fef-9c40-c567fd6dc058",
   "metadata": {},
   "source": [
    "### 규제강도 조절하기\n",
    "- Ridge, Lasso 모델의 규제강도 조절 속성 = alpha\n",
    "- alpha : 사람이 직접 넣어줘야 한다\n",
    "- 사람이 직접 넣어주는값 = 하이퍼파라미터 or 파라미터\n",
    "\n",
    "### alpha값 찾기\n",
    "- 정해진 방법은 없으나 일반적으로 쓰는 방법\n",
    "- 1.훈련데이터, 학습데이터를 통한 모델생성 및 평가\n",
    "- 2.결정계수 값을 이용한 그래프 시각화\n",
    "- 3.훈련데이터와 테스트데이터의 결정계수값이 가장 가까워지는 지점의 x축값 선정"
   ]
  },
  {
   "cell_type": "code",
   "execution_count": 28,
   "id": "d4c91c5d-0baa-401d-b2d6-8639ecea43e2",
   "metadata": {},
   "outputs": [
    {
     "data": {
      "image/png": "[encoded data removed]",
      "text/plain": [
       "<Figure size 2000x1000 with 1 Axes>"
      ]
     },
     "metadata": {},
     "output_type": "display_data"
    }
   ],
   "source": [
    "# Ridge alpha 강도 조절값 찾아보기\n",
    "\n",
    "# 결정계수 리스트\n",
    "train_score = []\n",
    "test_score = []\n",
    "\n",
    "# alpha값 범위\n",
    "alpha_list = [0.001, 0.01, 0.1, 1, 10, 100]\n",
    "\n",
    "for alpha in alpha_list :\n",
    "    # 릿지모델\n",
    "    ridge = Ridge(alpha = alpha)\n",
    "    ridge.fit(train_scaled, train_target)\n",
    "    train_score.append(ridge.score(train_scaled, train_target))\n",
    "    test_score.append(ridge.score(test_scaled, test_target))\n",
    "\n",
    "fig = plt.figure(figsize=(20,10))\n",
    "plt.rc('font', family = 'Malgun Gothic', size = 18)\n",
    "plt.title('Ridge Alpha 강도 조절값 탐색')\n",
    "\n",
    "plt.plot(np.log10(alpha_list), train_score, color='navy')\n",
    "plt.plot(np.log10(alpha_list), test_score, color='darkorange')\n",
    "\n",
    "plt.rcParams['lines.linewidth'] = 2\n",
    "\n",
    "# plt.xlabel('농어 길이(cm)')\n",
    "# plt.ylabel('농어 무게(kg)')\n",
    "plt.show()"
   ]
  },
  {
   "cell_type": "code",
   "execution_count": 29,
   "id": "933c2e30-bd6c-457d-aee6-03af74261f56",
   "metadata": {},
   "outputs": [
    {
     "name": "stdout",
     "output_type": "stream",
     "text": [
      "Ridge 훈련데이터 결정계수 : 0.9903815817570368\n",
      "Ridge 테스트데이터 결정계수 : 0.9827976465386896\n"
     ]
    }
   ],
   "source": [
    "# 릿지(Ridge) 모델을 이용한 결정계수 확인\n",
    "from sklearn.linear_model import Ridge\n",
    "ridge = Ridge(alpha = 0.1)\n",
    "ridge.fit(train_scaled, train_target)\n",
    "print('Ridge 훈련데이터 결정계수 :', ridge.score(train_scaled, train_target))\n",
    "print('Ridge 테스트데이터 결정계수 :', ridge.score(test_scaled, test_target))"
   ]
  },
  {
   "cell_type": "code",
   "execution_count": 30,
   "id": "9b39071d-f205-4ac2-b85b-c20cf8857e8b",
   "metadata": {},
   "outputs": [
    {
     "name": "stderr",
     "output_type": "stream",
     "text": [
      "C:\\Users\\admin\\anaconda3\\lib\\site-packages\\sklearn\\linear_model\\_coordinate_descent.py:647: ConvergenceWarning: Objective did not converge. You might want to increase the number of iterations, check the scale of the features or consider increasing regularisation. Duality gap: 2.336e+04, tolerance: 5.183e+02\n",
      "  model = cd_fast.enet_coordinate_descent(\n",
      "C:\\Users\\admin\\anaconda3\\lib\\site-packages\\sklearn\\linear_model\\_coordinate_descent.py:647: ConvergenceWarning: Objective did not converge. You might want to increase the number of iterations, check the scale of the features or consider increasing regularisation. Duality gap: 2.025e+04, tolerance: 5.183e+02\n",
      "  model = cd_fast.enet_coordinate_descent(\n",
      "C:\\Users\\admin\\anaconda3\\lib\\site-packages\\sklearn\\linear_model\\_coordinate_descent.py:647: ConvergenceWarning: Objective did not converge. You might want to increase the number of iterations, check the scale of the features or consider increasing regularisation. Duality gap: 8.062e+02, tolerance: 5.183e+02\n",
      "  model = cd_fast.enet_coordinate_descent(\n"
     ]
    },
    {
     "data": {
      "image/png": "[encoded data removed]",
      "text/plain": [
       "<Figure size 2000x1000 with 1 Axes>"
      ]
     },
     "metadata": {},
     "output_type": "display_data"
    }
   ],
   "source": [
    "# Lasso alpha 강도 조절값 찾아보기\n",
    "\n",
    "# 결정계수 리스트\n",
    "train_score = []\n",
    "test_score = []\n",
    "\n",
    "# alpha값 범위\n",
    "alpha_list = [0.001, 0.01, 0.1, 1, 10, 100]\n",
    "\n",
    "for alpha in alpha_list :\n",
    "    # 라쏘모델\n",
    "    lasso = Lasso(alpha = alpha)\n",
    "    lasso.fit(train_scaled, train_target)\n",
    "    train_score.append(lasso.score(train_scaled, train_target))\n",
    "    test_score.append(lasso.score(test_scaled, test_target))\n",
    "\n",
    "fig = plt.figure(figsize=(20,10))\n",
    "plt.rc('font', family = 'Malgun Gothic', size = 18)\n",
    "plt.title('Lasso Alpha 강도 조절값 탐색')\n",
    "\n",
    "plt.plot(np.log10(alpha_list), train_score, color='navy')\n",
    "plt.plot(np.log10(alpha_list), test_score, color='darkorange')\n",
    "\n",
    "plt.rcParams['lines.linewidth'] = 2\n",
    "\n",
    "# plt.xlabel('농어 길이(cm)')\n",
    "# plt.ylabel('농어 무게(kg)')\n",
    "plt.show()"
   ]
  },
  {
   "cell_type": "code",
   "execution_count": 31,
   "id": "5a3c181c-fe97-4b25-85fc-fef490f6a457",
   "metadata": {},
   "outputs": [
    {
     "name": "stdout",
     "output_type": "stream",
     "text": [
      "Lasso 훈련데이터 결정계수 : 0.9888067471131867\n",
      "Lasso 테스트데이터 결정계수 : 0.9824470598706695\n"
     ]
    }
   ],
   "source": [
    "# 릿지(Ridge) 모델을 이용한 결정계수 확인\n",
    "from sklearn.linear_model import Ridge\n",
    "lasso = Lasso(alpha = 10)\n",
    "lasso.fit(train_scaled, train_target)\n",
    "print('Lasso 훈련데이터 결정계수 :', lasso.score(train_scaled, train_target))\n",
    "print('Lasso 테스트데이터 결정계수 :', lasso.score(test_scaled, test_target))"
   ]
  },
  {
   "cell_type": "code",
   "execution_count": null,
   "id": "b6df1d3c-50be-4240-a84e-fa066205e4f6",
   "metadata": {},
   "outputs": [],
   "source": [
    "Lasso 훈련데이터 결정계수 : 0.989\n",
    "Lasso 테스트데이터 결정계수 : 0.982\n",
    "\n",
    "Ridge 훈련데이터 결정계수 : 0.990\n",
    "Ridge 테스트데이터 결정계수 : 0.983"
   ]
  },
  {
   "cell_type": "code",
   "execution_count": 32,
   "id": "f193d2f2-b048-4292-a609-16cc4fc85845",
   "metadata": {},
   "outputs": [],
   "source": [
    "# 최종 선택 모델 : Ridge"
   ]
  }
 ],
 "metadata": {
  "kernelspec": {
   "display_name": "ml_kernel",
   "language": "python",
   "name": "ml"
  },
  "language_info": {
   "codemirror_mode": {
    "name": "ipython",
    "version": 3
   },
   "file_extension": ".py",
   "mimetype": "text/x-python",
   "name": "python",
   "nbconvert_exporter": "python",
   "pygments_lexer": "ipython3",
   "version": "3.9.12"
  }
 },
 "nbformat": 4,
 "nbformat_minor": 5
}
