{
 "cells": [
  {
   "cell_type": "code",
   "execution_count": 2,
   "id": "ac359063-3113-4b5a-96d4-fb36e21c0c3f",
   "metadata": {},
   "outputs": [],
   "source": [
    "import pandas as pd\n",
    "import numpy as np\n",
    "import matplotlib.pyplot as plt\n",
    "import matplotlib\n",
    "import seaborn as sns\n",
    "from matplotlib import font_manager, rc\n",
    "import platform\n",
    "\n",
    "# seaborn 설정 리셋\n",
    "sns.reset_defaults()\n",
    "\n",
    "# 폰트설정\n",
    "if platform.system() == 'Windows' :\n",
    "    path = 'c:/Windows/Fonts/malgun.ttf'\n",
    "    font_name = font_manager.FontProperties(fname=path).get_name()\n",
    "    rc('font', family=font_name)\n",
    "elif platform.system() == 'Darwin':\n",
    "    rc('font', family='AppleGothic')\n",
    "else :\n",
    "    print('Check your OS System')\n",
    "    \n",
    "# 그래프에 마이너스 표시\n",
    "matplotlib.rcParams['axes.unicode_minus'] = False"
   ]
  },
  {
   "cell_type": "code",
   "execution_count": 4,
   "id": "6ec080da-5f55-4875-9c79-e5017abd733e",
   "metadata": {},
   "outputs": [
    {
     "data": {
      "text/html": [
       "<div>\n",
       "<style scoped>\n",
       "    .dataframe tbody tr th:only-of-type {\n",
       "        vertical-align: middle;\n",
       "    }\n",
       "\n",
       "    .dataframe tbody tr th {\n",
       "        vertical-align: top;\n",
       "    }\n",
       "\n",
       "    .dataframe thead th {\n",
       "        text-align: right;\n",
       "    }\n",
       "</style>\n",
       "<table border=\"1\" class=\"dataframe\">\n",
       "  <thead>\n",
       "    <tr style=\"text-align: right;\">\n",
       "      <th></th>\n",
       "      <th>친밀도</th>\n",
       "      <th>적절성</th>\n",
       "      <th>만족도</th>\n",
       "    </tr>\n",
       "  </thead>\n",
       "  <tbody>\n",
       "    <tr>\n",
       "      <th>0</th>\n",
       "      <td>3</td>\n",
       "      <td>4</td>\n",
       "      <td>3</td>\n",
       "    </tr>\n",
       "    <tr>\n",
       "      <th>1</th>\n",
       "      <td>3</td>\n",
       "      <td>3</td>\n",
       "      <td>2</td>\n",
       "    </tr>\n",
       "    <tr>\n",
       "      <th>2</th>\n",
       "      <td>4</td>\n",
       "      <td>4</td>\n",
       "      <td>4</td>\n",
       "    </tr>\n",
       "    <tr>\n",
       "      <th>3</th>\n",
       "      <td>2</td>\n",
       "      <td>2</td>\n",
       "      <td>2</td>\n",
       "    </tr>\n",
       "    <tr>\n",
       "      <th>4</th>\n",
       "      <td>2</td>\n",
       "      <td>2</td>\n",
       "      <td>2</td>\n",
       "    </tr>\n",
       "    <tr>\n",
       "      <th>...</th>\n",
       "      <td>...</td>\n",
       "      <td>...</td>\n",
       "      <td>...</td>\n",
       "    </tr>\n",
       "    <tr>\n",
       "      <th>259</th>\n",
       "      <td>3</td>\n",
       "      <td>4</td>\n",
       "      <td>4</td>\n",
       "    </tr>\n",
       "    <tr>\n",
       "      <th>260</th>\n",
       "      <td>3</td>\n",
       "      <td>4</td>\n",
       "      <td>3</td>\n",
       "    </tr>\n",
       "    <tr>\n",
       "      <th>261</th>\n",
       "      <td>4</td>\n",
       "      <td>4</td>\n",
       "      <td>4</td>\n",
       "    </tr>\n",
       "    <tr>\n",
       "      <th>262</th>\n",
       "      <td>4</td>\n",
       "      <td>4</td>\n",
       "      <td>4</td>\n",
       "    </tr>\n",
       "    <tr>\n",
       "      <th>263</th>\n",
       "      <td>2</td>\n",
       "      <td>3</td>\n",
       "      <td>3</td>\n",
       "    </tr>\n",
       "  </tbody>\n",
       "</table>\n",
       "<p>264 rows × 3 columns</p>\n",
       "</div>"
      ],
      "text/plain": [
       "     친밀도  적절성  만족도\n",
       "0      3    4    3\n",
       "1      3    3    2\n",
       "2      4    4    4\n",
       "3      2    2    2\n",
       "4      2    2    2\n",
       "..   ...  ...  ...\n",
       "259    3    4    4\n",
       "260    3    4    3\n",
       "261    4    4    4\n",
       "262    4    4    4\n",
       "263    2    3    3\n",
       "\n",
       "[264 rows x 3 columns]"
      ]
     },
     "execution_count": 4,
     "metadata": {},
     "output_type": "execute_result"
    }
   ],
   "source": [
    "drink = pd.read_csv('./data/04_(문제)_회귀모델_drinking_water.csv')\n",
    "drink"
   ]
  },
  {
   "cell_type": "code",
   "execution_count": 12,
   "id": "1f752aa1-8bb5-49de-9f8b-763c60e4dd38",
   "metadata": {},
   "outputs": [],
   "source": [
    "drink_x = drink[['친밀도','적절성']]\n",
    "drink_y = drink[['만족도']]"
   ]
  },
  {
   "cell_type": "code",
   "execution_count": 13,
   "id": "7db4ff2f-aa3b-43a9-bedd-112a2de30687",
   "metadata": {},
   "outputs": [],
   "source": [
    "# 데이터 프레임 형태 > 2차원 배열 형태 변환\n",
    "drink_x = drink_x.to_numpy()\n",
    "drink_y = drink_y.to_numpy()"
   ]
  },
  {
   "cell_type": "code",
   "execution_count": 15,
   "id": "246b3b8f-7eca-4938-a01d-1cbfe82ffd9a",
   "metadata": {},
   "outputs": [],
   "source": [
    "# 훈련데이터, 테스트데이터 분리\n",
    "from sklearn.model_selection import train_test_split\n",
    "\n",
    "train_input, test_input, train_target, test_target = \\\n",
    "    train_test_split(drink_x, drink_y, random_state=42)"
   ]
  },
  {
   "cell_type": "code",
   "execution_count": 20,
   "id": "f93e88b5-8fa2-4b93-a72a-0ff033893d30",
   "metadata": {},
   "outputs": [
    {
     "name": "stdout",
     "output_type": "stream",
     "text": [
      "198\n",
      "198\n",
      "66\n",
      "66\n"
     ]
    }
   ],
   "source": [
    "# 분리 확인\n",
    "print(len(train_input))\n",
    "print(len(train_target))\n",
    "print(len(test_input))\n",
    "print(len(test_target))"
   ]
  },
  {
   "cell_type": "code",
   "execution_count": 134,
   "id": "e789f69c-f81c-4cf3-aeb9-ec6690b2c4a3",
   "metadata": {},
   "outputs": [
    {
     "name": "stdout",
     "output_type": "stream",
     "text": [
      "0.589220642902726\n",
      "0.5995961077787297\n"
     ]
    }
   ],
   "source": [
    "# 학습 및 테스트를 통한 결정계수 확인(LinearRegression 모델)\n",
    "from sklearn.linear_model import LinearRegression\n",
    "\n",
    "lr = LinearRegression()\n",
    "lr.fit(train_input, train_target)\n",
    "\n",
    "print(lr.score(train_input, train_target))\n",
    "print(lr.score(test_input, test_target))\n",
    "\n",
    "# <해석> \n",
    "# 훈련데이터 및 테스트데이터의 결정계수가 0.5로 낮게 측정됨\n",
    "# 모델의 결정계수가 너무 낮아 좋은 모델로 평가 할 수 없음\n",
    "\n",
    "# <해결방안>\n",
    "# 복잡도를 줘서 결정계수를 높혀보기"
   ]
  },
  {
   "cell_type": "code",
   "execution_count": 59,
   "id": "efa6c8ce-4498-4275-8d1b-a27a46ca3e40",
   "metadata": {},
   "outputs": [
    {
     "name": "stdout",
     "output_type": "stream",
     "text": [
      "0.5891931890783967\n",
      "0.5996359279316605\n"
     ]
    }
   ],
   "source": [
    "# 학습 및 테스트를 통한 결정계수 확인(Ridge 모델)\n",
    "from sklearn.linear_model import Ridge\n",
    "\n",
    "ridge = Ridge()\n",
    "ridge.fit(train_input, train_target)\n",
    "\n",
    "print(ridge.score(train_input, train_target))\n",
    "print(ridge.score(test_input, test_target))\n",
    "\n",
    "# <해석> \n",
    "# 훈련데이터 및 테스트데이터의 결정계수가 0.5로 낮게 측정됨\n",
    "# 모델의 결정계수가 너무 낮아 좋은 모델로 평가 할 수 없음\n",
    "\n",
    "# <해결방안>\n",
    "# 복잡도를 줘서 결정계수를 높혀보기"
   ]
  },
  {
   "cell_type": "code",
   "execution_count": 135,
   "id": "78fb93f6-4d34-4e9d-88ec-8e7a8502f36c",
   "metadata": {},
   "outputs": [
    {
     "name": "stdout",
     "output_type": "stream",
     "text": [
      "0.0\n",
      "-0.03759780907668264\n"
     ]
    }
   ],
   "source": [
    "# 학습 및 테스트를 통한 결정계수 확인(Lasso 모델)\n",
    "from sklearn.linear_model import Lasso\n",
    "\n",
    "lasso = Lasso()\n",
    "lasso.fit(train_input, train_target)\n",
    "\n",
    "print(lasso.score(train_input, train_target))\n",
    "print(lasso.score(test_input, test_target))\n",
    "\n",
    "# <해석> \n",
    "# 훈련데이터 및 테스트데이터의 결정계수가 0\n",
    "\n",
    "# <해결방안>\n",
    "# 복잡도를 줘서 결정계수를 높혀보기"
   ]
  },
  {
   "cell_type": "code",
   "execution_count": 117,
   "id": "8d1f8009-6f5c-4dfc-a216-fe1d3e7d3b39",
   "metadata": {
    "jupyter": {
     "source_hidden": true
    }
   },
   "outputs": [],
   "source": [
    "# 복잡도 주기\n",
    "from sklearn.preprocessing import PolynomialFeatures\n",
    "\n",
    "poly = PolynomialFeatures(degree=2, include_bias=False)\n",
    "\n",
    "poly.fit(train_input, train_target)\n",
    "\n",
    "train_poly = poly.transform(train_input)\n",
    "test_poly = poly.transform(test_input) "
   ]
  },
  {
   "cell_type": "code",
   "execution_count": 125,
   "id": "e6e0ba3f-f094-467a-ad9b-def2e27b9377",
   "metadata": {
    "collapsed": true,
    "jupyter": {
     "outputs_hidden": true,
     "source_hidden": true
    }
   },
   "outputs": [
    {
     "name": "stdout",
     "output_type": "stream",
     "text": [
      "Linear 훈련 결정계수 : 0.642\n",
      "Linear 테스트 결정계수 : 0.634\n"
     ]
    }
   ],
   "source": [
    "# LinearRegression 모델의 결정계수 확인\n",
    "lr.fit(train_poly, train_target)\n",
    "\n",
    "print('Linear 훈련 결정계수 :', round(lr.score(train_poly, train_target),3))\n",
    "print('Linear 테스트 결정계수 :', round(lr.score(test_poly, test_target),3))"
   ]
  },
  {
   "cell_type": "code",
   "execution_count": 126,
   "id": "bbf0535a-0c03-40d4-b488-fc6e0a62b905",
   "metadata": {
    "collapsed": true,
    "jupyter": {
     "outputs_hidden": true,
     "source_hidden": true
    },
    "tags": []
   },
   "outputs": [
    {
     "name": "stdout",
     "output_type": "stream",
     "text": [
      "Ridge 훈련 결정계수 : 0.639\n",
      "Ridge 테스트 결정계수 : 0.642\n"
     ]
    }
   ],
   "source": [
    "# Ridge 모델의 결정계수 확인\n",
    "ridge.fit(train_poly, train_target)\n",
    "\n",
    "print('Ridge 훈련 결정계수 :', round(ridge.score(train_poly, train_target),3))\n",
    "print('Ridge 테스트 결정계수 :', round(ridge.score(test_poly, test_target),3))"
   ]
  },
  {
   "cell_type": "code",
   "execution_count": 128,
   "id": "d08c15dd-c9c1-441e-8ca2-f1e1c45fb803",
   "metadata": {
    "collapsed": true,
    "jupyter": {
     "outputs_hidden": true,
     "source_hidden": true
    },
    "tags": []
   },
   "outputs": [
    {
     "name": "stdout",
     "output_type": "stream",
     "text": [
      "Lasso 훈련 결정계수 0.489\n",
      "Lasso 훈련 결정계수 0.49\n"
     ]
    }
   ],
   "source": [
    "# Lasso 모델의 결정계수 확인\n",
    "lasso.fit(train_poly, train_target)\n",
    "\n",
    "print('Lasso 훈련 결정계수', round(lasso.score(train_poly, train_target),3))\n",
    "print('Lasso 훈련 결정계수', round(lasso.score(test_poly, test_target),3))"
   ]
  },
  {
   "cell_type": "code",
   "execution_count": 146,
   "id": "0a272d24-f164-4f34-aa6f-3e7becc34035",
   "metadata": {},
   "outputs": [
    {
     "name": "stdout",
     "output_type": "stream",
     "text": [
      "dgree : 3\n",
      "Linear 훈련 결정계수 : 0.646\n",
      "Linear 테스트 결정계수 : 0.618\n",
      "\n",
      "dgree : 3\n",
      "Ridge 훈련 결정계수 : 0.639\n",
      "Ridge 테스트 결정계수 : 0.636\n",
      "\n",
      "dgree : 5\n",
      "Linear 훈련 결정계수 : 0.669\n",
      "Linear 테스트 결정계수 : -1.02\n",
      "\n",
      "dgree : 5\n",
      "Ridge 훈련 결정계수 : 0.665\n",
      "Ridge 테스트 결정계수 : 0.2\n",
      "\n",
      "dgree : 7\n",
      "Linear 훈련 결정계수 : 0.666\n",
      "Linear 테스트 결정계수 : -1.3006232657044577e+20\n",
      "\n",
      "dgree : 7\n",
      "Ridge 훈련 결정계수 : 0.669\n",
      "Ridge 테스트 결정계수 : -3.891\n",
      "\n",
      "dgree : 9\n",
      "Linear 훈련 결정계수 : 0.665\n",
      "Linear 테스트 결정계수 : -2.3082122439777124e+21\n",
      "\n",
      "dgree : 9\n",
      "Ridge 훈련 결정계수 : 0.669\n",
      "Ridge 테스트 결정계수 : -109.899\n",
      "\n",
      "dgree : 9\n",
      "Lasso 훈련 결정계수 0.6\n",
      "Lasso 훈련 결정계수 0.539\n",
      "\n"
     ]
    },
    {
     "name": "stderr",
     "output_type": "stream",
     "text": [
      "C:\\Users\\admin\\anaconda3\\lib\\site-packages\\sklearn\\linear_model\\_coordinate_descent.py:647: ConvergenceWarning: Objective did not converge. You might want to increase the number of iterations, check the scale of the features or consider increasing regularisation. Duality gap: 2.167e-01, tolerance: 1.364e-02\n",
      "  model = cd_fast.enet_coordinate_descent(\n",
      "C:\\Users\\admin\\anaconda3\\lib\\site-packages\\sklearn\\linear_model\\_coordinate_descent.py:647: ConvergenceWarning: Objective did not converge. You might want to increase the number of iterations, check the scale of the features or consider increasing regularisation. Duality gap: 9.367e+00, tolerance: 1.364e-02\n",
      "  model = cd_fast.enet_coordinate_descent(\n",
      "C:\\Users\\admin\\anaconda3\\lib\\site-packages\\sklearn\\linear_model\\_coordinate_descent.py:647: ConvergenceWarning: Objective did not converge. You might want to increase the number of iterations, check the scale of the features or consider increasing regularisation. Duality gap: 3.001e+01, tolerance: 1.364e-02\n",
      "  model = cd_fast.enet_coordinate_descent(\n"
     ]
    }
   ],
   "source": [
    "# 복잡도 주기(degree 는 왠만하면 홀수)\n",
    "from sklearn.preprocessing import PolynomialFeatures\n",
    "\n",
    "for i in range(1,11,2):\n",
    "\n",
    "    poly = PolynomialFeatures(degree=i, include_bias=False)\n",
    "\n",
    "    poly.fit(train_input, train_target)\n",
    "\n",
    "    train_poly = poly.transform(train_input)\n",
    "    test_poly = poly.transform(test_input)\n",
    "    \n",
    "    # LinearRegression 모델의 결정계수 확인\n",
    "    lr.fit(train_poly, train_target)\n",
    "    \n",
    "    if lr.score(train_poly, train_target) >= 0.6:\n",
    "        print('dgree :', i)\n",
    "        print('Linear 훈련 결정계수 :', round(lr.score(train_poly, train_target),3))\n",
    "        print('Linear 테스트 결정계수 :', round(lr.score(test_poly, test_target),3))\n",
    "        print()\n",
    "    \n",
    "    # Ridge 모델의 결정계수 확인\n",
    "    ridge.fit(train_poly, train_target)\n",
    "    \n",
    "    if ridge.score(train_poly, train_target) >= 0.6:\n",
    "        print('dgree :', i)\n",
    "        print('Ridge 훈련 결정계수 :', round(ridge.score(train_poly, train_target),3))\n",
    "        print('Ridge 테스트 결정계수 :', round(ridge.score(test_poly, test_target),3))\n",
    "        print()\n",
    "    # Lasso 모델의 결정계수 확인\n",
    "    lasso.fit(train_poly, train_target)\n",
    "    \n",
    "    if lasso.score(train_poly, train_target) >= 0.6:\n",
    "        print('dgree :', i)\n",
    "        print('Lasso 훈련 결정계수', round(lasso.score(train_poly, train_target),3))\n",
    "        print('Lasso 훈련 결정계수', round(lasso.score(test_poly, test_target),3))\n",
    "        print()"
   ]
  }
 ],
 "metadata": {
  "kernelspec": {
   "display_name": "ml_kernel",
   "language": "python",
   "name": "ml"
  },
  "language_info": {
   "codemirror_mode": {
    "name": "ipython",
    "version": 3
   },
   "file_extension": ".py",
   "mimetype": "text/x-python",
   "name": "python",
   "nbconvert_exporter": "python",
   "pygments_lexer": "ipython3",
   "version": "3.9.12"
  }
 },
 "nbformat": 4,
 "nbformat_minor": 5
}
