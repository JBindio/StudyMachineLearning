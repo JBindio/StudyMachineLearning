{
 "cells": [
  {
   "cell_type": "code",
   "execution_count": 7,
   "id": "ac359063-3113-4b5a-96d4-fb36e21c0c3f",
   "metadata": {},
   "outputs": [],
   "source": [
    "import pandas as pd\n",
    "import numpy as np\n",
    "import matplotlib.pyplot as plt\n",
    "import matplotlib\n",
    "import seaborn as sns\n",
    "from matplotlib import font_manager, rc\n",
    "import platform\n",
    "\n",
    "# seaborn 설정 리셋\n",
    "sns.reset_defaults()\n",
    "\n",
    "# 폰트설정\n",
    "if platform.system() == 'Windows' :\n",
    "    path = 'c:/Windows/Fonts/malgun.ttf'\n",
    "    font_name = font_manager.FontProperties(fname=path).get_name()\n",
    "    rc('font', family=font_name)\n",
    "elif platform.system() == 'Darwin':\n",
    "    rc('font', family='AppleGothic')\n",
    "else :\n",
    "    print('Check your OS System')\n",
    "    \n",
    "# 그래프에 마이너스 표시\n",
    "matplotlib.rcParams['axes.unicode_minus'] = False"
   ]
  },
  {
   "cell_type": "markdown",
   "id": "5894c11b-928a-4f19-bb53-0f3a384d3926",
   "metadata": {},
   "source": [
    "## 다중회귀모델(Multiple Regression Model)\n",
    "- 여러개의 특성(독립변수 = 항목 = 컬럼 = 변수 = 퓨처)을 사용한 선형회귀\n",
    "- 특성이 많을수록, 복잡도가 높아진다\n",
    "- 1개의 특성 : 선형회귀모델 = '직선' (x, y)\n",
    "- 2개이상의 특성 : 선형회귀모델 = '평면' (x, y, z)\n",
    "<br>\n",
    "\n",
    "## 다중회귀모델 공식(방정식)\n",
    "- y = a * 특성1 + b * 특성2 + c * 특성3... + y절편"
   ]
  },
  {
   "cell_type": "code",
   "execution_count": 8,
   "id": "aee9a0cc-3453-4f9e-bb88-7ebc4282a68d",
   "metadata": {},
   "outputs": [],
   "source": [
    "# 데이터 준비\n",
    "df = pd.read_csv('./data/03_농어의_길이_높이_두께_데이터.csv')"
   ]
  },
  {
   "cell_type": "code",
   "execution_count": 9,
   "id": "5541eddb-6756-461f-8a34-a467ee6941cc",
   "metadata": {},
   "outputs": [
    {
     "data": {
      "text/html": [
       "<div>\n",
       "<style scoped>\n",
       "    .dataframe tbody tr th:only-of-type {\n",
       "        vertical-align: middle;\n",
       "    }\n",
       "\n",
       "    .dataframe tbody tr th {\n",
       "        vertical-align: top;\n",
       "    }\n",
       "\n",
       "    .dataframe thead th {\n",
       "        text-align: right;\n",
       "    }\n",
       "</style>\n",
       "<table border=\"1\" class=\"dataframe\">\n",
       "  <thead>\n",
       "    <tr style=\"text-align: right;\">\n",
       "      <th></th>\n",
       "      <th>length</th>\n",
       "      <th>height</th>\n",
       "      <th>width</th>\n",
       "    </tr>\n",
       "  </thead>\n",
       "  <tbody>\n",
       "    <tr>\n",
       "      <th>0</th>\n",
       "      <td>8.4</td>\n",
       "      <td>2.11</td>\n",
       "      <td>1.41</td>\n",
       "    </tr>\n",
       "    <tr>\n",
       "      <th>1</th>\n",
       "      <td>13.7</td>\n",
       "      <td>3.53</td>\n",
       "      <td>2.00</td>\n",
       "    </tr>\n",
       "    <tr>\n",
       "      <th>2</th>\n",
       "      <td>15.0</td>\n",
       "      <td>3.82</td>\n",
       "      <td>2.43</td>\n",
       "    </tr>\n",
       "    <tr>\n",
       "      <th>3</th>\n",
       "      <td>16.2</td>\n",
       "      <td>4.59</td>\n",
       "      <td>2.63</td>\n",
       "    </tr>\n",
       "    <tr>\n",
       "      <th>4</th>\n",
       "      <td>17.4</td>\n",
       "      <td>4.59</td>\n",
       "      <td>2.94</td>\n",
       "    </tr>\n",
       "  </tbody>\n",
       "</table>\n",
       "</div>"
      ],
      "text/plain": [
       "   length   height   width\n",
       "0     8.4     2.11    1.41\n",
       "1    13.7     3.53    2.00\n",
       "2    15.0     3.82    2.43\n",
       "3    16.2     4.59    2.63\n",
       "4    17.4     4.59    2.94"
      ]
     },
     "execution_count": 9,
     "metadata": {},
     "output_type": "execute_result"
    }
   ],
   "source": [
    "df.head(5)"
   ]
  },
  {
   "cell_type": "code",
   "execution_count": 10,
   "id": "9818390a-36e9-4c14-b3a8-6f4673f361a2",
   "metadata": {},
   "outputs": [],
   "source": [
    "# 사용할 데이터\n",
    "    # - input데이터(독립변수) : 길이(length), 높이(height), 두께(width)\n",
    "    # - target데이터(종속변수) : 무게(weight)\n",
    "    # - 새로 추가할 데이터 : 면적(길이 * 높이)\n",
    "    # 모든 작업은 sklearn에서 제공하는 함수 이용"
   ]
  },
  {
   "cell_type": "markdown",
   "id": "e310bcae-f935-437f-b7bb-837c5d4f4ea0",
   "metadata": {
    "tags": []
   },
   "source": [
    "### 특성공학\n",
    "- 기존의 특성을 이용 > 새로운 특성(항목) 을 만들어내는 작업"
   ]
  },
  {
   "cell_type": "code",
   "execution_count": 11,
   "id": "8ef45bb4-1f99-42b2-bb85-76c13bd416eb",
   "metadata": {},
   "outputs": [
    {
     "name": "stdout",
     "output_type": "stream",
     "text": [
      "[[ 8.4   2.11  1.41]\n",
      " [13.7   3.53  2.  ]\n",
      " [15.    3.82  2.43]\n",
      " [16.2   4.59  2.63]\n",
      " [17.4   4.59  2.94]\n",
      " [18.    5.22  3.32]\n",
      " [18.7   5.2   3.12]\n",
      " [19.    5.64  3.05]\n",
      " [19.6   5.14  3.04]\n",
      " [20.    5.08  2.77]\n",
      " [21.    5.69  3.56]\n",
      " [21.    5.92  3.31]\n",
      " [21.    5.69  3.67]\n",
      " [21.3   6.38  3.53]\n",
      " [22.    6.11  3.41]\n",
      " [22.    5.64  3.52]\n",
      " [22.    6.11  3.52]\n",
      " [22.    5.88  3.52]\n",
      " [22.    5.52  4.  ]\n",
      " [22.5   5.86  3.62]\n",
      " [22.5   6.79  3.62]\n",
      " [22.7   5.95  3.63]\n",
      " [23.    5.22  3.63]\n",
      " [23.5   6.28  3.72]\n",
      " [24.    7.29  3.72]\n",
      " [24.    6.38  3.82]\n",
      " [24.6   6.73  4.17]\n",
      " [25.    6.44  3.68]\n",
      " [25.6   6.56  4.24]\n",
      " [26.5   7.17  4.14]\n",
      " [27.3   8.32  5.14]\n",
      " [27.5   7.17  4.34]\n",
      " [27.5   7.05  4.34]\n",
      " [27.5   7.28  4.57]\n",
      " [28.    7.82  4.2 ]\n",
      " [28.7   7.59  4.64]\n",
      " [30.    7.62  4.77]\n",
      " [32.8  10.03  6.02]\n",
      " [34.5  10.26  6.39]\n",
      " [35.   11.49  7.8 ]\n",
      " [36.5  10.88  6.86]\n",
      " [36.   10.61  6.74]\n",
      " [37.   10.84  6.26]\n",
      " [37.   10.57  6.37]\n",
      " [39.   11.14  7.49]\n",
      " [39.   11.14  6.  ]\n",
      " [39.   12.43  7.35]\n",
      " [40.   11.93  7.11]\n",
      " [40.   11.73  7.22]\n",
      " [40.   12.38  7.46]\n",
      " [40.   11.14  6.63]\n",
      " [42.   12.8   6.87]\n",
      " [43.   11.93  7.28]\n",
      " [43.   12.51  7.42]\n",
      " [43.5  12.6   8.14]\n",
      " [44.   12.49  7.6 ]]\n"
     ]
    }
   ],
   "source": [
    "# 데이터프레임 2차원으로 변경\n",
    "# to_numpy()\n",
    "perch = df.to_numpy()\n",
    "print(perch)"
   ]
  },
  {
   "cell_type": "code",
   "execution_count": 12,
   "id": "ad4d2f04-6575-4860-8598-f5b8017835f0",
   "metadata": {},
   "outputs": [],
   "source": [
    "perch_weight = np.array(\n",
    "    [5.9, 32.0, 40.0, 51.5, 70.0, 100.0, 78.0, 80.0, 85.0, 85.0, \n",
    "     110.0, 115.0, 125.0, 130.0, 120.0, 120.0, 130.0, 135.0, 110.0, \n",
    "     130.0, 150.0, 145.0, 150.0, 170.0, 225.0, 145.0, 188.0, 180.0, \n",
    "     197.0, 218.0, 300.0, 260.0, 265.0, 250.0, 250.0, 300.0, 320.0, \n",
    "     514.0, 556.0, 840.0, 685.0, 700.0, 700.0, 690.0, 900.0, 650.0, \n",
    "     820.0, 850.0, 900.0, 1015.0, 820.0, 1100.0, 1000.0, 1100.0, \n",
    "     1000.0, 1000.0]\n",
    "     )"
   ]
  },
  {
   "cell_type": "code",
   "execution_count": 13,
   "id": "4476f155-60aa-42b8-9daf-818c23345896",
   "metadata": {},
   "outputs": [
    {
     "name": "stdout",
     "output_type": "stream",
     "text": [
      "56\n",
      "56\n"
     ]
    }
   ],
   "source": [
    "print(len(perch))\n",
    "print(len(perch_weight))"
   ]
  },
  {
   "cell_type": "code",
   "execution_count": 14,
   "id": "c7e47ad2-e155-461a-8218-0226a75e8c29",
   "metadata": {},
   "outputs": [],
   "source": [
    "# 훈련데이터, 테스트데이터 설정\n",
    "from sklearn.model_selection import train_test_split\n",
    "\n",
    "train_input, test_input, train_target, test_target = \\\n",
    "    train_test_split(perch, perch_weight, random_state=42)"
   ]
  },
  {
   "cell_type": "code",
   "execution_count": 15,
   "id": "d4480aac-ef6c-42a6-bcd2-a41c915ef6b9",
   "metadata": {},
   "outputs": [
    {
     "name": "stdout",
     "output_type": "stream",
     "text": [
      "<훈련데이터>------------------------------------------------------------------\n",
      "[[19.6   5.14  3.04]\n",
      " [22.    5.88  3.52]\n",
      " [18.7   5.2   3.12]\n",
      " [17.4   4.59  2.94]\n",
      " [36.   10.61  6.74]\n",
      " [25.    6.44  3.68]\n",
      " [40.   11.93  7.11]\n",
      " [39.   12.43  7.35]\n",
      " [43.   11.93  7.28]\n",
      " [22.    5.64  3.52]\n",
      " [20.    5.08  2.77]\n",
      " [22.    6.11  3.52]\n",
      " [24.    7.29  3.72]\n",
      " [27.5   7.17  4.34]\n",
      " [43.   12.51  7.42]\n",
      " [40.   11.73  7.22]\n",
      " [24.    6.38  3.82]\n",
      " [21.    5.92  3.31]\n",
      " [27.5   7.05  4.34]\n",
      " [40.   12.38  7.46]\n",
      " [32.8  10.03  6.02]\n",
      " [26.5   7.17  4.14]\n",
      " [36.5  10.88  6.86]\n",
      " [13.7   3.53  2.  ]\n",
      " [22.7   5.95  3.63]\n",
      " [15.    3.82  2.43]\n",
      " [37.   10.57  6.37]\n",
      " [35.   11.49  7.8 ]\n",
      " [28.7   7.59  4.64]\n",
      " [23.5   6.28  3.72]\n",
      " [39.   11.14  6.  ]\n",
      " [21.    5.69  3.56]\n",
      " [23.    5.22  3.63]\n",
      " [22.    5.52  4.  ]\n",
      " [44.   12.49  7.6 ]\n",
      " [22.5   6.79  3.62]\n",
      " [19.    5.64  3.05]\n",
      " [37.   10.84  6.26]\n",
      " [22.    6.11  3.41]\n",
      " [25.6   6.56  4.24]\n",
      " [42.   12.8   6.87]\n",
      " [34.5  10.26  6.39]]\n",
      "------------------------------------------------------------------------------\n",
      "[  85.  135.   78.   70.  700.  180.  850.  820. 1000.  120.   85.  130.\n",
      "  225.  260. 1100.  900.  145.  115.  265. 1015.  514.  218.  685.   32.\n",
      "  145.   40.  690.  840.  300.  170.  650.  110.  150.  110. 1000.  150.\n",
      "   80.  700.  120.  197. 1100.  556.]\n",
      "\n",
      "<테스트데이터>----------------------------------------------------------------\n",
      "[[ 8.4   2.11  1.41]\n",
      " [18.    5.22  3.32]\n",
      " [27.5   7.28  4.57]\n",
      " [21.3   6.38  3.53]\n",
      " [22.5   5.86  3.62]\n",
      " [40.   11.14  6.63]\n",
      " [30.    7.62  4.77]\n",
      " [24.6   6.73  4.17]\n",
      " [39.   11.14  7.49]\n",
      " [21.    5.69  3.67]\n",
      " [43.5  12.6   8.14]\n",
      " [16.2   4.59  2.63]\n",
      " [28.    7.82  4.2 ]\n",
      " [27.3   8.32  5.14]]\n",
      "------------------------------------------------------------------------------\n",
      "[   5.9  100.   250.   130.   130.   820.   320.   188.   900.   125.\n",
      " 1000.    51.5  250.   300. ]\n"
     ]
    }
   ],
   "source": [
    "print('<훈련데이터>------------------------------------------------------------------')\n",
    "print(train_input)\n",
    "print('------------------------------------------------------------------------------')\n",
    "print(train_target)\n",
    "print()\n",
    "print('<테스트데이터>----------------------------------------------------------------')\n",
    "print(test_input)\n",
    "print('------------------------------------------------------------------------------')\n",
    "print(test_target)"
   ]
  },
  {
   "cell_type": "code",
   "execution_count": 34,
   "id": "f1c7d323-6824-43a4-91a2-eccf4727b16a",
   "metadata": {},
   "outputs": [],
   "source": [
    "# sklearn 변환기 클래스\n",
    "from sklearn.preprocessing import PolynomialFeatures"
   ]
  },
  {
   "cell_type": "code",
   "execution_count": 39,
   "id": "d17d2cd8-befd-462e-96ab-6c1fdc647a1b",
   "metadata": {},
   "outputs": [
    {
     "name": "stdout",
     "output_type": "stream",
     "text": [
      "[[2. 3. 4. 6. 9.]]\n"
     ]
    }
   ],
   "source": [
    "poly = PolynomialFeatures(include_bias=False)\n",
    "\n",
    "# 임의값 사용\n",
    "temp_data =[[2,3]]\n",
    "\n",
    "# 훈련시키키 : 새롭게 만들 특성 조합 스스로 찾기\n",
    "poly.fit(temp_data)\n",
    "\n",
    "# 찾은 특성 조합으로 데이터 변환하기\n",
    "print(poly.transform(temp_data))"
   ]
  },
  {
   "cell_type": "code",
   "execution_count": 38,
   "id": "5989dd0f-180c-4999-958c-7d315f5e999d",
   "metadata": {},
   "outputs": [],
   "source": [
    "# <변환기 특성조합 생성규칙>\n",
    "# 첫번째 값 : 1, y절편 값(무조건 첫번째는 1)\n",
    "# 두번째 값 : 2, 기존 첫번째 값(2)\n",
    "# 세번째 값 : 3, 기존 두번째 값(3)\n",
    "# 네번째 값 : 4, 기존 첫번째 값(2)의 제곱\n",
    "# 다섯번째 값: 6, 기존 첫번째 값(2) * 기존 두번째값(3)\n",
    "# 여섯번째 값: 9, 기존 두번째 값(3)의 제곱\n",
    "\n",
    "# y절편의 1값은 PolynoialFeatures 클래스에서 기본적으로 특성에 추가된 절편값을 무시\n",
    "    # - 추가된 y절편 1은 무시 가능\n",
    "    # - PolynoialFeatures 클래스 생상시 제외시키는 속성 사용\n",
    "    # - include_bias = False옵션 사용시 y절편값 제외"
   ]
  },
  {
   "cell_type": "markdown",
   "id": "914db260-0520-4815-985b-e725d114359a",
   "metadata": {},
   "source": [
    "### 특성 만들기 : sklearn 변환기\n",
    "- sklearn은 특성을 만들거나 전처리 하기 위해 다양한 객체를 제공\n",
    "- sklearn에서 제공하는 이런 클래스들을 '변환기'라고 부릅니다.\n",
    "\n",
    "### 특성 생성패키지\n",
    "- 사용되는 패키지 : sklearn.preprocessing\n",
    "- 사용되는 클래스 : PolynomialFeatures\n",
    "- 사용되는 함수 : fit(), transform(), fit_transforms()\n",
    "- 사용되는 데이터 : train_input, test_input\n",
    "- 훈련에 영향을 미치는 특성(항목)을 스스로 찾아서 생성 -> target 해당사항없음"
   ]
  },
  {
   "cell_type": "code",
   "execution_count": 50,
   "id": "a8317f17-1d1c-4653-9f34-6de1dd740ffa",
   "metadata": {},
   "outputs": [],
   "source": [
    "from sklearn.preprocessing import PolynomialFeatures"
   ]
  },
  {
   "cell_type": "code",
   "execution_count": 77,
   "id": "e60382a2-400a-4e8d-91d1-d304b8fe5685",
   "metadata": {},
   "outputs": [],
   "source": [
    "poly = PolynomialFeatures(include_bias=False)\n",
    "\n",
    "# 훈련은 훈련데이터로 1번만\n",
    "poly.fit(train_input)\n",
    "\n",
    "train_poly = poly.transform(train_input)\n",
    "test_poly = poly.transform(test_input)"
   ]
  },
  {
   "cell_type": "code",
   "execution_count": 78,
   "id": "9ecfbe1f-fa7b-4efa-b504-0746abc13323",
   "metadata": {},
   "outputs": [
    {
     "data": {
      "text/plain": [
       "(42, 9)"
      ]
     },
     "execution_count": 78,
     "metadata": {},
     "output_type": "execute_result"
    }
   ],
   "source": [
    "train_poly.shape"
   ]
  },
  {
   "cell_type": "code",
   "execution_count": 79,
   "id": "768bb660-1018-4e42-8598-81a3b21cefd7",
   "metadata": {},
   "outputs": [
    {
     "data": {
      "text/plain": [
       "(14, 9)"
      ]
     },
     "execution_count": 79,
     "metadata": {},
     "output_type": "execute_result"
    }
   ],
   "source": [
    "test_poly.shape"
   ]
  },
  {
   "cell_type": "code",
   "execution_count": 81,
   "id": "bb828f68-f511-4179-ad71-a70ad3188f88",
   "metadata": {},
   "outputs": [
    {
     "data": {
      "text/plain": [
       "array(['x0', 'x1', 'x2', 'x0^2', 'x0 x1', 'x0 x2', 'x1^2', 'x1 x2',\n",
       "       'x2^2'], dtype=object)"
      ]
     },
     "execution_count": 81,
     "metadata": {},
     "output_type": "execute_result"
    }
   ],
   "source": [
    "#훈련모델이 사용된 조합의 패턴 출력하기\n",
    "poly.get_feature_names()\n",
    "poly.get_feature_names_out()"
   ]
  },
  {
   "cell_type": "code",
   "execution_count": 82,
   "id": "54b4cb0b-2186-4a1a-a035-cf49f8ed6519",
   "metadata": {},
   "outputs": [],
   "source": [
    "from sklearn.linear_model import LinearRegression"
   ]
  },
  {
   "cell_type": "code",
   "execution_count": 85,
   "id": "0b3ebd11-e2cb-426b-a750-e95cd1820bc9",
   "metadata": {},
   "outputs": [
    {
     "data": {
      "text/plain": [
       "LinearRegression()"
      ]
     },
     "execution_count": 85,
     "metadata": {},
     "output_type": "execute_result"
    }
   ],
   "source": [
    "lr = LinearRegression()\n",
    "lr.fit(train_poly, train_target)"
   ]
  },
  {
   "cell_type": "code",
   "execution_count": 127,
   "id": "8202283e-64df-4775-95ba-ef23549fa95a",
   "metadata": {},
   "outputs": [
    {
     "name": "stdout",
     "output_type": "stream",
     "text": [
      "  훈련 데이터 : 0.9903183436982125\n",
      "테스트 데이터 : 0.9714559911594155\n"
     ]
    }
   ],
   "source": [
    "print('  훈련 데이터 :',lr.score(train_poly, train_target))\n",
    "print('테스트 데이터 :',lr.score(test_poly, test_target))"
   ]
  },
  {
   "cell_type": "code",
   "execution_count": 128,
   "id": "56834820-3fe3-426a-ae37-f0ec00214b51",
   "metadata": {},
   "outputs": [],
   "source": [
    "# 객체(모델)생성\n",
    "poly = PolynomialFeatures(degree=5, include_bias=False)\n",
    "\n",
    "# 훈련은 훈련데이터로 1번만\n",
    "poly.fit(train_input)\n",
    "\n",
    "#훈련데이터, 테스트데이터 변환\n",
    "train_poly = poly.transform(train_input)\n",
    "test_poly = poly.transform(test_input)"
   ]
  },
  {
   "cell_type": "code",
   "execution_count": 131,
   "id": "79a9c49d-e1b9-4b4e-bb14-908ea6d54e3d",
   "metadata": {},
   "outputs": [
    {
     "data": {
      "text/plain": [
       "(42, 55)"
      ]
     },
     "execution_count": 131,
     "metadata": {},
     "output_type": "execute_result"
    }
   ],
   "source": [
    "train_poly.shape"
   ]
  },
  {
   "cell_type": "code",
   "execution_count": 136,
   "id": "e41a3ee5-f6fe-48e1-ad74-6a2c36be789a",
   "metadata": {},
   "outputs": [
    {
     "data": {
      "text/plain": [
       "(14, 55)"
      ]
     },
     "execution_count": 136,
     "metadata": {},
     "output_type": "execute_result"
    }
   ],
   "source": [
    "test_poly.shape"
   ]
  },
  {
   "cell_type": "code",
   "execution_count": 137,
   "id": "68c78b0a-fc9c-4796-a95c-c87d3147fda0",
   "metadata": {},
   "outputs": [
    {
     "data": {
      "text/plain": [
       "array(['x0', 'x1', 'x2', 'x0^2', 'x0 x1', 'x0 x2', 'x1^2', 'x1 x2',\n",
       "       'x2^2', 'x0^3', 'x0^2 x1', 'x0^2 x2', 'x0 x1^2', 'x0 x1 x2',\n",
       "       'x0 x2^2', 'x1^3', 'x1^2 x2', 'x1 x2^2', 'x2^3', 'x0^4', 'x0^3 x1',\n",
       "       'x0^3 x2', 'x0^2 x1^2', 'x0^2 x1 x2', 'x0^2 x2^2', 'x0 x1^3',\n",
       "       'x0 x1^2 x2', 'x0 x1 x2^2', 'x0 x2^3', 'x1^4', 'x1^3 x2',\n",
       "       'x1^2 x2^2', 'x1 x2^3', 'x2^4', 'x0^5', 'x0^4 x1', 'x0^4 x2',\n",
       "       'x0^3 x1^2', 'x0^3 x1 x2', 'x0^3 x2^2', 'x0^2 x1^3',\n",
       "       'x0^2 x1^2 x2', 'x0^2 x1 x2^2', 'x0^2 x2^3', 'x0 x1^4',\n",
       "       'x0 x1^3 x2', 'x0 x1^2 x2^2', 'x0 x1 x2^3', 'x0 x2^4', 'x1^5',\n",
       "       'x1^4 x2', 'x1^3 x2^2', 'x1^2 x2^3', 'x1 x2^4', 'x2^5'],\n",
       "      dtype=object)"
      ]
     },
     "execution_count": 137,
     "metadata": {},
     "output_type": "execute_result"
    }
   ],
   "source": [
    "poly.get_feature_names_out()"
   ]
  },
  {
   "cell_type": "code",
   "execution_count": 138,
   "id": "0fe48198-e80c-4970-98fc-e2d0b7c48c9f",
   "metadata": {},
   "outputs": [
    {
     "data": {
      "text/plain": [
       "LinearRegression()"
      ]
     },
     "execution_count": 138,
     "metadata": {},
     "output_type": "execute_result"
    }
   ],
   "source": [
    "lr = LinearRegression()\n",
    "lr.fit(train_poly, train_target)\n",
    "print('  훈련 데이터 :',lr.score(train_poly, train_target))\n",
    "print('테스트 데이터 :',lr.score(test_poly, test_target))"
   ]
  },
  {
   "cell_type": "code",
   "execution_count": 140,
   "id": "7a854f4e-6a92-4773-a107-8a64a15c6da1",
   "metadata": {},
   "outputs": [],
   "source": [
    "# <해석>\n",
    "# 훈련데이터 결정계수는 매우 좋음\n",
    "# 테스트데이터 결정계수는 음수값 발생\n",
    "# 훈련결과가 좋을수록 테스트 결과가 좋지않게 나옴\n",
    "# 과대적합"
   ]
  },
  {
   "cell_type": "code",
   "execution_count": 88,
   "id": "611b6f99-7680-421a-9e8a-8a482afe8941",
   "metadata": {},
   "outputs": [
    {
     "data": {
      "text/plain": [
       "array([[ 8.4 ,  2.11,  1.41],\n",
       "       [13.7 ,  3.53,  2.  ],\n",
       "       [15.  ,  3.82,  2.43],\n",
       "       [16.2 ,  4.59,  2.63],\n",
       "       [17.4 ,  4.59,  2.94],\n",
       "       [18.  ,  5.22,  3.32],\n",
       "       [18.7 ,  5.2 ,  3.12],\n",
       "       [19.  ,  5.64,  3.05],\n",
       "       [19.6 ,  5.14,  3.04],\n",
       "       [20.  ,  5.08,  2.77],\n",
       "       [21.  ,  5.69,  3.56],\n",
       "       [21.  ,  5.92,  3.31],\n",
       "       [21.  ,  5.69,  3.67],\n",
       "       [21.3 ,  6.38,  3.53],\n",
       "       [22.  ,  6.11,  3.41],\n",
       "       [22.  ,  5.64,  3.52],\n",
       "       [22.  ,  6.11,  3.52],\n",
       "       [22.  ,  5.88,  3.52],\n",
       "       [22.  ,  5.52,  4.  ],\n",
       "       [22.5 ,  5.86,  3.62],\n",
       "       [22.5 ,  6.79,  3.62],\n",
       "       [22.7 ,  5.95,  3.63],\n",
       "       [23.  ,  5.22,  3.63],\n",
       "       [23.5 ,  6.28,  3.72],\n",
       "       [24.  ,  7.29,  3.72],\n",
       "       [24.  ,  6.38,  3.82],\n",
       "       [24.6 ,  6.73,  4.17],\n",
       "       [25.  ,  6.44,  3.68],\n",
       "       [25.6 ,  6.56,  4.24],\n",
       "       [26.5 ,  7.17,  4.14],\n",
       "       [27.3 ,  8.32,  5.14],\n",
       "       [27.5 ,  7.17,  4.34],\n",
       "       [27.5 ,  7.05,  4.34],\n",
       "       [27.5 ,  7.28,  4.57],\n",
       "       [28.  ,  7.82,  4.2 ],\n",
       "       [28.7 ,  7.59,  4.64],\n",
       "       [30.  ,  7.62,  4.77],\n",
       "       [32.8 , 10.03,  6.02],\n",
       "       [34.5 , 10.26,  6.39],\n",
       "       [35.  , 11.49,  7.8 ],\n",
       "       [36.5 , 10.88,  6.86],\n",
       "       [36.  , 10.61,  6.74],\n",
       "       [37.  , 10.84,  6.26],\n",
       "       [37.  , 10.57,  6.37],\n",
       "       [39.  , 11.14,  7.49],\n",
       "       [39.  , 11.14,  6.  ],\n",
       "       [39.  , 12.43,  7.35],\n",
       "       [40.  , 11.93,  7.11],\n",
       "       [40.  , 11.73,  7.22],\n",
       "       [40.  , 12.38,  7.46],\n",
       "       [40.  , 11.14,  6.63],\n",
       "       [42.  , 12.8 ,  6.87],\n",
       "       [43.  , 11.93,  7.28],\n",
       "       [43.  , 12.51,  7.42],\n",
       "       [43.5 , 12.6 ,  8.14],\n",
       "       [44.  , 12.49,  7.6 ]])"
      ]
     },
     "execution_count": 88,
     "metadata": {},
     "output_type": "execute_result"
    }
   ],
   "source": [
    "perch"
   ]
  },
  {
   "cell_type": "code",
   "execution_count": null,
   "id": "4e976c03-e8e1-4834-8b35-b519c39027ed",
   "metadata": {},
   "outputs": [],
   "source": []
  },
  {
   "cell_type": "code",
   "execution_count": null,
   "id": "17b900b4-6a5e-4f47-8567-02a776aad0a6",
   "metadata": {},
   "outputs": [],
   "source": []
  },
  {
   "cell_type": "code",
   "execution_count": null,
   "id": "1b5ab4b4-36f6-45ea-8c86-cfe85bec2107",
   "metadata": {},
   "outputs": [],
   "source": []
  },
  {
   "cell_type": "code",
   "execution_count": 116,
   "id": "d78afe7f-c7b3-4237-af5b-e310026930f1",
   "metadata": {},
   "outputs": [
    {
     "data": {
      "text/plain": [
       "[[50, 16.49, 10.6]]"
      ]
     },
     "execution_count": 116,
     "metadata": {},
     "output_type": "execute_result"
    }
   ],
   "source": [
    "some_perch = [[50,16.49,10.6]]\n",
    "some_perch"
   ]
  },
  {
   "cell_type": "code",
   "execution_count": 145,
   "id": "06a79955-a1e5-41e0-86e1-bc3be0856ba7",
   "metadata": {},
   "outputs": [],
   "source": [
    "def perch_linear(train_x,train_y,test_x):\n",
    "    from sklearn.model_selection import train_test_split\n",
    "    from sklearn.preprocessing import PolynomialFeatures\n",
    "    from sklearn.preprocessing import StandardScaler\n",
    "    from sklearn.linear_model import LinearRegression\n",
    "\n",
    "    train_input, test_input, train_target, test_target = \\\n",
    "        train_test_split(train_x, train_y, random_state=42)\n",
    "\n",
    "    poly = PolynomialFeatures(include_bias=False)\n",
    "\n",
    "    # 훈련은 훈련데이터로 1번만\n",
    "    poly.fit(train_input)\n",
    "    \n",
    "    train_poly = poly.transform(train_input)\n",
    "    test_poly = poly.transform(test_input)\n",
    "    predict_poly = poly.transform(test_x)\n",
    "    \n",
    "    # 정규화\n",
    "    ss = StandardScaler()\n",
    "    ss.fit(train_poly, train_target)\n",
    "    \n",
    "    train_scaled = ss.transform(train_poly)\n",
    "    test_scaled = ss.transform(test_poly)\n",
    "    predict_scaled = ss.transform(predict_poly)\n",
    "    \n",
    "    lr = LinearRegression()\n",
    "    lr.fit(train_scaled, train_target)\n",
    "    \n",
    "    return print('훈련 데이터 결정계수 :',lr.score(train_scaled, train_target),'\\n'\n",
    "                 '테스트 데이터 결정계수 :',lr.score(test_scaled, test_target),'\\n'\n",
    "                 '예측 결과 :',lr.predict(predict_scaled))"
   ]
  },
  {
   "cell_type": "code",
   "execution_count": 146,
   "id": "d1c69974-de84-4c8c-9247-4dd546d96a0a",
   "metadata": {},
   "outputs": [
    {
     "name": "stdout",
     "output_type": "stream",
     "text": [
      "훈련 데이터 결정계수 : 0.9903183436982124 \n",
      "테스트 데이터 결정계수 : 0.9714559911594136 \n",
      "예측 결과 : [2099.00590297]\n"
     ]
    }
   ],
   "source": [
    "perch_linear(perch, perch_weight, some_perch)"
   ]
  },
  {
   "cell_type": "code",
   "execution_count": 141,
   "id": "a5b4e30d-1f19-4b00-8779-501cf678f139",
   "metadata": {},
   "outputs": [],
   "source": [
    "def perch_ridge(train_x,train_y,test_x, degree=2):\n",
    "    from sklearn.model_selection import train_test_split\n",
    "    from sklearn.preprocessing import PolynomialFeatures\n",
    "    from sklearn.preprocessing import StandardScaler\n",
    "    from sklearn.linear_model import Ridge\n",
    "\n",
    "    train_input, test_input, train_target, test_target = \\\n",
    "        train_test_split(train_x, train_y, random_state=42)\n",
    "    \n",
    "    #복잡도 주기\n",
    "    poly = PolynomialFeatures(degree= degree, include_bias=False)\n",
    "\n",
    "    # 훈련은 훈련데이터로 1번만\n",
    "    poly.fit(train_input)\n",
    "\n",
    "    train_poly = poly.transform(train_input)\n",
    "    test_poly = poly.transform(test_input)\n",
    "    predict_poly = poly.transform(test_x)\n",
    "    \n",
    "    # 정규화\n",
    "    ss = StandardScaler()\n",
    "    ss.fit(train_poly, train_target)\n",
    "    \n",
    "    train_scaled = ss.transform(train_poly)\n",
    "    test_scaled = ss.transform(test_poly)\n",
    "    predict_scaled = ss.transform(predict_poly)\n",
    "    \n",
    "    ridge = Ridge()\n",
    "    ridge.fit(train_scaled, train_target)\n",
    "    \n",
    "    return print('훈련 데이터 결정계수 :',ridge.score(train_scaled, train_target),'\\n'\n",
    "                 '테스트 데이터 결정계수 :',ridge.score(test_scaled, test_target),'\\n'\n",
    "                 '예측 결과 :',ridge.predict(predict_scaled))"
   ]
  },
  {
   "cell_type": "code",
   "execution_count": 147,
   "id": "d43aca07-a1c0-49c3-b5f2-3bb323aeaa0c",
   "metadata": {},
   "outputs": [
    {
     "name": "stdout",
     "output_type": "stream",
     "text": [
      "훈련 데이터 결정계수 : 0.9896101671037343 \n",
      "테스트 데이터 결정계수 : 0.9790693977615386 \n",
      "예측 결과 : [2365.94632465]\n"
     ]
    }
   ],
   "source": [
    "perch_ridge(perch, perch_weight, some_perch, 5)"
   ]
  },
  {
   "cell_type": "code",
   "execution_count": 157,
   "id": "925341fa-5902-4882-a111-7405757b2870",
   "metadata": {},
   "outputs": [],
   "source": [
    "def perch_lasso(train_x,train_y,test_x,degree=2):\n",
    "    from sklearn.model_selection import train_test_split\n",
    "    from sklearn.preprocessing import PolynomialFeatures\n",
    "    from sklearn.preprocessing import StandardScaler\n",
    "    from sklearn.linear_model import Lasso\n",
    "\n",
    "    train_input, test_input, train_target, test_target = \\\n",
    "        train_test_split(train_x, train_y, random_state=42)\n",
    "    \n",
    "    # 복잠도 주기\n",
    "    poly = PolynomialFeatures(degree=degree, include_bias=False)\n",
    "    \n",
    "    poly.fit(train_input) # 훈련은 훈련데이터로 1번만\n",
    "\n",
    "    train_poly = poly.transform(train_input)\n",
    "    test_poly = poly.transform(test_input)\n",
    "    predict_poly = poly.transform(test_x)\n",
    "    \n",
    "    # 정규화\n",
    "    ss = StandardScaler()\n",
    "    ss.fit(train_poly, train_target)\n",
    "    \n",
    "    train_scaled = ss.transform(train_poly)\n",
    "    test_scaled = ss.transform(test_poly)\n",
    "    predict_scaled = ss.transform(predict_poly)\n",
    "    \n",
    "#     if alpha == alpha\n",
    "#         lasso = Lasso(alpha=alpha)\n",
    "    \n",
    "#     else :\n",
    "#         lasso = Lasso()\n",
    "    lasso = Lasso()    \n",
    "    lasso.fit(train_scaled, train_target)\n",
    "    \n",
    "    return print('훈련 데이터 결정계수 :',lasso.score(train_scaled, train_target),'\\n'\n",
    "                 '테스트 데이터 결정계수 :',lasso.score(test_scaled, test_target),'\\n'\n",
    "                 '예측 결과 :',lasso.predict(predict_scaled))"
   ]
  },
  {
   "cell_type": "code",
   "execution_count": 159,
   "id": "971c7b10-707b-4dbc-bf7e-975e3f348a8a",
   "metadata": {},
   "outputs": [
    {
     "name": "stdout",
     "output_type": "stream",
     "text": [
      "훈련 데이터 결정계수 : 0.986591255464559 \n",
      "테스트 데이터 결정계수 : 0.9846056618190413 \n",
      "예측 결과 : [1815.27724062]\n"
     ]
    }
   ],
   "source": [
    "perch_lasso(perch, perch_weight, some_perch)"
   ]
  }
 ],
 "metadata": {
  "kernelspec": {
   "display_name": "ml_kernel",
   "language": "python",
   "name": "ml"
  },
  "language_info": {
   "codemirror_mode": {
    "name": "ipython",
    "version": 3
   },
   "file_extension": ".py",
   "mimetype": "text/x-python",
   "name": "python",
   "nbconvert_exporter": "python",
   "pygments_lexer": "ipython3",
   "version": "3.9.12"
  }
 },
 "nbformat": 4,
 "nbformat_minor": 5
}
