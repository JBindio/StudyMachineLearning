{
 "cells": [
  {
   "cell_type": "code",
   "execution_count": 1,
   "id": "ac359063-3113-4b5a-96d4-fb36e21c0c3f",
   "metadata": {},
   "outputs": [],
   "source": [
    "import pandas as pd\n",
    "import numpy as np\n",
    "import matplotlib.pyplot as plt\n",
    "import matplotlib\n",
    "import seaborn as sns\n",
    "from matplotlib import font_manager, rc\n",
    "import platform\n",
    "\n",
    "# seaborn 설정 리셋\n",
    "sns.reset_defaults()\n",
    "\n",
    "# 폰트설정\n",
    "if platform.system() == 'Windows' :\n",
    "    path = 'c:/Windows/Fonts/malgun.ttf'\n",
    "    font_name = font_manager.FontProperties(fname=path).get_name()\n",
    "    rc('font', family=font_name)\n",
    "elif platform.system() == 'Darwin':\n",
    "    rc('font', family='AppleGothic')\n",
    "else :\n",
    "    print('Check your OS System')\n",
    "    \n",
    "# 그래프에 마이너스 표시\n",
    "matplotlib.rcParams['axes.unicode_minus'] = False"
   ]
  },
  {
   "cell_type": "markdown",
   "id": "6a427fed-33fe-4ad5-926e-0af697868641",
   "metadata": {
    "tags": []
   },
   "source": [
    "### K-최근접 이웃(KNN)\n",
    "- 분류모델 : 범주형 데이터 기준으로 분류하는 방식\n",
    "    - 정해진 범주(종속변수)를 정해두고 제일 가까운 값으로 분류\n",
    "<br>\n",
    "<br>\n",
    "- 회귀모델 : 연속형 데이터 (숫자)를 예측하는 방식 \n",
    "    - 정해진 범주가 없고, 임의의 수치값 출력\n",
    "    - 최근접 이웃의 갯수가 정해지면 이웃한 숫자 값들의 '평균'을 계산 하여 예측\n",
    "    - 평균과 같거나 근사한 값의 이웃데이터를 예측 데이터로 선정 = '임의 결과값'"
   ]
  },
  {
   "cell_type": "code",
   "execution_count": 2,
   "id": "769e8d08-2433-435e-bf8f-e706386ffa82",
   "metadata": {},
   "outputs": [],
   "source": [
    "perch_lenght = np.array(\n",
    "    [8.4, 13.7, 15.0, 16.2, 17.4, 18.0, 18.7, 19.0, 19.6, 20.0, \n",
    "     21.0, 21.0, 21.0, 21.3, 22.0, 22.0, 22.0, 22.0, 22.0, 22.5, \n",
    "     22.5, 22.7, 23.0, 23.5, 24.0, 24.0, 24.6, 25.0, 25.6, 26.5, \n",
    "     27.3, 27.5, 27.5, 27.5, 28.0, 28.7, 30.0, 32.8, 34.5, 35.0, \n",
    "     36.5, 36.0, 37.0, 37.0, 39.0, 39.0, 39.0, 40.0, 40.0, 40.0, \n",
    "     40.0, 42.0, 43.0, 43.0, 43.5, 44.0]\n",
    "     )\n",
    "\n",
    "perch_weight = np.array(\n",
    "    [5.9, 32.0, 40.0, 51.5, 70.0, 100.0, 78.0, 80.0, 85.0, 85.0, \n",
    "     110.0, 115.0, 125.0, 130.0, 120.0, 120.0, 130.0, 135.0, 110.0, \n",
    "     130.0, 150.0, 145.0, 150.0, 170.0, 225.0, 145.0, 188.0, 180.0, \n",
    "     197.0, 218.0, 300.0, 260.0, 265.0, 250.0, 250.0, 300.0, 320.0, \n",
    "     514.0, 556.0, 840.0, 685.0, 700.0, 700.0, 690.0, 900.0, 650.0, \n",
    "     820.0, 850.0, 900.0, 1015.0, 820.0, 1100.0, 1000.0, 1100.0, \n",
    "     1000.0, 1000.0]\n",
    "     )"
   ]
  },
  {
   "cell_type": "code",
   "execution_count": 3,
   "id": "6727e040-65c4-4f23-9fef-2ba7f989f428",
   "metadata": {},
   "outputs": [
    {
     "data": {
      "image/png": "[encoded data removed]",
      "text/plain": [
       "<Figure size 1000x400 with 1 Axes>"
      ]
     },
     "metadata": {},
     "output_type": "display_data"
    }
   ],
   "source": [
    "fig = plt.figure(figsize=(10,4))\n",
    "plt.rc('font', family = 'Malgun Gothic', size = 15)\n",
    "plt.title('농어의 길이와 무게')\n",
    "plt.scatter(perch_lenght, perch_weight,marker='D',s = 10,c ='darkorange')\n",
    "plt.xlabel('농어 길이(cm)')\n",
    "plt.ylabel('농어 무게(g)')\n",
    "plt.show()"
   ]
  },
  {
   "cell_type": "code",
   "execution_count": 4,
   "id": "9ea2b66a-efb5-4380-905c-abe4deacad9f",
   "metadata": {},
   "outputs": [],
   "source": [
    "# <해석>\n",
    "# x축이 증가할때 y축이 증가 하는것으로 보아\n",
    "# 농어의 길이(x축)와 농어의 무게(y축)는 비례하는 것으로 보인다.\n",
    "# 즉, 길이는 무게와 연관성이 있다고 판단된다.\n",
    "\n",
    "# 그러나 그래프의 형태가 아래쪽으로 곡선 형태를 나타내는 것 으로 보아\n",
    "# 농어의 길이(x축)가 늘어난 비율만큼 농어의 무게(y축)는 증가하지 않는것으로 판단된다.\n",
    "# 향후 다항 회귀모델을 통해 선형적 모델과 다항회귀모델의 검증결과를 통해 선택하고자 한다."
   ]
  },
  {
   "cell_type": "code",
   "execution_count": 5,
   "id": "34b4fe38-6400-4e6c-92ea-14af5e6c485a",
   "metadata": {},
   "outputs": [],
   "source": [
    "from sklearn.model_selection import train_test_split"
   ]
  },
  {
   "cell_type": "code",
   "execution_count": 6,
   "id": "60a4402e-db2b-4b78-8638-8d1e576ad882",
   "metadata": {},
   "outputs": [],
   "source": [
    "train_input, test_input, train_target, test_target = \\\n",
    "    train_test_split(perch_lenght,perch_weight, random_state=42)"
   ]
  },
  {
   "cell_type": "code",
   "execution_count": 7,
   "id": "a75005ac-631f-4f9b-92a8-9c9c868f6642",
   "metadata": {},
   "outputs": [
    {
     "name": "stdout",
     "output_type": "stream",
     "text": [
      "[19.6 22.  18.7 17.4 36.  25.  40.  39.  43.  22.  20.  22.  24.  27.5\n",
      " 43.  40.  24.  21.  27.5 40.  32.8 26.5 36.5 13.7 22.7 15.  37.  35.\n",
      " 28.7 23.5 39.  21.  23.  22.  44.  22.5 19.  37.  22.  25.6 42.  34.5]\n",
      "--------------------------\n",
      "[  85.  135.   78.   70.  700.  180.  850.  820. 1000.  120.   85.  130.\n",
      "  225.  260. 1100.  900.  145.  115.  265. 1015.  514.  218.  685.   32.\n",
      "  145.   40.  690.  840.  300.  170.  650.  110.  150.  110. 1000.  150.\n",
      "   80.  700.  120.  197. 1100.  556.]\n",
      "--------------------------\n",
      "[ 8.4 18.  27.5 21.3 22.5 40.  30.  24.6 39.  21.  43.5 16.2 28.  27.3]\n",
      "--------------------------\n",
      "[   5.9  100.   250.   130.   130.   820.   320.   188.   900.   125.\n",
      " 1000.    51.5  250.   300. ]\n"
     ]
    }
   ],
   "source": [
    "print(train_input)\n",
    "print('--------------------------')\n",
    "print(train_target)\n",
    "print('--------------------------')\n",
    "print(test_input)\n",
    "print('--------------------------')\n",
    "print(test_target)"
   ]
  },
  {
   "cell_type": "code",
   "execution_count": 8,
   "id": "e73632b9-0634-4b7f-aaed-b0667064f220",
   "metadata": {},
   "outputs": [
    {
     "data": {
      "text/plain": [
       "array([ 8.4, 18. , 27.5, 21.3, 22.5, 40. , 30. , 24.6, 39. , 21. , 43.5,\n",
       "       16.2, 28. , 27.3])"
      ]
     },
     "execution_count": 8,
     "metadata": {},
     "output_type": "execute_result"
    }
   ],
   "source": [
    "test_input"
   ]
  },
  {
   "cell_type": "code",
   "execution_count": 9,
   "id": "faa57c41-63c5-454b-964a-94b48a00f14e",
   "metadata": {},
   "outputs": [],
   "source": [
    "train_input = train_input.reshape(-1,1)\n",
    "test_input = test_input.reshape(-1,1)"
   ]
  },
  {
   "cell_type": "code",
   "execution_count": 10,
   "id": "55aaf398-5760-4892-a921-de6ed45270e9",
   "metadata": {},
   "outputs": [
    {
     "data": {
      "text/plain": [
       "(42, 1)"
      ]
     },
     "execution_count": 10,
     "metadata": {},
     "output_type": "execute_result"
    }
   ],
   "source": [
    "train_input.shape"
   ]
  },
  {
   "cell_type": "code",
   "execution_count": 11,
   "id": "da0ef8b9-a870-4075-bd4c-1f129c415127",
   "metadata": {},
   "outputs": [],
   "source": [
    "from sklearn.neighbors import KNeighborsRegressor"
   ]
  },
  {
   "cell_type": "code",
   "execution_count": 16,
   "id": "1cde70a9-38d8-45da-bdcb-ca1c18a648f7",
   "metadata": {},
   "outputs": [],
   "source": [
    "# 모델 객체 생성\n",
    "knr = KNeighborsRegressor()"
   ]
  },
  {
   "cell_type": "code",
   "execution_count": 17,
   "id": "e0ad6af4-4bd5-42f5-b0d1-30fb4e8c289f",
   "metadata": {},
   "outputs": [
    {
     "data": {
      "text/plain": [
       "KNeighborsRegressor()"
      ]
     },
     "execution_count": 17,
     "metadata": {},
     "output_type": "execute_result"
    }
   ],
   "source": [
    "# 훈련 데이터 학습\n",
    "knr.fit(train_input,train_target)"
   ]
  },
  {
   "cell_type": "code",
   "execution_count": 21,
   "id": "2b000e4b-c6bc-489d-b3da-e116406e2af5",
   "metadata": {},
   "outputs": [
    {
     "data": {
      "text/plain": [
       "0.992809406101064"
      ]
     },
     "execution_count": 21,
     "metadata": {},
     "output_type": "execute_result"
    }
   ],
   "source": [
    "# 훈련 모델 평가\n",
    "# 분류모델 : 정확도,\n",
    "# 회귀모델 : 결정계수(R^2)\n",
    "    # 결정계수 공식 = 결정계수(R^2) = 1 -((target- 예측)^2& 의 합 / (target - 평균)^2 의 합)\n",
    "    # 에측값이 target 값에 가까울 수록, 분자값이 0에 가까워 지며, 1에 가까워진다\n",
    "knr.score(test_input, test_target)"
   ]
  },
  {
   "cell_type": "markdown",
   "id": "081c749a-1c55-489e-a044-a43921d9444c",
   "metadata": {},
   "source": [
    "### 오차 확인하기\n",
    "- 일반적으로 결정계수값 만으로 오차를 확인하기 힘들다\n",
    "- 오차 확인이 필요함"
   ]
  },
  {
   "cell_type": "code",
   "execution_count": 24,
   "id": "c73d344a-2067-4820-9b33-43594b7a0b4e",
   "metadata": {},
   "outputs": [
    {
     "data": {
      "text/plain": [
       "array([  60. ,   79.6,  248. ,  122. ,  136. ,  847. ,  311.4,  183.4,\n",
       "        847. ,  113. , 1010. ,   60. ,  248. ,  248. ])"
      ]
     },
     "execution_count": 24,
     "metadata": {},
     "output_type": "execute_result"
    }
   ],
   "source": [
    "# 오차 확인을 위한 예측 선행\n",
    "test_prediction = knr.predict(test_input)\n",
    "test_prediction"
   ]
  },
  {
   "cell_type": "code",
   "execution_count": 26,
   "id": "c0cd42b8-13de-4db1-ae4c-68fd5679a264",
   "metadata": {},
   "outputs": [],
   "source": [
    "# 오차 확인 함수\n",
    "from sklearn.metrics import mean_absolute_error"
   ]
  },
  {
   "cell_type": "code",
   "execution_count": 28,
   "id": "614f3936-93f4-4411-9252-1c9ce384733a",
   "metadata": {},
   "outputs": [
    {
     "data": {
      "text/plain": [
       "19.157142857142862"
      ]
     },
     "execution_count": 28,
     "metadata": {},
     "output_type": "execute_result"
    }
   ],
   "source": [
    "mae = mean_absolute_error(test_target, test_prediction)\n",
    "mae\n",
    "# <해석>\n",
    "# 예측값이 평균적으로 19g정도 정답데이터와 차이가 있다\n",
    "# 차아가 다르다는 의미는 아님"
   ]
  },
  {
   "cell_type": "code",
   "execution_count": 29,
   "id": "0aa18eea-159b-49d4-b2b0-d174a7d8a00e",
   "metadata": {},
   "outputs": [
    {
     "data": {
      "text/plain": [
       "0.9698823289099254"
      ]
     },
     "execution_count": 29,
     "metadata": {},
     "output_type": "execute_result"
    }
   ],
   "source": [
    "knr.score(train_input, train_target)"
   ]
  },
  {
   "cell_type": "markdown",
   "id": "06b0a311-2404-4ed7-8983-ec25cdeb5bff",
   "metadata": {
    "tags": []
   },
   "source": [
    "## 과대적합vs과소적합\n",
    "- 훈련데이터와 테스트데이터를 각각 평가했을때\n",
    "- 과대적합 : 훈련데이터의 평과결과가 너무 높고 테스트데이터의 평과결과가 너무 낮을경우\n",
    "- 과소적합 : 훈련데이터의 평과결과가 낮고 테스트데이터의 평과결과가 높은경우"
   ]
  },
  {
   "cell_type": "markdown",
   "id": "db8fe73a-8dcc-46c4-a5e3-344f6994c898",
   "metadata": {},
   "source": [
    "### 과소적합이 발생하는 이유\n",
    "- 사용된 전체 데이터의 갯수가 너무 작은 경우에 주로 발생\n",
    "- 데이터가 작으면 테스트 데이터가 훈련데이터의 특징을 잘 따르지 못하는 경우\n",
    "\n",
    "### <해결방안>\n",
    "- 훈련모델을 복잡하게 만들어서 평과결과 높이기\n",
    "    -모델복잡도 : 이웃 갯수 줄이기 : 비교대상을 줄여서 집중도,정확도를 높여줌"
   ]
  },
  {
   "cell_type": "code",
   "execution_count": 47,
   "id": "60aa1543-b103-4fd6-8167-435a554de8ee",
   "metadata": {},
   "outputs": [
    {
     "name": "stdout",
     "output_type": "stream",
     "text": [
      "훈련 데이터 이웃갯수 5 : 0.9698823289099254\n",
      "테스트 데이터 이웃갯수 5 : 0.992809406101064\n",
      "\n",
      "훈련 데이터 이웃갯수 4 : 0.978211389719245\n",
      "테스트 데이터 이웃갯수 4 : 0.9840231023848637\n",
      "\n",
      "훈련 데이터 이웃갯수 3 : 0.9804899950518966\n",
      "테스트 데이터 이웃갯수 3 : 0.9746459963987609\n",
      "\n",
      "훈련 데이터 이웃갯수 2 : 0.9828437127041165\n",
      "테스트 데이터 이웃갯수 2 : 0.9725010241788556\n",
      "\n",
      "훈련 데이터 이웃갯수 1 : 0.9852830341215901\n",
      "테스트 데이터 이웃갯수 1 : 0.991309195814175\n",
      "\n"
     ]
    }
   ],
   "source": [
    "score_list = []\n",
    "\n",
    "for i in range(5,0,-1):\n",
    "    knr = KNeighborsRegressor(n_neighbors=i)\n",
    "    knr.fit(train_input, train_target)    \n",
    "    print('훈련 데이터 이웃갯수',i,':',knr.score(train_input, train_target))\n",
    "    print('테스트 데이터 이웃갯수',i,':',knr.score(test_input, test_target))\n",
    "    print()"
   ]
  },
  {
   "cell_type": "code",
   "execution_count": null,
   "id": "5de5a15e-761a-4bff-83ed-d27e5e6b17a6",
   "metadata": {},
   "outputs": [],
   "source": []
  },
  {
   "cell_type": "code",
   "execution_count": null,
   "id": "271a2744-1216-4cb0-a8ea-dc18c921161c",
   "metadata": {},
   "outputs": [],
   "source": []
  },
  {
   "cell_type": "code",
   "execution_count": null,
   "id": "7e3e51cc-526e-4ea4-986d-6c1493e3095a",
   "metadata": {},
   "outputs": [],
   "source": []
  },
  {
   "cell_type": "code",
   "execution_count": null,
   "id": "21f9be01-1652-42ee-91e5-2d8522810873",
   "metadata": {},
   "outputs": [],
   "source": []
  },
  {
   "cell_type": "code",
   "execution_count": null,
   "id": "72f2ab51-9eca-4456-a2fa-754a51cba82c",
   "metadata": {},
   "outputs": [],
   "source": []
  }
 ],
 "metadata": {
  "kernelspec": {
   "display_name": "ml_kernel",
   "language": "python",
   "name": "ml"
  },
  "language_info": {
   "codemirror_mode": {
    "name": "ipython",
    "version": 3
   },
   "file_extension": ".py",
   "mimetype": "text/x-python",
   "name": "python",
   "nbconvert_exporter": "python",
   "pygments_lexer": "ipython3",
   "version": "3.9.12"
  }
 },
 "nbformat": 4,
 "nbformat_minor": 5
}
