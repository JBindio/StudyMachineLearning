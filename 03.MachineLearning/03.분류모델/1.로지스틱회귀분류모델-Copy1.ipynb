{
 "cells": [
  {
   "cell_type": "code",
   "execution_count": 3,
   "id": "78c8e5bf-2689-40e7-abca-803c7c582224",
   "metadata": {},
   "outputs": [],
   "source": [
    "import pandas as pd\n",
    "import numpy as np\n",
    "import matplotlib\n",
    "import matplotlib.pyplot as plt\n",
    "from matplotlib import font_manager, rc\n",
    "import seaborn as sns\n",
    "import platform\n",
    "\n",
    "# seaborn 설정 리셋\n",
    "sns.reset_defaults()\n",
    "\n",
    "# 폰트설정\n",
    "if platform.system() == 'Windows' :\n",
    "    path = 'c:/Windows/Fonts/malgun.ttf'\n",
    "    font_name = font_manager.FontProperties(fname=path).get_name()\n",
    "    rc('font', family=font_name)\n",
    "elif platform.system() == 'Darwin':\n",
    "    rc('font', family='AppleGothic')\n",
    "else :\n",
    "    print('Check your OS System')\n",
    "    \n",
    "# 그래프에 마이너스 표시\n",
    "matplotlib.rcParams['axes.unicode_minus'] = False"
   ]
  },
  {
   "cell_type": "markdown",
   "id": "e466ba90-9e1e-4c5c-8b3e-7e3c43985057",
   "metadata": {},
   "source": [
    "## 로지스틱 회귀분류 모델"
   ]
  },
  {
   "cell_type": "code",
   "execution_count": 279,
   "id": "5462f90b-6b98-4672-8b7a-5dea82bc417a",
   "metadata": {},
   "outputs": [
    {
     "data": {
      "text/html": [
       "<div>\n",
       "<style scoped>\n",
       "    .dataframe tbody tr th:only-of-type {\n",
       "        vertical-align: middle;\n",
       "    }\n",
       "\n",
       "    .dataframe tbody tr th {\n",
       "        vertical-align: top;\n",
       "    }\n",
       "\n",
       "    .dataframe thead th {\n",
       "        text-align: right;\n",
       "    }\n",
       "</style>\n",
       "<table border=\"1\" class=\"dataframe\">\n",
       "  <thead>\n",
       "    <tr style=\"text-align: right;\">\n",
       "      <th></th>\n",
       "      <th>Species</th>\n",
       "      <th>Weight</th>\n",
       "      <th>Length</th>\n",
       "      <th>Diagonal</th>\n",
       "      <th>Height</th>\n",
       "      <th>Width</th>\n",
       "    </tr>\n",
       "  </thead>\n",
       "  <tbody>\n",
       "    <tr>\n",
       "      <th>0</th>\n",
       "      <td>Bream</td>\n",
       "      <td>242.0</td>\n",
       "      <td>25.4</td>\n",
       "      <td>30.0</td>\n",
       "      <td>11.5200</td>\n",
       "      <td>4.0200</td>\n",
       "    </tr>\n",
       "    <tr>\n",
       "      <th>1</th>\n",
       "      <td>Bream</td>\n",
       "      <td>290.0</td>\n",
       "      <td>26.3</td>\n",
       "      <td>31.2</td>\n",
       "      <td>12.4800</td>\n",
       "      <td>4.3056</td>\n",
       "    </tr>\n",
       "    <tr>\n",
       "      <th>2</th>\n",
       "      <td>Bream</td>\n",
       "      <td>340.0</td>\n",
       "      <td>26.5</td>\n",
       "      <td>31.1</td>\n",
       "      <td>12.3778</td>\n",
       "      <td>4.6961</td>\n",
       "    </tr>\n",
       "    <tr>\n",
       "      <th>3</th>\n",
       "      <td>Bream</td>\n",
       "      <td>363.0</td>\n",
       "      <td>29.0</td>\n",
       "      <td>33.5</td>\n",
       "      <td>12.7300</td>\n",
       "      <td>4.4555</td>\n",
       "    </tr>\n",
       "    <tr>\n",
       "      <th>4</th>\n",
       "      <td>Bream</td>\n",
       "      <td>430.0</td>\n",
       "      <td>29.0</td>\n",
       "      <td>34.0</td>\n",
       "      <td>12.4440</td>\n",
       "      <td>5.1340</td>\n",
       "    </tr>\n",
       "    <tr>\n",
       "      <th>...</th>\n",
       "      <td>...</td>\n",
       "      <td>...</td>\n",
       "      <td>...</td>\n",
       "      <td>...</td>\n",
       "      <td>...</td>\n",
       "      <td>...</td>\n",
       "    </tr>\n",
       "    <tr>\n",
       "      <th>154</th>\n",
       "      <td>Smelt</td>\n",
       "      <td>12.2</td>\n",
       "      <td>12.2</td>\n",
       "      <td>13.4</td>\n",
       "      <td>2.0904</td>\n",
       "      <td>1.3936</td>\n",
       "    </tr>\n",
       "    <tr>\n",
       "      <th>155</th>\n",
       "      <td>Smelt</td>\n",
       "      <td>13.4</td>\n",
       "      <td>12.4</td>\n",
       "      <td>13.5</td>\n",
       "      <td>2.4300</td>\n",
       "      <td>1.2690</td>\n",
       "    </tr>\n",
       "    <tr>\n",
       "      <th>156</th>\n",
       "      <td>Smelt</td>\n",
       "      <td>12.2</td>\n",
       "      <td>13.0</td>\n",
       "      <td>13.8</td>\n",
       "      <td>2.2770</td>\n",
       "      <td>1.2558</td>\n",
       "    </tr>\n",
       "    <tr>\n",
       "      <th>157</th>\n",
       "      <td>Smelt</td>\n",
       "      <td>19.7</td>\n",
       "      <td>14.3</td>\n",
       "      <td>15.2</td>\n",
       "      <td>2.8728</td>\n",
       "      <td>2.0672</td>\n",
       "    </tr>\n",
       "    <tr>\n",
       "      <th>158</th>\n",
       "      <td>Smelt</td>\n",
       "      <td>19.9</td>\n",
       "      <td>15.0</td>\n",
       "      <td>16.2</td>\n",
       "      <td>2.9322</td>\n",
       "      <td>1.8792</td>\n",
       "    </tr>\n",
       "  </tbody>\n",
       "</table>\n",
       "<p>159 rows × 6 columns</p>\n",
       "</div>"
      ],
      "text/plain": [
       "    Species  Weight  Length  Diagonal   Height   Width\n",
       "0     Bream   242.0    25.4      30.0  11.5200  4.0200\n",
       "1     Bream   290.0    26.3      31.2  12.4800  4.3056\n",
       "2     Bream   340.0    26.5      31.1  12.3778  4.6961\n",
       "3     Bream   363.0    29.0      33.5  12.7300  4.4555\n",
       "4     Bream   430.0    29.0      34.0  12.4440  5.1340\n",
       "..      ...     ...     ...       ...      ...     ...\n",
       "154   Smelt    12.2    12.2      13.4   2.0904  1.3936\n",
       "155   Smelt    13.4    12.4      13.5   2.4300  1.2690\n",
       "156   Smelt    12.2    13.0      13.8   2.2770  1.2558\n",
       "157   Smelt    19.7    14.3      15.2   2.8728  2.0672\n",
       "158   Smelt    19.9    15.0      16.2   2.9322  1.8792\n",
       "\n",
       "[159 rows x 6 columns]"
      ]
     },
     "execution_count": 279,
     "metadata": {},
     "output_type": "execute_result"
    }
   ],
   "source": [
    "# 데이터 준비하기\n",
    "# 'Species': 종류, 'Weight': 무게, 'Length': 길이, 'Diagonal': 대각선, 'Height': 높이, 'Width': 두께\n",
    "fish = pd.read_csv('./data/05_생선_분류_데이터셋.csv')\n",
    "fish"
   ]
  },
  {
   "cell_type": "code",
   "execution_count": 280,
   "id": "a30fcdb8-ddb8-4c45-992b-bd9d2d3af6eb",
   "metadata": {},
   "outputs": [
    {
     "name": "stdout",
     "output_type": "stream",
     "text": [
      "['Bream' 'Roach' 'Whitefish' 'Parkki' 'Perch' 'Pike' 'Smelt']\n"
     ]
    }
   ],
   "source": [
    "# 종류 특성의 고유한 값 조회하기\n",
    "print(pd.unique(fish['Species']))"
   ]
  },
  {
   "cell_type": "code",
   "execution_count": 281,
   "id": "2c061213-02e3-4766-90a8-40b77cbb40cc",
   "metadata": {},
   "outputs": [
    {
     "data": {
      "text/plain": [
       "Index(['Species', 'Weight', 'Length', 'Diagonal', 'Height', 'Width'], dtype='object')"
      ]
     },
     "execution_count": 281,
     "metadata": {},
     "output_type": "execute_result"
    }
   ],
   "source": [
    "fish.columns"
   ]
  },
  {
   "cell_type": "code",
   "execution_count": 282,
   "id": "7c8ecae4-fa00-4087-97cb-48a49400610f",
   "metadata": {},
   "outputs": [
    {
     "data": {
      "text/plain": [
       "array([[242.    ,  25.4   ,  30.    ,  11.52  ,   4.02  ],\n",
       "       [290.    ,  26.3   ,  31.2   ,  12.48  ,   4.3056],\n",
       "       [340.    ,  26.5   ,  31.1   ,  12.3778,   4.6961],\n",
       "       [363.    ,  29.    ,  33.5   ,  12.73  ,   4.4555],\n",
       "       [430.    ,  29.    ,  34.    ,  12.444 ,   5.134 ]])"
      ]
     },
     "execution_count": 282,
     "metadata": {},
     "output_type": "execute_result"
    }
   ],
   "source": [
    "# 독립변수 추출하기\n",
    "fish_input = fish[['Weight', 'Length', 'Diagonal', 'Height', 'Width']]\n",
    "fish_input = fish_input.to_numpy()\n",
    "fish_input[:5]"
   ]
  },
  {
   "cell_type": "code",
   "execution_count": 283,
   "id": "03347c09-0df6-4518-84d0-f41bdab76e16",
   "metadata": {},
   "outputs": [],
   "source": [
    "fish_target = fish['Species']\n",
    "fish_target = fish_target.to_numpy()"
   ]
  },
  {
   "cell_type": "code",
   "execution_count": 284,
   "id": "ff37dd84-126f-4f70-ae3c-6f577257c73f",
   "metadata": {},
   "outputs": [
    {
     "data": {
      "text/plain": [
       "array(['Bream', 'Bream', 'Bream', 'Bream', 'Bream'], dtype=object)"
      ]
     },
     "execution_count": 284,
     "metadata": {},
     "output_type": "execute_result"
    }
   ],
   "source": [
    "fish_target[:5]"
   ]
  },
  {
   "cell_type": "code",
   "execution_count": 285,
   "id": "ab70484c-378c-4275-a82f-2ff1988b63ae",
   "metadata": {},
   "outputs": [],
   "source": [
    "from sklearn.model_selection import train_test_split\n",
    "\n",
    "train_input, test_input, train_target, test_target = \\\n",
    "    train_test_split(fish_input, fish_target, random_state=42)"
   ]
  },
  {
   "cell_type": "code",
   "execution_count": 286,
   "id": "8378dc77-9728-4c0e-b5ec-d14ae3ada5e7",
   "metadata": {},
   "outputs": [
    {
     "name": "stdout",
     "output_type": "stream",
     "text": [
      "(119, 5)\n",
      "(119,)\n",
      "(40, 5)\n",
      "(40,)\n"
     ]
    }
   ],
   "source": [
    "print(train_input.shape)\n",
    "print(train_target.shape)\n",
    "print(test_input.shape)\n",
    "print(test_target.shape)"
   ]
  },
  {
   "cell_type": "code",
   "execution_count": 287,
   "id": "360a16f1-5d42-47dd-b519-e28c5ba01ddb",
   "metadata": {},
   "outputs": [
    {
     "name": "stdout",
     "output_type": "stream",
     "text": [
      "119\n",
      "119\n",
      "40\n",
      "40\n"
     ]
    }
   ],
   "source": [
    "print(len(train_input))\n",
    "print(len(train_target))\n",
    "print(len(test_input))\n",
    "print(len(test_target))"
   ]
  },
  {
   "cell_type": "code",
   "execution_count": 288,
   "id": "784a9c80-5be6-4ec0-b306-8422751b9922",
   "metadata": {},
   "outputs": [],
   "source": [
    "# 정규화(표준화) : 스케일 표준화\n",
    "# - 변수 : train_scaled, test_scaled\n",
    "from sklearn.preprocessing import StandardScaler\n",
    "ss = StandardScaler()\n",
    "ss.fit(train_input, train_target)\n",
    "\n",
    "train_scaled = ss.transform(train_input)\n",
    "test_scaled = ss.transform(test_input)"
   ]
  },
  {
   "cell_type": "code",
   "execution_count": 289,
   "id": "44774e6c-2936-4870-baa8-2cb59bf1e0be",
   "metadata": {},
   "outputs": [
    {
     "name": "stdout",
     "output_type": "stream",
     "text": [
      "[393.27226891  28.49663866  31.2697479    8.86248403   4.44828655]\n",
      "[355.27097574  10.67118899  11.5129708    4.04941829   1.64047206]\n"
     ]
    }
   ],
   "source": [
    "print(ss.mean_)\n",
    "print(ss.scale_)"
   ]
  },
  {
   "cell_type": "code",
   "execution_count": 290,
   "id": "7e9e5630-7ef2-4e46-8840-c0055733674a",
   "metadata": {},
   "outputs": [
    {
     "data": {
      "text/plain": [
       "array([[ 0.91965782,  0.60943175,  0.81041221,  1.85194896,  1.00075672],\n",
       "       [ 0.30041219,  1.54653445,  1.45316551, -0.46981663,  0.27291745],\n",
       "       [-1.0858536 , -1.68646987, -1.70848587, -1.70159849, -2.0044758 ],\n",
       "       [-0.79734143, -0.60880176, -0.67486907, -0.82480589, -0.27631471],\n",
       "       [-0.71289885, -0.73062511, -0.70092664, -0.0802298 , -0.7033869 ]])"
      ]
     },
     "execution_count": 290,
     "metadata": {},
     "output_type": "execute_result"
    }
   ],
   "source": [
    "train_scaled[:5]"
   ]
  },
  {
   "cell_type": "code",
   "execution_count": 110,
   "id": "0e7b47c5-56d1-4839-b852-2f4958fcc534",
   "metadata": {},
   "outputs": [
    {
     "name": "stdout",
     "output_type": "stream",
     "text": [
      "KNN모델 훈련데이터 정확도 : 0.891\n",
      "KNN모델 테스트데이터 정확도 : 0.85\n"
     ]
    }
   ],
   "source": [
    "# KNN모델로 테스트\n",
    "from sklearn.neighbors import KNeighborsClassifier\n",
    "kn = KNeighborsClassifier(n_neighbors=3)\n",
    "kn.fit(train_scaled, train_target)\n",
    "print('KNN모델 훈련데이터 정확도 :', round(kn.score(train_scaled, train_target),3))\n",
    "print('KNN모델 테스트데이터 정확도 :', round(kn.score(test_scaled, test_target),3))\n",
    "\n",
    "# <해석>\n",
    "# 훈련정확도는 0.891로 좋은편이지만\n",
    "# 테스트 데이터와의 오차가 -0.4 정도로 과대적합이 의심된다"
   ]
  },
  {
   "cell_type": "code",
   "execution_count": 111,
   "id": "9376080c-0db1-4b0e-8c2e-272932b46cbf",
   "metadata": {},
   "outputs": [
    {
     "data": {
      "text/plain": [
       "array(['Perch', 'Smelt', 'Pike', 'Perch', 'Perch'], dtype=object)"
      ]
     },
     "execution_count": 111,
     "metadata": {},
     "output_type": "execute_result"
    }
   ],
   "source": [
    "kn.predict(test_scaled[:5])"
   ]
  },
  {
   "cell_type": "code",
   "execution_count": 112,
   "id": "1e253d54-0824-4b02-ae69-aacb6d10bc62",
   "metadata": {},
   "outputs": [
    {
     "data": {
      "text/plain": [
       "array(['Perch', 'Smelt', 'Pike', 'Whitefish', 'Perch'], dtype=object)"
      ]
     },
     "execution_count": 112,
     "metadata": {},
     "output_type": "execute_result"
    }
   ],
   "source": [
    "test_target[:5]"
   ]
  },
  {
   "cell_type": "code",
   "execution_count": 117,
   "id": "bed8ede9-84d6-4b20-aeb1-8ded368f4cd4",
   "metadata": {},
   "outputs": [],
   "source": [
    "test_result = [[true, pred] for true, pred in zip(test_target[:5],kn.predict(test_scaled[:5]))]"
   ]
  },
  {
   "cell_type": "code",
   "execution_count": 118,
   "id": "b13aa996-8904-43c5-b643-ab2804f8888d",
   "metadata": {},
   "outputs": [
    {
     "data": {
      "text/plain": [
       "[['Perch', 'Perch'],\n",
       " ['Smelt', 'Smelt'],\n",
       " ['Pike', 'Pike'],\n",
       " ['Whitefish', 'Perch'],\n",
       " ['Perch', 'Perch']]"
      ]
     },
     "execution_count": 118,
     "metadata": {},
     "output_type": "execute_result"
    }
   ],
   "source": [
    "test_result"
   ]
  },
  {
   "cell_type": "code",
   "execution_count": 121,
   "id": "5bc8b0ca-88c3-4b9a-933d-4115b85c0b73",
   "metadata": {},
   "outputs": [
    {
     "data": {
      "text/plain": [
       "array([['Perch', 'Perch'],\n",
       "       ['Smelt', 'Smelt'],\n",
       "       ['Pike', 'Pike'],\n",
       "       ['Whitefish', 'Perch'],\n",
       "       ['Perch', 'Perch']], dtype=object)"
      ]
     },
     "execution_count": 121,
     "metadata": {},
     "output_type": "execute_result"
    }
   ],
   "source": [
    "np.column_stack((test_target[:5], kn.predict(test_scaled[:5])))"
   ]
  },
  {
   "cell_type": "code",
   "execution_count": 137,
   "id": "a28df84b-7970-4cc1-8f48-69aeceb9946a",
   "metadata": {},
   "outputs": [
    {
     "data": {
      "text/plain": [
       "array([[0.    , 0.    , 1.    , 0.    , 0.    , 0.    , 0.    ],\n",
       "       [0.    , 0.    , 0.    , 0.    , 0.    , 1.    , 0.    ],\n",
       "       [0.    , 0.    , 0.    , 1.    , 0.    , 0.    , 0.    ],\n",
       "       [0.    , 0.    , 0.6667, 0.    , 0.3333, 0.    , 0.    ],\n",
       "       [0.    , 0.    , 0.6667, 0.    , 0.3333, 0.    , 0.    ]])"
      ]
     },
     "execution_count": 137,
     "metadata": {},
     "output_type": "execute_result"
    }
   ],
   "source": [
    "# 각 행의 범주들의 확률값 확인\n",
    "    # - 확률값의 범위 : 0 ~ 1(0% ~ 100%)\n",
    "    # - 확률값 조회함수 : predict_proba(테스트데이터)\n",
    "    # - 사이킷런 분류 모델 공통으로 사용\n",
    "proba = kn.predict_proba(test_scaled[:5])\n",
    "np.round(proba, decimals=4)"
   ]
  },
  {
   "cell_type": "code",
   "execution_count": 141,
   "id": "32f13140-e8ea-4452-a159-12743d5d586a",
   "metadata": {},
   "outputs": [
    {
     "name": "stdout",
     "output_type": "stream",
     "text": [
      "['Bream' 'Roach' 'Whitefish' 'Parkki' 'Perch' 'Pike' 'Smelt']\n"
     ]
    }
   ],
   "source": [
    "# 기존의 종속변수 리스트\n",
    "print(pd.unique(fish['Species']))"
   ]
  },
  {
   "cell_type": "code",
   "execution_count": 140,
   "id": "ce5daf62-0790-4f77-84c3-761d9f9ab613",
   "metadata": {},
   "outputs": [
    {
     "name": "stdout",
     "output_type": "stream",
     "text": [
      "['Bream' 'Parkki' 'Perch' 'Pike' 'Roach' 'Smelt' 'Whitefish']\n"
     ]
    }
   ],
   "source": [
    "# 훈련모델이 가지고있는 종속변수 리스트\n",
    "print(kn.classes_)"
   ]
  },
  {
   "cell_type": "code",
   "execution_count": 164,
   "id": "9a6175d3-ca05-4f43-94b0-8f9b0f32d185",
   "metadata": {},
   "outputs": [
    {
     "name": "stdout",
     "output_type": "stream",
     "text": [
      "[[0.13880285 0.15188629 0.15908025]\n",
      " [0.07310337 0.10341686 0.11506625]\n",
      " [0.63337713 0.80646808 0.82050896]\n",
      " [0.20774583 0.24862983 0.33682411]\n",
      " [0.17898697 0.1859878  0.19013472]]\n",
      "\n",
      "[[ 39  64  63]\n",
      " [ 93  99  43]\n",
      " [100 105  27]\n",
      " [104 115 106]\n",
      " [ 72  26  68]]\n"
     ]
    }
   ],
   "source": [
    "# 사용된 이웃값 확인하기\n",
    "# - 첫번째 값 : n_neighbors의 값\n",
    "# - 두번째 값 : 첫번째 값의 인덱스 번호\n",
    "distances, indexes = kn.kneighbors(test_scaled[:5])\n",
    "print(distances)\n",
    "print()\n",
    "print(indexes)"
   ]
  },
  {
   "cell_type": "code",
   "execution_count": 165,
   "id": "32a9424b-37d4-4723-98d2-1ca080da3c8b",
   "metadata": {},
   "outputs": [
    {
     "data": {
      "text/plain": [
       "array([['Perch', 'Perch', 'Perch'],\n",
       "       ['Smelt', 'Smelt', 'Smelt'],\n",
       "       ['Pike', 'Pike', 'Pike'],\n",
       "       ['Roach', 'Perch', 'Perch'],\n",
       "       ['Perch', 'Perch', 'Roach']], dtype=object)"
      ]
     },
     "execution_count": 165,
     "metadata": {},
     "output_type": "execute_result"
    }
   ],
   "source": [
    "# 이웃값 확인하기 1\n",
    "train_target[indexes]"
   ]
  },
  {
   "cell_type": "code",
   "execution_count": 166,
   "id": "7b8cb38d-542d-47b4-857b-d74893a70e18",
   "metadata": {},
   "outputs": [
    {
     "name": "stdout",
     "output_type": "stream",
     "text": [
      "[['Perch' 'Perch' 'Perch']]\n",
      "[['Smelt' 'Smelt' 'Smelt']]\n",
      "[['Pike' 'Pike' 'Pike']]\n",
      "[['Roach' 'Perch' 'Perch']]\n",
      "[['Perch' 'Perch' 'Roach']]\n"
     ]
    }
   ],
   "source": [
    "# 이웃값 확인하기 2\n",
    "for test_data in test_scaled[:5]:\n",
    "    distances, indexes = kn.kneighbors([test_data])\n",
    "    print(train_target[indexes])"
   ]
  },
  {
   "cell_type": "markdown",
   "id": "4d888d94-23f5-4267-9c61-abf51b27d5e0",
   "metadata": {},
   "source": [
    "## 로지스틱 회귀분류(Logistic Regression)"
   ]
  },
  {
   "cell_type": "code",
   "execution_count": 168,
   "id": "01c4f319-1279-4a07-8fcf-263cadb0c773",
   "metadata": {},
   "outputs": [],
   "source": [
    "from sklearn.linear_model import LogisticRegression"
   ]
  },
  {
   "cell_type": "code",
   "execution_count": 169,
   "id": "b788920a-98af-4fea-aa03-efccdd60a403",
   "metadata": {},
   "outputs": [],
   "source": [
    "# 선형방정식 사용 : 다중회귀 방정식과 동일\n",
    "# z = a * x1 + b * x2... + y절편\n",
    "# z값 구하는 함수 : decision_function(훈련데이터)\n",
    "# z값 범위 : 0보다 작거나 큼\n",
    "# 확률 : 0 ~ 1 사이의 값을 사용(0% ~ 100%)\n",
    "# 따라서, z값은 확률의 0 ~ 1 사이의 값으로 변환하는 작업이 필요\n",
    "# 시그모이드 방식(이진분류방식 사용) = 두가지 범주(0, 1)\n",
    "# 소프트맥스 방식(다중분류방식 사용) = 모든 범주의 확률을 0, 1로 변환 "
   ]
  },
  {
   "cell_type": "markdown",
   "id": "b33bab0e-85fc-4811-8ed1-bdfc575dbd8e",
   "metadata": {},
   "source": [
    "### 로지스틱 회귀로 이진분류하기\n",
    "#### 시그모이드 함수 사용"
   ]
  },
  {
   "cell_type": "code",
   "execution_count": 173,
   "id": "3f51513f-5b0d-4a27-bb6c-ebd61a7e8823",
   "metadata": {},
   "outputs": [
    {
     "data": {
      "text/plain": [
       "array([[ 0.91965782,  0.60943175,  0.81041221,  1.85194896,  1.00075672],\n",
       "       [ 0.30041219,  1.54653445,  1.45316551, -0.46981663,  0.27291745],\n",
       "       [-1.0858536 , -1.68646987, -1.70848587, -1.70159849, -2.0044758 ],\n",
       "       [-0.79734143, -0.60880176, -0.67486907, -0.82480589, -0.27631471],\n",
       "       [-0.71289885, -0.73062511, -0.70092664, -0.0802298 , -0.7033869 ]])"
      ]
     },
     "execution_count": 173,
     "metadata": {},
     "output_type": "execute_result"
    }
   ],
   "source": [
    "train_scaled[:5]"
   ]
  },
  {
   "cell_type": "code",
   "execution_count": 174,
   "id": "33d81a38-e0ba-4ad1-b864-0fb7097881b9",
   "metadata": {},
   "outputs": [
    {
     "data": {
      "text/plain": [
       "array(['Bream', 'Pike', 'Smelt', 'Perch', 'Parkki'], dtype=object)"
      ]
     },
     "execution_count": 174,
     "metadata": {},
     "output_type": "execute_result"
    }
   ],
   "source": [
    "train_target[:5]"
   ]
  },
  {
   "cell_type": "code",
   "execution_count": 180,
   "id": "f2b5580a-d5b8-4ea6-b99f-802d5e026904",
   "metadata": {},
   "outputs": [],
   "source": [
    "# 이진분류방식은 2개의 범주만 사용가능\n",
    "    # - 기존 데이터에서 2개(Bream, Smelt)범주만 추출하여 사용\n",
    "    # 독립변수명 : train_bream_smelt\n",
    "    # 종속변수명 : target_bream_smelt\n",
    "target_bream_smelt = fish['Species']"
   ]
  },
  {
   "cell_type": "code",
   "execution_count": 309,
   "id": "9a0187fc-36c5-484c-a7d1-5e1a4b96d6da",
   "metadata": {},
   "outputs": [],
   "source": [
    "# 데이터 프레임에서 추출하는 방법\n",
    "bream_smelt = fish[(fish['Species'] == 'Bream') | (fish['Species'] == 'Smelt')]"
   ]
  },
  {
   "cell_type": "code",
   "execution_count": 310,
   "id": "9f91ea8c-9c96-4fbf-bb7a-7bad60b0074f",
   "metadata": {},
   "outputs": [],
   "source": [
    "train_bream_smelt = bream_smelt[['Weight', 'Length', 'Diagonal', 'Height', 'Width']]\n",
    "target_bream_smelt = bream_smelt['Species']"
   ]
  },
  {
   "cell_type": "code",
   "execution_count": 311,
   "id": "6248824c-6363-4e19-856c-f137b742a8bb",
   "metadata": {},
   "outputs": [],
   "source": [
    "train_bream_smelt = train_bream_smelt.to_numpy()\n",
    "target_bream_smelt = target_bream_smelt.to_numpy()"
   ]
  },
  {
   "cell_type": "code",
   "execution_count": 312,
   "id": "5d8feed0-d3d0-44fa-9af5-381336064569",
   "metadata": {},
   "outputs": [],
   "source": [
    "# 배열에서 추출하는 방법\n",
    "target_bream_smelt = train_target[(train_target == 'Bream') | (train_target == 'Smelt')]"
   ]
  },
  {
   "cell_type": "code",
   "execution_count": 313,
   "id": "3ca67862-7d06-4a76-bdc3-be6c305835bc",
   "metadata": {},
   "outputs": [],
   "source": [
    "train_bream_smelt = train_scaled[(train_target == 'Bream') | (train_target == 'Smelt')]"
   ]
  },
  {
   "cell_type": "code",
   "execution_count": 314,
   "id": "923df0be-6f12-4a39-83b5-912d623a77a5",
   "metadata": {},
   "outputs": [
    {
     "name": "stdout",
     "output_type": "stream",
     "text": [
      "(33, 5)\n",
      "(33,)\n"
     ]
    }
   ],
   "source": [
    "print(train_bream_smelt.shape)\n",
    "print(target_bream_smelt.shape)"
   ]
  },
  {
   "cell_type": "code",
   "execution_count": 322,
   "id": "2a048d19-cc8a-4e96-9422-7f6821175839",
   "metadata": {},
   "outputs": [
    {
     "name": "stdout",
     "output_type": "stream",
     "text": [
      "1.0\n"
     ]
    }
   ],
   "source": [
    "from sklearn.linear_model import LogisticRegression\n",
    "logr = LogisticRegression()\n",
    "logr.fit(train_bream_smelt, target_bream_smelt)\n",
    "print(logr.score(train_bream_smelt, target_bream_smelt))"
   ]
  },
  {
   "cell_type": "code",
   "execution_count": 323,
   "id": "b35de646-1c52-411c-aee1-deace6927b31",
   "metadata": {},
   "outputs": [
    {
     "data": {
      "text/plain": [
       "array(['Bream', 'Smelt', 'Bream', 'Bream', 'Bream'], dtype=object)"
      ]
     },
     "execution_count": 323,
     "metadata": {},
     "output_type": "execute_result"
    }
   ],
   "source": [
    "logr.predict(train_bream_smelt[:5])"
   ]
  },
  {
   "cell_type": "code",
   "execution_count": 329,
   "id": "e38c3cd9-1189-48ef-9b3b-85b9c7d0ef14",
   "metadata": {},
   "outputs": [
    {
     "data": {
      "text/plain": [
       "array([[0.9976, 0.0024],\n",
       "       [0.0274, 0.9726],\n",
       "       [0.9949, 0.0051],\n",
       "       [0.9858, 0.0142],\n",
       "       [0.9977, 0.0023]])"
      ]
     },
     "execution_count": 329,
     "metadata": {},
     "output_type": "execute_result"
    }
   ],
   "source": [
    "# 5개 행에 대한 범주별 확률 조회\n",
    "    # - 확률값의 범위 : 0 ~ 1(0% ~ 100%)\n",
    "    # - 확률값 조회함수 : predict_proba(테스트데이터)\n",
    "    # - 사이킷런 분류 모델 공통으로 사용\n",
    "proba = logr.predict_proba(train_bream_smelt[:5])\n",
    "np.round(proba, decimals=4)"
   ]
  },
  {
   "cell_type": "code",
   "execution_count": 328,
   "id": "c4954afd-a2a1-418d-955b-7c4994c797c1",
   "metadata": {},
   "outputs": [
    {
     "name": "stdout",
     "output_type": "stream",
     "text": [
      "['Bream' 'Smelt']\n"
     ]
    }
   ],
   "source": [
    "# 훈련모델이 가지고있는 범주 순서\n",
    "print(logr.classes_)"
   ]
  },
  {
   "cell_type": "code",
   "execution_count": 330,
   "id": "69ffc5dc-a74e-40b8-b166-6765372489c8",
   "metadata": {},
   "outputs": [
    {
     "name": "stdout",
     "output_type": "stream",
     "text": [
      "[[-0.4037798  -0.57620209 -0.66280298 -1.01290277 -0.73168947]] [-2.16155132]\n"
     ]
    }
   ],
   "source": [
    "# 계수(또는 가중치) 및 y절편값 조회하기\n",
    "print(logr.coef_, logr.intercept_)"
   ]
  },
  {
   "cell_type": "code",
   "execution_count": 332,
   "id": "c2921fe5-324c-4604-9934-f4d67c5bc294",
   "metadata": {},
   "outputs": [],
   "source": [
    "# -0.4037798 * Diagonal + -0.5762020 * Height + -0.66280298 * Length + -1.01290277 * Weight + -0.73168947 * Width + -2.16155132"
   ]
  },
  {
   "cell_type": "code",
   "execution_count": 335,
   "id": "c370e8da-4c33-4d8c-ba83-51130672ae21",
   "metadata": {},
   "outputs": [
    {
     "name": "stdout",
     "output_type": "stream",
     "text": [
      "[-6.02927744  3.57123907 -5.26568906 -4.24321775 -6.0607117 ]\n"
     ]
    }
   ],
   "source": [
    "# 이진분류에서 z값(선형방정식의 결과값들)을 0 ~ 1 로 변환\n",
    "# z값 조회하기\n",
    "decisions = logr.decision_function(train_bream_smelt[:5])\n",
    "print(decisions)"
   ]
  },
  {
   "cell_type": "code",
   "execution_count": 336,
   "id": "f645b905-6858-4c31-8ede-122dac4b1ca2",
   "metadata": {},
   "outputs": [
    {
     "name": "stdout",
     "output_type": "stream",
     "text": [
      "[0.00240145 0.97264817 0.00513928 0.01415798 0.00232731]\n"
     ]
    }
   ],
   "source": [
    "# 시그모이드 함수 : scipy패키지의 expit()\n",
    "from scipy.special import expit\n",
    "print(expit(decisions))"
   ]
  },
  {
   "cell_type": "code",
   "execution_count": 339,
   "id": "003603c7-252e-444d-a064-b7a69d53a46e",
   "metadata": {},
   "outputs": [],
   "source": [
    "# 시그모이드함수(sigmoid function) 또는 로지스틱 함수 - 이진분류\n",
    "    # - 범주가 2개일 때 주로 사용됨\n",
    "    # - 사용패키지 : from scipy.special\n",
    "    # - 사용모듈 : import expit\n",
    "    # - 사용함수 : expit(z값)\n",
    "    \n",
    "# - 0/1, Y/N 등 둘중 하나로 분류할때 (기존 KNN)\n",
    "# - 시그모이드 값의 범위 : 0 ~ 1 의 사잇값(0% ~ 100%)\n",
    "# - 범주들의 z값을 기준으로 0과 1의 사잇값으로 변환하여 반환한다.\n",
    "\n",
    "# - 변환 공식 : 1 / (1 + np.exp^(-z))\n",
    "    # np.exp() : 지수값으로 변화하는 함수\n",
    "    # -z : z값은 음수 사용\n",
    "    # z = 0 일때, 확률은 0.5(50%)\n",
    "    # z > 0 일때, 확률은 > 0.5(51% 이상) -> 예측확률높음\n",
    "    # z < 0 일때, 확률은 < 0.5(49% 미만)\n",
    "    # 여러 범주들 중에 확률이 가장 높은 범주 선택"
   ]
  },
  {
   "cell_type": "code",
   "execution_count": 357,
   "id": "0db99b54-bb4e-4a97-8a1b-1451f1be0707",
   "metadata": {},
   "outputs": [
    {
     "data": {
      "image/png": "[encoded data removed]",
      "text/plain": [
       "<Figure size 640x480 with 1 Axes>"
      ]
     },
     "metadata": {},
     "output_type": "display_data"
    }
   ],
   "source": [
    "# 시그모이드 함수 예시\n",
    "\n",
    "# 임의의 z값\n",
    "z = np.arange(-5, 5, 0.1)\n",
    "\n",
    "# 시그모이드 공식 사용\n",
    "    # np.exp() : 0 ~ 1 지수로 변환하기\n",
    "    #          : z값의 스케일을 통일 시키기 위해서\n",
    "    #          : z값은 음수로 처리(제곱승 시에 분모로 계산)\n",
    "    #          : 2^(-2) = 1/(2^2), 2^0 = 1\n",
    "    \n",
    "phi = 1 / (1 + np.exp(-z))\n",
    "\n",
    "# fig = plt.figure(figsize=(8,5))\n",
    "plt.plot(z, phi)\n",
    "plt.show()"
   ]
  },
  {
   "cell_type": "markdown",
   "id": "bf101765-0cc7-42fd-8780-4817b9bed8e1",
   "metadata": {},
   "source": [
    "## 다중분류"
   ]
  },
  {
   "cell_type": "code",
   "execution_count": null,
   "id": "53592895-0a9b-430f-93a5-a82dc1d9f0d2",
   "metadata": {},
   "outputs": [],
   "source": [
    "# 다중분류는 모든 범주를 사용합니다\n",
    "    # - 독립변수도 모든 특성을 사용합니다\n",
    "    # - 모든 특성을 사용할 경우 복잡도 고려 (너무 복잡 X, 너무 느슨 X, 적당히)\n",
    "    # - 사용하는 클래스 : 이진분류와 동일\n",
    "    # - 복잡도를 강약으로 조절히기 위해 규제강도 조절값 사용\n",
    "    # - 규제강도 조절값 속성명 : C(대문자), 기존의 alpha\n",
    "    # - 훈련반복 횟수 사용\n",
    "        # - 훈련모델은 정확도를 높이기 위해 일반적으로 반복수행을 함\n",
    "        # - 기본 반복횟수 : 100회\n",
    "        # - 훈련중에 100회보다 더 해야하는 경우 경고창이 뜰 수 있음\n",
    "        # - 독립변수의 특성이 많을수록 훈련 반복횟수가 늘어나는 경우 발생\n",
    "        # - 반복횟수 속성값 : max_iter\n",
    "        # - 보통 반복횟수를 1000으로 놓고 진행하는 경우가 많음\n",
    "    # - 이외 모든 훈련 함수는 기존과 동일"
   ]
  },
  {
   "cell_type": "code",
   "execution_count": 390,
   "id": "49849247-ebb3-4341-8dae-e5ff4de6aa89",
   "metadata": {},
   "outputs": [],
   "source": [
    "# 규제강도 = 20\n",
    "# 반복횟수 1000회\n",
    "# 훈련데이터와 테스트데이터에 대한 정확도 확인하기"
   ]
  },
  {
   "cell_type": "code",
   "execution_count": 397,
   "id": "439169b5-9a15-4d24-897c-77433d471836",
   "metadata": {},
   "outputs": [
    {
     "name": "stdout",
     "output_type": "stream",
     "text": [
      "훈련데이터 정확도 : 0.9327731092436975\n",
      "테스트데이터 정확도 : 0.925\n"
     ]
    }
   ],
   "source": [
    "logr = LogisticRegression(C=20, max_iter=1000)\n",
    "logr.fit(train_scaled, train_target)\n",
    "print('훈련데이터 정확도 :', logr.score(train_scaled, train_target))\n",
    "print('테스트데이터 정확도 :', logr.score(test_scaled, test_target))"
   ]
  },
  {
   "cell_type": "code",
   "execution_count": 408,
   "id": "a2995b16-e5b7-4420-b925-35657e8ee0a7",
   "metadata": {},
   "outputs": [
    {
     "data": {
      "text/plain": [
       "array(['Perch', 'Smelt', 'Pike', 'Roach', 'Perch'], dtype=object)"
      ]
     },
     "execution_count": 408,
     "metadata": {},
     "output_type": "execute_result"
    }
   ],
   "source": [
    "# 상위 5건 예측\n",
    "logr.predict(test_scaled[:5])"
   ]
  },
  {
   "cell_type": "code",
   "execution_count": 407,
   "id": "2b4ba71a-a50e-4d19-9c1c-15ec54c50993",
   "metadata": {},
   "outputs": [
    {
     "name": "stdout",
     "output_type": "stream",
     "text": [
      "[[0.    0.014 0.841 0.    0.136 0.007 0.003]\n",
      " [0.    0.003 0.044 0.    0.007 0.946 0.   ]\n",
      " [0.    0.    0.034 0.935 0.015 0.016 0.   ]\n",
      " [0.011 0.034 0.306 0.007 0.567 0.    0.076]\n",
      " [0.    0.    0.904 0.002 0.089 0.002 0.001]]\n"
     ]
    }
   ],
   "source": [
    "# 전체 범주별 확률 확인\n",
    "proba = logr.predict_proba(test_scaled[:5])\n",
    "print(np.round(proba, decimals= 3))"
   ]
  },
  {
   "cell_type": "code",
   "execution_count": 410,
   "id": "257e3154-aeda-4723-95ca-e2041cdaa1cb",
   "metadata": {},
   "outputs": [
    {
     "name": "stdout",
     "output_type": "stream",
     "text": [
      "['Bream' 'Parkki' 'Perch' 'Pike' 'Roach' 'Smelt' 'Whitefish']\n"
     ]
    }
   ],
   "source": [
    "print(logr.classes_)"
   ]
  },
  {
   "cell_type": "code",
   "execution_count": 414,
   "id": "70c9651e-db10-4d7f-8114-97c8ee0a6a3c",
   "metadata": {},
   "outputs": [
    {
     "name": "stdout",
     "output_type": "stream",
     "text": [
      "[[-1.49001999 -1.02912482  2.59345218  7.70357843 -1.2007022 ]\n",
      " [ 0.19618201 -2.01068627 -3.77976461  6.50491598 -1.99482485]\n",
      " [ 3.56279819  6.34356926 -8.48970993 -5.757574    3.79307177]\n",
      " [-0.10458121  3.603196    3.93067836 -3.61737079 -1.75069674]\n",
      " [-1.40061524 -6.07503319  5.25969396 -0.87219889  1.86043687]\n",
      " [-1.38526189  1.49214385  1.39226012 -5.67734222 -4.40097623]\n",
      " [ 0.62149812 -2.32406483 -0.9066101   1.71599149  3.69369137]]\n",
      "\n",
      "[-0.09205181 -0.26290863  3.25101315 -0.14742819  2.65498377 -6.78783248\n",
      "  1.38422419]\n"
     ]
    }
   ],
   "source": [
    "# 계수(또는 가중치) 및 y절편값 조회하기\n",
    "print(logr.coef_)\n",
    "print()\n",
    "print(logr.intercept_)"
   ]
  },
  {
   "cell_type": "code",
   "execution_count": 416,
   "id": "26e4c5f4-e8ea-4fca-a7b8-9f6a6fad291a",
   "metadata": {},
   "outputs": [
    {
     "name": "stdout",
     "output_type": "stream",
     "text": [
      "[[ -6.498   1.032   5.164  -2.729   3.339   0.327  -0.634]\n",
      " [-10.859   1.927   4.771  -2.398   2.978   7.841  -4.26 ]\n",
      " [ -4.335  -6.233   3.174   6.487   2.358   2.421  -3.872]\n",
      " [ -0.683   0.453   2.647  -1.187   3.265  -5.753   1.259]\n",
      " [ -6.397  -1.993   5.816  -0.11    3.503  -0.112  -0.707]]\n"
     ]
    }
   ],
   "source": [
    "# 이진분류에서 z값(선형방정식의 결과값들)을 0 ~ 1 로 변환\n",
    "# z값 조회하기\n",
    "decisions = logr.decision_function(test_scaled[:5])\n",
    "print(np.round(decisions, decimals=3))"
   ]
  },
  {
   "cell_type": "code",
   "execution_count": 419,
   "id": "61431454-a2a5-4f49-8c31-8a6253892edc",
   "metadata": {},
   "outputs": [
    {
     "name": "stdout",
     "output_type": "stream",
     "text": [
      "[[0.    0.014 0.841 0.    0.136 0.007 0.003]\n",
      " [0.    0.003 0.044 0.    0.007 0.946 0.   ]\n",
      " [0.    0.    0.034 0.935 0.015 0.016 0.   ]\n",
      " [0.011 0.034 0.306 0.007 0.567 0.    0.076]\n",
      " [0.    0.    0.904 0.002 0.089 0.002 0.001]]\n"
     ]
    }
   ],
   "source": [
    "# 소프트맥스(softmax)\n",
    "    # 사용하는 패키지 : scipy.special\n",
    "    # 사용하는 모듈 : softmax\n",
    "\n",
    "from scipy.special import softmax\n",
    "proba = softmax(decisions, axis=1)\n",
    "print(np.round(proba, decimals=3))"
   ]
  },
  {
   "cell_type": "code",
   "execution_count": 422,
   "id": "cf1a2b04-a9cd-47bc-950e-d0fa3d26dac3",
   "metadata": {},
   "outputs": [
    {
     "name": "stdout",
     "output_type": "stream",
     "text": [
      "['Perch' 'Smelt' 'Pike' 'Roach' 'Perch']\n"
     ]
    }
   ],
   "source": [
    "print(logr.predict(test_scaled[:5]))"
   ]
  },
  {
   "cell_type": "code",
   "execution_count": 423,
   "id": "779668c3-296f-469e-830a-2305e791bd3c",
   "metadata": {},
   "outputs": [
    {
     "name": "stdout",
     "output_type": "stream",
     "text": [
      "['Bream' 'Parkki' 'Perch' 'Pike' 'Roach' 'Smelt' 'Whitefish']\n"
     ]
    }
   ],
   "source": [
    "print(logr.classes_)"
   ]
  }
 ],
 "metadata": {
  "kernelspec": {
   "display_name": "ml_kernel",
   "language": "python",
   "name": "ml"
  },
  "language_info": {
   "codemirror_mode": {
    "name": "ipython",
    "version": 3
   },
   "file_extension": ".py",
   "mimetype": "text/x-python",
   "name": "python",
   "nbconvert_exporter": "python",
   "pygments_lexer": "ipython3",
   "version": "3.9.12"
  }
 },
 "nbformat": 4,
 "nbformat_minor": 5
}
