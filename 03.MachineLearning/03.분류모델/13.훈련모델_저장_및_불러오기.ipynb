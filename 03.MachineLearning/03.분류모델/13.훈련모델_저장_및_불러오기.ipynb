{
 "cells": [
  {
   "cell_type": "code",
   "execution_count": 1,
   "id": "966922d7-ce69-4d03-8a84-a1e04e375bdf",
   "metadata": {},
   "outputs": [],
   "source": [
    "import pandas as pd\n",
    "import numpy as np\n",
    "import matplotlib\n",
    "import matplotlib.pyplot as plt\n",
    "from matplotlib import font_manager, rc\n",
    "import seaborn as sns\n",
    "import platform\n",
    "\n",
    "# seaborn 설정 리셋\n",
    "sns.reset_defaults()\n",
    "\n",
    "# 폰트설정\n",
    "if platform.system() == 'Windows' :\n",
    "    path = 'c:/Windows/Fonts/malgun.ttf'\n",
    "    font_name = font_manager.FontProperties(fname=path).get_name()\n",
    "    rc('font', family=font_name)\n",
    "elif platform.system() == 'Darwin':\n",
    "    rc('font', family='AppleGothic')\n",
    "else :\n",
    "    print('Check your OS System')\n",
    "    \n",
    "# 그래프에 마이너스 표시\n",
    "matplotlib.rcParams['axes.unicode_minus'] = False"
   ]
  },
  {
   "cell_type": "code",
   "execution_count": 15,
   "id": "d71010c6-9fe5-4546-8e5d-786af52cfa3e",
   "metadata": {},
   "outputs": [],
   "source": [
    "fish = pd.read_csv('./data/05_생선_분류_데이터셋.csv')\n",
    "fish_input = fish.iloc[:,1:].to_numpy()\n",
    "fish_target = fish['Species'].to_numpy()"
   ]
  },
  {
   "cell_type": "code",
   "execution_count": 16,
   "id": "bcd2ee61-e589-4f78-a1b8-93c78038776c",
   "metadata": {},
   "outputs": [],
   "source": [
    "from sklearn.model_selection import train_test_split\n",
    "\n",
    "train_input, test_input, train_target, test_target = \\\n",
    "    train_test_split(fish_input, fish_target, random_state=42)"
   ]
  },
  {
   "cell_type": "code",
   "execution_count": 18,
   "id": "6ee04391-53bf-41d1-be98-f574f458758a",
   "metadata": {},
   "outputs": [
    {
     "data": {
      "text/plain": [
       "LogisticRegression(max_iter=20000)"
      ]
     },
     "execution_count": 18,
     "metadata": {},
     "output_type": "execute_result"
    }
   ],
   "source": [
    "from sklearn.linear_model import LogisticRegression\n",
    "\n",
    "lr = LogisticRegression(max_iter=20000)\n",
    "\n",
    "lr.fit(train_input, train_target)"
   ]
  },
  {
   "cell_type": "markdown",
   "id": "4d9cf513-92b6-4453-b634-917b70f2fc32",
   "metadata": {},
   "source": [
    "## 저장방법"
   ]
  },
  {
   "cell_type": "markdown",
   "id": "20b203fb-dd77-4325-8d3c-b93a9e43058d",
   "metadata": {},
   "source": [
    "### 1. joblib 방식"
   ]
  },
  {
   "cell_type": "code",
   "execution_count": 28,
   "id": "5795a099-c5be-4368-be67-1499f3c464b2",
   "metadata": {},
   "outputs": [
    {
     "data": {
      "text/plain": [
       "['./model/LR_fish_model.pkl']"
      ]
     },
     "execution_count": 28,
     "metadata": {},
     "output_type": "execute_result"
    }
   ],
   "source": [
    "import joblib\n",
    "\n",
    "# 모델 저장\n",
    "joblib.dump(lr, './model/LR_fish_model.pkl')"
   ]
  },
  {
   "cell_type": "code",
   "execution_count": 37,
   "id": "a1295230-30e3-4537-b6c4-c924b749d72e",
   "metadata": {},
   "outputs": [],
   "source": [
    "# 모델 불러오기\n",
    "lr_model = joblib.load('./model/LR_fish_model.pkl')"
   ]
  },
  {
   "cell_type": "code",
   "execution_count": 39,
   "id": "e4aad332-a1ff-4e6e-9b57-f3b22ba0eab4",
   "metadata": {},
   "outputs": [
    {
     "name": "stdout",
     "output_type": "stream",
     "text": [
      "0.925\n"
     ]
    }
   ],
   "source": [
    "# 불러온 모델 사용\n",
    "print(lr_model.score(test_input, test_target))"
   ]
  },
  {
   "cell_type": "markdown",
   "id": "1c5b304d-373f-4f98-9ad6-7919bb102a70",
   "metadata": {},
   "source": [
    "### 2. pickle 방식"
   ]
  },
  {
   "cell_type": "code",
   "execution_count": 33,
   "id": "df10d569-e491-4b15-bd93-a9c200d7bcac",
   "metadata": {},
   "outputs": [],
   "source": [
    "import pickle\n",
    "\n",
    "# 모델 저장\n",
    "with open('./model/LR_fish_model.pkicle', 'wb') as fw :\n",
    "    pickle.dump(lr, fw)"
   ]
  },
  {
   "cell_type": "code",
   "execution_count": 35,
   "id": "c8e09bed-fd45-4439-a374-8d14065f5c99",
   "metadata": {},
   "outputs": [],
   "source": [
    "# 모델 불러오기\n",
    "with open('./model/LR_fish_model.pkicle', 'rb') as f :\n",
    "    lr_model = pickle.load(f)"
   ]
  },
  {
   "cell_type": "code",
   "execution_count": 40,
   "id": "03bc8afe-737f-4333-a458-96045c842b85",
   "metadata": {},
   "outputs": [
    {
     "name": "stdout",
     "output_type": "stream",
     "text": [
      "0.925\n"
     ]
    }
   ],
   "source": [
    "# 불러온 모델 사용\n",
    "print(lr_model.score(test_input, test_target))"
   ]
  },
  {
   "cell_type": "code",
   "execution_count": null,
   "id": "43e7179a-54e6-4646-b8c4-55f69848c0b9",
   "metadata": {},
   "outputs": [],
   "source": []
  },
  {
   "cell_type": "code",
   "execution_count": null,
   "id": "478a3091-8503-4992-be75-f3109e0694d7",
   "metadata": {},
   "outputs": [],
   "source": []
  },
  {
   "cell_type": "code",
   "execution_count": null,
   "id": "bd93700c-deaf-42b3-bfb1-9d857dbfedeb",
   "metadata": {},
   "outputs": [],
   "source": []
  },
  {
   "cell_type": "code",
   "execution_count": null,
   "id": "88c06626-cdec-4da0-b5a1-374034287754",
   "metadata": {},
   "outputs": [],
   "source": []
  },
  {
   "cell_type": "code",
   "execution_count": null,
   "id": "ad579ba6-270a-47ef-b249-30b0b884e400",
   "metadata": {},
   "outputs": [],
   "source": []
  },
  {
   "cell_type": "code",
   "execution_count": null,
   "id": "6ddf5574-6a37-4ad7-982c-5c79facdb731",
   "metadata": {},
   "outputs": [],
   "source": []
  },
  {
   "cell_type": "code",
   "execution_count": null,
   "id": "032550d2-29c0-4abf-aae6-96f4e1517c31",
   "metadata": {},
   "outputs": [],
   "source": []
  },
  {
   "cell_type": "code",
   "execution_count": null,
   "id": "1cc37373-19ce-41c8-a2d5-7d7787effdd8",
   "metadata": {},
   "outputs": [],
   "source": []
  },
  {
   "cell_type": "code",
   "execution_count": null,
   "id": "4cdbde2f-b01f-4949-92b7-918c69838c2a",
   "metadata": {},
   "outputs": [],
   "source": []
  },
  {
   "cell_type": "code",
   "execution_count": null,
   "id": "0771b543-5bcc-4cd6-a6ec-a9c8a8d20243",
   "metadata": {},
   "outputs": [],
   "source": []
  },
  {
   "cell_type": "code",
   "execution_count": null,
   "id": "d9175e40-1eb5-4794-8be8-9be99e7fbb69",
   "metadata": {},
   "outputs": [],
   "source": []
  },
  {
   "cell_type": "code",
   "execution_count": null,
   "id": "690e2053-0fc6-4f20-99fa-c6cca27887d8",
   "metadata": {},
   "outputs": [],
   "source": []
  },
  {
   "cell_type": "code",
   "execution_count": null,
   "id": "d39fdc4f-8354-4bcd-9d41-905ffc6aa256",
   "metadata": {},
   "outputs": [],
   "source": []
  },
  {
   "cell_type": "code",
   "execution_count": null,
   "id": "a09a4893-8950-4983-b51b-1f41c0c5bcbb",
   "metadata": {},
   "outputs": [],
   "source": []
  },
  {
   "cell_type": "code",
   "execution_count": null,
   "id": "d3d6ca30-4cba-42a0-ad28-1f2c127ce3fa",
   "metadata": {},
   "outputs": [],
   "source": []
  },
  {
   "cell_type": "code",
   "execution_count": null,
   "id": "04bb1981-7c62-437d-b4dc-02903f996914",
   "metadata": {},
   "outputs": [],
   "source": []
  },
  {
   "cell_type": "code",
   "execution_count": null,
   "id": "17c9c52d-16f9-4493-b8cd-42bfb022eaee",
   "metadata": {},
   "outputs": [],
   "source": []
  },
  {
   "cell_type": "code",
   "execution_count": null,
   "id": "c6bdac59-747e-466b-9e7d-31fbef3e3598",
   "metadata": {},
   "outputs": [],
   "source": []
  },
  {
   "cell_type": "code",
   "execution_count": null,
   "id": "b4ae789b-21b2-49f1-adbb-068217889576",
   "metadata": {},
   "outputs": [],
   "source": []
  },
  {
   "cell_type": "code",
   "execution_count": null,
   "id": "8f8a3ca1-61d1-4fdb-bcac-04985217395b",
   "metadata": {},
   "outputs": [],
   "source": []
  },
  {
   "cell_type": "code",
   "execution_count": null,
   "id": "ee462934-0386-4bb6-a254-38d94ef6ef19",
   "metadata": {},
   "outputs": [],
   "source": []
  },
  {
   "cell_type": "code",
   "execution_count": null,
   "id": "b415224c-2b3f-478f-b4d6-554103e35ca7",
   "metadata": {},
   "outputs": [],
   "source": []
  },
  {
   "cell_type": "code",
   "execution_count": null,
   "id": "470a7d1e-2374-4b26-bace-026111233382",
   "metadata": {},
   "outputs": [],
   "source": []
  },
  {
   "cell_type": "code",
   "execution_count": null,
   "id": "a3459739-4e51-4370-b0bb-d79aec0d7a1f",
   "metadata": {},
   "outputs": [],
   "source": []
  },
  {
   "cell_type": "code",
   "execution_count": null,
   "id": "567dcb85-2cef-4551-b0e8-176aae1e6ba7",
   "metadata": {},
   "outputs": [],
   "source": []
  },
  {
   "cell_type": "code",
   "execution_count": null,
   "id": "65fe5f54-0671-42ff-932f-82c4d676ce93",
   "metadata": {},
   "outputs": [],
   "source": []
  },
  {
   "cell_type": "code",
   "execution_count": null,
   "id": "03605a54-50b2-4bd6-9614-e9ce9b796f75",
   "metadata": {},
   "outputs": [],
   "source": []
  },
  {
   "cell_type": "code",
   "execution_count": null,
   "id": "bb14b0fa-b5e1-40bd-9991-03680b6ada0c",
   "metadata": {},
   "outputs": [],
   "source": []
  },
  {
   "cell_type": "code",
   "execution_count": null,
   "id": "a495ab0d-017c-4e5d-9da1-9db97136190e",
   "metadata": {},
   "outputs": [],
   "source": []
  },
  {
   "cell_type": "code",
   "execution_count": null,
   "id": "5037056a-2484-42a8-8ad8-611e6700052c",
   "metadata": {},
   "outputs": [],
   "source": []
  },
  {
   "cell_type": "code",
   "execution_count": null,
   "id": "7ba7201f-b6bf-4fa0-839c-77e306c78c30",
   "metadata": {},
   "outputs": [],
   "source": []
  },
  {
   "cell_type": "code",
   "execution_count": null,
   "id": "a1bd416a-33fa-43d7-a63a-086e48d91eef",
   "metadata": {},
   "outputs": [],
   "source": []
  },
  {
   "cell_type": "code",
   "execution_count": null,
   "id": "d41e9618-0d9e-487f-84df-13a268e1fe70",
   "metadata": {},
   "outputs": [],
   "source": []
  }
 ],
 "metadata": {
  "kernelspec": {
   "display_name": "ml_kernel",
   "language": "python",
   "name": "ml"
  },
  "language_info": {
   "codemirror_mode": {
    "name": "ipython",
    "version": 3
   },
   "file_extension": ".py",
   "mimetype": "text/x-python",
   "name": "python",
   "nbconvert_exporter": "python",
   "pygments_lexer": "ipython3",
   "version": "3.9.12"
  }
 },
 "nbformat": 4,
 "nbformat_minor": 5
}
