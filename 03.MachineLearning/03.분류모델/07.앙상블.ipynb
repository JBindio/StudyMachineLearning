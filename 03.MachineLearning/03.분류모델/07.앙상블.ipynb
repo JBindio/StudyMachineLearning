{
 "cells": [
  {
   "cell_type": "code",
   "execution_count": 1,
   "id": "89faaaf4-7e7d-45aa-8849-3248777d16e8",
   "metadata": {},
   "outputs": [],
   "source": [
    "import pandas as pd\n",
    "import numpy as np\n",
    "import matplotlib\n",
    "import matplotlib.pyplot as plt\n",
    "from matplotlib import font_manager, rc\n",
    "import seaborn as sns\n",
    "import platform\n",
    "\n",
    "# seaborn 설정 리셋\n",
    "sns.reset_defaults()\n",
    "\n",
    "# 폰트설정\n",
    "if platform.system() == 'Windows' :\n",
    "    path = 'c:/Windows/Fonts/malgun.ttf'\n",
    "    font_name = font_manager.FontProperties(fname=path).get_name()\n",
    "    rc('font', family=font_name)\n",
    "elif platform.system() == 'Darwin':\n",
    "    rc('font', family='AppleGothic')\n",
    "else :\n",
    "    print('Check your OS System')\n",
    "    \n",
    "# 그래프에 마이너스 표시\n",
    "matplotlib.rcParams['axes.unicode_minus'] = False"
   ]
  },
  {
   "cell_type": "markdown",
   "id": "af43808a-f006-40e6-8fea-3995e0a56ff1",
   "metadata": {},
   "source": [
    "## 트리의 앙상블"
   ]
  },
  {
   "cell_type": "code",
   "execution_count": 2,
   "id": "0c6203e2-42c6-4ae5-93bb-68db3fe00d59",
   "metadata": {},
   "outputs": [],
   "source": [
    "# 정형데이터에 가장 뛰어난 성능을 보이는 모델\n",
    "# 앙상블 모델들은 결정트리(Decision Tree)를 기반으로 만들어 졌습니다\n",
    "# 앙상블 모델 종류\n",
    "    # - 랜덤포레스트(Random Forest)\n",
    "    # - 엑스트라 트리 (Extra Trees)\n",
    "    # - 그레디언트 부스팅(Gradient Boosting)\n",
    "    # - 히스토그램 기반 그레디언트 부스팅(Histogram-base Gradient Boosting)"
   ]
  },
  {
   "cell_type": "markdown",
   "id": "5f452524-fce9-4099-b8e2-4af83b12b336",
   "metadata": {},
   "source": [
    "## 랜덤 포레스트(Random Forest)\n",
    "- 앙상블 모델 중에 가장 대표격 모델\n",
    "    - 안정적인 성능\n",
    "    - 앙상블 모델중 가장 먼저 시도\n",
    "    - 훈련데이터 과대적합 방지\n",
    "    - 검증데이터, 테스트데이터 안정적인 성능\n",
    "    <br><br>\n",
    "\n",
    "- 학습개념\n",
    "    - 결정 트리를 랜덤하게 만들어서 숲을 만드는 느낌\n",
    "    - 훈련데이터에서 랜덤하게 샘플을 추출하여 훈련을 완료한 후\n",
    "    - 다시 원본 훈련데이터에 반환\n",
    "    - 랜덤하게 추출 시 이전에 사용된 샘플을 사용 할 수도 있다(중복 허용)\n",
    "    <br><br>\n",
    "    \n",
    "- 부트스트랩 샘플(Bootstrap Sample)\n",
    "    - 위에 설명한 랜덤한 샘플 추출 시 중복 허용 > 데이터 샘플링\n",
    "    - 샘플 추출 방식\n",
    "        - 1. 원본에서 랜덤 샘플 추출\n",
    "        - 2. 훈련 이후 사용이 끝나면 원본에 반환\n",
    "        - 3. 다시 원본에서 샘플 추출, 이때 중복값 추출 될 수 있음\n",
    "        - 4. 위 순서를 반복하면서 샘플링을 통해 훈련하는 방식"
   ]
  },
  {
   "cell_type": "code",
   "execution_count": 3,
   "id": "7d1e2c3a-9c0a-4bbe-9198-93bf4e8e0928",
   "metadata": {},
   "outputs": [
    {
     "data": {
      "text/html": [
       "<div>\n",
       "<style scoped>\n",
       "    .dataframe tbody tr th:only-of-type {\n",
       "        vertical-align: middle;\n",
       "    }\n",
       "\n",
       "    .dataframe tbody tr th {\n",
       "        vertical-align: top;\n",
       "    }\n",
       "\n",
       "    .dataframe thead th {\n",
       "        text-align: right;\n",
       "    }\n",
       "</style>\n",
       "<table border=\"1\" class=\"dataframe\">\n",
       "  <thead>\n",
       "    <tr style=\"text-align: right;\">\n",
       "      <th></th>\n",
       "      <th>alcohol</th>\n",
       "      <th>sugar</th>\n",
       "      <th>pH</th>\n",
       "      <th>class</th>\n",
       "    </tr>\n",
       "  </thead>\n",
       "  <tbody>\n",
       "    <tr>\n",
       "      <th>0</th>\n",
       "      <td>9.4</td>\n",
       "      <td>1.9</td>\n",
       "      <td>3.51</td>\n",
       "      <td>0.0</td>\n",
       "    </tr>\n",
       "    <tr>\n",
       "      <th>1</th>\n",
       "      <td>9.8</td>\n",
       "      <td>2.6</td>\n",
       "      <td>3.20</td>\n",
       "      <td>0.0</td>\n",
       "    </tr>\n",
       "    <tr>\n",
       "      <th>2</th>\n",
       "      <td>9.8</td>\n",
       "      <td>2.3</td>\n",
       "      <td>3.26</td>\n",
       "      <td>0.0</td>\n",
       "    </tr>\n",
       "    <tr>\n",
       "      <th>3</th>\n",
       "      <td>9.8</td>\n",
       "      <td>1.9</td>\n",
       "      <td>3.16</td>\n",
       "      <td>0.0</td>\n",
       "    </tr>\n",
       "    <tr>\n",
       "      <th>4</th>\n",
       "      <td>9.4</td>\n",
       "      <td>1.9</td>\n",
       "      <td>3.51</td>\n",
       "      <td>0.0</td>\n",
       "    </tr>\n",
       "  </tbody>\n",
       "</table>\n",
       "</div>"
      ],
      "text/plain": [
       "   alcohol  sugar    pH  class\n",
       "0      9.4    1.9  3.51    0.0\n",
       "1      9.8    2.6  3.20    0.0\n",
       "2      9.8    2.3  3.26    0.0\n",
       "3      9.8    1.9  3.16    0.0\n",
       "4      9.4    1.9  3.51    0.0"
      ]
     },
     "execution_count": 3,
     "metadata": {},
     "output_type": "execute_result"
    }
   ],
   "source": [
    "from sklearn.model_selection import train_test_split\n",
    "\n",
    "wine = pd.read_csv('./data/08_wine.csv')\n",
    "wine.head()"
   ]
  },
  {
   "cell_type": "code",
   "execution_count": 4,
   "id": "6d5088fa-203e-4558-9d91-f4d708faeee1",
   "metadata": {},
   "outputs": [],
   "source": [
    "data = wine[['alcohol','sugar','pH']].to_numpy()\n",
    "target = wine['class'].to_numpy()"
   ]
  },
  {
   "cell_type": "code",
   "execution_count": 5,
   "id": "4ec4a727-a4d9-42e6-bf94-8ab8ee0f7453",
   "metadata": {},
   "outputs": [
    {
     "name": "stdout",
     "output_type": "stream",
     "text": [
      "(4872, 3) (4872,)\n",
      "(1625, 3) (1625,)\n"
     ]
    }
   ],
   "source": [
    "train_input, test_input, train_target, test_target = \\\n",
    "    train_test_split(data, target, random_state=42)\n",
    "\n",
    "print(train_input.shape, train_target.shape)\n",
    "print(test_input.shape, test_target.shape)"
   ]
  },
  {
   "cell_type": "markdown",
   "id": "8810745d-28f9-4ba2-8e92-b418c8ff136e",
   "metadata": {},
   "source": [
    "## 훈련모델 생성하기"
   ]
  },
  {
   "cell_type": "code",
   "execution_count": 6,
   "id": "891903ae-da7e-424b-acf0-374e978b001f",
   "metadata": {},
   "outputs": [],
   "source": [
    "# 랜덤포레스트 패키지 : sklearn.ensemble\n",
    "# 랜덤포레스트 클래스(모델) : RandomForestClassifir\n",
    "from sklearn.ensemble import RandomForestClassifier\n",
    "\n",
    "rf = RandomForestClassifier(n_jobs=-1, random_state=42)"
   ]
  },
  {
   "cell_type": "code",
   "execution_count": 7,
   "id": "405ef4e8-7725-48a8-98c8-f40870c0da22",
   "metadata": {},
   "outputs": [
    {
     "name": "stdout",
     "output_type": "stream",
     "text": [
      "<랜덤포레스트>   훈련데이터 정확도 : 0.9978\n",
      "<랜덤포레스트> 테스트데이터 정확도 : 0.8914\n"
     ]
    }
   ],
   "source": [
    "# 교차검증 : crocross_validate()\n",
    "# 교차검증 후 훈련 검증결과와 테스트 검증결과 확인하기\n",
    "from sklearn.model_selection import cross_validate\n",
    "\n",
    "# return_train_score=True : 검증결과 반환\n",
    "scores = cross_validate(rf, train_input, train_target,\n",
    "                        return_train_score=True, n_jobs=-1)\n",
    "\n",
    "print('<랜덤포레스트>   훈련데이터 정확도 :', round(scores['train_score'].mean(),4))\n",
    "print('<랜덤포레스트> 테스트데이터 정확도 :', round(scores['test_score'].mean(),4))"
   ]
  },
  {
   "cell_type": "code",
   "execution_count": 8,
   "id": "2ce5b488-c741-4977-98e8-6b5e843ff0b7",
   "metadata": {},
   "outputs": [
    {
     "name": "stdout",
     "output_type": "stream",
     "text": [
      "[alcohol, sugar, pH]\n",
      "[0.23155241 0.49706658 0.27138101]\n"
     ]
    }
   ],
   "source": [
    "# 특성 중요도 조회하기\n",
    "rf.fit(train_input, train_target)\n",
    "print('[alcohol, sugar, pH]')\n",
    "print(rf.feature_importances_)"
   ]
  },
  {
   "cell_type": "code",
   "execution_count": 9,
   "id": "5ed26447-8804-4491-bb58-a43e65f7d974",
   "metadata": {},
   "outputs": [
    {
     "name": "stdout",
     "output_type": "stream",
     "text": [
      "0.8981937602627258\n"
     ]
    }
   ],
   "source": [
    "# oob 기능 사용\n",
    "# 훈련에 참여하지 못한 잔여 샘플 사용하는 기능\n",
    "# 기본은 사용 x\n",
    "rf = RandomForestClassifier(oob_score= True, n_jobs= -1, random_state=42)\n",
    "rf.fit(train_input, train_target)\n",
    "print(rf.oob_score_)"
   ]
  },
  {
   "cell_type": "markdown",
   "id": "a6cdd8a6-aed4-4398-87a2-6a0fc6146199",
   "metadata": {},
   "source": [
    "## 엑스트라 트리(Extra Tree)\n",
    "- 랜덤 포레스트와 유사하게 작동\n",
    "- 기본적으로 100개의 결정트리를 훈련함\n",
    "- 랜덤포레스트와의 차이점\n",
    "    - 부트스트랩 샘플링을 지원하지 않음\n",
    "    - 훈련데이터 전체를 이용하여 결정트리를 생성\n",
    "    - 무작위로 트리를 분리함\n",
    "- 사용되는 속성 : splitter = 'random' 무작위속성\n",
    "- 장점\n",
    "    - 과대적합을 막고, 검증데이터의 평가 값을 높일 수 있음\n",
    "    - 특성 데이터가 많지 않은 경우에는 랜덤 포레스트와 큰 차이가 없음\n",
    "- 랜덤포레스트는 불순도 등 여러가지 조건에 따라 결정트리를 생성하기 때문에 속도가 느린 반면\n",
    "- 엑스트라 트리는 랜덤하게 결정트리를 생성하기에 속도가 다소 빠르다는 장점이 있다"
   ]
  },
  {
   "cell_type": "code",
   "execution_count": 10,
   "id": "2e8a4a78-2260-4c30-bf43-c5566921e884",
   "metadata": {},
   "outputs": [
    {
     "name": "stdout",
     "output_type": "stream",
     "text": [
      "<엑스트라트리>   훈련데이터 정확도 : 0.9978\n",
      "<엑스트라트리> 테스트데이터 정확도 : 0.8904\n"
     ]
    }
   ],
   "source": [
    "# 사용 패키지 : 랜덤포레스트와 동일\n",
    "# 사용되는 클래스(모델) : ExtraTreeClassifier\n",
    "# 코어 전체 사용, train 및 test 결과값 출력\n",
    "# 교차 검증 결과인 train 및 test 결과 확인\n",
    "from sklearn.ensemble import ExtraTreesClassifier\n",
    "et = ExtraTreesClassifier(n_jobs=-1, random_state=42)\n",
    "\n",
    "scores = cross_validate(et, train_input, train_target, \n",
    "                        return_train_score= True,n_jobs=-1)\n",
    "\n",
    "print('<엑스트라트리>   훈련데이터 정확도 :', round(scores['train_score'].mean(),4))\n",
    "print('<엑스트라트리> 테스트데이터 정확도 :', round(scores['test_score'].mean(),4))"
   ]
  },
  {
   "cell_type": "code",
   "execution_count": 11,
   "id": "d5a185f3-d627-4b14-804f-78b02e94f469",
   "metadata": {},
   "outputs": [
    {
     "name": "stdout",
     "output_type": "stream",
     "text": [
      "[alcohol, sugar, pH]\n",
      "[0.20702369 0.51313261 0.2798437 ]\n"
     ]
    }
   ],
   "source": [
    "# 특성 중요도 조회하기\n",
    "et.fit(train_input, train_target)\n",
    "print('[alcohol, sugar, pH]')\n",
    "print(et.feature_importances_)"
   ]
  },
  {
   "cell_type": "markdown",
   "id": "0ed2c337-71a0-415a-ab68-0eedfcd09950",
   "metadata": {},
   "source": [
    "## 그레디언트 부스팅(Gradient Boosting)\n",
    "- 기존 훈련모델의 오차를 많이 보완\n",
    "- 성능 향상을 위한 모델\n",
    "- 과대적합, 일반화(과적합이 없는 상태)에 강함\n",
    "- 깊이(max_depth)가 앝은 결정트리를 사용함\n",
    "     - 기본적으로 max_depth = 3 사용\n",
    "     - 결정트리는 100개 사용\n",
    "<br><br>\n",
    "- 성능향상 테스트 방법\n",
    "    - 결정트리의 갯수를 조절하면서 테스트\n",
    "    - 학습률을 지원하기 때문에 학습률의 값을 증가시키면서 테스트 진행\n",
    "    - 기본 학습률은 0.1\n",
    "<br><br>\n",
    "- 단점\n",
    "    - 순서대로 트리를 추가(랜덤하지 않음)하지 않기 때문에 훈련속도 느림\n",
    "    - 이런속도를 개선한 모델 > '히스토그램 기반 그레디언트 부스팅' 모델"
   ]
  },
  {
   "cell_type": "code",
   "execution_count": 12,
   "id": "b2d1b0f2-364e-4a28-b8ef-964cf4ff39b6",
   "metadata": {},
   "outputs": [
    {
     "name": "stdout",
     "output_type": "stream",
     "text": [
      "<그레디언트>   훈련데이터 정확도 : 0.8895\n",
      "<그레디언트> 테스트데이터 정확도 : 0.8715\n"
     ]
    }
   ],
   "source": [
    "# 그레디언트 부스팅 모델 생성\n",
    "# 사용하는 클래스(모델 : GradientBoostingClassifier\n",
    "    # 객체생성시 seed값만 부여\n",
    "    # 교차 검증시 train, test 결과값 출력\n",
    "from sklearn.ensemble import GradientBoostingClassifier\n",
    "gb = GradientBoostingClassifier(random_state=42)\n",
    "\n",
    "scores = cross_validate(gb, train_input, train_target,\n",
    "                        return_train_score= True, n_jobs=-1)\n",
    "\n",
    "print('<그레디언트>   훈련데이터 정확도 :', round(scores['train_score'].mean(),4))\n",
    "print('<그레디언트> 테스트데이터 정확도 :', round(scores['test_score'].mean(),4))"
   ]
  },
  {
   "cell_type": "code",
   "execution_count": 13,
   "id": "12a4d505-d1a8-435d-b37c-e43683a741e3",
   "metadata": {},
   "outputs": [
    {
     "name": "stdout",
     "output_type": "stream",
     "text": [
      "[alcohol, sugar, pH]\n",
      "[0.12517641 0.73300095 0.14182264]\n"
     ]
    }
   ],
   "source": [
    "gb.fit(train_input, train_target)\n",
    "print('[alcohol, sugar, pH]')\n",
    "print(gb.feature_importances_)"
   ]
  },
  {
   "cell_type": "code",
   "execution_count": 14,
   "id": "6fafaf0b-5b8e-4716-9fe7-0cd6c1a981d7",
   "metadata": {},
   "outputs": [
    {
     "data": {
      "text/plain": [
       "0.8578461538461538"
      ]
     },
     "execution_count": 14,
     "metadata": {},
     "output_type": "execute_result"
    }
   ],
   "source": [
    "gb.score(test_input, test_target)"
   ]
  },
  {
   "cell_type": "markdown",
   "id": "9d4de18e-a78b-4e32-b667-e876cffd4b4a",
   "metadata": {},
   "source": [
    "## 학습률 적용하기"
   ]
  },
  {
   "cell_type": "code",
   "execution_count": 15,
   "id": "b7ab879f-221a-4997-b483-6119c3afe09d",
   "metadata": {},
   "outputs": [
    {
     "name": "stdout",
     "output_type": "stream",
     "text": [
      "<그레디언트>   훈련데이터 정확도 : 0.8895\n",
      "<그레디언트> 테스트데이터 정확도 : 0.8715\n"
     ]
    }
   ],
   "source": [
    "# 학습률이 커지면 트리 보정을 강하게 하기 때문에\n",
    "# 복잡한 모델을 만들어서 일반화 성능을 떨어뜨리게 된다\n",
    "# 학습률 : learning_rate = 0.1(기본값)\n",
    "from sklearn.ensemble import GradientBoostingClassifier\n",
    "gb = GradientBoostingClassifier(n_estimators= 100,\n",
    "                                learning_rate=0.1,\n",
    "                                random_state=42)\n",
    "\n",
    "scores = cross_validate(gb, train_input, train_target,\n",
    "                        return_train_score= True, n_jobs=-1)\n",
    "\n",
    "print('<그레디언트>   훈련데이터 정확도 :', round(scores['train_score'].mean(),4))\n",
    "print('<그레디언트> 테스트데이터 정확도 :', round(scores['test_score'].mean(),4))"
   ]
  },
  {
   "cell_type": "markdown",
   "id": "f7053445-3993-4977-b7e9-d1ed36bb8674",
   "metadata": {},
   "source": [
    "## 히스토그램 기반 그레디언트 부스팅(HistGradientBoostingClassifier) \n",
    "- 사용하는 클래스(모델) : HistGradientBoostingClassifier"
   ]
  },
  {
   "cell_type": "code",
   "execution_count": 16,
   "id": "0d89e91f-bd77-4f84-ac09-2f6a367601a7",
   "metadata": {},
   "outputs": [
    {
     "name": "stdout",
     "output_type": "stream",
     "text": [
      "<히스토그램 그레디언트>   훈련데이터 정확도 : 0.938\n",
      "<히스토그램 그레디언트> 테스트데이터 정확도 : 0.8805\n"
     ]
    }
   ],
   "source": [
    "from sklearn.ensemble import HistGradientBoostingClassifier\n",
    "hgb = HistGradientBoostingClassifier(random_state=42)\n",
    "\n",
    "scores = cross_validate(hgb, train_input, train_target,\n",
    "                        return_train_score= True, n_jobs=-1)\n",
    "\n",
    "print('<히스토그램 그레디언트>   훈련데이터 정확도 :', round(scores['train_score'].mean(),4))\n",
    "print('<히스토그램 그레디언트> 테스트데이터 정확도 :', round(scores['test_score'].mean(),4))"
   ]
  },
  {
   "cell_type": "code",
   "execution_count": 17,
   "id": "5a762052-12d0-48b5-89fe-9628cc91248b",
   "metadata": {},
   "outputs": [
    {
     "data": {
      "text/plain": [
       "0.8584615384615385"
      ]
     },
     "execution_count": 17,
     "metadata": {},
     "output_type": "execute_result"
    }
   ],
   "source": [
    "hgb.fit(train_input, train_target)\n",
    "hgb.score(test_input, test_target)"
   ]
  },
  {
   "cell_type": "markdown",
   "id": "dd33dfe3-6947-437f-9187-09f5f4fd6518",
   "metadata": {},
   "source": [
    "## sklearn 이외의 히스토그램 기반 그레디언트 부스팅"
   ]
  },
  {
   "cell_type": "markdown",
   "id": "a5936a0e-1ce2-4f2b-bfb3-350106c902c0",
   "metadata": {},
   "source": [
    "## XGBoost"
   ]
  },
  {
   "cell_type": "code",
   "execution_count": 18,
   "id": "04b8e758-a815-4f34-99a0-f9a8554ba752",
   "metadata": {},
   "outputs": [
    {
     "name": "stdout",
     "output_type": "stream",
     "text": [
      "<XGBoost>   훈련데이터 정확도 : 0.9614\n",
      "<XGBoost> 테스트데이터 정확도 : 0.8834\n"
     ]
    }
   ],
   "source": [
    "from xgboost import XGBClassifier\n",
    "xgb = XGBClassifier(tree_method ='hist', random_state=42)\n",
    "\n",
    "scores = cross_validate(xgb, train_input, train_target,\n",
    "                        return_train_score= True, n_jobs=-1)\n",
    "\n",
    "print('<XGBoost>   훈련데이터 정확도 :', round(scores['train_score'].mean(),4))\n",
    "print('<XGBoost> 테스트데이터 정확도 :', round(scores['test_score'].mean(),4))"
   ]
  },
  {
   "cell_type": "markdown",
   "id": "f0921b37-884c-4f02-bbd7-4b994527d022",
   "metadata": {},
   "source": [
    "## LightGBM"
   ]
  },
  {
   "cell_type": "code",
   "execution_count": 20,
   "id": "0aef3312-1bfe-4696-b048-623dd9de9c40",
   "metadata": {},
   "outputs": [
    {
     "name": "stdout",
     "output_type": "stream",
     "text": [
      "<LightGBM>   훈련데이터 정확도 : 0.9413\n",
      "<LightGBM> 테스트데이터 정확도 : 0.8846\n"
     ]
    }
   ],
   "source": [
    "# 마이크로소프트에서 만든 히스토그램 기반 그레디언트 부스트 패키지\n",
    "# - 훈련속도가 매우 빠름\n",
    "# - 최신 기술을 많이 적용하고 있어 인기가 증가하는 추세\n",
    "from lightgbm import LGBMClassifier\n",
    "lgb = LGBMClassifier(random_state = 42)\n",
    "\n",
    "scores = cross_validate(lgb, train_input, train_target,\n",
    "                        return_train_score=True, n_jobs=-1)\n",
    "\n",
    "print('<LightGBM>   훈련데이터 정확도 :', round(scores['train_score'].mean(),4))\n",
    "print('<LightGBM> 테스트데이터 정확도 :', round(scores['test_score'].mean(),4))"
   ]
  },
  {
   "cell_type": "code",
   "execution_count": null,
   "id": "0ed2cff4-4b77-4649-84bf-c7ac7030cf4c",
   "metadata": {},
   "outputs": [],
   "source": []
  },
  {
   "cell_type": "code",
   "execution_count": null,
   "id": "73c5e911-3467-41e3-afce-e1cef7307a02",
   "metadata": {},
   "outputs": [],
   "source": []
  },
  {
   "cell_type": "code",
   "execution_count": null,
   "id": "e5ab3f89-48fc-45fb-bf24-b965a748861e",
   "metadata": {},
   "outputs": [],
   "source": []
  },
  {
   "cell_type": "code",
   "execution_count": null,
   "id": "7b53f42c-8048-4c02-9345-8c9ec401044c",
   "metadata": {},
   "outputs": [],
   "source": []
  },
  {
   "cell_type": "code",
   "execution_count": null,
   "id": "f9873358-39ea-40d2-9a9a-c26c846003f5",
   "metadata": {},
   "outputs": [],
   "source": []
  },
  {
   "cell_type": "code",
   "execution_count": null,
   "id": "857e12ab-8e7e-47b0-9fd0-bae203cb28bc",
   "metadata": {},
   "outputs": [],
   "source": []
  },
  {
   "cell_type": "code",
   "execution_count": null,
   "id": "a48c0cab-a796-445f-8533-9f6c5be95cab",
   "metadata": {},
   "outputs": [],
   "source": []
  },
  {
   "cell_type": "code",
   "execution_count": null,
   "id": "45a1e285-897d-414a-b719-5bfe53d6fdd3",
   "metadata": {},
   "outputs": [],
   "source": []
  },
  {
   "cell_type": "code",
   "execution_count": null,
   "id": "e1c63322-0ca2-4b1d-a6a8-dedf1620e78f",
   "metadata": {},
   "outputs": [],
   "source": []
  }
 ],
 "metadata": {
  "kernelspec": {
   "display_name": "ml_kernel",
   "language": "python",
   "name": "ml"
  },
  "language_info": {
   "codemirror_mode": {
    "name": "ipython",
    "version": 3
   },
   "file_extension": ".py",
   "mimetype": "text/x-python",
   "name": "python",
   "nbconvert_exporter": "python",
   "pygments_lexer": "ipython3",
   "version": "3.9.12"
  }
 },
 "nbformat": 4,
 "nbformat_minor": 5
}
