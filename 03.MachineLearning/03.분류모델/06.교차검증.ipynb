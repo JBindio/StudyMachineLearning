{
 "cells": [
  {
   "cell_type": "code",
   "execution_count": 1,
   "id": "5479a850-823d-401f-91bd-d1fffee68b3a",
   "metadata": {},
   "outputs": [],
   "source": [
    "import pandas as pd\n",
    "import numpy as np\n",
    "import matplotlib\n",
    "import matplotlib.pyplot as plt\n",
    "from matplotlib import font_manager, rc\n",
    "import seaborn as sns\n",
    "import platform\n",
    "\n",
    "# seaborn 설정 리셋\n",
    "sns.reset_defaults()\n",
    "\n",
    "# 폰트설정\n",
    "if platform.system() == 'Windows' :\n",
    "    path = 'c:/Windows/Fonts/malgun.ttf'\n",
    "    font_name = font_manager.FontProperties(fname=path).get_name()\n",
    "    rc('font', family=font_name)\n",
    "elif platform.system() == 'Darwin':\n",
    "    rc('font', family='AppleGothic')\n",
    "else :\n",
    "    print('Check your OS System')\n",
    "    \n",
    "# 그래프에 마이너스 표시\n",
    "matplotlib.rcParams['axes.unicode_minus'] = False"
   ]
  },
  {
   "cell_type": "code",
   "execution_count": 4,
   "id": "623a36b4-bdea-4eb3-b26b-e10d091828a7",
   "metadata": {},
   "outputs": [],
   "source": [
    "wine = pd.read_csv('./data/08_wine.csv')"
   ]
  },
  {
   "cell_type": "code",
   "execution_count": 5,
   "id": "b4c4c180-6dab-4e84-854e-4a772e7c7e6b",
   "metadata": {},
   "outputs": [
    {
     "data": {
      "text/html": [
       "<div>\n",
       "<style scoped>\n",
       "    .dataframe tbody tr th:only-of-type {\n",
       "        vertical-align: middle;\n",
       "    }\n",
       "\n",
       "    .dataframe tbody tr th {\n",
       "        vertical-align: top;\n",
       "    }\n",
       "\n",
       "    .dataframe thead th {\n",
       "        text-align: right;\n",
       "    }\n",
       "</style>\n",
       "<table border=\"1\" class=\"dataframe\">\n",
       "  <thead>\n",
       "    <tr style=\"text-align: right;\">\n",
       "      <th></th>\n",
       "      <th>alcohol</th>\n",
       "      <th>sugar</th>\n",
       "      <th>pH</th>\n",
       "      <th>class</th>\n",
       "    </tr>\n",
       "  </thead>\n",
       "  <tbody>\n",
       "    <tr>\n",
       "      <th>0</th>\n",
       "      <td>9.4</td>\n",
       "      <td>1.9</td>\n",
       "      <td>3.51</td>\n",
       "      <td>0.0</td>\n",
       "    </tr>\n",
       "    <tr>\n",
       "      <th>1</th>\n",
       "      <td>9.8</td>\n",
       "      <td>2.6</td>\n",
       "      <td>3.20</td>\n",
       "      <td>0.0</td>\n",
       "    </tr>\n",
       "    <tr>\n",
       "      <th>2</th>\n",
       "      <td>9.8</td>\n",
       "      <td>2.3</td>\n",
       "      <td>3.26</td>\n",
       "      <td>0.0</td>\n",
       "    </tr>\n",
       "    <tr>\n",
       "      <th>3</th>\n",
       "      <td>9.8</td>\n",
       "      <td>1.9</td>\n",
       "      <td>3.16</td>\n",
       "      <td>0.0</td>\n",
       "    </tr>\n",
       "    <tr>\n",
       "      <th>4</th>\n",
       "      <td>9.4</td>\n",
       "      <td>1.9</td>\n",
       "      <td>3.51</td>\n",
       "      <td>0.0</td>\n",
       "    </tr>\n",
       "    <tr>\n",
       "      <th>...</th>\n",
       "      <td>...</td>\n",
       "      <td>...</td>\n",
       "      <td>...</td>\n",
       "      <td>...</td>\n",
       "    </tr>\n",
       "    <tr>\n",
       "      <th>6492</th>\n",
       "      <td>11.2</td>\n",
       "      <td>1.6</td>\n",
       "      <td>3.27</td>\n",
       "      <td>1.0</td>\n",
       "    </tr>\n",
       "    <tr>\n",
       "      <th>6493</th>\n",
       "      <td>9.6</td>\n",
       "      <td>8.0</td>\n",
       "      <td>3.15</td>\n",
       "      <td>1.0</td>\n",
       "    </tr>\n",
       "    <tr>\n",
       "      <th>6494</th>\n",
       "      <td>9.4</td>\n",
       "      <td>1.2</td>\n",
       "      <td>2.99</td>\n",
       "      <td>1.0</td>\n",
       "    </tr>\n",
       "    <tr>\n",
       "      <th>6495</th>\n",
       "      <td>12.8</td>\n",
       "      <td>1.1</td>\n",
       "      <td>3.34</td>\n",
       "      <td>1.0</td>\n",
       "    </tr>\n",
       "    <tr>\n",
       "      <th>6496</th>\n",
       "      <td>11.8</td>\n",
       "      <td>0.8</td>\n",
       "      <td>3.26</td>\n",
       "      <td>1.0</td>\n",
       "    </tr>\n",
       "  </tbody>\n",
       "</table>\n",
       "<p>6497 rows × 4 columns</p>\n",
       "</div>"
      ],
      "text/plain": [
       "      alcohol  sugar    pH  class\n",
       "0         9.4    1.9  3.51    0.0\n",
       "1         9.8    2.6  3.20    0.0\n",
       "2         9.8    2.3  3.26    0.0\n",
       "3         9.8    1.9  3.16    0.0\n",
       "4         9.4    1.9  3.51    0.0\n",
       "...       ...    ...   ...    ...\n",
       "6492     11.2    1.6  3.27    1.0\n",
       "6493      9.6    8.0  3.15    1.0\n",
       "6494      9.4    1.2  2.99    1.0\n",
       "6495     12.8    1.1  3.34    1.0\n",
       "6496     11.8    0.8  3.26    1.0\n",
       "\n",
       "[6497 rows x 4 columns]"
      ]
     },
     "execution_count": 5,
     "metadata": {},
     "output_type": "execute_result"
    }
   ],
   "source": [
    "wine"
   ]
  },
  {
   "cell_type": "code",
   "execution_count": 11,
   "id": "7510a93b-2ca5-4c51-b4bd-76e65b326d6b",
   "metadata": {},
   "outputs": [],
   "source": [
    "# 독립변수, 종속변수 분리\n",
    "data = wine[['alcohol','sugar','pH']].to_numpy()\n",
    "target = wine['class'].to_numpy()"
   ]
  },
  {
   "cell_type": "code",
   "execution_count": 12,
   "id": "87a58429-06d7-4de2-a8f8-7d5e94915dd2",
   "metadata": {},
   "outputs": [
    {
     "name": "stdout",
     "output_type": "stream",
     "text": [
      "(6497, 3) (6497,)\n"
     ]
    }
   ],
   "source": [
    "print(data.shape, target.shape)"
   ]
  },
  {
   "cell_type": "markdown",
   "id": "e499c1e6-15ae-4c76-8888-5a9214e7fcdd",
   "metadata": {},
   "source": [
    "## 교차검증 - train_test_split() 방식"
   ]
  },
  {
   "cell_type": "code",
   "execution_count": null,
   "id": "5fd7335b-a2ac-4713-afc0-42d55fd73bfb",
   "metadata": {},
   "outputs": [],
   "source": [
    "# 훈련데이터 : 검증데이터 : 테스트데이터로 분리\n",
    "    # 6 : 2 : 2 비율\n",
    "    # 일반적으로 많이 사용하는 방식"
   ]
  },
  {
   "cell_type": "code",
   "execution_count": 15,
   "id": "94acbbe1-a76f-4294-86b5-4df9fb1fd3b2",
   "metadata": {},
   "outputs": [
    {
     "name": "stdout",
     "output_type": "stream",
     "text": [
      "(5197, 3) (5197,)\n",
      "(1300, 3) (1300,)\n"
     ]
    }
   ],
   "source": [
    "from sklearn.model_selection import train_test_split\n",
    "train_input, test_input, train_target, test_target = \\\n",
    "    train_test_split(data, target, test_size= 0.2, random_state=42)\n",
    "\n",
    "print(train_input.shape, train_target.shape)\n",
    "print(test_input.shape, test_target.shape)"
   ]
  },
  {
   "cell_type": "code",
   "execution_count": 26,
   "id": "81984595-966e-4435-b852-d3f0eb7a6b56",
   "metadata": {},
   "outputs": [
    {
     "name": "stdout",
     "output_type": "stream",
     "text": [
      "(4157, 3) (4157,)\n",
      "(1040, 3) (1040,)\n"
     ]
    }
   ],
   "source": [
    "# 훈련데이터 > 검증데이터 생성\n",
    "from sklearn.model_selection import train_test_split\n",
    "\n",
    "sub_input, val_input, sub_target, val_target = \\\n",
    "    train_test_split(train_input, train_target, test_size= 0.2, random_state=42)\n",
    "\n",
    "print(sub_input.shape, sub_target.shape)\n",
    "print(val_input.shape, val_target.shape)"
   ]
  },
  {
   "cell_type": "code",
   "execution_count": 27,
   "id": "1f623748-bc4d-4680-a103-db38498d18a5",
   "metadata": {},
   "outputs": [
    {
     "name": "stdout",
     "output_type": "stream",
     "text": [
      "0.9971\n",
      "0.8644\n"
     ]
    }
   ],
   "source": [
    "# 결정트리를 통한 훈련 및 정확도 확인\n",
    "from sklearn.tree import DecisionTreeClassifier\n",
    "\n",
    "dt = DecisionTreeClassifier(random_state=42)\n",
    "dt.fit(sub_input, sub_target)\n",
    "\n",
    "print(round(dt.score(sub_input, sub_target),4))\n",
    "print(round(dt.score(val_input, val_target),4))"
   ]
  },
  {
   "cell_type": "code",
   "execution_count": 28,
   "id": "aa5085d7-ea9c-4f29-85ea-4e0df8b59cc4",
   "metadata": {},
   "outputs": [
    {
     "name": "stdout",
     "output_type": "stream",
     "text": [
      "0.8569\n"
     ]
    }
   ],
   "source": [
    "print(round(dt.score(test_input, test_target),4))"
   ]
  },
  {
   "cell_type": "markdown",
   "id": "31500554-906b-494a-be8e-84a95669b524",
   "metadata": {},
   "source": [
    "## 교차검증"
   ]
  },
  {
   "cell_type": "code",
   "execution_count": 29,
   "id": "0eaf9470-8e1e-475d-b37d-1af5b04870fd",
   "metadata": {},
   "outputs": [],
   "source": [
    "# 훈련데이터와 검증데이터를 구분할 필요없이 내부적으로 구분해서 사용\n",
    "    # - 내부적으로 구분에 사용하는 데이터는 훈련(train) 데이터\n",
    "    # - 데이터 준비는 기존처럼 훈련과 테스트 데이터만 준비\n",
    "    # - 검증데이터는 별도로 준비하지않아도 됨"
   ]
  },
  {
   "cell_type": "code",
   "execution_count": 30,
   "id": "f468f8a8-4ca2-4a98-bbfe-cfd616831b69",
   "metadata": {},
   "outputs": [],
   "source": [
    "# 교차검증에 사용되는 주요 키워드\n",
    "    # - 3-폴드(fold) 교차검증\n",
    "        # - 훈련데이터를 세부분으로 나눠서 데이터를 분리하고 수행\n",
    "        # - 구간마다 훈련데이터를 검증데이터로 바꿔가면서 수행\n",
    "        # - 명칭 : k-폴드 교차검증 or k-겹 교차검증\n",
    "\n",
    "    # - 5-폴드 교차검증 또는 10-폴드 교차검증 사용\n",
    "        # - 훈련데이터로 80%이상을 모두 모델 훈련에 사용가능"
   ]
  },
  {
   "cell_type": "code",
   "execution_count": 31,
   "id": "6a795e8e-e181-4b6f-8a8b-47d2e697635f",
   "metadata": {},
   "outputs": [
    {
     "name": "stdout",
     "output_type": "stream",
     "text": [
      "(5197, 3) (5197,)\n",
      "(1300, 3) (1300,)\n"
     ]
    }
   ],
   "source": [
    "# 사용하는 데이터 확인\n",
    "print(train_input.shape, train_target.shape)\n",
    "print(test_input.shape, test_target.shape)"
   ]
  },
  {
   "cell_type": "markdown",
   "id": "6572d8af-7486-4824-b5a0-de79a7066439",
   "metadata": {},
   "source": [
    "## 교차검증 모듈 : cross_validate"
   ]
  },
  {
   "cell_type": "code",
   "execution_count": 47,
   "id": "18310496-b325-419a-ab46-26c43ef31c17",
   "metadata": {},
   "outputs": [
    {
     "name": "stdout",
     "output_type": "stream",
     "text": [
      "최종 평가점수 : 0.855\n"
     ]
    }
   ],
   "source": [
    "from sklearn.model_selection import cross_validate\n",
    "\n",
    "# 첫번쨰 값 : dt = 결정트리 훈련모델(다른 모델을 사용한 경우 해당모델)\n",
    "# 두번째 값 : 훈련데이터(fold 에서 훈련데이터 분리시 사용)\n",
    "# 세번째 값 : 검증데이터(fold 에서 검증데이터 분리시 사용)\n",
    "scores = cross_validate(dt, train_input, train_target)\n",
    "# print(scores)\n",
    "\n",
    "# test_score의 평균값 = 최종 훈련모델의 평가점수(정확도)\n",
    "print('최종 평가점수 :',round(scores['test_score'].mean(),3))"
   ]
  },
  {
   "cell_type": "markdown",
   "id": "d93540ac-ac9d-4568-8c89-4eab43e01831",
   "metadata": {},
   "source": [
    "## 분할기 : StratifiedKFold"
   ]
  },
  {
   "cell_type": "code",
   "execution_count": 64,
   "id": "db1f4c2b-1409-4fc2-a48b-f4aff58e2af3",
   "metadata": {},
   "outputs": [
    {
     "name": "stdout",
     "output_type": "stream",
     "text": [
      "{'fit_time': array([0.00897717, 0.00698137, 0.00797796, 0.0067749 , 0.00698161,\n",
      "       0.00695992, 0.00698113, 0.00600457, 0.00596166, 0.00698137,\n",
      "       0.00601864, 0.00601602, 0.        , 0.        , 0.01773119,\n",
      "       0.        , 0.        , 0.0177331 , 0.        , 0.01469016,\n",
      "       0.00708246, 0.00201178, 0.0110898 , 0.        , 0.00903177,\n",
      "       0.00919676, 0.00099802, 0.00995541, 0.00706506, 0.00205755,\n",
      "       0.01010585, 0.        , 0.00698209, 0.00598311, 0.00616455,\n",
      "       0.00598407, 0.00498676, 0.00586557, 0.00404334, 0.00710607,\n",
      "       0.        , 0.01010704, 0.00808287, 0.00154638, 0.00960684,\n",
      "       0.        , 0.01107669, 0.00710034, 0.0009675 , 0.0091536 ]), 'score_time': array([0.        , 0.        , 0.0009985 , 0.00096941, 0.00133204,\n",
      "       0.        , 0.0009985 , 0.00099874, 0.        , 0.00099778,\n",
      "       0.00052977, 0.        , 0.        , 0.        , 0.        ,\n",
      "       0.        , 0.        , 0.        , 0.        , 0.        ,\n",
      "       0.        , 0.        , 0.        , 0.        , 0.        ,\n",
      "       0.00099802, 0.        , 0.        , 0.        , 0.        ,\n",
      "       0.        , 0.        , 0.        , 0.        , 0.00081682,\n",
      "       0.        , 0.00099707, 0.        , 0.        , 0.00208378,\n",
      "       0.        , 0.        , 0.        , 0.        , 0.        ,\n",
      "       0.        , 0.        , 0.        , 0.        , 0.        ]), 'test_score': array([0.86538462, 0.79807692, 0.90384615, 0.84615385, 0.83653846,\n",
      "       0.88461538, 0.86538462, 0.91346154, 0.84615385, 0.89423077,\n",
      "       0.82692308, 0.88461538, 0.875     , 0.85576923, 0.88461538,\n",
      "       0.89423077, 0.79807692, 0.88461538, 0.90384615, 0.85576923,\n",
      "       0.83653846, 0.875     , 0.80769231, 0.79807692, 0.84615385,\n",
      "       0.90384615, 0.88461538, 0.85576923, 0.88461538, 0.88461538,\n",
      "       0.83653846, 0.86538462, 0.86538462, 0.85576923, 0.86538462,\n",
      "       0.86538462, 0.82692308, 0.91346154, 0.90384615, 0.875     ,\n",
      "       0.79807692, 0.86538462, 0.80769231, 0.82692308, 0.92307692,\n",
      "       0.82692308, 0.92307692, 0.86407767, 0.86407767, 0.88349515])}\n",
      "\n",
      "최종 평가점수 : 0.863\n"
     ]
    }
   ],
   "source": [
    "# 훈련데이터를 셔플하거나 폴드의 갯수를 지정할 수 있는 클래스\n",
    "from sklearn.model_selection import StratifiedKFold\n",
    "\n",
    "# 교차검증 함수 그대로 사용\n",
    "# cv : 분할기 속성\n",
    "    # 분할기 : StratifiedKFold\n",
    "    # 디폴트 : fold 5, 셔플하지않음\n",
    "    # n_splits = fold 갯수\n",
    "    # shuffle = True : 셔플하기\n",
    "splitter = StratifiedKFold(n_splits=50, shuffle=True, random_state=42)\n",
    "\n",
    "scores = cross_validate(dt, train_input, train_target,\n",
    "                        cv = splitter)\n",
    "print(scores)\n",
    "print()\n",
    "print('최종 평가점수 :',round(scores['test_score'].mean(),3))"
   ]
  },
  {
   "cell_type": "markdown",
   "id": "d3e4eda3-ed6b-4b3f-be79-2c9c5c8f5679",
   "metadata": {},
   "source": [
    "## 하이퍼파라미터 튜닝(AutoML)\n",
    "- 교차검증, 하이퍼파라미터 찾기, 모델훈련을 한번에 자동으로 수행\n",
    "- 사용패키지 : sklearn.model_selection\n",
    "- 사용클래스 : GridSearchCV (그리드서치)"
   ]
  },
  {
   "cell_type": "code",
   "execution_count": 78,
   "id": "adada670-c491-4fbc-a998-ec1f0d36cea3",
   "metadata": {
    "tags": []
   },
   "outputs": [
    {
     "data": {
      "text/plain": [
       "GridSearchCV(estimator=DecisionTreeClassifier(random_state=42), n_jobs=-1,\n",
       "             param_grid={'max_depth': range(5, 20)})"
      ]
     },
     "execution_count": 78,
     "metadata": {},
     "output_type": "execute_result"
    }
   ],
   "source": [
    "# 결정트리의 max_depth(트리의 깊이)값 찾기\n",
    "# 그리드서치(GridSearchCV) 사용\n",
    "from sklearn.model_selection import GridSearchCV\n",
    "\n",
    "# 찾을 하이퍼파라미터값(딕셔너리)\n",
    "params = {'max_depth' : range(5, 20, 1)}\n",
    "\n",
    "# 객체(모델)생성\n",
    "    # 첫번째 값 : 훈련모델\n",
    "    # 두번째 값 : 하이퍼파라미터 값(딕셔너리)\n",
    "    # 세번째 값 : CPU 코어 갯수(-1은 모든 코어사용, 병렬처리)\n",
    "gs = GridSearchCV(DecisionTreeClassifier(random_state=42),\n",
    "                  params, n_jobs= -1)\n",
    "\n",
    "# 훈련시키기\n",
    "gs.fit(train_input, train_target)"
   ]
  },
  {
   "cell_type": "code",
   "execution_count": 80,
   "id": "4c0a9f99-6466-4aca-b73d-fa944424caeb",
   "metadata": {},
   "outputs": [
    {
     "name": "stdout",
     "output_type": "stream",
     "text": [
      "DecisionTreeClassifier(max_depth=8, random_state=42)\n"
     ]
    }
   ],
   "source": [
    "# 가장 좋은 하이퍼파라미터 값\n",
    "print(gs.best_estimator_)"
   ]
  },
  {
   "cell_type": "code",
   "execution_count": 88,
   "id": "c6466476-4e21-458a-9246-6a2e53b902bf",
   "metadata": {},
   "outputs": [
    {
     "name": "stdout",
     "output_type": "stream",
     "text": [
      "0.9003271117952665\n"
     ]
    }
   ],
   "source": [
    "dt = gs.best_estimator_\n",
    "print(dt.score(train_input,train_target))"
   ]
  },
  {
   "cell_type": "code",
   "execution_count": 90,
   "id": "87020633-8cdc-40a8-998a-b6e9736851a9",
   "metadata": {},
   "outputs": [
    {
     "name": "stdout",
     "output_type": "stream",
     "text": [
      "{'max_depth': 8}\n"
     ]
    }
   ],
   "source": [
    "print(gs.best_params_)"
   ]
  },
  {
   "cell_type": "code",
   "execution_count": 93,
   "id": "ddc3174f-77e4-4812-b308-572e9f13ace3",
   "metadata": {},
   "outputs": [
    {
     "name": "stdout",
     "output_type": "stream",
     "text": [
      "dict_keys(['mean_fit_time', 'std_fit_time', 'mean_score_time', 'std_score_time', 'param_max_depth', 'params', 'split0_test_score', 'split1_test_score', 'split2_test_score', 'split3_test_score', 'split4_test_score', 'mean_test_score', 'std_test_score', 'rank_test_score'])\n"
     ]
    }
   ],
   "source": [
    "print(gs.cv_results_.keys())"
   ]
  },
  {
   "cell_type": "code",
   "execution_count": 94,
   "id": "086067e4-2280-4ef2-aed0-0f046e100a55",
   "metadata": {},
   "outputs": [
    {
     "name": "stdout",
     "output_type": "stream",
     "text": [
      "[{'max_depth': 5}, {'max_depth': 6}, {'max_depth': 7}, {'max_depth': 8}, {'max_depth': 9}, {'max_depth': 10}, {'max_depth': 11}, {'max_depth': 12}, {'max_depth': 13}, {'max_depth': 14}, {'max_depth': 15}, {'max_depth': 16}, {'max_depth': 17}, {'max_depth': 18}, {'max_depth': 19}]\n"
     ]
    }
   ],
   "source": [
    "# params 값 확인하기\n",
    "print(gs.cv_results_['params'])"
   ]
  },
  {
   "cell_type": "code",
   "execution_count": 96,
   "id": "dabd77e8-2a06-435b-890a-a287ee9d251f",
   "metadata": {},
   "outputs": [
    {
     "name": "stdout",
     "output_type": "stream",
     "text": [
      "[0.84711538 0.84807692 0.85769231 0.85288462 0.85769231 0.84519231\n",
      " 0.85865385 0.86730769 0.86538462 0.86826923 0.86730769 0.86442308\n",
      " 0.86346154 0.86634615 0.87211538]\n"
     ]
    }
   ],
   "source": [
    "# 0번째 fold 값 확인하기\n",
    "print(gs.cv_results_['split0_test_score'])"
   ]
  },
  {
   "cell_type": "code",
   "execution_count": 99,
   "id": "9a92adcb-8fac-4970-b2c8-b19128b1566d",
   "metadata": {},
   "outputs": [
    {
     "name": "stdout",
     "output_type": "stream",
     "text": [
      "0.8585\n"
     ]
    }
   ],
   "source": [
    "# 훈련모델 최종 검증\n",
    "print(round(dt.score(test_input, test_target),4))"
   ]
  },
  {
   "cell_type": "code",
   "execution_count": 108,
   "id": "1f0d2724-3bd6-446c-a05a-e5843c2d3cbd",
   "metadata": {},
   "outputs": [],
   "source": [
    "params = gs.cv_results_['params']\n",
    "split_0 = gs.cv_results_['split0_test_score']\n",
    "split_1 = gs.cv_results_['split1_test_score']\n",
    "split_2 = gs.cv_results_['split2_test_score']\n",
    "split_3 = gs.cv_results_['split3_test_score']\n",
    "split_4 = gs.cv_results_['split4_test_score']"
   ]
  },
  {
   "cell_type": "code",
   "execution_count": 120,
   "id": "5c18ca9b-3951-4012-8878-f4f84862bd30",
   "metadata": {},
   "outputs": [],
   "source": [
    "gs_data = [[par, spl_0, spl_1, spl_2, spl_3, spl_4] \n",
    "           for par, spl_0, spl_1, spl_2, spl_3, spl_4 \n",
    "           in zip(params,split_0,split_1,split_2,split_3,split_4)]"
   ]
  },
  {
   "cell_type": "code",
   "execution_count": 121,
   "id": "4e3ac47d-03fe-43b0-b3c4-70fe18172029",
   "metadata": {},
   "outputs": [],
   "source": [
    "gs_df = pd.DataFrame(gs_data, columns=['params','split_0','split_1','split_2','split_3','split_4'])"
   ]
  },
  {
   "cell_type": "code",
   "execution_count": 122,
   "id": "ca06719b-e4d1-49d3-8b87-bce5a9979811",
   "metadata": {},
   "outputs": [
    {
     "data": {
      "text/html": [
       "<div>\n",
       "<style scoped>\n",
       "    .dataframe tbody tr th:only-of-type {\n",
       "        vertical-align: middle;\n",
       "    }\n",
       "\n",
       "    .dataframe tbody tr th {\n",
       "        vertical-align: top;\n",
       "    }\n",
       "\n",
       "    .dataframe thead th {\n",
       "        text-align: right;\n",
       "    }\n",
       "</style>\n",
       "<table border=\"1\" class=\"dataframe\">\n",
       "  <thead>\n",
       "    <tr style=\"text-align: right;\">\n",
       "      <th></th>\n",
       "      <th>params</th>\n",
       "      <th>split_0</th>\n",
       "      <th>split_1</th>\n",
       "      <th>split_2</th>\n",
       "      <th>split_3</th>\n",
       "      <th>split_4</th>\n",
       "    </tr>\n",
       "  </thead>\n",
       "  <tbody>\n",
       "    <tr>\n",
       "      <th>0</th>\n",
       "      <td>{'max_depth': 5}</td>\n",
       "      <td>0.847115</td>\n",
       "      <td>0.863462</td>\n",
       "      <td>0.880654</td>\n",
       "      <td>0.836381</td>\n",
       "      <td>0.861405</td>\n",
       "    </tr>\n",
       "    <tr>\n",
       "      <th>1</th>\n",
       "      <td>{'max_depth': 6}</td>\n",
       "      <td>0.848077</td>\n",
       "      <td>0.854808</td>\n",
       "      <td>0.873917</td>\n",
       "      <td>0.843118</td>\n",
       "      <td>0.859480</td>\n",
       "    </tr>\n",
       "    <tr>\n",
       "      <th>2</th>\n",
       "      <td>{'max_depth': 7}</td>\n",
       "      <td>0.857692</td>\n",
       "      <td>0.851923</td>\n",
       "      <td>0.875842</td>\n",
       "      <td>0.843118</td>\n",
       "      <td>0.847931</td>\n",
       "    </tr>\n",
       "    <tr>\n",
       "      <th>3</th>\n",
       "      <td>{'max_depth': 8}</td>\n",
       "      <td>0.852885</td>\n",
       "      <td>0.854808</td>\n",
       "      <td>0.878730</td>\n",
       "      <td>0.846968</td>\n",
       "      <td>0.865255</td>\n",
       "    </tr>\n",
       "    <tr>\n",
       "      <th>4</th>\n",
       "      <td>{'max_depth': 9}</td>\n",
       "      <td>0.857692</td>\n",
       "      <td>0.859615</td>\n",
       "      <td>0.871030</td>\n",
       "      <td>0.842156</td>\n",
       "      <td>0.854668</td>\n",
       "    </tr>\n",
       "    <tr>\n",
       "      <th>5</th>\n",
       "      <td>{'max_depth': 10}</td>\n",
       "      <td>0.845192</td>\n",
       "      <td>0.847115</td>\n",
       "      <td>0.876805</td>\n",
       "      <td>0.846968</td>\n",
       "      <td>0.852743</td>\n",
       "    </tr>\n",
       "    <tr>\n",
       "      <th>6</th>\n",
       "      <td>{'max_depth': 11}</td>\n",
       "      <td>0.858654</td>\n",
       "      <td>0.850962</td>\n",
       "      <td>0.880654</td>\n",
       "      <td>0.852743</td>\n",
       "      <td>0.848893</td>\n",
       "    </tr>\n",
       "    <tr>\n",
       "      <th>7</th>\n",
       "      <td>{'max_depth': 12}</td>\n",
       "      <td>0.867308</td>\n",
       "      <td>0.848077</td>\n",
       "      <td>0.882579</td>\n",
       "      <td>0.848893</td>\n",
       "      <td>0.848893</td>\n",
       "    </tr>\n",
       "    <tr>\n",
       "      <th>8</th>\n",
       "      <td>{'max_depth': 13}</td>\n",
       "      <td>0.865385</td>\n",
       "      <td>0.853846</td>\n",
       "      <td>0.873917</td>\n",
       "      <td>0.853705</td>\n",
       "      <td>0.839269</td>\n",
       "    </tr>\n",
       "    <tr>\n",
       "      <th>9</th>\n",
       "      <td>{'max_depth': 14}</td>\n",
       "      <td>0.868269</td>\n",
       "      <td>0.851923</td>\n",
       "      <td>0.870067</td>\n",
       "      <td>0.858518</td>\n",
       "      <td>0.841193</td>\n",
       "    </tr>\n",
       "    <tr>\n",
       "      <th>10</th>\n",
       "      <td>{'max_depth': 15}</td>\n",
       "      <td>0.867308</td>\n",
       "      <td>0.853846</td>\n",
       "      <td>0.868142</td>\n",
       "      <td>0.854668</td>\n",
       "      <td>0.837344</td>\n",
       "    </tr>\n",
       "    <tr>\n",
       "      <th>11</th>\n",
       "      <td>{'max_depth': 16}</td>\n",
       "      <td>0.864423</td>\n",
       "      <td>0.849038</td>\n",
       "      <td>0.876805</td>\n",
       "      <td>0.859480</td>\n",
       "      <td>0.838306</td>\n",
       "    </tr>\n",
       "    <tr>\n",
       "      <th>12</th>\n",
       "      <td>{'max_depth': 17}</td>\n",
       "      <td>0.863462</td>\n",
       "      <td>0.850000</td>\n",
       "      <td>0.871992</td>\n",
       "      <td>0.852743</td>\n",
       "      <td>0.839269</td>\n",
       "    </tr>\n",
       "    <tr>\n",
       "      <th>13</th>\n",
       "      <td>{'max_depth': 18}</td>\n",
       "      <td>0.866346</td>\n",
       "      <td>0.853846</td>\n",
       "      <td>0.873917</td>\n",
       "      <td>0.856593</td>\n",
       "      <td>0.838306</td>\n",
       "    </tr>\n",
       "    <tr>\n",
       "      <th>14</th>\n",
       "      <td>{'max_depth': 19}</td>\n",
       "      <td>0.872115</td>\n",
       "      <td>0.856731</td>\n",
       "      <td>0.878730</td>\n",
       "      <td>0.849856</td>\n",
       "      <td>0.837344</td>\n",
       "    </tr>\n",
       "  </tbody>\n",
       "</table>\n",
       "</div>"
      ],
      "text/plain": [
       "               params   split_0   split_1   split_2   split_3   split_4\n",
       "0    {'max_depth': 5}  0.847115  0.863462  0.880654  0.836381  0.861405\n",
       "1    {'max_depth': 6}  0.848077  0.854808  0.873917  0.843118  0.859480\n",
       "2    {'max_depth': 7}  0.857692  0.851923  0.875842  0.843118  0.847931\n",
       "3    {'max_depth': 8}  0.852885  0.854808  0.878730  0.846968  0.865255\n",
       "4    {'max_depth': 9}  0.857692  0.859615  0.871030  0.842156  0.854668\n",
       "5   {'max_depth': 10}  0.845192  0.847115  0.876805  0.846968  0.852743\n",
       "6   {'max_depth': 11}  0.858654  0.850962  0.880654  0.852743  0.848893\n",
       "7   {'max_depth': 12}  0.867308  0.848077  0.882579  0.848893  0.848893\n",
       "8   {'max_depth': 13}  0.865385  0.853846  0.873917  0.853705  0.839269\n",
       "9   {'max_depth': 14}  0.868269  0.851923  0.870067  0.858518  0.841193\n",
       "10  {'max_depth': 15}  0.867308  0.853846  0.868142  0.854668  0.837344\n",
       "11  {'max_depth': 16}  0.864423  0.849038  0.876805  0.859480  0.838306\n",
       "12  {'max_depth': 17}  0.863462  0.850000  0.871992  0.852743  0.839269\n",
       "13  {'max_depth': 18}  0.866346  0.853846  0.873917  0.856593  0.838306\n",
       "14  {'max_depth': 19}  0.872115  0.856731  0.878730  0.849856  0.837344"
      ]
     },
     "execution_count": 122,
     "metadata": {},
     "output_type": "execute_result"
    }
   ],
   "source": [
    "gs_df"
   ]
  },
  {
   "cell_type": "markdown",
   "id": "2f1cf6e4-127a-4b97-9600-7226a5715c6e",
   "metadata": {},
   "source": [
    "## 하이퍼 파라미터가 여러개일 경우 "
   ]
  },
  {
   "cell_type": "code",
   "execution_count": 124,
   "id": "77721cd5-93bd-431d-b05c-560665011f03",
   "metadata": {},
   "outputs": [
    {
     "data": {
      "text/plain": [
       "GridSearchCV(estimator=DecisionTreeClassifier(random_state=42), n_jobs=-1,\n",
       "             param_grid={'max_depth': range(5, 20),\n",
       "                         'min_impurity_decrease': array([0.0001, 0.0002, 0.0003, 0.0004, 0.0005, 0.0006, 0.0007, 0.0008,\n",
       "       0.0009]),\n",
       "                         'min_samples_split': range(2, 100, 10)})"
      ]
     },
     "execution_count": 124,
     "metadata": {},
     "output_type": "execute_result"
    }
   ],
   "source": [
    "params = {'min_impurity_decrease' : np.arange(0.0001, 0.001, 0.0001),\n",
    "          'max_depth' : range(5, 20, 1),\n",
    "          'min_samples_split' : range(2, 100, 10)}\n",
    "\n",
    "# 그리드서치 훈련시키기\n",
    "gs = GridSearchCV(DecisionTreeClassifier(random_state=42),\n",
    "                  params, n_jobs= -1)\n",
    "gs.fit(train_input, train_target)"
   ]
  },
  {
   "cell_type": "code",
   "execution_count": 126,
   "id": "e48f8a74-a727-47e7-9781-e293133ed5b3",
   "metadata": {},
   "outputs": [
    {
     "name": "stdout",
     "output_type": "stream",
     "text": [
      "DecisionTreeClassifier(max_depth=14, min_impurity_decrease=0.0004,\n",
      "                       min_samples_split=12, random_state=42)\n"
     ]
    }
   ],
   "source": [
    "print(gs.best_estimator_)"
   ]
  },
  {
   "cell_type": "code",
   "execution_count": 128,
   "id": "bfdfa114-cbd0-4645-bd8a-ad6523847737",
   "metadata": {},
   "outputs": [
    {
     "name": "stdout",
     "output_type": "stream",
     "text": [
      "0.8921\n",
      "0.8615\n"
     ]
    }
   ],
   "source": [
    "print(round(gs.score(train_input, train_target),4))\n",
    "print(round(gs.score(test_input, test_target),4))"
   ]
  },
  {
   "cell_type": "code",
   "execution_count": 192,
   "id": "85c143bc-4ca3-45b2-86b8-a4a4fca753ea",
   "metadata": {},
   "outputs": [
    {
     "data": {
      "text/plain": [
       "GridSearchCV(cv=StratifiedKFold(n_splits=7, random_state=42, shuffle=True),\n",
       "             estimator=DecisionTreeClassifier(random_state=42), n_jobs=-1,\n",
       "             param_grid={'max_depth': range(5, 20),\n",
       "                         'min_impurity_decrease': array([0.0001, 0.0002, 0.0003, 0.0004, 0.0005, 0.0006, 0.0007, 0.0008,\n",
       "       0.0009]),\n",
       "                         'min_samples_split': range(2, 100, 10)})"
      ]
     },
     "execution_count": 192,
     "metadata": {},
     "output_type": "execute_result"
    }
   ],
   "source": [
    "# 10-fold 설정하기\n",
    "splitter = StratifiedKFold(n_splits=7, shuffle=True, random_state=42)\n",
    "params = {'min_impurity_decrease' : np.arange(0.0001, 0.001, 0.0001),\n",
    "          'max_depth' : range(5, 20, 1),\n",
    "          'min_samples_split' : range(2, 100, 10)}\n",
    "\n",
    "# 그리드서치 훈련시키기\n",
    "gs = GridSearchCV(DecisionTreeClassifier(random_state=42),\n",
    "                  params, cv=splitter, n_jobs= -1)\n",
    "gs.fit(train_input, train_target)"
   ]
  },
  {
   "cell_type": "code",
   "execution_count": 195,
   "id": "02a52f7e-0bad-42a5-8118-a5e69db1c2cb",
   "metadata": {},
   "outputs": [
    {
     "name": "stdout",
     "output_type": "stream",
     "text": [
      "dict_keys(['mean_fit_time', 'std_fit_time', 'mean_score_time', 'std_score_time', 'param_max_depth', 'param_min_impurity_decrease', 'param_min_samples_split', 'params', 'split0_test_score', 'split1_test_score', 'split2_test_score', 'split3_test_score', 'split4_test_score', 'split5_test_score', 'split6_test_score', 'mean_test_score', 'std_test_score', 'rank_test_score'])\n"
     ]
    }
   ],
   "source": [
    "print(gs.cv_results_.keys())"
   ]
  },
  {
   "cell_type": "code",
   "execution_count": 197,
   "id": "9407f684-789b-467e-98ba-298a0aedb6a4",
   "metadata": {},
   "outputs": [
    {
     "name": "stdout",
     "output_type": "stream",
     "text": [
      "[0.01017227 0.01040485 0.01040485 ... 0.00522866 0.0051469  0.0051469 ]\n"
     ]
    }
   ],
   "source": [
    "print(gs.cv_results_['std_test_score'])"
   ]
  },
  {
   "cell_type": "code",
   "execution_count": 191,
   "id": "691280d6-7f74-4ab4-b129-0424056713ce",
   "metadata": {},
   "outputs": [
    {
     "name": "stdout",
     "output_type": "stream",
     "text": [
      "0.8618127815668565\n",
      "0.8692\n"
     ]
    }
   ],
   "source": [
    "print(np.mean(gs.cv_results_['mean_test_score']))\n",
    "print(round(gs.score(test_input, test_target),4))"
   ]
  },
  {
   "cell_type": "markdown",
   "id": "9a85af81-e154-4936-91b5-2afc88086e5e",
   "metadata": {},
   "source": [
    "## 랜덤서치(RandomSearch)"
   ]
  },
  {
   "cell_type": "code",
   "execution_count": 202,
   "id": "98e13803-5883-4171-9261-bd31216e294c",
   "metadata": {},
   "outputs": [],
   "source": [
    "# 랜덤서치 사용시 만족해야할 조건\n",
    "    # - 하이퍼파라미터 값이 수치형 데이터\n",
    "    # - 범위나 간격을 미리 정하기 어려울 경우\n",
    "    # - 너무많은 매개변수가 있어서 그리드서치 수행시간이 오래 걸리는 경우\n",
    "    # - 매개변수를 샘플링 할 때 확률 분포 객체를 전달\n",
    "\n",
    "# 사용 모듈 : uniform(실수값), randint(정수값)\n",
    "# 사용 클래스 : RandomizedSearchCV"
   ]
  },
  {
   "cell_type": "code",
   "execution_count": 136,
   "id": "7a7247d4-f2dc-4330-ab79-12045df22ed4",
   "metadata": {},
   "outputs": [],
   "source": [
    "from scipy.stats import uniform, randint"
   ]
  },
  {
   "cell_type": "code",
   "execution_count": 147,
   "id": "d256db91-5eca-44ec-8574-f78726204c1f",
   "metadata": {},
   "outputs": [
    {
     "name": "stdout",
     "output_type": "stream",
     "text": [
      "[2 4 0 8 5 6 3 3 9 8 6 0 4 8 8 1 6 7 2 2 5 1 4 6 2 2 7 8 6 0 9 5 5 1 1 4 3\n",
      " 5 4 8 4 7 8 9 5 8 6 7 9 7 3 1 5 8 0 5 2 8 3 8 6 9 3 5 3 1 5 2 5 6 4 1 9 4\n",
      " 8 7 5 1 9 6 8 6 7 8 5 4 8 9 2 5 3 7 5 2 9 1 7 0 4 4]\n"
     ]
    }
   ],
   "source": [
    "# 정수값 범위설정\n",
    "rgen = randint(0, 10)\n",
    "rgen\n",
    "\n",
    "# 범위 내에서 임의값 출력하기\n",
    "print(rgen.rvs(100))"
   ]
  },
  {
   "cell_type": "code",
   "execution_count": 146,
   "id": "d842d690-602f-4419-929d-9a79d52642dc",
   "metadata": {},
   "outputs": [
    {
     "name": "stdout",
     "output_type": "stream",
     "text": [
      "[0.63474093 0.44271537 0.08996715 0.82724314 0.77572931 0.97708884\n",
      " 0.34421523 0.29005376 0.2022359  0.32371915 0.32801225 0.98443104\n",
      " 0.54457463 0.23865335 0.35167341 0.50667483 0.88032154 0.97557024\n",
      " 0.1666297  0.62907859 0.02471782 0.95735602 0.62287428 0.88882906\n",
      " 0.14915696 0.44093374 0.34441166 0.37687735 0.45865891 0.69360819]\n"
     ]
    }
   ],
   "source": [
    "# 실수값 범위 설정\n",
    "ugen = uniform(0,1)\n",
    "print(ugen.rvs(30))"
   ]
  },
  {
   "cell_type": "code",
   "execution_count": 172,
   "id": "ba167e39-8b94-48a0-84e6-013aaa92ad62",
   "metadata": {},
   "outputs": [],
   "source": [
    "# 하이퍼파라미터 찾을 매개변수 정의하기\n",
    "params = {'min_impurity_decrease' : uniform(0.0001, 0.001),\n",
    "          'max_depth' : randint(20, 50),\n",
    "          'min_samples_split' : randint(2, 25)}"
   ]
  },
  {
   "cell_type": "code",
   "execution_count": 198,
   "id": "a8bf1935-3dc5-4919-a13a-c91edd9495ed",
   "metadata": {},
   "outputs": [
    {
     "data": {
      "text/plain": [
       "RandomizedSearchCV(estimator=DecisionTreeClassifier(random_state=42),\n",
       "                   n_iter=100, n_jobs=-1,\n",
       "                   param_distributions={'max_depth': range(5, 20),\n",
       "                                        'min_impurity_decrease': array([0.0001, 0.0002, 0.0003, 0.0004, 0.0005, 0.0006, 0.0007, 0.0008,\n",
       "       0.0009]),\n",
       "                                        'min_samples_split': range(2, 100, 10)})"
      ]
     },
     "execution_count": 198,
     "metadata": {},
     "output_type": "execute_result"
    }
   ],
   "source": [
    "# 클래스 호출\n",
    "from sklearn.model_selection import RandomizedSearchCV\n",
    "\n",
    "# 그리드서치와 동일하게 사용\n",
    "# 결정트리모델, 훈련반복횟수 100회, 코어전체, 시드 42\n",
    "rs = RandomizedSearchCV(DecisionTreeClassifier(random_state=42),\n",
    "                        params, n_iter=100 ,n_jobs=-1)\n",
    "rs.fit(train_input, train_target)"
   ]
  },
  {
   "cell_type": "code",
   "execution_count": 199,
   "id": "fcc5d56b-1f2a-4775-aad3-6cd18bad8830",
   "metadata": {},
   "outputs": [
    {
     "name": "stdout",
     "output_type": "stream",
     "text": [
      "DecisionTreeClassifier(max_depth=16, min_impurity_decrease=0.0004,\n",
      "                       min_samples_split=22, random_state=42)\n"
     ]
    }
   ],
   "source": [
    "print(rs.best_estimator_)"
   ]
  },
  {
   "cell_type": "code",
   "execution_count": 181,
   "id": "e3a7bf15-7853-4afc-aedd-c14cc8e5052c",
   "metadata": {},
   "outputs": [
    {
     "name": "stdout",
     "output_type": "stream",
     "text": [
      "dict_keys(['mean_fit_time', 'std_fit_time', 'mean_score_time', 'std_score_time', 'param_max_depth', 'param_min_impurity_decrease', 'param_min_samples_split', 'params', 'split0_test_score', 'split1_test_score', 'split2_test_score', 'split3_test_score', 'split4_test_score', 'mean_test_score', 'std_test_score', 'rank_test_score'])\n"
     ]
    }
   ],
   "source": [
    "print(rs.cv_results_.keys())"
   ]
  },
  {
   "cell_type": "code",
   "execution_count": 200,
   "id": "87ebb8b1-6df6-4d75-8e54-00b7a7daad3c",
   "metadata": {},
   "outputs": [
    {
     "name": "stdout",
     "output_type": "stream",
     "text": [
      "100\n"
     ]
    }
   ],
   "source": [
    "print(len(rs.cv_results_['mean_test_score']))"
   ]
  },
  {
   "cell_type": "code",
   "execution_count": 187,
   "id": "74dd4e1b-65be-402d-aaba-06a455d3fed0",
   "metadata": {},
   "outputs": [
    {
     "name": "stdout",
     "output_type": "stream",
     "text": [
      "0.8695\n",
      "0.8638\n"
     ]
    }
   ],
   "source": [
    "print(round(max(rs.cv_results_['mean_test_score']),4))\n",
    "print(round(rs.score(test_input, test_target),4))"
   ]
  },
  {
   "cell_type": "code",
   "execution_count": null,
   "id": "89494938-ea46-41aa-9de7-d65e67f15c72",
   "metadata": {},
   "outputs": [],
   "source": []
  },
  {
   "cell_type": "code",
   "execution_count": null,
   "id": "9d570116-1233-4e0d-9908-77a6048c1415",
   "metadata": {},
   "outputs": [],
   "source": []
  },
  {
   "cell_type": "code",
   "execution_count": null,
   "id": "ae0bd821-c628-488e-975e-0c7013696a7e",
   "metadata": {},
   "outputs": [],
   "source": []
  },
  {
   "cell_type": "code",
   "execution_count": null,
   "id": "769f8804-700f-44f5-923d-7990c7ea9346",
   "metadata": {},
   "outputs": [],
   "source": []
  },
  {
   "cell_type": "code",
   "execution_count": null,
   "id": "502c14f1-6879-42d7-bdd6-baa2a9a223a6",
   "metadata": {},
   "outputs": [],
   "source": []
  },
  {
   "cell_type": "code",
   "execution_count": null,
   "id": "3e619f02-5ba0-49c7-bee0-b671ee29982c",
   "metadata": {},
   "outputs": [],
   "source": []
  },
  {
   "cell_type": "code",
   "execution_count": null,
   "id": "79f4446c-c19a-414b-a46f-212f4df1fff6",
   "metadata": {},
   "outputs": [],
   "source": []
  }
 ],
 "metadata": {
  "kernelspec": {
   "display_name": "ml_kernel",
   "language": "python",
   "name": "ml"
  },
  "language_info": {
   "codemirror_mode": {
    "name": "ipython",
    "version": 3
   },
   "file_extension": ".py",
   "mimetype": "text/x-python",
   "name": "python",
   "nbconvert_exporter": "python",
   "pygments_lexer": "ipython3",
   "version": "3.9.12"
  }
 },
 "nbformat": 4,
 "nbformat_minor": 5
}
