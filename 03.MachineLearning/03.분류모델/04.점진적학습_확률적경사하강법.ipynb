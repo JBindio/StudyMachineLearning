{
 "cells": [
  {
   "cell_type": "markdown",
   "id": "bc67e2bd-757f-4955-b81c-bdf9cd7ce0ce",
   "metadata": {},
   "source": [
    "## 점진적학습 - 확률적경사하강법"
   ]
  },
  {
   "cell_type": "code",
   "execution_count": 1,
   "id": "d81a0341-9da8-4170-b70c-9a1d479d6c16",
   "metadata": {},
   "outputs": [],
   "source": [
    "import pandas as pd\n",
    "import numpy as np\n",
    "import matplotlib\n",
    "import matplotlib.pyplot as plt\n",
    "from matplotlib import font_manager, rc\n",
    "import seaborn as sns\n",
    "import platform\n",
    "\n",
    "# seaborn 설정 리셋\n",
    "sns.reset_defaults()\n",
    "\n",
    "# 폰트설정\n",
    "if platform.system() == 'Windows' :\n",
    "    path = 'c:/Windows/Fonts/malgun.ttf'\n",
    "    font_name = font_manager.FontProperties(fname=path).get_name()\n",
    "    rc('font', family=font_name)\n",
    "elif platform.system() == 'Darwin':\n",
    "    rc('font', family='AppleGothic')\n",
    "else :\n",
    "    print('Check your OS System')\n",
    "    \n",
    "# 그래프에 마이너스 표시\n",
    "matplotlib.rcParams['axes.unicode_minus'] = False"
   ]
  },
  {
   "cell_type": "code",
   "execution_count": 18,
   "id": "58d57b0c-a0ed-41fe-bc26-3c136d9c0607",
   "metadata": {},
   "outputs": [],
   "source": [
    "# 데이터 불러오기\n",
    "fish = pd.read_csv('./data/07_fish.csv')"
   ]
  },
  {
   "cell_type": "code",
   "execution_count": 15,
   "id": "306782fe-af2b-4adc-8750-b57bac9f0bc6",
   "metadata": {},
   "outputs": [
    {
     "data": {
      "text/html": [
       "<div>\n",
       "<style scoped>\n",
       "    .dataframe tbody tr th:only-of-type {\n",
       "        vertical-align: middle;\n",
       "    }\n",
       "\n",
       "    .dataframe tbody tr th {\n",
       "        vertical-align: top;\n",
       "    }\n",
       "\n",
       "    .dataframe thead th {\n",
       "        text-align: right;\n",
       "    }\n",
       "</style>\n",
       "<table border=\"1\" class=\"dataframe\">\n",
       "  <thead>\n",
       "    <tr style=\"text-align: right;\">\n",
       "      <th></th>\n",
       "      <th>Species</th>\n",
       "      <th>Weight</th>\n",
       "      <th>Length</th>\n",
       "      <th>Diagonal</th>\n",
       "      <th>Height</th>\n",
       "      <th>Width</th>\n",
       "    </tr>\n",
       "  </thead>\n",
       "  <tbody>\n",
       "    <tr>\n",
       "      <th>0</th>\n",
       "      <td>Bream</td>\n",
       "      <td>242.0</td>\n",
       "      <td>25.4</td>\n",
       "      <td>30.0</td>\n",
       "      <td>11.5200</td>\n",
       "      <td>4.0200</td>\n",
       "    </tr>\n",
       "    <tr>\n",
       "      <th>1</th>\n",
       "      <td>Bream</td>\n",
       "      <td>290.0</td>\n",
       "      <td>26.3</td>\n",
       "      <td>31.2</td>\n",
       "      <td>12.4800</td>\n",
       "      <td>4.3056</td>\n",
       "    </tr>\n",
       "    <tr>\n",
       "      <th>2</th>\n",
       "      <td>Bream</td>\n",
       "      <td>340.0</td>\n",
       "      <td>26.5</td>\n",
       "      <td>31.1</td>\n",
       "      <td>12.3778</td>\n",
       "      <td>4.6961</td>\n",
       "    </tr>\n",
       "    <tr>\n",
       "      <th>3</th>\n",
       "      <td>Bream</td>\n",
       "      <td>363.0</td>\n",
       "      <td>29.0</td>\n",
       "      <td>33.5</td>\n",
       "      <td>12.7300</td>\n",
       "      <td>4.4555</td>\n",
       "    </tr>\n",
       "    <tr>\n",
       "      <th>4</th>\n",
       "      <td>Bream</td>\n",
       "      <td>430.0</td>\n",
       "      <td>29.0</td>\n",
       "      <td>34.0</td>\n",
       "      <td>12.4440</td>\n",
       "      <td>5.1340</td>\n",
       "    </tr>\n",
       "    <tr>\n",
       "      <th>...</th>\n",
       "      <td>...</td>\n",
       "      <td>...</td>\n",
       "      <td>...</td>\n",
       "      <td>...</td>\n",
       "      <td>...</td>\n",
       "      <td>...</td>\n",
       "    </tr>\n",
       "    <tr>\n",
       "      <th>154</th>\n",
       "      <td>Smelt</td>\n",
       "      <td>12.2</td>\n",
       "      <td>12.2</td>\n",
       "      <td>13.4</td>\n",
       "      <td>2.0904</td>\n",
       "      <td>1.3936</td>\n",
       "    </tr>\n",
       "    <tr>\n",
       "      <th>155</th>\n",
       "      <td>Smelt</td>\n",
       "      <td>13.4</td>\n",
       "      <td>12.4</td>\n",
       "      <td>13.5</td>\n",
       "      <td>2.4300</td>\n",
       "      <td>1.2690</td>\n",
       "    </tr>\n",
       "    <tr>\n",
       "      <th>156</th>\n",
       "      <td>Smelt</td>\n",
       "      <td>12.2</td>\n",
       "      <td>13.0</td>\n",
       "      <td>13.8</td>\n",
       "      <td>2.2770</td>\n",
       "      <td>1.2558</td>\n",
       "    </tr>\n",
       "    <tr>\n",
       "      <th>157</th>\n",
       "      <td>Smelt</td>\n",
       "      <td>19.7</td>\n",
       "      <td>14.3</td>\n",
       "      <td>15.2</td>\n",
       "      <td>2.8728</td>\n",
       "      <td>2.0672</td>\n",
       "    </tr>\n",
       "    <tr>\n",
       "      <th>158</th>\n",
       "      <td>Smelt</td>\n",
       "      <td>19.9</td>\n",
       "      <td>15.0</td>\n",
       "      <td>16.2</td>\n",
       "      <td>2.9322</td>\n",
       "      <td>1.8792</td>\n",
       "    </tr>\n",
       "  </tbody>\n",
       "</table>\n",
       "<p>159 rows × 6 columns</p>\n",
       "</div>"
      ],
      "text/plain": [
       "    Species  Weight  Length  Diagonal   Height   Width\n",
       "0     Bream   242.0    25.4      30.0  11.5200  4.0200\n",
       "1     Bream   290.0    26.3      31.2  12.4800  4.3056\n",
       "2     Bream   340.0    26.5      31.1  12.3778  4.6961\n",
       "3     Bream   363.0    29.0      33.5  12.7300  4.4555\n",
       "4     Bream   430.0    29.0      34.0  12.4440  5.1340\n",
       "..      ...     ...     ...       ...      ...     ...\n",
       "154   Smelt    12.2    12.2      13.4   2.0904  1.3936\n",
       "155   Smelt    13.4    12.4      13.5   2.4300  1.2690\n",
       "156   Smelt    12.2    13.0      13.8   2.2770  1.2558\n",
       "157   Smelt    19.7    14.3      15.2   2.8728  2.0672\n",
       "158   Smelt    19.9    15.0      16.2   2.9322  1.8792\n",
       "\n",
       "[159 rows x 6 columns]"
      ]
     },
     "execution_count": 15,
     "metadata": {},
     "output_type": "execute_result"
    }
   ],
   "source": [
    "fish"
   ]
  },
  {
   "cell_type": "code",
   "execution_count": 13,
   "id": "ca60a69c-e1ae-41a6-8b97-d71d9a3ed9c3",
   "metadata": {},
   "outputs": [
    {
     "name": "stdout",
     "output_type": "stream",
     "text": [
      "159\n"
     ]
    }
   ],
   "source": [
    "print(len(fish))"
   ]
  },
  {
   "cell_type": "code",
   "execution_count": 19,
   "id": "2456e05f-8440-431a-b1e6-1743f98b4401",
   "metadata": {},
   "outputs": [
    {
     "name": "stdout",
     "output_type": "stream",
     "text": [
      "<class 'pandas.core.frame.DataFrame'>\n",
      "RangeIndex: 159 entries, 0 to 158\n",
      "Data columns (total 6 columns):\n",
      " #   Column    Non-Null Count  Dtype  \n",
      "---  ------    --------------  -----  \n",
      " 0   Species   159 non-null    object \n",
      " 1   Weight    159 non-null    float64\n",
      " 2   Length    159 non-null    float64\n",
      " 3   Diagonal  159 non-null    float64\n",
      " 4   Height    159 non-null    float64\n",
      " 5   Width     159 non-null    float64\n",
      "dtypes: float64(5), object(1)\n",
      "memory usage: 7.6+ KB\n"
     ]
    },
    {
     "data": {
      "text/html": [
       "<div>\n",
       "<style scoped>\n",
       "    .dataframe tbody tr th:only-of-type {\n",
       "        vertical-align: middle;\n",
       "    }\n",
       "\n",
       "    .dataframe tbody tr th {\n",
       "        vertical-align: top;\n",
       "    }\n",
       "\n",
       "    .dataframe thead th {\n",
       "        text-align: right;\n",
       "    }\n",
       "</style>\n",
       "<table border=\"1\" class=\"dataframe\">\n",
       "  <thead>\n",
       "    <tr style=\"text-align: right;\">\n",
       "      <th></th>\n",
       "      <th>Weight</th>\n",
       "      <th>Length</th>\n",
       "      <th>Diagonal</th>\n",
       "      <th>Height</th>\n",
       "      <th>Width</th>\n",
       "    </tr>\n",
       "  </thead>\n",
       "  <tbody>\n",
       "    <tr>\n",
       "      <th>count</th>\n",
       "      <td>159.000000</td>\n",
       "      <td>159.000000</td>\n",
       "      <td>159.000000</td>\n",
       "      <td>159.000000</td>\n",
       "      <td>159.000000</td>\n",
       "    </tr>\n",
       "    <tr>\n",
       "      <th>mean</th>\n",
       "      <td>398.326415</td>\n",
       "      <td>28.415723</td>\n",
       "      <td>31.227044</td>\n",
       "      <td>8.970994</td>\n",
       "      <td>4.417486</td>\n",
       "    </tr>\n",
       "    <tr>\n",
       "      <th>std</th>\n",
       "      <td>357.978317</td>\n",
       "      <td>10.716328</td>\n",
       "      <td>11.610246</td>\n",
       "      <td>4.286208</td>\n",
       "      <td>1.685804</td>\n",
       "    </tr>\n",
       "    <tr>\n",
       "      <th>min</th>\n",
       "      <td>0.000000</td>\n",
       "      <td>8.400000</td>\n",
       "      <td>8.800000</td>\n",
       "      <td>1.728400</td>\n",
       "      <td>1.047600</td>\n",
       "    </tr>\n",
       "    <tr>\n",
       "      <th>25%</th>\n",
       "      <td>120.000000</td>\n",
       "      <td>21.000000</td>\n",
       "      <td>23.150000</td>\n",
       "      <td>5.944800</td>\n",
       "      <td>3.385650</td>\n",
       "    </tr>\n",
       "    <tr>\n",
       "      <th>50%</th>\n",
       "      <td>273.000000</td>\n",
       "      <td>27.300000</td>\n",
       "      <td>29.400000</td>\n",
       "      <td>7.786000</td>\n",
       "      <td>4.248500</td>\n",
       "    </tr>\n",
       "    <tr>\n",
       "      <th>75%</th>\n",
       "      <td>650.000000</td>\n",
       "      <td>35.500000</td>\n",
       "      <td>39.650000</td>\n",
       "      <td>12.365900</td>\n",
       "      <td>5.584500</td>\n",
       "    </tr>\n",
       "    <tr>\n",
       "      <th>max</th>\n",
       "      <td>1650.000000</td>\n",
       "      <td>63.400000</td>\n",
       "      <td>68.000000</td>\n",
       "      <td>18.957000</td>\n",
       "      <td>8.142000</td>\n",
       "    </tr>\n",
       "  </tbody>\n",
       "</table>\n",
       "</div>"
      ],
      "text/plain": [
       "            Weight      Length    Diagonal      Height       Width\n",
       "count   159.000000  159.000000  159.000000  159.000000  159.000000\n",
       "mean    398.326415   28.415723   31.227044    8.970994    4.417486\n",
       "std     357.978317   10.716328   11.610246    4.286208    1.685804\n",
       "min       0.000000    8.400000    8.800000    1.728400    1.047600\n",
       "25%     120.000000   21.000000   23.150000    5.944800    3.385650\n",
       "50%     273.000000   27.300000   29.400000    7.786000    4.248500\n",
       "75%     650.000000   35.500000   39.650000   12.365900    5.584500\n",
       "max    1650.000000   63.400000   68.000000   18.957000    8.142000"
      ]
     },
     "execution_count": 19,
     "metadata": {},
     "output_type": "execute_result"
    }
   ],
   "source": [
    "# 데이터 전처리 - 결측치, 이상치 확인\n",
    "fish.info()\n",
    "fish.describe()"
   ]
  },
  {
   "cell_type": "code",
   "execution_count": 17,
   "id": "1f8d3265-1550-42fb-b6a2-5fe78f3c3397",
   "metadata": {},
   "outputs": [
    {
     "data": {
      "text/html": [
       "<div>\n",
       "<style scoped>\n",
       "    .dataframe tbody tr th:only-of-type {\n",
       "        vertical-align: middle;\n",
       "    }\n",
       "\n",
       "    .dataframe tbody tr th {\n",
       "        vertical-align: top;\n",
       "    }\n",
       "\n",
       "    .dataframe thead th {\n",
       "        text-align: right;\n",
       "    }\n",
       "</style>\n",
       "<table border=\"1\" class=\"dataframe\">\n",
       "  <thead>\n",
       "    <tr style=\"text-align: right;\">\n",
       "      <th></th>\n",
       "      <th>Species</th>\n",
       "      <th>Weight</th>\n",
       "      <th>Length</th>\n",
       "      <th>Diagonal</th>\n",
       "      <th>Height</th>\n",
       "      <th>Width</th>\n",
       "    </tr>\n",
       "  </thead>\n",
       "  <tbody>\n",
       "  </tbody>\n",
       "</table>\n",
       "</div>"
      ],
      "text/plain": [
       "Empty DataFrame\n",
       "Columns: [Species, Weight, Length, Diagonal, Height, Width]\n",
       "Index: []"
      ]
     },
     "execution_count": 17,
     "metadata": {},
     "output_type": "execute_result"
    }
   ],
   "source": [
    "fish[fish.duplicated()]"
   ]
  },
  {
   "cell_type": "code",
   "execution_count": 34,
   "id": "42167c4c-1ffd-43ec-8b77-e1c6f417a8ae",
   "metadata": {},
   "outputs": [],
   "source": [
    "# 데이터전처리 - 독립변수, 종속변수 분리\n",
    "# 독립변수 : fish_input\n",
    "# 종속변수 : fish_target\n",
    "fish_input = fish[['Weight','Length','Diagonal','Height','Width']]\n",
    "fish_target = fish['Species']"
   ]
  },
  {
   "cell_type": "code",
   "execution_count": 35,
   "id": "141edcb7-c2e9-4fd9-bbd8-a181488ddeb9",
   "metadata": {},
   "outputs": [],
   "source": [
    "fish_input = fish_input.to_numpy()\n",
    "fish_target= fish_target.to_numpy()"
   ]
  },
  {
   "cell_type": "code",
   "execution_count": 36,
   "id": "882c3fb4-cdb7-4427-82ab-ed6842d9e631",
   "metadata": {},
   "outputs": [
    {
     "name": "stdout",
     "output_type": "stream",
     "text": [
      "(159, 5)\n",
      "(159,)\n"
     ]
    }
   ],
   "source": [
    "print(fish_input.shape)\n",
    "print(fish_target.shape)"
   ]
  },
  {
   "cell_type": "code",
   "execution_count": 45,
   "id": "4d72c0db-3223-44fa-a7f0-22e9ae0ac68b",
   "metadata": {},
   "outputs": [],
   "source": [
    "# 훈련데이터, 테스트데이터 랜덤하게 분리\n",
    "from sklearn.model_selection import train_test_split\n",
    "train_input, test_input, train_target, test_target = \\\n",
    "    train_test_split(fish_input, fish_target, test_size=0.25 ,random_state= 42)"
   ]
  },
  {
   "cell_type": "code",
   "execution_count": 47,
   "id": "e9c96623-3b83-4610-90d2-36833fe11849",
   "metadata": {},
   "outputs": [
    {
     "name": "stdout",
     "output_type": "stream",
     "text": [
      "(119, 5)\n",
      "(119,)\n",
      "(40, 5)\n",
      "(40,)\n"
     ]
    }
   ],
   "source": [
    "print(train_input.shape)\n",
    "print(train_target.shape)\n",
    "print(test_input.shape)\n",
    "print(test_target.shape)"
   ]
  },
  {
   "cell_type": "code",
   "execution_count": 51,
   "id": "ee3f0eeb-2dbb-4778-932d-619dd87df3bb",
   "metadata": {},
   "outputs": [],
   "source": [
    "# 데이터 정규화\n",
    "from sklearn.preprocessing import StandardScaler\n",
    "ss = StandardScaler()\n",
    "ss.fit(train_input, train_target)\n",
    "train_scaled = ss.transform(train_input)\n",
    "test_scaled = ss.transform(test_input)"
   ]
  },
  {
   "cell_type": "code",
   "execution_count": 90,
   "id": "915958cc-312f-4ff1-9c1a-f9726fada7a0",
   "metadata": {},
   "outputs": [
    {
     "name": "stdout",
     "output_type": "stream",
     "text": [
      "SGDC 훈련데이터 정확도 : 0.773109243697479\n",
      "SGDC 테스트데이터 정확도 : 0.775\n"
     ]
    },
    {
     "name": "stderr",
     "output_type": "stream",
     "text": [
      "C:\\Users\\admin\\anaconda3\\lib\\site-packages\\sklearn\\linear_model\\_stochastic_gradient.py:696: ConvergenceWarning: Maximum number of iteration reached before convergence. Consider increasing max_iter to improve the fit.\n",
      "  warnings.warn(\n"
     ]
    }
   ],
   "source": [
    "# 사용클래스(모델) : SGDClassifier\n",
    "from sklearn.linear_model import SGDClassifier\n",
    "\n",
    "# 클래스(모델)생성\n",
    "sc = SGDClassifier(loss ='log', max_iter=10, random_state=42)\n",
    "sc.fit(train_scaled, train_target)\n",
    "print('SGDC 훈련데이터 정확도 :', sc.score(train_scaled, train_target))\n",
    "print('SGDC 테스트데이터 정확도 :', sc.score(test_scaled, test_target))\n",
    "\n",
    "# <해석>"
   ]
  },
  {
   "cell_type": "code",
   "execution_count": 91,
   "id": "ecfbc5a5-7ecd-4708-ba16-4c5ecceecbfb",
   "metadata": {},
   "outputs": [
    {
     "name": "stdout",
     "output_type": "stream",
     "text": [
      "SGDC 훈련데이터 정확도 : 0.8151260504201681\n",
      "SGDC 테스트데이터 정확도 : 0.85\n"
     ]
    }
   ],
   "source": [
    "# 점진적 학습 시작\n",
    "# 새로운 데이터가 들어왔다고 가정\n",
    "sc.partial_fit(train_scaled, train_target)\n",
    "print('SGDC 훈련데이터 정확도 :', sc.score(train_scaled, train_target))\n",
    "print('SGDC 테스트데이터 정확도 :', sc.score(test_scaled, test_target))"
   ]
  },
  {
   "cell_type": "code",
   "execution_count": 92,
   "id": "feca621b-de98-4b11-a12f-d20fcc16a648",
   "metadata": {},
   "outputs": [],
   "source": [
    "# 에포크 반복횟수 찾기\n",
    "sc = SGDClassifier(loss='log', random_state=42)\n",
    "\n",
    "train_score = []\n",
    "test_score = []\n",
    "\n",
    "# 범주 고유값\n",
    "classes = np.unique(train_target)\n",
    "\n",
    "# 반복을 300회 이상으로 테스트하여 정확도를 리스트에 저장\n",
    "for _ in range(0,300) :\n",
    "    sc.partial_fit(train_scaled, train_target, classes= classes)\n",
    "    \n",
    "    train_score.append(sc.score(train_scaled,train_target))\n",
    "    test_score.append(sc.score(test_scaled,test_target))    "
   ]
  },
  {
   "cell_type": "code",
   "execution_count": 99,
   "id": "c32b83e5-c9d0-4bd8-ada4-c21189cab40a",
   "metadata": {},
   "outputs": [
    {
     "name": "stdout",
     "output_type": "stream",
     "text": [
      "SGDC 훈련데이터 리스트 갯수 : 300\n",
      "SGDC 테스트데이터 리스트 갯수 : 300\n"
     ]
    }
   ],
   "source": [
    "print('SGDC 훈련데이터 리스트 갯수 :', len(train_score))\n",
    "print('SGDC 테스트데이터 리스트 갯수 :', len(test_score))"
   ]
  },
  {
   "cell_type": "code",
   "execution_count": 111,
   "id": "88ca7cb2-f594-44d8-9909-a9ed1fb0e0d1",
   "metadata": {},
   "outputs": [
    {
     "data": {
      "image/png": "[encoded data removed]",
      "text/plain": [
       "<Figure size 2000x1000 with 1 Axes>"
      ]
     },
     "metadata": {},
     "output_type": "display_data"
    }
   ],
   "source": [
    "# 시각화를 통해 최적의 위치 찾기\n",
    "fig = plt.figure(figsize=(20,10))\n",
    "plt.rc('font', family = 'Malgun Gothic', size = 18)\n",
    "plt.title('최적의 위치 확인', pad=30)\n",
    "plt.plot(train_score, label = '훈련데이터')\n",
    "plt.plot(test_score, label = '테스트데이터')\n",
    "plt.legend(loc = 'lower right')\n",
    "plt.show()"
   ]
  },
  {
   "cell_type": "code",
   "execution_count": 113,
   "id": "43a77239-0222-4819-bc20-547e773ee4aa",
   "metadata": {},
   "outputs": [
    {
     "name": "stdout",
     "output_type": "stream",
     "text": [
      "SGDC 훈련데이터 정확도 : 0.957983193277311\n",
      "SGDC 테스트데이터 정확도 : 0.925\n"
     ]
    }
   ],
   "source": [
    "# 시각화를 토대로 테스트 횟수 재지정\n",
    "\n",
    "# 사용클래스(모델) : SGDClassifier\n",
    "from sklearn.linear_model import SGDClassifier\n",
    "\n",
    "# 클래스(모델)생성\n",
    "# tol : 지정횟수만큼 강제 진행\n",
    "sc = SGDClassifier(loss ='log', max_iter=100, tol=None ,random_state=42)\n",
    "sc.fit(train_scaled, train_target)\n",
    "print('SGDC 훈련데이터 정확도 :', sc.score(train_scaled, train_target))\n",
    "print('SGDC 테스트데이터 정확도 :', sc.score(test_scaled, test_target))"
   ]
  },
  {
   "cell_type": "code",
   "execution_count": 114,
   "id": "09dcac3e-605a-4846-8ae7-bb576a29955e",
   "metadata": {},
   "outputs": [],
   "source": [
    "# 모델 예측값 데이터 프레임에 저장하기\n",
    "# 신규데이터 = 기존의 fish 데이터라고 가정\n",
    "# 데이터프레임에 예측결과에 대한 Species_pred 컬럼 추가\n",
    "\n",
    "\n",
    "# <출력결과 >\n",
    "# Species_pred가 추가된 데이터프레임 출력\n",
    "\n",
    "# 정답을 맞춘 갯수와 틀린 갯수 출력하기\n",
    "\n",
    "# 정답률과 오답률 출력하기"
   ]
  },
  {
   "cell_type": "code",
   "execution_count": 129,
   "id": "5c1108a9-7f44-4ae9-928f-35c3b57e7979",
   "metadata": {},
   "outputs": [],
   "source": [
    "# 에측데이터 불러오기\n",
    "fish_pred = pd.read_csv('./data/07_fish.csv')\n",
    "fish_pred_input = fish_pred[['Weight','Length','Diagonal','Height','Width']]\n",
    "fish_pred_input =fish_pred_input.to_numpy()"
   ]
  },
  {
   "cell_type": "code",
   "execution_count": 168,
   "id": "26d5043d-9891-4bac-8d5f-f1848de1903e",
   "metadata": {},
   "outputs": [],
   "source": [
    "# 예측데이터 정규화\n",
    "pred_scaled = ss.transform(fish_pred_input)"
   ]
  },
  {
   "cell_type": "code",
   "execution_count": 169,
   "id": "88629daa-35ca-4ceb-9131-8667e21a8456",
   "metadata": {},
   "outputs": [
    {
     "data": {
      "text/plain": [
       "(159, 5)"
      ]
     },
     "execution_count": 169,
     "metadata": {},
     "output_type": "execute_result"
    }
   ],
   "source": [
    "pred_scaled.shape"
   ]
  },
  {
   "cell_type": "code",
   "execution_count": 170,
   "id": "bd1f4b05-8513-4a15-a034-d4b3759ddded",
   "metadata": {},
   "outputs": [],
   "source": [
    "# 에측하기\n",
    "Species_pred = sc.predict(pred_scaled)"
   ]
  },
  {
   "cell_type": "code",
   "execution_count": 171,
   "id": "24e05007-6c80-45ed-b39c-a8b6c3730db3",
   "metadata": {},
   "outputs": [],
   "source": [
    "# 예측한 결과 컬럼으로 저장\n",
    "fish_pred['Species_pred'] = Species_pred"
   ]
  },
  {
   "cell_type": "code",
   "execution_count": 172,
   "id": "cda14f98-5aa2-4d50-b9bb-a67abc56e07f",
   "metadata": {},
   "outputs": [
    {
     "data": {
      "text/html": [
       "<div>\n",
       "<style scoped>\n",
       "    .dataframe tbody tr th:only-of-type {\n",
       "        vertical-align: middle;\n",
       "    }\n",
       "\n",
       "    .dataframe tbody tr th {\n",
       "        vertical-align: top;\n",
       "    }\n",
       "\n",
       "    .dataframe thead th {\n",
       "        text-align: right;\n",
       "    }\n",
       "</style>\n",
       "<table border=\"1\" class=\"dataframe\">\n",
       "  <thead>\n",
       "    <tr style=\"text-align: right;\">\n",
       "      <th></th>\n",
       "      <th>Species</th>\n",
       "      <th>Weight</th>\n",
       "      <th>Length</th>\n",
       "      <th>Diagonal</th>\n",
       "      <th>Height</th>\n",
       "      <th>Width</th>\n",
       "      <th>Species_pred</th>\n",
       "    </tr>\n",
       "  </thead>\n",
       "  <tbody>\n",
       "    <tr>\n",
       "      <th>0</th>\n",
       "      <td>Bream</td>\n",
       "      <td>242.0</td>\n",
       "      <td>25.4</td>\n",
       "      <td>30.0</td>\n",
       "      <td>11.5200</td>\n",
       "      <td>4.0200</td>\n",
       "      <td>Bream</td>\n",
       "    </tr>\n",
       "    <tr>\n",
       "      <th>1</th>\n",
       "      <td>Bream</td>\n",
       "      <td>290.0</td>\n",
       "      <td>26.3</td>\n",
       "      <td>31.2</td>\n",
       "      <td>12.4800</td>\n",
       "      <td>4.3056</td>\n",
       "      <td>Bream</td>\n",
       "    </tr>\n",
       "    <tr>\n",
       "      <th>2</th>\n",
       "      <td>Bream</td>\n",
       "      <td>340.0</td>\n",
       "      <td>26.5</td>\n",
       "      <td>31.1</td>\n",
       "      <td>12.3778</td>\n",
       "      <td>4.6961</td>\n",
       "      <td>Bream</td>\n",
       "    </tr>\n",
       "    <tr>\n",
       "      <th>3</th>\n",
       "      <td>Bream</td>\n",
       "      <td>363.0</td>\n",
       "      <td>29.0</td>\n",
       "      <td>33.5</td>\n",
       "      <td>12.7300</td>\n",
       "      <td>4.4555</td>\n",
       "      <td>Bream</td>\n",
       "    </tr>\n",
       "    <tr>\n",
       "      <th>4</th>\n",
       "      <td>Bream</td>\n",
       "      <td>430.0</td>\n",
       "      <td>29.0</td>\n",
       "      <td>34.0</td>\n",
       "      <td>12.4440</td>\n",
       "      <td>5.1340</td>\n",
       "      <td>Bream</td>\n",
       "    </tr>\n",
       "    <tr>\n",
       "      <th>...</th>\n",
       "      <td>...</td>\n",
       "      <td>...</td>\n",
       "      <td>...</td>\n",
       "      <td>...</td>\n",
       "      <td>...</td>\n",
       "      <td>...</td>\n",
       "      <td>...</td>\n",
       "    </tr>\n",
       "    <tr>\n",
       "      <th>154</th>\n",
       "      <td>Smelt</td>\n",
       "      <td>12.2</td>\n",
       "      <td>12.2</td>\n",
       "      <td>13.4</td>\n",
       "      <td>2.0904</td>\n",
       "      <td>1.3936</td>\n",
       "      <td>Smelt</td>\n",
       "    </tr>\n",
       "    <tr>\n",
       "      <th>155</th>\n",
       "      <td>Smelt</td>\n",
       "      <td>13.4</td>\n",
       "      <td>12.4</td>\n",
       "      <td>13.5</td>\n",
       "      <td>2.4300</td>\n",
       "      <td>1.2690</td>\n",
       "      <td>Smelt</td>\n",
       "    </tr>\n",
       "    <tr>\n",
       "      <th>156</th>\n",
       "      <td>Smelt</td>\n",
       "      <td>12.2</td>\n",
       "      <td>13.0</td>\n",
       "      <td>13.8</td>\n",
       "      <td>2.2770</td>\n",
       "      <td>1.2558</td>\n",
       "      <td>Smelt</td>\n",
       "    </tr>\n",
       "    <tr>\n",
       "      <th>157</th>\n",
       "      <td>Smelt</td>\n",
       "      <td>19.7</td>\n",
       "      <td>14.3</td>\n",
       "      <td>15.2</td>\n",
       "      <td>2.8728</td>\n",
       "      <td>2.0672</td>\n",
       "      <td>Smelt</td>\n",
       "    </tr>\n",
       "    <tr>\n",
       "      <th>158</th>\n",
       "      <td>Smelt</td>\n",
       "      <td>19.9</td>\n",
       "      <td>15.0</td>\n",
       "      <td>16.2</td>\n",
       "      <td>2.9322</td>\n",
       "      <td>1.8792</td>\n",
       "      <td>Smelt</td>\n",
       "    </tr>\n",
       "  </tbody>\n",
       "</table>\n",
       "<p>159 rows × 7 columns</p>\n",
       "</div>"
      ],
      "text/plain": [
       "    Species  Weight  Length  Diagonal   Height   Width Species_pred\n",
       "0     Bream   242.0    25.4      30.0  11.5200  4.0200        Bream\n",
       "1     Bream   290.0    26.3      31.2  12.4800  4.3056        Bream\n",
       "2     Bream   340.0    26.5      31.1  12.3778  4.6961        Bream\n",
       "3     Bream   363.0    29.0      33.5  12.7300  4.4555        Bream\n",
       "4     Bream   430.0    29.0      34.0  12.4440  5.1340        Bream\n",
       "..      ...     ...     ...       ...      ...     ...          ...\n",
       "154   Smelt    12.2    12.2      13.4   2.0904  1.3936        Smelt\n",
       "155   Smelt    13.4    12.4      13.5   2.4300  1.2690        Smelt\n",
       "156   Smelt    12.2    13.0      13.8   2.2770  1.2558        Smelt\n",
       "157   Smelt    19.7    14.3      15.2   2.8728  2.0672        Smelt\n",
       "158   Smelt    19.9    15.0      16.2   2.9322  1.8792        Smelt\n",
       "\n",
       "[159 rows x 7 columns]"
      ]
     },
     "execution_count": 172,
     "metadata": {},
     "output_type": "execute_result"
    }
   ],
   "source": [
    "# Species_pred 컬럼이 추가된 데이터프레임 출력\n",
    "fish_pred"
   ]
  },
  {
   "cell_type": "code",
   "execution_count": 184,
   "id": "e159f511-0637-45a0-ac91-493ae11f6068",
   "metadata": {},
   "outputs": [
    {
     "name": "stdout",
     "output_type": "stream",
     "text": [
      "총 갯수 [159]건 중에, 정답 갯수 [151]건, 오답 갯수 [8]건\n",
      "----------------------------------------------------------------------------------\n",
      "총 [100.0%] 중dp 정답률 [94.97%], 오답률 [5.03%]\n"
     ]
    }
   ],
   "source": [
    "# 정답을 맞춘 갯수와 틀린 갯수 출력하기\n",
    "# 총 갯수\n",
    "fish_len = len(fish_pred)\n",
    "# 정답 갯수\n",
    "fish_len_y = len(fish_pred[fish_pred['Species'] == fish_pred['Species_pred']])\n",
    "\n",
    "# 오답 갯수\n",
    "fish_len_n = len(fish_pred[fish_pred['Species'] != fish_pred['Species_pred']])\n",
    "\n",
    "print('총 갯수 [{}]건 중에, 정답 갯수 [{}]건, 오답 갯수 [{}]건'.format(fish_len, fish_len_y, fish_len_n))\n",
    "\n",
    "print('----------------------------------------------------------------------------------')\n",
    "\n",
    "# 정답률과 오답률 출력하기\n",
    "# 정답률\n",
    "y_per = round(fish_len_y / fish_len * 100,2)\n",
    "\n",
    "# 오답률\n",
    "n_per = round(fish_len_n / fish_len * 100,2)\n",
    "\n",
    "# 전체 확률(100%)\n",
    "all_per = y_per + n_per\n",
    "\n",
    "print('총 [{}%] 중dp 정답률 [{}%], 오답률 [{}%]'.format(all_per, y_per, n_per))"
   ]
  },
  {
   "cell_type": "code",
   "execution_count": null,
   "id": "1f2fbbe8-23ae-44ba-8a8f-46a27c50883a",
   "metadata": {},
   "outputs": [],
   "source": []
  }
 ],
 "metadata": {
  "kernelspec": {
   "display_name": "ml_kernel",
   "language": "python",
   "name": "ml"
  },
  "language_info": {
   "codemirror_mode": {
    "name": "ipython",
    "version": 3
   },
   "file_extension": ".py",
   "mimetype": "text/x-python",
   "name": "python",
   "nbconvert_exporter": "python",
   "pygments_lexer": "ipython3",
   "version": "3.9.12"
  }
 },
 "nbformat": 4,
 "nbformat_minor": 5
}
