{
 "cells": [
  {
   "cell_type": "markdown",
   "id": "83fc07ce-05bf-4284-9887-e5b695789032",
   "metadata": {},
   "source": [
    "# WINE_이정빈"
   ]
  },
  {
   "cell_type": "code",
   "execution_count": 101,
   "id": "d2fa5c68-b62d-4604-84be-e9d8ca7704c8",
   "metadata": {},
   "outputs": [],
   "source": [
    "import pandas as pd\n",
    "import numpy as np\n",
    "import matplotlib\n",
    "import matplotlib.pyplot as plt\n",
    "from matplotlib import font_manager, rc\n",
    "import seaborn as sns\n",
    "import platform\n",
    "\n",
    "# seaborn 설정 리셋\n",
    "sns.reset_defaults()\n",
    "\n",
    "# 폰트설정\n",
    "if platform.system() == 'Windows' :\n",
    "    path = 'c:/Windows/Fonts/malgun.ttf'\n",
    "    font_name = font_manager.FontProperties(fname=path).get_name()\n",
    "    rc('font', family=font_name)\n",
    "elif platform.system() == 'Darwin':\n",
    "    rc('font', family='AppleGothic')\n",
    "else :\n",
    "    print('Check your OS System')\n",
    "    \n",
    "# 그래프에 마이너스 표시\n",
    "matplotlib.rcParams['axes.unicode_minus'] = False"
   ]
  },
  {
   "cell_type": "code",
   "execution_count": 3,
   "id": "73a9e331-1d95-45bb-a2ac-e9df2dfbb032",
   "metadata": {},
   "outputs": [],
   "source": [
    "from sklearn.datasets import load_wine"
   ]
  },
  {
   "cell_type": "code",
   "execution_count": 69,
   "id": "193aa7bf-7358-4f2b-96e6-c4097967bcd7",
   "metadata": {},
   "outputs": [],
   "source": [
    "# 데이터 불러오기\n",
    "wine_이정빈 = load_wine()"
   ]
  },
  {
   "cell_type": "code",
   "execution_count": 81,
   "id": "e4066a53-8de9-4add-9c91-10dc97363d95",
   "metadata": {},
   "outputs": [],
   "source": [
    "# 데이터 정제\n",
    "wine_data = wine_이정빈['data']\n",
    "wine_target = wine_이정빈['target']\n",
    "wine_columns = wine_이정빈['feature_names']\n",
    "wine_names = wine_이정빈['target_names']"
   ]
  },
  {
   "cell_type": "code",
   "execution_count": 96,
   "id": "03f0e9e4-20ad-47ac-820b-a10641cee454",
   "metadata": {},
   "outputs": [
    {
     "data": {
      "text/plain": [
       "array(['class_0', 'class_1', 'class_2'], dtype='<U7')"
      ]
     },
     "execution_count": 96,
     "metadata": {},
     "output_type": "execute_result"
    }
   ],
   "source": [
    "wine_names"
   ]
  },
  {
   "cell_type": "code",
   "execution_count": 83,
   "id": "ed50e0dd-0c00-4268-b988-5bfa5605f658",
   "metadata": {},
   "outputs": [],
   "source": [
    "# 편향 방지를 위한 데이터 랜덤하게 분배하기\n",
    "from sklearn.model_selection import train_test_split\n",
    "train_input, test_input, train_target, test_target = \\\n",
    "    train_test_split(wine_data, wine_target, random_state= 8)"
   ]
  },
  {
   "cell_type": "code",
   "execution_count": 84,
   "id": "ebfda26a-1af4-4c82-bb79-abac04fc6462",
   "metadata": {},
   "outputs": [
    {
     "name": "stdout",
     "output_type": "stream",
     "text": [
      "(133, 13)\n",
      "(133,)\n",
      "(45, 13)\n",
      "(45,)\n"
     ]
    }
   ],
   "source": [
    "print(train_input.shape)\n",
    "print(train_target.shape)\n",
    "print(test_input.shape)\n",
    "print(test_target.shape)"
   ]
  },
  {
   "cell_type": "code",
   "execution_count": 85,
   "id": "928c5d70-ad4e-4b3f-afe3-a034f771db64",
   "metadata": {},
   "outputs": [],
   "source": [
    "# 정규화\n",
    "from sklearn.preprocessing import StandardScaler\n",
    "ss = StandardScaler()\n",
    "ss.fit(train_input, train_target)\n",
    "train_scaled = ss.transform(train_input)\n",
    "test_scaled = ss.transform(test_input)"
   ]
  },
  {
   "cell_type": "markdown",
   "id": "79e3d44d-5106-48f1-b066-f5ab8fdc376b",
   "metadata": {},
   "source": [
    "## 로지스틱 회귀모델\n",
    "### 소프트맥스(다중분류)"
   ]
  },
  {
   "cell_type": "code",
   "execution_count": 95,
   "id": "ba176cc8-7fb8-472b-bbf3-5b01d868ca29",
   "metadata": {},
   "outputs": [
    {
     "name": "stdout",
     "output_type": "stream",
     "text": [
      "소프트맥스 훈련데이터 정확도: 0.992\n",
      "소프트맥스 테스트데이터 정확도: 0.978\n"
     ]
    }
   ],
   "source": [
    "### 로지스틱 회귀모델 생성 - 소프트맥스(다중분류)\n",
    "from sklearn.linear_model import LogisticRegression\n",
    "lr_soft = LogisticRegression(C = 0.3, max_iter=1000)\n",
    "lr_soft.fit(train_scaled, train_target)\n",
    "print('소프트맥스 훈련데이터 정확도:', round(lr_soft.score(train_scaled,train_target),3))\n",
    "print('소프트맥스 테스트데이터 정확도:', round(lr_soft.score(test_scaled,test_target),3))"
   ]
  },
  {
   "cell_type": "code",
   "execution_count": 99,
   "id": "71eb4a94-bb1e-4a80-9d5b-5ae217dd9cb6",
   "metadata": {},
   "outputs": [
    {
     "name": "stdout",
     "output_type": "stream",
     "text": [
      "-------------입력된 값의 클래스------------\n",
      "[0 2 1 0 1]\n",
      "0 = class_0, 1 = class_1, 2 = class_2\n"
     ]
    }
   ],
   "source": [
    "# 데이터 입력 -> 분류 확인\n",
    "print('-------------입력된 값의 클래스------------')\n",
    "print(lr_soft.predict(test_scaled[:5]))\n",
    "print('0 = class_0, 1 = class_1, 2 = class_2')"
   ]
  },
  {
   "cell_type": "code",
   "execution_count": 102,
   "id": "06d4687a-23fd-4698-9313-445532b7386d",
   "metadata": {},
   "outputs": [
    {
     "name": "stdout",
     "output_type": "stream",
     "text": [
      "-----범주 순서-----\n",
      "[0 1 2]\n",
      "\n",
      "----범주별 확률----\n",
      "[[0.989 0.007 0.003]\n",
      " [0.022 0.047 0.931]\n",
      " [0.023 0.972 0.005]\n",
      " [0.977 0.021 0.002]\n",
      " [0.001 0.996 0.003]]\n"
     ]
    }
   ],
   "source": [
    "# 훈련모델이 가지고있는 범주 순서\n",
    "print('-----범주 순서-----')\n",
    "print(lr_soft.classes_)\n",
    "print()\n",
    "\n",
    "# 전체 범주별 확률 확인\n",
    "proba = lr_soft.predict_proba(test_scaled[:5])\n",
    "print('----범주별 확률----')\n",
    "print(np.round(proba, decimals= 3))"
   ]
  },
  {
   "cell_type": "code",
   "execution_count": 103,
   "id": "70fe72ee-045b-41f9-8aac-418562b572bc",
   "metadata": {},
   "outputs": [
    {
     "name": "stdout",
     "output_type": "stream",
     "text": [
      "---------------계수(가중치)--------------\n",
      "[[ 0.57858651  0.11302686  0.25222238 -0.57049469  0.0866538   0.1954274\n",
      "   0.44808461 -0.24379972  0.06905318  0.12715842  0.14903888  0.45038045\n",
      "   0.74261216]\n",
      " [-0.68528415 -0.40811032 -0.42057155  0.44963955  0.00215143  0.05362204\n",
      "   0.18558046  0.13380328  0.19164221 -0.66735524  0.44432417  0.02700966\n",
      "  -0.74467837]\n",
      " [ 0.10669764  0.29508346  0.16834917  0.12085514 -0.08880523 -0.24904944\n",
      "  -0.63366507  0.10999644 -0.26069538  0.54019682 -0.59336305 -0.47739011\n",
      "   0.00206622]]\n",
      "\n",
      "------------------y절편------------------\n",
      "[ 0.22609947  0.689502   -0.91560146]\n"
     ]
    }
   ],
   "source": [
    "# 계수(또는 가중치) 및 y절편값 조회하기\n",
    "print('---------------계수(가중치)--------------')\n",
    "print(lr_soft.coef_)\n",
    "print()\n",
    "print('------------------y절편------------------')\n",
    "print(lr_soft.intercept_)"
   ]
  },
  {
   "cell_type": "code",
   "execution_count": 104,
   "id": "6c8b8f50-98f6-4de9-b8e2-58e0a5be8720",
   "metadata": {},
   "outputs": [
    {
     "name": "stdout",
     "output_type": "stream",
     "text": [
      "------------z값------------\n",
      "[[ 3.519 -1.379 -2.14 ]\n",
      " [-1.485 -0.753  2.239]\n",
      " [-0.766  2.979 -2.213]\n",
      " [ 3.371 -0.466 -2.905]\n",
      " [-2.504  4.176 -1.671]]\n",
      "\n",
      "------소프트맥스 확률------\n",
      "[[0.989 0.007 0.003]\n",
      " [0.022 0.047 0.931]\n",
      " [0.023 0.972 0.005]\n",
      " [0.977 0.021 0.002]\n",
      " [0.001 0.996 0.003]]\n"
     ]
    }
   ],
   "source": [
    "# 소프트맥스 함수를 통한 확률 공식\n",
    "\n",
    "# z값 조회하기\n",
    "decisions = lr_soft.decision_function(test_scaled[:5])\n",
    "print('------------z값------------')\n",
    "print(np.round(decisions, decimals=3))\n",
    "print()\n",
    "\n",
    "# 소프트맥스(softmax)\n",
    "    # 사용하는 패키지 : scipy.special\n",
    "    # 사용하는 모듈 : softmax\n",
    "\n",
    "from scipy.special import softmax\n",
    "proba = softmax(decisions, axis=1)\n",
    "print('------소프트맥스 확률------')\n",
    "print(np.round(proba, decimals=3))"
   ]
  }
 ],
 "metadata": {
  "kernelspec": {
   "display_name": "ml_kernel",
   "language": "python",
   "name": "ml"
  },
  "language_info": {
   "codemirror_mode": {
    "name": "ipython",
    "version": 3
   },
   "file_extension": ".py",
   "mimetype": "text/x-python",
   "name": "python",
   "nbconvert_exporter": "python",
   "pygments_lexer": "ipython3",
   "version": "3.9.12"
  }
 },
 "nbformat": 4,
 "nbformat_minor": 5
}
