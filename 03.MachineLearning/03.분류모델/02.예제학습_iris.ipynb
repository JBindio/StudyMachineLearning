{
 "cells": [
  {
   "cell_type": "markdown",
   "id": "f9d1fcdd-893e-408c-bcd8-34d9a11ef5d3",
   "metadata": {},
   "source": [
    "# IRIS_이정빈"
   ]
  },
  {
   "cell_type": "code",
   "execution_count": 600,
   "id": "78c8e5bf-2689-40e7-abca-803c7c582224",
   "metadata": {},
   "outputs": [],
   "source": [
    "import pandas as pd\n",
    "import numpy as np\n",
    "import matplotlib\n",
    "import matplotlib.pyplot as plt\n",
    "from matplotlib import font_manager, rc\n",
    "import seaborn as sns\n",
    "import platform\n",
    "\n",
    "# seaborn 설정 리셋\n",
    "sns.reset_defaults()\n",
    "\n",
    "# 폰트설정\n",
    "if platform.system() == 'Windows' :\n",
    "    path = 'c:/Windows/Fonts/malgun.ttf'\n",
    "    font_name = font_manager.FontProperties(fname=path).get_name()\n",
    "    rc('font', family=font_name)\n",
    "elif platform.system() == 'Darwin':\n",
    "    rc('font', family='AppleGothic')\n",
    "else :\n",
    "    print('Check your OS System')\n",
    "    \n",
    "# 그래프에 마이너스 표시\n",
    "matplotlib.rcParams['axes.unicode_minus'] = False"
   ]
  },
  {
   "cell_type": "code",
   "execution_count": 601,
   "id": "23f364da-872c-4734-8dc1-a461f7172c4f",
   "metadata": {},
   "outputs": [],
   "source": [
    "# 붓꽃 품종 데이터\n",
    "from sklearn.datasets import load_iris\n",
    "# 품종 : setosa, versicolor, virginica\n",
    "# sepal length : 꽃받침 길이\n",
    "# sepal width : 꽃받침 폭\n",
    "# petal lenght : 꽃잎 길이\n",
    "# petal widht : 꽃잎 폭"
   ]
  },
  {
   "cell_type": "code",
   "execution_count": 602,
   "id": "b160c571-8d9f-4fdc-8625-a3d6aaa37354",
   "metadata": {},
   "outputs": [],
   "source": [
    "# 데이터 수집\n",
    "iris_이정빈 = load_iris()\n",
    "# print(iris)"
   ]
  },
  {
   "cell_type": "code",
   "execution_count": 603,
   "id": "c6ecf5bd-1018-4322-b9e7-f44658d5f722",
   "metadata": {},
   "outputs": [
    {
     "name": "stdout",
     "output_type": "stream",
     "text": [
      "['setosa' 'versicolor' 'virginica']\n"
     ]
    }
   ],
   "source": [
    "# 타겟데이터 종류 확인 \n",
    "# 0 = setosa, 1 = versicolor, 2 = virginica\n",
    "print(iris_이정빈['target_names'])"
   ]
  },
  {
   "cell_type": "code",
   "execution_count": 604,
   "id": "beee68c5-8493-409e-8af5-5bd78fc36c74",
   "metadata": {},
   "outputs": [
    {
     "data": {
      "text/plain": [
       "array([0, 0, 0, 0, 0])"
      ]
     },
     "execution_count": 604,
     "metadata": {},
     "output_type": "execute_result"
    }
   ],
   "source": [
    "# 타겟데이터\n",
    "iris_target = iris_이정빈['target']\n",
    "iris_target[:5]"
   ]
  },
  {
   "cell_type": "code",
   "execution_count": 605,
   "id": "44d64f40-5dd5-4f88-a059-777046e0c93a",
   "metadata": {},
   "outputs": [
    {
     "data": {
      "text/plain": [
       "array([[5.1, 3.5, 1.4, 0.2],\n",
       "       [4.9, 3. , 1.4, 0.2],\n",
       "       [4.7, 3.2, 1.3, 0.2],\n",
       "       [4.6, 3.1, 1.5, 0.2],\n",
       "       [5. , 3.6, 1.4, 0.2]])"
      ]
     },
     "execution_count": 605,
     "metadata": {},
     "output_type": "execute_result"
    }
   ],
   "source": [
    "# 훈련데이터\n",
    "iris_data = iris_이정빈['data']\n",
    "iris_data[:5]"
   ]
  },
  {
   "cell_type": "code",
   "execution_count": 608,
   "id": "a0fe7378-8a5f-41d2-b58c-7f2278fd1427",
   "metadata": {},
   "outputs": [],
   "source": [
    "# 복잡도를 주기위한 특징(컬럼) 생성 (꽃받침 길이 * 꽃받침 무게), (꽃잎 길이 * 꽃잎 무게)\n",
    "iris_data = np.concatenate([iris_data, iris_data[:,0:1] * iris_data[:,1:2]],axis=1)\n",
    "iris_data = np.concatenate([iris_data, iris_data[:,2:3] * iris_data[:,3:4]],axis=1)"
   ]
  },
  {
   "cell_type": "code",
   "execution_count": 640,
   "id": "f4139eb2-64da-4cdb-984b-352fa37faff9",
   "metadata": {},
   "outputs": [],
   "source": [
    "# 편향 방지를 위한 데이터 랜덤하게 분배하기\n",
    "# 훈련데이터, 테스트데이터 비율 (7:3)\n",
    "from sklearn.model_selection import train_test_split\n",
    "train_input, test_input, train_target, test_target = \\\n",
    "    train_test_split(iris_data, iris_target, random_state=12)"
   ]
  },
  {
   "cell_type": "code",
   "execution_count": 610,
   "id": "1c271172-fb13-4f3f-967d-2f49fe51b3a9",
   "metadata": {},
   "outputs": [
    {
     "name": "stdout",
     "output_type": "stream",
     "text": [
      "(112, 6)\n",
      "(112,)\n",
      "(38, 6)\n",
      "(38,)\n"
     ]
    }
   ],
   "source": [
    "# 차원 확인\n",
    "print(train_input.shape)\n",
    "print(train_target.shape)\n",
    "print(test_input.shape)\n",
    "print(test_target.shape)"
   ]
  },
  {
   "cell_type": "code",
   "execution_count": 611,
   "id": "82be26f9-d73c-4467-9a62-27bedc354ab6",
   "metadata": {},
   "outputs": [],
   "source": [
    "# 정규화\n",
    "from sklearn.preprocessing import StandardScaler\n",
    "ss = StandardScaler()\n",
    "ss.fit(train_input, train_target)\n",
    "train_scaled = ss.transform(train_input)\n",
    "test_scaled = ss.transform(test_input)"
   ]
  },
  {
   "cell_type": "markdown",
   "id": "90e59e2f-c11e-40a7-98f6-1ddd0d55296c",
   "metadata": {},
   "source": [
    "## KNN 분류모델"
   ]
  },
  {
   "cell_type": "code",
   "execution_count": 612,
   "id": "997d9e06-3217-44bf-8115-eff685b0b7fe",
   "metadata": {},
   "outputs": [
    {
     "name": "stdout",
     "output_type": "stream",
     "text": [
      "KNN 훈련데이터 정확도 : 0.955\n",
      "KNN 테스트데이터 정확도 : 0.947\n"
     ]
    }
   ],
   "source": [
    "## KNN 분류모델 생성\n",
    "from sklearn.neighbors import KNeighborsClassifier\n",
    "kn = KNeighborsClassifier(n_neighbors=5)\n",
    "kn.fit(train_scaled, train_target)\n",
    "print('KNN 훈련데이터 정확도 :', round(kn.score(train_scaled, train_target),3))\n",
    "print('KNN 테스트데이터 정확도 :', round(kn.score(test_scaled, test_target),3))"
   ]
  },
  {
   "cell_type": "code",
   "execution_count": 624,
   "id": "ee381208-c268-40b1-8d13-d321b02eb577",
   "metadata": {},
   "outputs": [
    {
     "name": "stdout",
     "output_type": "stream",
     "text": [
      "-------------입력된 값의 품종------------\n",
      "[0 2 0 1 2]\n",
      "0 = setosa, 1 = versicolor, 2 = virginica\n"
     ]
    }
   ],
   "source": [
    "# 데이터 입력 -> 분류 확인\n",
    "print('-------------입력된 값의 품종------------')\n",
    "print(kn.predict(test_scaled[:5]))\n",
    "print('0 = setosa, 1 = versicolor, 2 = virginica')"
   ]
  },
  {
   "cell_type": "code",
   "execution_count": 535,
   "id": "7d131b67-3759-48d1-9e49-eca8e6e9aa52",
   "metadata": {},
   "outputs": [],
   "source": [
    "# <해석>\n",
    "# 기존 데이터 랜덤값 seed = 12\n",
    "# KNN 모델의 n_neighbors = 5\n",
    "# 훈련 데이터 정확도 : 0.955\n",
    "# 테스트 데이터 정확도 : 0.947\n",
    "# 전체적인 정확도는 좋다고 할 수 있으나\n",
    "# 테스트 데이터 정확도가 낮으므로 과대적합이 의심됨"
   ]
  },
  {
   "cell_type": "markdown",
   "id": "368110fb-db04-4a08-8d19-b20491bb447d",
   "metadata": {},
   "source": [
    "## 로지스틱 회귀분류모델\n",
    "### 소프트맥스(다중분류)"
   ]
  },
  {
   "cell_type": "code",
   "execution_count": 553,
   "id": "3b07ad68-95ee-4d07-8fe9-07f6896c31a3",
   "metadata": {},
   "outputs": [
    {
     "name": "stdout",
     "output_type": "stream",
     "text": [
      "소프트맥스 훈련데이터 정확도: 0.982\n",
      "소프트맥스 테스트데이터 정확도: 0.974\n"
     ]
    }
   ],
   "source": [
    "# 로지스틱 회귀분류모델 생성 - 소프트맥스(다중분류)\n",
    "from sklearn.linear_model import LogisticRegression\n",
    "lr_soft = LogisticRegression(C= 52, max_iter=1000)\n",
    "lr_soft.fit(train_scaled, train_target)\n",
    "print('소프트맥스 훈련데이터 정확도:', round(lr_soft.score(train_scaled,train_target),3))\n",
    "print('소프트맥스 테스트데이터 정확도:', round(lr_soft.score(test_scaled,test_target),3))"
   ]
  },
  {
   "cell_type": "code",
   "execution_count": 625,
   "id": "c986f406-5776-4d0c-91dd-04642709c7ce",
   "metadata": {},
   "outputs": [
    {
     "name": "stdout",
     "output_type": "stream",
     "text": [
      "-------------입력된 값의 품종------------\n",
      "[0 2 0 1 2]\n",
      "0 = setosa, 1 = versicolor, 2 = virginica\n"
     ]
    }
   ],
   "source": [
    "# 데이터 입력 -> 분류 확인\n",
    "print('-------------입력된 값의 품종------------')\n",
    "print(lr_soft.predict(test_scaled[:5]))\n",
    "print('0 = setosa, 1 = versicolor, 2 = virginica')"
   ]
  },
  {
   "cell_type": "code",
   "execution_count": 555,
   "id": "7b850acd-fbb6-4e87-b160-8fe627cbcb37",
   "metadata": {},
   "outputs": [
    {
     "name": "stdout",
     "output_type": "stream",
     "text": [
      "-----범주 순서-----\n",
      "[0 1 2]\n",
      "\n",
      "----범주별 확률----\n",
      "[[1.    0.    0.   ]\n",
      " [0.    0.007 0.993]\n",
      " [0.999 0.001 0.   ]\n",
      " [0.001 0.999 0.001]\n",
      " [0.    0.    1.   ]]\n"
     ]
    }
   ],
   "source": [
    "# 훈련모델이 가지고있는 범주 순서\n",
    "print('-----범주 순서-----')\n",
    "print(lr_soft.classes_)\n",
    "print()\n",
    "\n",
    "# 전체 범주별 확률 확인\n",
    "proba = lr_soft.predict_proba(test_scaled[:5])\n",
    "print('----범주별 확률----')\n",
    "print(np.round(proba, decimals= 3))"
   ]
  },
  {
   "cell_type": "code",
   "execution_count": 556,
   "id": "e8bc2665-7c8b-4fb3-9bbc-06094657c5a9",
   "metadata": {},
   "outputs": [
    {
     "name": "stdout",
     "output_type": "stream",
     "text": [
      "---------------계수(가중치)--------------\n",
      "[[-1.64569253  2.39737152 -3.44153344 -3.33374848  0.28059564 -2.40578575]\n",
      " [ 1.55189859 -0.02997706 -1.40849115  0.20453389 -0.47811128 -2.50776199]\n",
      " [ 0.09379394 -2.36739445  4.85002458  3.12921458  0.19751564  4.91354774]]\n",
      "\n",
      "------------------y절편------------------\n",
      "[-0.35075206  4.71000911 -4.35925705]\n"
     ]
    }
   ],
   "source": [
    "# 계수(또는 가중치) 및 y절편값 조회하기\n",
    "print('---------------계수(가중치)--------------')\n",
    "print(lr_soft.coef_)\n",
    "print()\n",
    "print('------------------y절편------------------')\n",
    "print(lr_soft.intercept_)"
   ]
  },
  {
   "cell_type": "code",
   "execution_count": 558,
   "id": "50a5a4d3-792d-4ea9-b9a6-02b4780e7d63",
   "metadata": {},
   "outputs": [
    {
     "name": "stdout",
     "output_type": "stream",
     "text": [
      "------------z값------------\n",
      "[[ 15.758   7.868 -23.626]\n",
      " [-11.477   3.234   8.243]\n",
      " [ 14.236   7.436 -21.673]\n",
      " [ -2.082   4.837  -2.755]\n",
      " [-13.547   0.501  13.046]]\n",
      "\n",
      "------소프트맥스 확률------\n",
      "[[1.    0.    0.   ]\n",
      " [0.    0.007 0.993]\n",
      " [0.999 0.001 0.   ]\n",
      " [0.001 0.999 0.001]\n",
      " [0.    0.    1.   ]]\n"
     ]
    }
   ],
   "source": [
    "# 소프트맥스 함수를 통한 확률 공식\n",
    "\n",
    "# z값 조회하기\n",
    "decisions = lr_soft.decision_function(test_scaled[:5])\n",
    "print('------------z값------------')\n",
    "print(np.round(decisions, decimals=3))\n",
    "print()\n",
    "\n",
    "# 소프트맥스(softmax)\n",
    "    # 사용하는 패키지 : scipy.special\n",
    "    # 사용하는 모듈 : softmax\n",
    "\n",
    "from scipy.special import softmax\n",
    "proba = softmax(decisions, axis=1)\n",
    "print('------소프트맥스 확률------')\n",
    "print(np.round(proba, decimals=3))"
   ]
  },
  {
   "cell_type": "code",
   "execution_count": 598,
   "id": "939302c1-60d7-4a7f-aed4-d8673a80a31a",
   "metadata": {},
   "outputs": [],
   "source": [
    "# <해석>\n",
    "# 기존 데이터 랜덤값 seed = 12\n",
    "# 로지스틱회귀분류 모델 C = 52, max_iter =1000\n",
    "# 훈련 데이터 정확도 : 0.982\n",
    "# 테스트 데이터 정확도 : 0.974\n",
    "# 전체적인 정확도는 우수하다고 할 수 있으나\n",
    "# 테스트 데이터 정확도가 낮으므로 과대적합이 의심됨"
   ]
  },
  {
   "cell_type": "markdown",
   "id": "a5112f59-40c8-4f99-9489-8bdb9b4032f7",
   "metadata": {},
   "source": [
    "## 로지스틱 회귀분류모델\n",
    "### 시그모이드(이진분류)"
   ]
  },
  {
   "cell_type": "code",
   "execution_count": 560,
   "id": "dc139a15-85c2-4344-a635-a07cc9e1f154",
   "metadata": {},
   "outputs": [
    {
     "name": "stdout",
     "output_type": "stream",
     "text": [
      "35\n",
      "38\n",
      "39\n"
     ]
    }
   ],
   "source": [
    "# 최대한 비슷한 갯수의 종류 2가지 선정\n",
    "# 0 = setosa, 1 = versicolor, 2 = virginica\n",
    "print(len(train_target[train_target == 0])) # 35개 \n",
    "print(len(train_target[train_target == 1])) # 38개 선택\n",
    "print(len(train_target[train_target == 2])) # 39개 선택"
   ]
  },
  {
   "cell_type": "code",
   "execution_count": 447,
   "id": "f35d7085-1038-45df-8aa7-1fc085ccca63",
   "metadata": {},
   "outputs": [],
   "source": [
    "ve_vi_train_input = train_scaled[(train_target == 1) | (train_target == 2)]\n",
    "ve_vi_train_target = train_target[(train_target == 1) | (train_target == 2)]"
   ]
  },
  {
   "cell_type": "code",
   "execution_count": 448,
   "id": "4238de9c-3d3f-44b7-95dc-048fe33ae586",
   "metadata": {},
   "outputs": [],
   "source": [
    "ve_vi_test_input = test_scaled[(test_target == 1) | (test_target == 2)]\n",
    "ve_vi_test_target = test_target[(test_target == 1) | (test_target == 2)]"
   ]
  },
  {
   "cell_type": "code",
   "execution_count": 577,
   "id": "0434ece1-ddf1-41ff-b55f-71507de99ae8",
   "metadata": {},
   "outputs": [
    {
     "name": "stdout",
     "output_type": "stream",
     "text": [
      "시그모이드 훈련데이터 정확도: 0.961\n",
      "시그모이드 테스트데이터 정확도: 0.957\n"
     ]
    }
   ],
   "source": [
    "# 로지스틱 회귀분류모델 생성 - 시그모이드(이진분류)\n",
    "from sklearn.linear_model import LogisticRegression\n",
    "lr_sig = LogisticRegression(C= 52, max_iter=1000)\n",
    "lr_sig.fit(ve_vi_train_input, ve_vi_train_target)\n",
    "print('시그모이드 훈련데이터 정확도:', round(lr_sig.score(ve_vi_train_input,ve_vi_train_target),3))\n",
    "print('시그모이드 테스트데이터 정확도:', round(lr_sig.score(ve_vi_test_input,ve_vi_test_target),3))"
   ]
  },
  {
   "cell_type": "code",
   "execution_count": 627,
   "id": "ae628b8a-4a32-46ca-852b-272277b233df",
   "metadata": {},
   "outputs": [
    {
     "name": "stdout",
     "output_type": "stream",
     "text": [
      "-------------입력된 값의 품종------------\n",
      "[2 1 2 2 2]\n",
      "1 = versicolor, 2 = virginica\n"
     ]
    }
   ],
   "source": [
    "# 데이터 입력 -> 분류 확인\n",
    "print('-------------입력된 값의 품종------------')\n",
    "print(lr_sig.predict(ve_vi_test_input[:5]))\n",
    "print('1 = versicolor, 2 = virginica')"
   ]
  },
  {
   "cell_type": "code",
   "execution_count": 579,
   "id": "0c057f2c-3dc7-49e8-832d-121b545aa2f3",
   "metadata": {},
   "outputs": [
    {
     "name": "stdout",
     "output_type": "stream",
     "text": [
      "-----범주 순서-----\n",
      "[1 2]\n",
      "\n",
      "----범주별 확률----\n",
      "[[0.007 0.993]\n",
      " [0.999 0.001]\n",
      " [0.    1.   ]\n",
      " [0.012 0.988]\n",
      " [0.    1.   ]]\n"
     ]
    }
   ],
   "source": [
    "# 훈련모델이 가지고있는 범주 순서\n",
    "print('-----범주 순서-----')\n",
    "print(lr_sig.classes_)\n",
    "print()\n",
    "\n",
    "# 전체 범주별 확률 확인\n",
    "proba = lr_sig.predict_proba(ve_vi_test_input[:5])\n",
    "print('----범주별 확률----')\n",
    "print(np.round(proba, decimals= 3))"
   ]
  },
  {
   "cell_type": "code",
   "execution_count": 580,
   "id": "803ebe63-a78f-47e7-afaa-8c09f494798d",
   "metadata": {},
   "outputs": [
    {
     "name": "stdout",
     "output_type": "stream",
     "text": [
      "---------------계수(가중치)--------------\n",
      "[[-0.91513323 -1.8437027   6.28111988  3.74234821  0.05666134  6.19774771]]\n",
      "\n",
      "------------------y절편------------------\n",
      "[-8.99228303]\n"
     ]
    }
   ],
   "source": [
    "# 계수(또는 가중치) 및 y절편값 조회하기\n",
    "print('---------------계수(가중치)--------------')\n",
    "print(lr_sig.coef_)\n",
    "print()\n",
    "print('------------------y절편------------------')\n",
    "print(lr_sig.intercept_)"
   ]
  },
  {
   "cell_type": "code",
   "execution_count": 582,
   "id": "e878914c-148a-4449-85fa-843d8af6a65d",
   "metadata": {},
   "outputs": [
    {
     "name": "stdout",
     "output_type": "stream",
     "text": [
      "------------z값------------\n",
      "[ 4.937 -7.317 11.915  4.416  8.39 ]\n",
      "\n",
      "------시그모이드 확률------\n",
      "------1의 값을 나타냄------\n",
      "[0.993 0.001 1.    0.988 1.   ]\n"
     ]
    }
   ],
   "source": [
    "# 시그모이드 함수를 통한 확률 공식\n",
    "\n",
    "# z값 조회하기\n",
    "decisions = lr_sig.decision_function(ve_vi_test_input[:5])\n",
    "print('------------z값------------')\n",
    "print(np.round(decisions, decimals=3))\n",
    "print()\n",
    "\n",
    "# 시그모이드 함수 : scipy패키지의 expit()\n",
    "from scipy.special import expit\n",
    "print('------시그모이드 확률------')\n",
    "print('------1의 값을 나타냄------')\n",
    "print(np.round(expit(decisions), decimals=3))"
   ]
  },
  {
   "cell_type": "code",
   "execution_count": 638,
   "id": "f672e789-f64e-4a37-a46f-fc13c2df6464",
   "metadata": {},
   "outputs": [
    {
     "data": {
      "image/png": "[encoded data removed]",
      "text/plain": [
       "<Figure size 2000x1000 with 1 Axes>"
      ]
     },
     "metadata": {},
     "output_type": "display_data"
    }
   ],
   "source": [
    "# 시그모이드 함수 시각화\n",
    "\n",
    "z = np.arange(decisions.min(), decisions.max(), 0.1)\n",
    "\n",
    "# 시그모이드 공식 사용\n",
    "    # np.exp() : 0 ~ 1 지수로 변환하기\n",
    "    #          : z값의 스케일을 통일 시키기 위해서\n",
    "    #          : z값은 음수로 처리(제곱승 시에 분모로 계산)\n",
    "    #          : 2^(-2) = 1/(2^2), 2^0 = 1\n",
    "    \n",
    "phi = 1 / (1 + np.exp(-z))\n",
    "\n",
    "fig = plt.figure(figsize=(20,10))\n",
    "plt.rc('font', family = 'Malgun Gothic', size = 18)\n",
    "plt.title('시그모이드 시각화', pad=30)\n",
    "\n",
    "plt.plot(z, phi)\n",
    "plt.show()"
   ]
  },
  {
   "cell_type": "code",
   "execution_count": 634,
   "id": "bd6a961e-6cc8-4dc1-a606-1dfca267fd8b",
   "metadata": {},
   "outputs": [],
   "source": [
    "# <해석>\n",
    "# 기존 데이터 랜덤값 seed = 12\n",
    "# 로지스틱회귀분류 모델 C = 52, max_iter =1000\n",
    "# 훈련 데이터 정확도 :  0.961\n",
    "# 테스트 데이터 정확도 : 0.957\n",
    "# 전체적인 정확도는 매우 좋다고 할 수 있으나\n",
    "# 테스트 데이터 정확도가 낮으므로 과대적합이 의심됨"
   ]
  }
 ],
 "metadata": {
  "kernelspec": {
   "display_name": "ml_kernel",
   "language": "python",
   "name": "ml"
  },
  "language_info": {
   "codemirror_mode": {
    "name": "ipython",
    "version": 3
   },
   "file_extension": ".py",
   "mimetype": "text/x-python",
   "name": "python",
   "nbconvert_exporter": "python",
   "pygments_lexer": "ipython3",
   "version": "3.9.12"
  }
 },
 "nbformat": 4,
 "nbformat_minor": 5
}
