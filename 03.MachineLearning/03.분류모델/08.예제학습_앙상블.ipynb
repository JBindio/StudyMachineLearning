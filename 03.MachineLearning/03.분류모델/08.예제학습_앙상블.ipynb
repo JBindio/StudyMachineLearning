{
 "cells": [
  {
   "cell_type": "code",
   "execution_count": 2,
   "id": "28efba28-41af-49ec-80c4-697a71a381e7",
   "metadata": {},
   "outputs": [],
   "source": [
    "import pandas as pd\n",
    "import numpy as np\n",
    "import matplotlib\n",
    "import matplotlib.pyplot as plt\n",
    "from matplotlib import font_manager, rc\n",
    "import seaborn as sns\n",
    "import platform\n",
    "\n",
    "# seaborn 설정 리셋\n",
    "sns.reset_defaults()\n",
    "\n",
    "# 폰트설정\n",
    "if platform.system() == 'Windows' :\n",
    "    path = 'c:/Windows/Fonts/malgun.ttf'\n",
    "    font_name = font_manager.FontProperties(fname=path).get_name()\n",
    "    rc('font', family=font_name)\n",
    "elif platform.system() == 'Darwin':\n",
    "    rc('font', family='AppleGothic')\n",
    "else :\n",
    "    print('Check your OS System')\n",
    "    \n",
    "# 그래프에 마이너스 표시\n",
    "matplotlib.rcParams['axes.unicode_minus'] = False"
   ]
  },
  {
   "cell_type": "code",
   "execution_count": 15,
   "id": "99b1234d-e408-4874-9bbf-6b329a373833",
   "metadata": {},
   "outputs": [],
   "source": [
    "# 데이터 불러오기\n",
    "from sklearn.datasets import load_wine\n",
    "\n",
    "wine = load_wine()"
   ]
  },
  {
   "cell_type": "code",
   "execution_count": 7,
   "id": "bba5a34d-7dba-4ee6-b9e6-2047f5192cfc",
   "metadata": {},
   "outputs": [
    {
     "data": {
      "text/plain": [
       "dict_keys(['data', 'target', 'frame', 'target_names', 'DESCR', 'feature_names'])"
      ]
     },
     "execution_count": 7,
     "metadata": {},
     "output_type": "execute_result"
    }
   ],
   "source": [
    "wine.keys()"
   ]
  },
  {
   "cell_type": "code",
   "execution_count": 17,
   "id": "bd5e32f3-9542-4aa7-a913-b9cabc14d53f",
   "metadata": {},
   "outputs": [],
   "source": [
    "# 독립변수, 종속변수 분리\n",
    "data = wine['data']\n",
    "target = wine['target']"
   ]
  },
  {
   "cell_type": "code",
   "execution_count": 18,
   "id": "dea2d504-61aa-42d6-ab37-62c227a917af",
   "metadata": {},
   "outputs": [],
   "source": [
    "# 훈련데이터, 테스트데이터 분리\n",
    "from sklearn.model_selection import train_test_split\n",
    "\n",
    "train_input, test_input, train_target, test_target = \\\n",
    "    train_test_split(data, target, random_state=42)"
   ]
  },
  {
   "cell_type": "code",
   "execution_count": 19,
   "id": "71d85a73-769f-4845-aee0-4520e46b2ebc",
   "metadata": {},
   "outputs": [
    {
     "name": "stdout",
     "output_type": "stream",
     "text": [
      "(133, 13) (133,)\n",
      "(45, 13) (45,)\n"
     ]
    }
   ],
   "source": [
    "# 분리 확인\n",
    "print(train_input.shape, train_target.shape)\n",
    "print(test_input.shape, test_target.shape)"
   ]
  },
  {
   "cell_type": "code",
   "execution_count": 23,
   "id": "12d97576-7c04-44d9-8ffa-21bdfbebe25f",
   "metadata": {},
   "outputs": [],
   "source": [
    "# 교차검증 패키지, 클래스 불러오기\n",
    "from sklearn.model_selection import cross_validate"
   ]
  },
  {
   "cell_type": "markdown",
   "id": "c25e73c9-3b5e-4079-89e0-6c3dcbf11359",
   "metadata": {},
   "source": [
    "## 1. 랜덤포레스트"
   ]
  },
  {
   "cell_type": "code",
   "execution_count": 29,
   "id": "e7e8dac8-bcd3-4b19-bed7-b401c6b78145",
   "metadata": {},
   "outputs": [
    {
     "name": "stdout",
     "output_type": "stream",
     "text": [
      "<랜덤포레스트>   훈련데이터 정확도 : 1.0\n",
      "<랜덤포레스트> 테스트데이터 정확도 : 0.9701\n"
     ]
    }
   ],
   "source": [
    "from sklearn.ensemble import RandomForestClassifier\n",
    "\n",
    "rf = RandomForestClassifier(n_jobs=-1, random_state=12)\n",
    "scores = cross_validate(rf, train_input, train_target,\n",
    "                        return_train_score= True, n_jobs=-1)\n",
    "\n",
    "print('<랜덤포레스트>   훈련데이터 정확도 :', round(scores['train_score'].mean(),4))\n",
    "print('<랜덤포레스트> 테스트데이터 정확도 :', round(scores['test_score'].mean(),4))"
   ]
  },
  {
   "cell_type": "code",
   "execution_count": 38,
   "id": "bae4be19-8992-4688-b460-b969f0800d44",
   "metadata": {},
   "outputs": [
    {
     "name": "stdout",
     "output_type": "stream",
     "text": [
      "<특성 중요도>\n",
      "[0.1028361  0.01964014 0.0154432  0.03086936 0.028848   0.08150926\n",
      " 0.17782879 0.00761759 0.02277321 0.1801928  0.06908495 0.12620187\n",
      " 0.13715473]\n"
     ]
    }
   ],
   "source": [
    "# 특성 중요도 확인\n",
    "rf.fit(train_input, train_target)\n",
    "print('<특성 중요도>')\n",
    "print(rf.feature_importances_)"
   ]
  },
  {
   "cell_type": "code",
   "execution_count": 61,
   "id": "7130b5a9-bc9c-4535-87c7-3bc6bba8c520",
   "metadata": {},
   "outputs": [],
   "source": [
    "feature = wine['feature_names']\n",
    "feature_importances = rf.feature_importances_"
   ]
  },
  {
   "cell_type": "code",
   "execution_count": 76,
   "id": "1fe87aa9-2f21-4e16-9a11-e956e4c89e03",
   "metadata": {},
   "outputs": [],
   "source": [
    "wine_df = pd.DataFrame(columns=['feature', 'feature_importances'])\n",
    "wine_df['feature'] = feature\n",
    "wine_df['feature_importances'] = feature_importances"
   ]
  },
  {
   "cell_type": "code",
   "execution_count": 81,
   "id": "5a0f949c-6065-4ab7-9082-f7bd9dc2b42c",
   "metadata": {},
   "outputs": [
    {
     "data": {
      "text/html": [
       "<div>\n",
       "<style scoped>\n",
       "    .dataframe tbody tr th:only-of-type {\n",
       "        vertical-align: middle;\n",
       "    }\n",
       "\n",
       "    .dataframe tbody tr th {\n",
       "        vertical-align: top;\n",
       "    }\n",
       "\n",
       "    .dataframe thead th {\n",
       "        text-align: right;\n",
       "    }\n",
       "</style>\n",
       "<table border=\"1\" class=\"dataframe\">\n",
       "  <thead>\n",
       "    <tr style=\"text-align: right;\">\n",
       "      <th></th>\n",
       "      <th>feature</th>\n",
       "      <th>feature_importances</th>\n",
       "    </tr>\n",
       "  </thead>\n",
       "  <tbody>\n",
       "    <tr>\n",
       "      <th>0</th>\n",
       "      <td>color_intensity</td>\n",
       "      <td>0.180193</td>\n",
       "    </tr>\n",
       "    <tr>\n",
       "      <th>1</th>\n",
       "      <td>flavanoids</td>\n",
       "      <td>0.177829</td>\n",
       "    </tr>\n",
       "    <tr>\n",
       "      <th>2</th>\n",
       "      <td>proline</td>\n",
       "      <td>0.137155</td>\n",
       "    </tr>\n",
       "    <tr>\n",
       "      <th>3</th>\n",
       "      <td>od280/od315_of_diluted_wines</td>\n",
       "      <td>0.126202</td>\n",
       "    </tr>\n",
       "    <tr>\n",
       "      <th>4</th>\n",
       "      <td>alcohol</td>\n",
       "      <td>0.102836</td>\n",
       "    </tr>\n",
       "    <tr>\n",
       "      <th>5</th>\n",
       "      <td>total_phenols</td>\n",
       "      <td>0.081509</td>\n",
       "    </tr>\n",
       "    <tr>\n",
       "      <th>6</th>\n",
       "      <td>hue</td>\n",
       "      <td>0.069085</td>\n",
       "    </tr>\n",
       "    <tr>\n",
       "      <th>7</th>\n",
       "      <td>alcalinity_of_ash</td>\n",
       "      <td>0.030869</td>\n",
       "    </tr>\n",
       "    <tr>\n",
       "      <th>8</th>\n",
       "      <td>magnesium</td>\n",
       "      <td>0.028848</td>\n",
       "    </tr>\n",
       "    <tr>\n",
       "      <th>9</th>\n",
       "      <td>proanthocyanins</td>\n",
       "      <td>0.022773</td>\n",
       "    </tr>\n",
       "    <tr>\n",
       "      <th>10</th>\n",
       "      <td>malic_acid</td>\n",
       "      <td>0.019640</td>\n",
       "    </tr>\n",
       "    <tr>\n",
       "      <th>11</th>\n",
       "      <td>ash</td>\n",
       "      <td>0.015443</td>\n",
       "    </tr>\n",
       "    <tr>\n",
       "      <th>12</th>\n",
       "      <td>nonflavanoid_phenols</td>\n",
       "      <td>0.007618</td>\n",
       "    </tr>\n",
       "  </tbody>\n",
       "</table>\n",
       "</div>"
      ],
      "text/plain": [
       "                         feature  feature_importances\n",
       "0                color_intensity             0.180193\n",
       "1                     flavanoids             0.177829\n",
       "2                        proline             0.137155\n",
       "3   od280/od315_of_diluted_wines             0.126202\n",
       "4                        alcohol             0.102836\n",
       "5                  total_phenols             0.081509\n",
       "6                            hue             0.069085\n",
       "7              alcalinity_of_ash             0.030869\n",
       "8                      magnesium             0.028848\n",
       "9                proanthocyanins             0.022773\n",
       "10                    malic_acid             0.019640\n",
       "11                           ash             0.015443\n",
       "12          nonflavanoid_phenols             0.007618"
      ]
     },
     "execution_count": 81,
     "metadata": {},
     "output_type": "execute_result"
    }
   ],
   "source": [
    "wine_df = wine_df.sort_values(by='feature_importances', ascending=False).reset_index(drop=True)\n",
    "wine_df"
   ]
  },
  {
   "cell_type": "code",
   "execution_count": 84,
   "id": "0e14121b-1357-48af-a11a-4987ed5129b4",
   "metadata": {},
   "outputs": [
    {
     "name": "stdout",
     "output_type": "stream",
     "text": [
      "<랜덤포레스트> 최종테스트 정확도 : 1.0\n"
     ]
    }
   ],
   "source": [
    "print('<랜덤포레스트> 최종테스트 정확도 :',rf.score(test_input, test_target))"
   ]
  },
  {
   "cell_type": "markdown",
   "id": "b4c644bf-987e-4267-94ce-b0b238b09c06",
   "metadata": {},
   "source": [
    "## 2. 엑스트라 트리"
   ]
  },
  {
   "cell_type": "code",
   "execution_count": 86,
   "id": "ee431071-124a-4b8e-9cc8-5fe01de29df4",
   "metadata": {},
   "outputs": [
    {
     "name": "stdout",
     "output_type": "stream",
     "text": [
      "<엑스트라트리>   훈련데이터 정확도 : 1.0\n",
      "<엑스트라트리> 테스트데이터 정확도 : 0.9701\n"
     ]
    }
   ],
   "source": [
    "from sklearn.ensemble import ExtraTreesClassifier\n",
    "\n",
    "et = ExtraTreesClassifier(n_jobs=-1, random_state=12)\n",
    "\n",
    "scores = cross_validate(et, train_input, train_target,\n",
    "                        return_train_score= True, n_jobs= -1)\n",
    "\n",
    "print('<엑스트라트리>   훈련데이터 정확도 :', round(scores['train_score'].mean(),4))\n",
    "print('<엑스트라트리> 테스트데이터 정확도 :', round(scores['test_score'].mean(),4))"
   ]
  },
  {
   "cell_type": "code",
   "execution_count": null,
   "id": "8c1e7f4e-a33c-4cd6-a9f8-17efe63ae5b0",
   "metadata": {},
   "outputs": [],
   "source": []
  },
  {
   "cell_type": "code",
   "execution_count": null,
   "id": "e1c9958b-a8c9-49d5-ac12-80ea0e6e7e27",
   "metadata": {},
   "outputs": [],
   "source": []
  },
  {
   "cell_type": "code",
   "execution_count": null,
   "id": "6cb7445e-c476-49ab-9050-f72c7489d688",
   "metadata": {},
   "outputs": [],
   "source": []
  },
  {
   "cell_type": "code",
   "execution_count": null,
   "id": "5a572b78-c9e2-4103-9011-e736b09256b5",
   "metadata": {},
   "outputs": [],
   "source": []
  },
  {
   "cell_type": "code",
   "execution_count": null,
   "id": "c168cd73-05eb-4aff-a9b2-3428b28dbbb2",
   "metadata": {},
   "outputs": [],
   "source": []
  },
  {
   "cell_type": "code",
   "execution_count": null,
   "id": "c62f7699-288f-431b-b43b-11a313222e4b",
   "metadata": {},
   "outputs": [],
   "source": []
  },
  {
   "cell_type": "code",
   "execution_count": null,
   "id": "7ed76ca8-0282-4ace-81c2-9d58208b6e34",
   "metadata": {},
   "outputs": [],
   "source": []
  },
  {
   "cell_type": "code",
   "execution_count": null,
   "id": "25021b5a-f46b-47d5-836b-fd9345048f8a",
   "metadata": {},
   "outputs": [],
   "source": []
  },
  {
   "cell_type": "code",
   "execution_count": null,
   "id": "1090243d-6d7e-47b4-a6e3-5759621daa4b",
   "metadata": {},
   "outputs": [],
   "source": []
  },
  {
   "cell_type": "code",
   "execution_count": null,
   "id": "bbb4f5ad-4e21-4824-88c2-e188fd01c482",
   "metadata": {},
   "outputs": [],
   "source": []
  },
  {
   "cell_type": "code",
   "execution_count": null,
   "id": "d8c44d69-a41a-4092-a172-b5cc4d0b6eb5",
   "metadata": {},
   "outputs": [],
   "source": []
  }
 ],
 "metadata": {
  "kernelspec": {
   "display_name": "ml_kernel",
   "language": "python",
   "name": "ml"
  },
  "language_info": {
   "codemirror_mode": {
    "name": "ipython",
    "version": 3
   },
   "file_extension": ".py",
   "mimetype": "text/x-python",
   "name": "python",
   "nbconvert_exporter": "python",
   "pygments_lexer": "ipython3",
   "version": "3.9.12"
  }
 },
 "nbformat": 4,
 "nbformat_minor": 5
}
