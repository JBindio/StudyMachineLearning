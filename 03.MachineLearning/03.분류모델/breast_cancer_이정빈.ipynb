{
 "cells": [
  {
   "cell_type": "code",
   "execution_count": 38,
   "id": "0c5f27f9-9cf0-4fdc-89a0-02a29bfdd2c8",
   "metadata": {},
   "outputs": [],
   "source": [
    "import pandas as pd\n",
    "import numpy as np\n",
    "import matplotlib\n",
    "import matplotlib.pyplot as plt\n",
    "from matplotlib import font_manager, rc\n",
    "import seaborn as sns\n",
    "import platform\n",
    "\n",
    "# seaborn 설정 리셋\n",
    "sns.reset_defaults()\n",
    "\n",
    "# 폰트설정\n",
    "if platform.system() == 'Windows' :\n",
    "    path = 'c:/Windows/Fonts/malgun.ttf'\n",
    "    font_name = font_manager.FontProperties(fname=path).get_name()\n",
    "    rc('font', family=font_name)\n",
    "elif platform.system() == 'Darwin':\n",
    "    rc('font', family='AppleGothic')\n",
    "else :\n",
    "    print('Check your OS System')\n",
    "    \n",
    "# 그래프에 마이너스 표시\n",
    "matplotlib.rcParams['axes.unicode_minus'] = False"
   ]
  },
  {
   "cell_type": "code",
   "execution_count": 8,
   "id": "bf93d4ad-8a8d-47ce-ac2e-d66193089326",
   "metadata": {},
   "outputs": [],
   "source": [
    "# 데이터 불러오기\n",
    "from sklearn.datasets import load_breast_cancer\n",
    "\n",
    "breast_cancer_data = load_breast_cancer()"
   ]
  },
  {
   "cell_type": "code",
   "execution_count": 9,
   "id": "4a57d9ab-6725-4c33-98f3-9bf3305f2ade",
   "metadata": {},
   "outputs": [
    {
     "data": {
      "text/plain": [
       "dict_keys(['data', 'target', 'frame', 'target_names', 'DESCR', 'feature_names', 'filename', 'data_module'])"
      ]
     },
     "execution_count": 9,
     "metadata": {},
     "output_type": "execute_result"
    }
   ],
   "source": [
    "breast_cancer_data.keys()"
   ]
  },
  {
   "cell_type": "code",
   "execution_count": 6,
   "id": "429d9357-742d-418b-8bc2-63c8a3df946a",
   "metadata": {},
   "outputs": [
    {
     "data": {
      "text/plain": [
       "array(['malignant', 'benign'], dtype='<U9')"
      ]
     },
     "execution_count": 6,
     "metadata": {},
     "output_type": "execute_result"
    }
   ],
   "source": [
    "breast_cancer_data['target_names']"
   ]
  },
  {
   "cell_type": "code",
   "execution_count": 7,
   "id": "edf275a0-0e51-4ea9-a3ba-fd1b53c17ddd",
   "metadata": {},
   "outputs": [
    {
     "data": {
      "text/plain": [
       "array(['mean radius', 'mean texture', 'mean perimeter', 'mean area',\n",
       "       'mean smoothness', 'mean compactness', 'mean concavity',\n",
       "       'mean concave points', 'mean symmetry', 'mean fractal dimension',\n",
       "       'radius error', 'texture error', 'perimeter error', 'area error',\n",
       "       'smoothness error', 'compactness error', 'concavity error',\n",
       "       'concave points error', 'symmetry error',\n",
       "       'fractal dimension error', 'worst radius', 'worst texture',\n",
       "       'worst perimeter', 'worst area', 'worst smoothness',\n",
       "       'worst compactness', 'worst concavity', 'worst concave points',\n",
       "       'worst symmetry', 'worst fractal dimension'], dtype='<U23')"
      ]
     },
     "execution_count": 7,
     "metadata": {},
     "output_type": "execute_result"
    }
   ],
   "source": [
    "breast_cancer_data['feature_names']"
   ]
  },
  {
   "cell_type": "code",
   "execution_count": 11,
   "id": "c26a126f-92f6-4974-a99b-ea3726b1f865",
   "metadata": {},
   "outputs": [],
   "source": [
    "# 독립변수, 종속변수 분리\n",
    "data = breast_cancer_data['data']\n",
    "target = breast_cancer_data['target']"
   ]
  },
  {
   "cell_type": "code",
   "execution_count": 71,
   "id": "d7f2140a-1373-4b14-9a62-393703467bc4",
   "metadata": {},
   "outputs": [],
   "source": [
    "# 훈련데이터, 최종데이터 분리\n",
    "from sklearn.model_selection import train_test_split\n",
    "\n",
    "train_input, test_input, train_target, test_target = \\\n",
    "    train_test_split(data, target, random_state=42)"
   ]
  },
  {
   "cell_type": "code",
   "execution_count": null,
   "id": "2851fcec-05b7-4dbd-8b84-ec17850dcad1",
   "metadata": {},
   "outputs": [],
   "source": [
    "# ㅎ"
   ]
  },
  {
   "cell_type": "code",
   "execution_count": 72,
   "id": "934c39fb-f096-4613-aee1-ae1626d5b146",
   "metadata": {},
   "outputs": [
    {
     "name": "stdout",
     "output_type": "stream",
     "text": [
      "(426, 30) (426,)\n",
      "(143, 30) (143,)\n"
     ]
    }
   ],
   "source": [
    "# 분리 확인\n",
    "print(train_input.shape, train_target.shape)\n",
    "print(test_input.shape, test_target.shape)"
   ]
  },
  {
   "cell_type": "code",
   "execution_count": 73,
   "id": "5d064744-8203-4904-944d-191f55c2de45",
   "metadata": {},
   "outputs": [],
   "source": [
    "# 정규화\n",
    "from sklearn.preprocessing import StandardScaler\n",
    "ss = StandardScaler()\n",
    "ss.fit(train_input, train_target)\n",
    "\n",
    "train_scaled = ss.transform(train_input)\n",
    "test_scaled = ss.transform(test_input)"
   ]
  },
  {
   "cell_type": "code",
   "execution_count": 177,
   "id": "2758bb08-1c8f-46bc-8e30-fa3ba855ce63",
   "metadata": {},
   "outputs": [],
   "source": [
    "# 하이퍼파라미터 튜닝을 위한 그리드서치모델 불러오기\n",
    "from sklearn.model_selection import GridSearchCV"
   ]
  },
  {
   "cell_type": "code",
   "execution_count": 79,
   "id": "013d2e0c-cc81-46f4-bac8-80e5b616f47b",
   "metadata": {},
   "outputs": [],
   "source": [
    "# 교차검증 모델 불러오기\n",
    "from sklearn.model_selection import cross_validate"
   ]
  },
  {
   "cell_type": "markdown",
   "id": "6c492654-1318-43d8-b31f-2c2a1bfe3e6f",
   "metadata": {
    "tags": []
   },
   "source": [
    "## 1. KNN모델"
   ]
  },
  {
   "cell_type": "code",
   "execution_count": 104,
   "id": "28d05c53-4da4-4646-b30b-217a4b05353b",
   "metadata": {},
   "outputs": [],
   "source": [
    "# KNN모델 불러오기\n",
    "from sklearn.neighbors import KNeighborsClassifier"
   ]
  },
  {
   "cell_type": "code",
   "execution_count": 178,
   "id": "10f8bab6-75eb-47b9-8fcd-8aabc3c53aba",
   "metadata": {},
   "outputs": [
    {
     "name": "stdout",
     "output_type": "stream",
     "text": [
      "<KNN> 기본 훈련데이터 정확도 : 0.9343\n",
      "<KNN> 기본 테스트데이터 정확도 : 0.965\n"
     ]
    }
   ],
   "source": [
    "# 기본 데이터를 통한 모델 훈련 및 정확도 확인 (하이퍼파라미터 : default)\n",
    "kn = KNeighborsClassifier()\n",
    "\n",
    "kn.fit(train_input, train_target)\n",
    "\n",
    "print('<KNN> 기본 훈련데이터 정확도 :', round(kn.score(train_input, train_target),4))\n",
    "print('<KNN> 기본 테스트데이터 정확도 :', round(kn.score(test_input, test_target),4))\n",
    "\n",
    "# <해석>\n",
    "# 전체적인 정확도는 매우 좋으나 훈련데이터 과소적합 발생\n",
    "\n",
    "# <해결방안>\n",
    "# 데이터 표준화(정규화)실행 후 정확도 확인"
   ]
  },
  {
   "cell_type": "code",
   "execution_count": 179,
   "id": "604dde73-4d72-4a90-bf06-6b6f783a9278",
   "metadata": {},
   "outputs": [
    {
     "name": "stdout",
     "output_type": "stream",
     "text": [
      "<KNN> 정규화 훈련데이터 정확도 : 0.9789\n",
      "<KNN> 정규화 테스트데이터 정확도 : 0.958\n"
     ]
    }
   ],
   "source": [
    "# 정규화 데이터를 통한 모델 훈련 및 정확도 확인 (하이퍼파라미터 : default)\n",
    "kn = KNeighborsClassifier()\n",
    "\n",
    "kn.fit(train_scaled, train_target)\n",
    "\n",
    "print('<KNN> 정규화 훈련데이터 정확도 :', round(kn.score(train_scaled, train_target),4))\n",
    "print('<KNN> 정규화 테스트데이터 정확도 :', round(kn.score(test_scaled, test_target),4))\n",
    "\n",
    "# <해석>\n",
    "# 전체적인 정확도가 우수함 \n",
    "# 훈련데이터의 약간의 과대적합이 의심되나 0.02의 적은 오차로 적절하다고 판단됨"
   ]
  },
  {
   "cell_type": "code",
   "execution_count": 118,
   "id": "1d1f5b4e-8303-4c8a-bf77-122cfa604d18",
   "metadata": {},
   "outputs": [
    {
     "name": "stdout",
     "output_type": "stream",
     "text": [
      "<KNN> 튜닝   훈련데이터 정확도 : 0.9343\n",
      "<KNN> 튜닝 테스트데이터 정확도 : 0.9247\n"
     ]
    }
   ],
   "source": [
    "# 하이퍼파라미터 튜닝 및 교차검증을 통한 정확도 확인\n",
    "kn = KNeighborsClassifier()\n",
    "\n",
    "# 그리드 서치를 활용한 최적의 이웃갯수 값 탐색\n",
    "params = {'n_neighbors' : range(3, 51, 2)}\n",
    "gs = GridSearchCV(kn, params, n_jobs=-1)\n",
    "gs.fit(train_input, train_target)\n",
    "\n",
    "# 최적의 이웃갯수 값을 적용한 모델 생성\n",
    "kn = gs.best_estimator_\n",
    "\n",
    "# 교차검증을 통한 정확도 확인\n",
    "scores = cross_validate(kn, train_input, train_target,\n",
    "                        return_train_score=True, n_jobs=-1)\n",
    "\n",
    "print('<KNN> 튜닝   훈련데이터 정확도 :', round(scores['train_score'].mean(),4))\n",
    "print('<KNN> 튜닝 테스트데이터 정확도 :', round(scores['test_score'].mean(),4))\n",
    "\n",
    "# <해석>\n",
    "# 전체적인 정확도가 좋으나 정규화 모델보다 정확도가 떨어지는것을 확인\n",
    "# 훈련데이터의 약간의 과대적합이 의심되나 0.01의 적은 오차로 적절하다고 판단됨"
   ]
  },
  {
   "cell_type": "markdown",
   "id": "b4be8617-066a-4f43-ba86-1cc556f2c79e",
   "metadata": {
    "tags": []
   },
   "source": [
    "## 2. 로지스틱 회귀분류모델 "
   ]
  },
  {
   "cell_type": "code",
   "execution_count": 160,
   "id": "d46d5300-58c4-4a21-b94c-e74b5b0d90d4",
   "metadata": {},
   "outputs": [],
   "source": [
    "# 로지스틱 회귀분류모델 불러오기\n",
    "from sklearn.linear_model import LogisticRegression\n",
    "\n",
    "# 반복훈련횟수 설정 (독립변수의 갯수 * 100(기본값))\n",
    "max_iter = len(breast_cancer_data['feature_names']) * 100"
   ]
  },
  {
   "cell_type": "code",
   "execution_count": 180,
   "id": "a1b8e3ed-64db-4963-aec2-98404571614e",
   "metadata": {},
   "outputs": [
    {
     "name": "stdout",
     "output_type": "stream",
     "text": [
      "<로지스틱> 기본   훈련데이터 정확도 : 0.9601\n",
      "<로지스틱> 기본 테스트데이터 정확도 : 0.965\n"
     ]
    }
   ],
   "source": [
    "# 기본 데이터를 통한 모델 훈련 및 정확도 확인 (하이퍼파라미터 : max_iter = 독립변수의 갯수 * 100(기본값))\n",
    "lr = LogisticRegression(max_iter=3000)\n",
    "\n",
    "lr.fit(train_input, train_target)\n",
    "\n",
    "print('<로지스틱> 기본   훈련데이터 정확도 :', round(lr.score(train_input, train_target),4))\n",
    "print('<로지스틱> 기본 테스트데이터 정확도 :', round(lr.score(test_input, test_target),4))\n",
    "\n",
    "# <해석>\n",
    "# max_iter(훈련반복횟수) = 독립변수의 갯수 * 100(미지정시 경고창)\n",
    "# 전체적인 정확도는 우수하나 훈련데이터 과소적합 발생\n",
    "\n",
    "# <해결방안>\n",
    "# 데이터 표준화(정규화)실행 후 정확도 확인"
   ]
  },
  {
   "cell_type": "code",
   "execution_count": 190,
   "id": "7a50effd-083c-4f35-a337-99a045b31a20",
   "metadata": {},
   "outputs": [
    {
     "name": "stdout",
     "output_type": "stream",
     "text": [
      "<로지스틱> 정규화   훈련데이터 정확도 : 0.9859\n",
      "<로지스틱> 정규화 테스트데이터 정확도 : 0.979\n"
     ]
    }
   ],
   "source": [
    "# 기본 데이터를 통한 모델 훈련 및 정확도 확인 (하이퍼파라미터 : max_iter = 독립변수의 갯수 * 100(기본값))\n",
    "lr = LogisticRegression(max_iter = max_iter)\n",
    "\n",
    "lr.fit(train_scaled, train_target)\n",
    "\n",
    "print('<로지스틱> 정규화   훈련데이터 정확도 :', round(lr.score(train_scaled, train_target),4))\n",
    "print('<로지스틱> 정규화 테스트데이터 정확도 :', round(lr.score(test_scaled, test_target),4))\n",
    "\n",
    "# <해석>\n",
    "# max_iter(훈련반복횟수) = 독립변수의 갯수 * 100(미지정시 경고창)\n",
    "# 전체적인 정확도가 매우 우수함 \n",
    "# 훈련데이터의 아주 약간의 과대적합이 의심되나 0.006의 매우 적은 오차로 적절하다고 판단됨"
   ]
  },
  {
   "cell_type": "code",
   "execution_count": 191,
   "id": "de763e24-3897-4c35-8c3b-3f77bb8b638b",
   "metadata": {},
   "outputs": [
    {
     "name": "stdout",
     "output_type": "stream",
     "text": [
      "<로지스틱> 튜닝   훈련데이터 정확도 : 0.9466\n",
      "<로지스틱> 튜닝 테스트데이터 정확도 : 0.9343\n"
     ]
    }
   ],
   "source": [
    "# 하이퍼파라미터 튜닝 및 교차검증을 통한 정확도 확인\n",
    "lr = lr = LogisticRegression()\n",
    "\n",
    "# 그리드 서치를 활용한 최적의 가중치, 훈련반복횟수 값 탐색\n",
    "params = {'C' : np.arange(0.001, 0.01, 0.001),\n",
    "          'max_iter' : range(3000, 5000, 1000)}\n",
    "\n",
    "gs = GridSearchCV(lr, params, n_jobs=-1)\n",
    "gs.fit(train_input, train_target)\n",
    "\n",
    "# 최적의 이웃갯수 값을 적용한 모델 생성\n",
    "lr = gs.best_estimator_\n",
    "\n",
    "# # 교차검증을 통한 정확도 확인\n",
    "scores = cross_validate(lr, train_input, train_target,\n",
    "                        return_train_score=True, n_jobs=-1)\n",
    "\n",
    "print('<로지스틱> 튜닝   훈련데이터 정확도 :', round(scores['train_score'].mean(),4))\n",
    "print('<로지스틱> 튜닝 테스트데이터 정확도 :', round(scores['test_score'].mean(),4))\n",
    "\n",
    "# <해석>\n",
    "# 전체적인 정확도가 매우 좋으나 정규화 모델보다 정확도가 떨어지는것을 확인\n",
    "# 훈련데이터의 아주 약간의 과대적합이 의심되나 0.01의 매우 적은 오차로 적절하다고 판단됨"
   ]
  },
  {
   "cell_type": "markdown",
   "id": "20334505-8e71-4e31-9096-3151686142fa",
   "metadata": {},
   "source": [
    "## 3. SGD모델(확률적 경사하강법)"
   ]
  },
  {
   "cell_type": "code",
   "execution_count": 170,
   "id": "698e7710-63d2-442e-ba16-8fe4061e9891",
   "metadata": {},
   "outputs": [],
   "source": [
    "# SGD모델(확률적 경사하강법) 불러오기\n",
    "from sklearn.linear_model import SGDClassifier"
   ]
  },
  {
   "cell_type": "code",
   "execution_count": 196,
   "id": "83d0b2fe-05d7-4186-993f-cece653e0b97",
   "metadata": {},
   "outputs": [
    {
     "name": "stdout",
     "output_type": "stream",
     "text": [
      "<SGD> 기본   훈련데이터 정확도 : 0.9014\n",
      "<SGD> 기본 테스트데이터 정확도 : 0.9231\n"
     ]
    }
   ],
   "source": [
    "# 기본 데이터를 통한 모델 훈련 및 정확도 확인 (하이퍼파라미터 : max_iter = 독립변수의 갯수 * 100(기본값), random_state = 42)\n",
    "sc = SGDClassifier(max_iter= max_iter, random_state=42)\n",
    "\n",
    "sc.fit(train_input, train_target)\n",
    "\n",
    "print('<SGD> 기본   훈련데이터 정확도 :', round(sc.score(train_input, train_target),4))\n",
    "print('<SGD> 기본 테스트데이터 정확도 :', round(sc.score(test_input, test_target),4))\n",
    "\n",
    "# <해석>\n",
    "# max_iter(훈련반복횟수) = 독립변수의 갯수 * 100(미지정시 경고창)\n",
    "# random_state = 42 정확도 고정을 위한 시드 설정\n",
    "# 전체적인 정확도는 좋으나 훈련데이터 과소적합 발생\n",
    "\n",
    "# <해결방안>\n",
    "# 데이터 표준화(정규화)실행 후 정확도 확인"
   ]
  },
  {
   "cell_type": "code",
   "execution_count": 199,
   "id": "e49dd7fc-1f30-4a19-9e06-b2efd320f6bc",
   "metadata": {},
   "outputs": [
    {
     "name": "stdout",
     "output_type": "stream",
     "text": [
      "<SGD> 정규화   훈련데이터 정확도 : 0.9765\n",
      "<SGD> 정규화 테스트데이터 정확도 : 0.958\n"
     ]
    }
   ],
   "source": [
    "# 정규화 데이터를 통한 모델 훈련 및 정확도 확인 (하이퍼파라미터 : max_iter = 독립변수의 갯수 * 100(기본값), random_state = 42)\n",
    "sc = SGDClassifier(max_iter= max_iter, random_state=42)\n",
    "\n",
    "sc.fit(train_scaled, train_target)\n",
    "\n",
    "print('<SGD> 정규화   훈련데이터 정확도 :', round(sc.score(train_scaled, train_target),4))\n",
    "print('<SGD> 정규화 테스트데이터 정확도 :', round(sc.score(test_scaled, test_target),4))\n",
    "\n",
    "# <해석>\n",
    "# max_iter(훈련반복횟수) = 독립변수의 갯수 * 100(미지정시 경고창)\n",
    "# random_state = 42 정확도 고정을 위한 시드 설정\n",
    "# 전체적인 정확도가 우수함 \n",
    "# 훈련데이터의 과대적합이 의심되나 0.02의 매우 적은 오차로 적절하다고 판단됨"
   ]
  },
  {
   "cell_type": "code",
   "execution_count": 218,
   "id": "d5cf7bea-3846-4127-bf43-c2fc1d9ab940",
   "metadata": {},
   "outputs": [
    {
     "name": "stdout",
     "output_type": "stream",
     "text": [
      "SGD 정규화   훈련데이터 리스트 갯수 : 1500\n",
      "SGD 정규화 테스트데이터 리스트 갯수 : 1500\n"
     ]
    }
   ],
   "source": [
    "# 에포크 반복횟수 찾기\n",
    "sc = SGDClassifier(random_state=42)\n",
    "\n",
    "train_score = []\n",
    "test_score = []\n",
    "\n",
    "# 범주 고유값\n",
    "classes = np.unique(train_target)\n",
    "\n",
    "# 반복을 500회부터 3000회까지 테스트하여 정확도를 리스트에 저장\n",
    "for _ in range(0,1500) :\n",
    "    sc.partial_fit(train_scaled, train_target, classes= classes)\n",
    "    \n",
    "    train_score.append(sc.score(train_scaled, train_target))\n",
    "    test_score.append(sc.score(test_scaled, test_target))\n",
    "    \n",
    "print('SGD 정규화   훈련데이터 리스트 갯수 :', len(train_score))\n",
    "print('SGD 정규화 테스트데이터 리스트 갯수 :', len(test_score))"
   ]
  },
  {
   "cell_type": "code",
   "execution_count": 215,
   "id": "e131c3ba-5ac3-43f4-a7e0-38abe0f9d136",
   "metadata": {},
   "outputs": [
    {
     "data": {
      "image/png": "[encoded data removed]",
      "text/plain": [
       "<Figure size 2000x1000 with 1 Axes>"
      ]
     },
     "metadata": {},
     "output_type": "display_data"
    }
   ],
   "source": [
    "# 시각화를 통해 최적의 위치 찾기\n",
    "fig = plt.figure(figsize=(20,10))\n",
    "plt.rc('font', family = 'Malgun Gothic', size = 18)\n",
    "plt.title('에포크 최적의 반복횟수 위치 확인', pad=30)\n",
    "plt.plot(train_score, label = '훈련데이터')\n",
    "plt.plot(test_score, label = '테스트데이터')\n",
    "plt.legend(loc = 'lower right')\n",
    "plt.show()"
   ]
  },
  {
   "cell_type": "code",
   "execution_count": 220,
   "id": "648bdcd1-ac38-49ba-ac2a-7f65d336551d",
   "metadata": {},
   "outputs": [
    {
     "name": "stdout",
     "output_type": "stream",
     "text": [
      "<SGD> 최적에포크   훈련데이터 정확도 : 0.9953\n",
      "<SGD> 최적에포크 테스트데이터 정확도 : 0.965\n"
     ]
    }
   ],
   "source": [
    "# 시각화를 토대로 테스트 횟수 재지정\n",
    "# 시각화 확인 결과 반복횟수 1200회로 선정\n",
    "\n",
    "# tol : 지정횟수만큼 강제 진행\n",
    "sc = SGDClassifier(max_iter=1200, tol=None ,random_state=42)\n",
    "\n",
    "sc.fit(train_scaled, train_target)\n",
    "\n",
    "print('<SGD> 최적에포크   훈련데이터 정확도 :', round(sc.score(train_scaled, train_target),4))\n",
    "print('<SGD> 최적에포크 테스트데이터 정확도 :', round(sc.score(test_scaled, test_target),4))\n",
    "\n",
    "# <해석>\n",
    "# max_iter(훈련반복횟수) = 시각화를 통한 최적의 반복횟수\n",
    "# 전체적인 정확도가 매우 우수함 \n",
    "# 훈련데이터의 약간의 과대적합이 의심되나 0.03의 적은 오차로 적절하다고 판단됨"
   ]
  },
  {
   "cell_type": "markdown",
   "id": "f5963bf0-6aa4-4915-96c5-67195bb1c51a",
   "metadata": {},
   "source": [
    "## 4. 랜덤포레스트 모델"
   ]
  },
  {
   "cell_type": "code",
   "execution_count": 221,
   "id": "6d39846d-4417-419a-912f-401957e7c82c",
   "metadata": {},
   "outputs": [],
   "source": [
    "# 랜덤포레스트 모델 불러오기\n",
    "from sklearn.ensemble import RandomForestClassifier"
   ]
  },
  {
   "cell_type": "code",
   "execution_count": 229,
   "id": "a3120556-18d1-4768-b7f8-6833f4405e54",
   "metadata": {},
   "outputs": [
    {
     "name": "stdout",
     "output_type": "stream",
     "text": [
      "<랜덤포레스트> 기본   훈련데이터 정확도 : 1.0\n",
      "<랜덤포레스트> 기본 테스트데이터 정확도 : 0.965\n"
     ]
    }
   ],
   "source": [
    "# 기본 데이터를 통한 모델 훈련 및 정확도 확인(하이퍼파라미터 : random_state = 42)\n",
    "rf = RandomForestClassifier(n_jobs=-1, random_state=42)\n",
    "\n",
    "rf.fit(train_input, train_target)\n",
    "\n",
    "print('<랜덤포레스트> 기본   훈련데이터 정확도 :', round(rf.score(train_input, train_target),4))\n",
    "print('<랜덤포레스트> 기본 테스트데이터 정확도 :', round(rf.score(test_input, test_target),4))\n",
    "\n",
    "# <해석>\n",
    "# 정확도의 수치가 1.0로 사용할 수 없는 모델\n",
    "# 확률적으로는 좋으나 과대적합의 여지가 있기 때문에 데이터의 수를 더 보강할 필요가 있어보인다\n",
    "\n",
    "# <해결방안>\n",
    "# 데이터의 부족으로 인한 수치 일 수 있으므로 더 많은 데이터를 통해 과대적합을 해소 할 수 있을 것으로 보인다\n",
    "# 정규화를 통한 정확도 재측정"
   ]
  },
  {
   "cell_type": "code",
   "execution_count": 233,
   "id": "71a19bff-320f-40ce-9b83-388243aa039e",
   "metadata": {},
   "outputs": [
    {
     "name": "stdout",
     "output_type": "stream",
     "text": [
      "<랜덤포레스트> 정규화   훈련데이터 정확도 : 1.0\n",
      "<랜덤포레스트> 정규화 테스트데이터 정확도 : 0.965\n"
     ]
    }
   ],
   "source": [
    "# 정규화 데이터를 통한 모델 훈련 및 정확도 확인(하이퍼파라미터 : random_state = 42)\n",
    "rf = RandomForestClassifier(n_jobs=-1, random_state=42)\n",
    "\n",
    "rf.fit(train_scaled, train_target)\n",
    "\n",
    "print('<랜덤포레스트> 정규화   훈련데이터 정확도 :', round(rf.score(train_scaled, train_target),4))\n",
    "print('<랜덤포레스트> 정규화 테스트데이터 정확도 :', round(rf.score(test_scaled, test_target),4))\n",
    "\n",
    "# <해석>\n",
    "# 정확도의 수치가 1.0로 사용할 수 없는 모델\n",
    "# 확률적으로는 좋으나 과대적합의 여지가 있기 때문에 데이터의 수를 더 보강할 필요가 있어보인다\n",
    "\n",
    "# <해결방안>\n",
    "# 데이터의 부족으로 인한 수치 일 수 있으므로 더 많은 데이터를 통해 과대적합을 해소 할 수 있을 것으로 보인다\n",
    "# 교차검증을 통한 정확도 재측정"
   ]
  },
  {
   "cell_type": "code",
   "execution_count": 249,
   "id": "4b561bcf-85d4-40f2-96fa-27d64f011447",
   "metadata": {},
   "outputs": [
    {
     "name": "stdout",
     "output_type": "stream",
     "text": [
      "<랜덤포레스트> 교차검증   훈련데이터 정확도 : 1.0\n",
      "<랜덤포레스트> 교차검증 테스트데이터 정확도 : 0.9577\n"
     ]
    }
   ],
   "source": [
    "# 교차검증을 통한 모델 훈련 및 정확도 확인(하이퍼파라미터 : random_state = 42)\n",
    "rf = RandomForestClassifier(n_jobs=-1, random_state=42)\n",
    "\n",
    "scores = cross_validate(rf, train_input, train_target,\n",
    "                        return_train_score=True, n_jobs=-1)\n",
    "\n",
    "print('<랜덤포레스트> 교차검증   훈련데이터 정확도 :', round(scores['train_score'].mean(),4))\n",
    "print('<랜덤포레스트> 교차검증 테스트데이터 정확도 :', round(scores['test_score'].mean(),4))\n",
    "\n",
    "# <해석>\n",
    "# 정확도의 수치가 1.0로 사용할 수 없는 모델\n",
    "# 확률적으로는 좋으나 과대적합의 여지가 있기 때문에 데이터의 수를 더 보강할 필요가 있어보인다\n",
    "\n",
    "# <해결방안>\n",
    "# 데이터의 부족으로 인한 수치 일 수 있으므로 더 많은 데이터를 통해 과대적합을 해소 할 수 있을 것으로 보인다"
   ]
  },
  {
   "cell_type": "markdown",
   "id": "52f58160-2951-4882-8f6f-df158e6cbc58",
   "metadata": {},
   "source": [
    "## 5. 엑스트라트리 모델 "
   ]
  },
  {
   "cell_type": "code",
   "execution_count": 234,
   "id": "f2ac106e-4165-4a80-b27d-8ac0673814c8",
   "metadata": {},
   "outputs": [],
   "source": [
    "# 엑스트라트리 모델 불러오기\n",
    "from sklearn.ensemble import ExtraTreesClassifier"
   ]
  },
  {
   "cell_type": "code",
   "execution_count": 235,
   "id": "6f3c7fe1-7943-46dd-97b8-1301f48969e1",
   "metadata": {},
   "outputs": [
    {
     "name": "stdout",
     "output_type": "stream",
     "text": [
      "<엑스트라트리> 기본   훈련데이터 정확도 : 1.0\n",
      "<엑스트라트리> 기본 테스트데이터 정확도 : 0.979\n"
     ]
    }
   ],
   "source": [
    "# 기본 데이터를 통한 모델 훈련 및 정확도 확인(하이퍼파라미터 : random_state = 42)\n",
    "et = ExtraTreesClassifier(n_jobs=-1, random_state=42)\n",
    "\n",
    "et.fit(train_input, train_target)\n",
    "\n",
    "print('<엑스트라트리> 기본   훈련데이터 정확도 :', round(et.score(train_input, train_target),4))\n",
    "print('<엑스트라트리> 기본 테스트데이터 정확도 :', round(et.score(test_input, test_target),4))\n",
    "\n",
    "# <해석>\n",
    "# 정확도의 수치가 1.0로 사용할 수 없는 모델\n",
    "# 확률적으로는 좋으나 과대적합의 여지가 있기 때문에 데이터의 수를 더 보강할 필요가 있어보인다\n",
    "\n",
    "# <해결방안>\n",
    "# 데이터의 부족으로 인한 수치 일 수 있으므로 더 많은 데이터를 통해 과대적합을 해소 할 수 있을 것으로 보인다\n",
    "# 정규화를 통한 정확도 재측정"
   ]
  },
  {
   "cell_type": "code",
   "execution_count": 236,
   "id": "b389ad44-cdb0-46a0-a74b-8c502afdaa9c",
   "metadata": {},
   "outputs": [
    {
     "name": "stdout",
     "output_type": "stream",
     "text": [
      "<엑스트라트리> 정규화   훈련데이터 정확도 : 1.0\n",
      "<엑스트라트리> 정규화 테스트데이터 정확도 : 0.979\n"
     ]
    }
   ],
   "source": [
    "# 정규화 데이터를 통한 모델 훈련 및 정확도 확인(하이퍼파라미터 : random_state = 42)\n",
    "et = ExtraTreesClassifier(n_jobs=-1, random_state=42)\n",
    "\n",
    "et.fit(train_scaled, train_target)\n",
    "\n",
    "print('<엑스트라트리> 정규화   훈련데이터 정확도 :', round(et.score(train_scaled, train_target),4))\n",
    "print('<엑스트라트리> 정규화 테스트데이터 정확도 :', round(et.score(test_scaled, test_target),4))\n",
    "\n",
    "# <해석>\n",
    "# 정확도의 수치가 1.0로 사용할 수 없는 모델\n",
    "# 확률적으로는 좋으나 과대적합의 여지가 있기 때문에 데이터의 수를 더 보강할 필요가 있어보인다\n",
    "\n",
    "# <해결방안>\n",
    "# 데이터의 부족으로 인한 수치 일 수 있으므로 더 많은 데이터를 통해 과대적합을 해소 할 수 있을 것으로 보인다\n",
    "# 교차검증을 통한 정확도 재측정"
   ]
  },
  {
   "cell_type": "code",
   "execution_count": 237,
   "id": "cc409234-ee8f-4c77-a819-785d8fd1428f",
   "metadata": {},
   "outputs": [
    {
     "name": "stdout",
     "output_type": "stream",
     "text": [
      "<엑스트라트리> 교차검증   훈련데이터 정확도 : 1.0\n",
      "<엑스트라트리> 교차검증 테스트데이터 정확도 : 0.9624\n"
     ]
    }
   ],
   "source": [
    "# 교차검증을 통한 모델 훈련 및 정확도 확인(하이퍼파라미터 : random_state = 42)\n",
    "et = ExtraTreesClassifier(n_jobs=-1, random_state=42)\n",
    "\n",
    "scores = cross_validate(et, train_input, train_target,\n",
    "                        return_train_score=True, n_jobs=-1)\n",
    "\n",
    "print('<엑스트라트리> 교차검증   훈련데이터 정확도 :', round(scores['train_score'].mean(),4))\n",
    "print('<엑스트라트리> 교차검증 테스트데이터 정확도 :', round(scores['test_score'].mean(),4))\n",
    "\n",
    "# <해석>\n",
    "# 정확도의 수치가 1.0로 사용할 수 없는 모델\n",
    "# 확률적으로는 좋으나 과대적합의 여지가 있기 때문에 데이터의 수를 더 보강할 필요가 있어보인다\n",
    "\n",
    "# <해결방안>\n",
    "# 데이터의 부족으로 인한 수치 일 수 있으므로 더 많은 데이터를 통해 과대적합을 해소 할 수 있을 것으로 보인다"
   ]
  },
  {
   "cell_type": "markdown",
   "id": "bf09696a-6b37-453e-9bf4-1fe1dd04bfbf",
   "metadata": {},
   "source": [
    "## 7. 그레디언트부스팅 모델"
   ]
  },
  {
   "cell_type": "code",
   "execution_count": 239,
   "id": "4e197f4c-aa1e-41a2-85f6-1fd57171023c",
   "metadata": {},
   "outputs": [],
   "source": [
    "# 그레디언트부스팅 모델 불러오기\n",
    "from sklearn.ensemble import GradientBoostingClassifier"
   ]
  },
  {
   "cell_type": "code",
   "execution_count": 242,
   "id": "5b31e00b-cced-4dd5-8f3a-aff2865cf946",
   "metadata": {},
   "outputs": [
    {
     "name": "stdout",
     "output_type": "stream",
     "text": [
      "<그레디언트부스팅> 기본   훈련데이터 정확도 : 1.0\n",
      "<그레디언트부스팅> 기본 테스트데이터 정확도 : 0.958\n"
     ]
    }
   ],
   "source": [
    "# 기본 데이터를 통한 모델 훈련 및 정확도 확인(하이퍼파라미터 : random_state = 42)\n",
    "gb = GradientBoostingClassifier(random_state=42)\n",
    "\n",
    "gb.fit(train_input, train_target)\n",
    "\n",
    "print('<그레디언트부스팅> 기본   훈련데이터 정확도 :', round(gb.score(train_input, train_target),4))\n",
    "print('<그레디언트부스팅> 기본 테스트데이터 정확도 :', round(gb.score(test_input, test_target),4))\n",
    "\n",
    "# <해석>\n",
    "# 정확도의 수치가 1.0로 사용할 수 없는 모델\n",
    "# 확률적으로는 좋으나 과대적합의 여지가 있기 때문에 데이터의 수를 더 보강할 필요가 있어보인다\n",
    "\n",
    "# <해결방안>\n",
    "# 데이터의 부족으로 인한 수치 일 수 있으므로 더 많은 데이터를 통해 과대적합을 해소 할 수 있을 것으로 보인다\n",
    "# 정규화를 통한 정확도 재측정"
   ]
  },
  {
   "cell_type": "code",
   "execution_count": 243,
   "id": "37616e7c-1749-4c77-8533-b6fcf1cc3690",
   "metadata": {},
   "outputs": [
    {
     "name": "stdout",
     "output_type": "stream",
     "text": [
      "<그레디언트부스팅> 정규화   훈련데이터 정확도 : 1.0\n",
      "<그레디언트부스팅> 정규화 테스트데이터 정확도 : 0.958\n"
     ]
    }
   ],
   "source": [
    "# 정규화 데이터를 통한 모델 훈련 및 정확도 확인(하이퍼파라미터 : random_state = 42)\n",
    "gb = GradientBoostingClassifier(random_state=42)\n",
    "\n",
    "gb.fit(train_scaled, train_target)\n",
    "\n",
    "print('<그레디언트부스팅> 정규화   훈련데이터 정확도 :', round(gb.score(train_scaled, train_target),4))\n",
    "print('<그레디언트부스팅> 정규화 테스트데이터 정확도 :', round(gb.score(test_scaled, test_target),4))\n",
    "\n",
    "# <해석>\n",
    "# 정확도의 수치가 1.0로 사용할 수 없는 모델\n",
    "# 확률적으로는 좋으나 과대적합의 여지가 있기 때문에 데이터의 수를 더 보강할 필요가 있어보인다\n",
    "\n",
    "# <해결방안>\n",
    "# 데이터의 부족으로 인한 수치 일 수 있으므로 더 많은 데이터를 통해 과대적합을 해소 할 수 있을 것으로 보인다\n",
    "# 교차검증을 통한 정확도 재측정"
   ]
  },
  {
   "cell_type": "code",
   "execution_count": 244,
   "id": "4328ce31-8c41-4b9a-befb-d3093727f50e",
   "metadata": {},
   "outputs": [
    {
     "name": "stdout",
     "output_type": "stream",
     "text": [
      "<그레디언트부스팅> 교차검증   훈련데이터 정확도 : 1.0\n",
      "<그레디언트부스팅> 교차검증 테스트데이터 정확도 : 0.9624\n"
     ]
    }
   ],
   "source": [
    "# 교차검증을 통한 모델 훈련 및 정확도 확인(하이퍼파라미터 : random_state = 42)\n",
    "gb = GradientBoostingClassifier(random_state=42)\n",
    "\n",
    "scores = cross_validate(et, train_input, train_target,\n",
    "                        return_train_score=True, n_jobs=-1)\n",
    "\n",
    "print('<그레디언트부스팅> 교차검증   훈련데이터 정확도 :', round(scores['train_score'].mean(),4))\n",
    "print('<그레디언트부스팅> 교차검증 테스트데이터 정확도 :', round(scores['test_score'].mean(),4))\n",
    "\n",
    "# <해석>\n",
    "# 정확도의 수치가 1.0로 사용할 수 없는 모델\n",
    "# 확률적으로는 좋으나 과대적합의 여지가 있기 때문에 데이터의 수를 더 보강할 필요가 있어보인다\n",
    "\n",
    "# <해결방안>\n",
    "# 데이터의 부족으로 인한 수치 일 수 있으므로 더 많은 데이터를 통해 과대적합을 해소 할 수 있을 것으로 보인다"
   ]
  },
  {
   "cell_type": "markdown",
   "id": "01f36620-d32f-4f93-bd16-cc0b02b8e4fc",
   "metadata": {},
   "source": [
    "## 8. 히스토그램기반 그레디언트부스팅 모델"
   ]
  },
  {
   "cell_type": "code",
   "execution_count": 245,
   "id": "4e8695b6-4e6f-43c9-96af-42f5100a37f0",
   "metadata": {},
   "outputs": [],
   "source": [
    "# 히스토그램기반 그레디언트부스팅 모델 불러오기\n",
    "from sklearn.ensemble import HistGradientBoostingClassifier"
   ]
  },
  {
   "cell_type": "code",
   "execution_count": 246,
   "id": "e40d5b6c-a907-4e0f-b5ac-a3abcaddf058",
   "metadata": {},
   "outputs": [
    {
     "name": "stdout",
     "output_type": "stream",
     "text": [
      "<히스토그램기반 그레디언트부스팅> 기본   훈련데이터 정확도 : 1.0\n",
      "<히스토그램기반 그레디언트부스팅> 기본 테스트데이터 정확도 : 0.951\n"
     ]
    }
   ],
   "source": [
    "# 기본 데이터를 통한 모델 훈련 및 정확도 확인(하이퍼파라미터 : random_state = 42)\n",
    "hgb = HistGradientBoostingClassifier(random_state=42)\n",
    "\n",
    "hgb.fit(train_input, train_target)\n",
    "\n",
    "print('<히스토그램기반 그레디언트부스팅> 기본   훈련데이터 정확도 :', round(hgb.score(train_input, train_target),4))\n",
    "print('<히스토그램기반 그레디언트부스팅> 기본 테스트데이터 정확도 :', round(hgb.score(test_input, test_target),4))\n",
    "\n",
    "# <해석>\n",
    "# 정확도의 수치가 1.0로 사용할 수 없는 모델\n",
    "# 확률적으로는 좋으나 과대적합의 여지가 있기 때문에 데이터의 수를 더 보강할 필요가 있어보인다\n",
    "\n",
    "# <해결방안>\n",
    "# 데이터의 부족으로 인한 수치 일 수 있으므로 더 많은 데이터를 통해 과대적합을 해소 할 수 있을 것으로 보인다\n",
    "# 정규화를 통한 정확도 재측정"
   ]
  },
  {
   "cell_type": "code",
   "execution_count": 247,
   "id": "4df637d9-6ab9-4c76-b4a4-59bb6a6c0c4b",
   "metadata": {},
   "outputs": [
    {
     "name": "stdout",
     "output_type": "stream",
     "text": [
      "<히스토그램기반 그레디언트부스팅> 정규화   훈련데이터 정확도 : 1.0\n",
      "<히스토그램기반 그레디언트부스팅> 정규화 테스트데이터 정확도 : 0.951\n"
     ]
    }
   ],
   "source": [
    "# 정규화 데이터를 통한 모델 훈련 및 정확도 확인(하이퍼파라미터 : random_state = 42)\n",
    "hgb = HistGradientBoostingClassifier(random_state=42)\n",
    "\n",
    "hgb.fit(train_scaled, train_target)\n",
    "\n",
    "print('<히스토그램기반 그레디언트부스팅> 정규화   훈련데이터 정확도 :', round(hgb.score(train_scaled, train_target),4))\n",
    "print('<히스토그램기반 그레디언트부스팅> 정규화 테스트데이터 정확도 :', round(hgb.score(test_scaled, test_target),4))\n",
    "\n",
    "# <해석>\n",
    "# 정확도의 수치가 1.0로 사용할 수 없는 모델\n",
    "# 확률적으로는 좋으나 과대적합의 여지가 있기 때문에 데이터의 수를 더 보강할 필요가 있어보인다\n",
    "\n",
    "# <해결방안>\n",
    "# 데이터의 부족으로 인한 수치 일 수 있으므로 더 많은 데이터를 통해 과대적합을 해소 할 수 있을 것으로 보인다\n",
    "# 교차검증을 통한 정확도 재측정"
   ]
  },
  {
   "cell_type": "code",
   "execution_count": 248,
   "id": "013fc2b5-26c4-476b-9b95-b24899672878",
   "metadata": {},
   "outputs": [
    {
     "name": "stdout",
     "output_type": "stream",
     "text": [
      "<히스토그램기반 그레디언트부스팅> 교차검증   훈련데이터 정확도 : 1.0\n",
      "<히스토그램기반 그레디언트부스팅> 교차검증 테스트데이터 정확도 : 0.9624\n"
     ]
    }
   ],
   "source": [
    "# 교차검증을 통한 모델 훈련 및 정확도 확인(하이퍼파라미터 : random_state = 42)\n",
    "hgb = HistGradientBoostingClassifier(random_state=42)\n",
    "\n",
    "scores = cross_validate(et, train_input, train_target,\n",
    "                        return_train_score=True, n_jobs=-1)\n",
    "\n",
    "print('<히스토그램기반 그레디언트부스팅> 교차검증   훈련데이터 정확도 :', round(scores['train_score'].mean(),4))\n",
    "print('<히스토그램기반 그레디언트부스팅> 교차검증 테스트데이터 정확도 :', round(scores['test_score'].mean(),4))\n",
    "\n",
    "# <해석>\n",
    "# 정확도의 수치가 1.0로 사용할 수 없는 모델\n",
    "# 확률적으로는 좋으나 과대적합의 여지가 있기 때문에 데이터의 수를 더 보강할 필요가 있어보인다\n",
    "\n",
    "# <해결방안>\n",
    "# 데이터의 부족으로 인한 수치 일 수 있으므로 더 많은 데이터를 통해 과대적합을 해소 할 수 있을 것으로 보인다"
   ]
  },
  {
   "cell_type": "code",
   "execution_count": null,
   "id": "f8c217a9-2a38-4a68-bf8e-840c4f3e3f0b",
   "metadata": {},
   "outputs": [],
   "source": [
    "# <최종 모델 선택>\n",
    "\n",
    "# <1순위>\n",
    "# 로지스틱 회귀분류모델\n",
    "# 훈련방법 - 정규화를 통한 훈련\n",
    "\n",
    "# <정확도>\n",
    "# <로지스틱> 정규화   훈련데이터 정확도 : 0.9859\n",
    "# <로지스틱> 정규화 테스트데이터 정확도 : 0.979\n",
    "\n",
    "# <선정 이유>\n",
    "# 전체적인 정확도가 매우 우수하며 일반화도 0.006의 매우 적은 오차로 1순위 모델로 선정함\n",
    "\n",
    "# ----------------------------------------------------------------------------------------------------------------\n",
    "\n",
    "# <2순위>\n",
    "# SGD모델(확률적 경사하강법)\n",
    "# 훈련방법 - 최적 에포크(최적 반복훈련횟수)탐색을 통한 훈련\n",
    "\n",
    "# <정확도>\n",
    "# <SGD> 최적에포크   훈련데이터 정확도 : 0.9953\n",
    "# <SGD> 최적에포크 테스트데이터 정확도 : 0.965\n",
    "\n",
    "# <선정 이유>\n",
    "# 전체적인 정확도가 매우 우수하며 일반화도 0.03의 적은 오차로 2순위 모델로 선정함\n",
    "\n",
    "# ----------------------------------------------------------------------------------------------------------------\n",
    "\n",
    "\n",
    "# <기타 특이점>\n",
    "# 앙상블 모델의 경우 모든 모델이 훈련데이터의 과대적합으로인해 100%의 정확도가 나타남\n",
    "# 이 현상은 데이터의 부족으로 인한 수치로 보이고 이를 해결하기 위해서는 더 많은 데이터를 수집할 필요가 있다고 판단됨"
   ]
  },
  {
   "cell_type": "code",
   "execution_count": null,
   "id": "37d97585-6814-4e10-a7f3-90baef72a8dc",
   "metadata": {},
   "outputs": [],
   "source": []
  },
  {
   "cell_type": "code",
   "execution_count": null,
   "id": "4490e85c-21b6-433f-8b1a-f801a9d2e57f",
   "metadata": {},
   "outputs": [],
   "source": []
  },
  {
   "cell_type": "code",
   "execution_count": null,
   "id": "99a2be2d-66de-42fb-a64e-5f59bbada512",
   "metadata": {},
   "outputs": [],
   "source": []
  },
  {
   "cell_type": "code",
   "execution_count": null,
   "id": "ac68af03-501a-40fa-8f58-3070c6e3085d",
   "metadata": {},
   "outputs": [],
   "source": []
  },
  {
   "cell_type": "code",
   "execution_count": null,
   "id": "ef01366b-a664-4bfc-859e-5fce4c329875",
   "metadata": {},
   "outputs": [],
   "source": []
  }
 ],
 "metadata": {
  "kernelspec": {
   "display_name": "ml_kernel",
   "language": "python",
   "name": "ml"
  },
  "language_info": {
   "codemirror_mode": {
    "name": "ipython",
    "version": 3
   },
   "file_extension": ".py",
   "mimetype": "text/x-python",
   "name": "python",
   "nbconvert_exporter": "python",
   "pygments_lexer": "ipython3",
   "version": "3.9.12"
  }
 },
 "nbformat": 4,
 "nbformat_minor": 5
}
