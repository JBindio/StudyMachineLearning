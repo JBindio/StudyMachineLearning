{
 "cells": [
  {
   "cell_type": "markdown",
   "id": "4a364a58-7182-4f59-9c42-960b63112b18",
   "metadata": {
    "tags": []
   },
   "source": [
    "### 머신러닝 맛보기"
   ]
  },
  {
   "cell_type": "code",
   "execution_count": 1,
   "id": "829e764b-b18f-4981-bf63-7c007998764c",
   "metadata": {},
   "outputs": [],
   "source": [
    "import pandas as pd\n",
    "import numpy as np\n",
    "import matplotlib.pyplot as plt\n",
    "import matplotlib\n",
    "import seaborn as sns\n",
    "from matplotlib import font_manager, rc\n",
    "import platform"
   ]
  },
  {
   "cell_type": "code",
   "execution_count": 2,
   "id": "7447a6d0-7678-4daa-b9c1-4b2d596fad90",
   "metadata": {},
   "outputs": [],
   "source": [
    "from sklearn.neighbors import KNeighborsClassifier"
   ]
  },
  {
   "cell_type": "code",
   "execution_count": 3,
   "id": "9eec9554-db46-4d38-90e0-d56612c4fabd",
   "metadata": {},
   "outputs": [],
   "source": [
    "# seaborn 설정 리셋\n",
    "sns.reset_defaults()\n",
    "\n",
    "# 폰트설정\n",
    "if platform.system() == 'Windows' :\n",
    "    path = 'c:/Windows/Fonts/malgun.ttf'\n",
    "    font_name = font_manager.FontProperties(fname=path).get_name()\n",
    "    rc('font', family=font_name)\n",
    "elif platform.system() == 'Darwin':\n",
    "    rc('font', family='AppleGothic')\n",
    "else :\n",
    "    print('Check your OS System')\n",
    "    \n",
    "# 그래프에 마이너스 표시\n",
    "matplotlib.rcParams['axes.unicode_minus'] = False"
   ]
  },
  {
   "cell_type": "code",
   "execution_count": 35,
   "id": "6469ef7a-766d-41a5-9e9d-d3c30f794c9b",
   "metadata": {},
   "outputs": [],
   "source": [
    "# 데이터 준비하기\n",
    "    # - 도미, 빙어 데이터\n",
    "    # - 2차원 데이터 만들기"
   ]
  },
  {
   "cell_type": "code",
   "execution_count": 4,
   "id": "c06b11bd-5c68-47ce-b5ec-9236135ba7b3",
   "metadata": {},
   "outputs": [
    {
     "name": "stdout",
     "output_type": "stream",
     "text": [
      "도미 길이 : [25.4, 26.3, 26.5, 29.0, 29.0, 29.7, 29.7, 30.0, 30.0, 30.7, 31.0, 31.0, 31.5, 32.0, 32.0, 32.0, 33.0, 33.0, 33.5, 33.5, 34.0, 34.0, 34.5, 35.0, 35.0, 35.0, 35.0, 36.0, 36.0, 37.0, 38.5, 38.5, 39.5, 41.0, 41.0]\n",
      "-------------------------------------------------------------------------------------------------------------------------\n",
      "도미 무게 : [242.0, 290.0, 340.0, 363.0, 430.0, 450.0, 500.0, 390.0, 450.0, 500.0, 475.0, 500.0, 500.0, 340.0, 600.0, 600.0, 700.0, 700.0, 610.0, 650.0, 575.0, 685.0, 620.0, 680.0, 700.0, 725.0, 720.0, 714.0, 850.0, 1000.0, 920.0, 955.0, 925.0, 975.0, 950.0]\n",
      "\n",
      "35 35\n"
     ]
    }
   ],
   "source": [
    "# 데이터 가지고 오기\n",
    "\n",
    "# 1. 도미 데이터\n",
    "# 도미 길이\n",
    "bream_length = [25.4, 26.3, 26.5, 29.0, 29.0, 29.7, 29.7, 30.0, \n",
    "                30.0, 30.7, 31.0, 31.0, 31.5, 32.0, 32.0, 32.0, \n",
    "                33.0, 33.0, 33.5, 33.5, 34.0, 34.0, 34.5, 35.0, \n",
    "                35.0, 35.0, 35.0, 36.0, 36.0, 37.0, 38.5, 38.5, \n",
    "                39.5, 41.0, 41.0]\n",
    "# 도미 무게\n",
    "brean_weight = [242.0, 290.0, 340.0, 363.0, 430.0, 450.0, 500.0, \n",
    "                390.0, 450.0, 500.0, 475.0, 500.0, 500.0, 340.0, \n",
    "                600.0, 600.0, 700.0, 700.0, 610.0, 650.0, 575.0, \n",
    "                685.0, 620.0, 680.0, 700.0, 725.0, 720.0, 714.0, \n",
    "                850.0, 1000.0, 920.0, 955.0, 925.0, 975.0, 950.0]\n",
    "\n",
    "print('도미 길이 :', bream_length)\n",
    "print('-------------------------------------------------------------------------------------------------------------------------')\n",
    "print('도미 무게 :', brean_weight)\n",
    "print()\n",
    "print(len(bream_length), len(brean_weight))"
   ]
  },
  {
   "cell_type": "code",
   "execution_count": 5,
   "id": "239de387-3312-4c91-a6aa-11dccf77d831",
   "metadata": {},
   "outputs": [
    {
     "name": "stdout",
     "output_type": "stream",
     "text": [
      "도미 길이 : [9.8, 10.5, 10.6, 11.0, 11.2, 11.3, 11.8, 11.8, 12.0, 12.2, 12.4, 13.0, 14.3, 15.0]\n",
      "-------------------------------------------------------------------------------------------------------------------------\n",
      "도미 무게 : [6.7, 7.5, 7.0, 9.7, 9.8, 8.7, 10.0, 9.9, 9.8, 12.2, 13.4, 12.2, 19.7, 19.9]\n",
      "\n",
      "14 14\n"
     ]
    }
   ],
   "source": [
    "# 데이터 가지고 오기\n",
    "\n",
    "# 2. 빙어 데이터\n",
    "# 빙어 길이\n",
    "smelt_length = [9.8, 10.5, 10.6, 11.0, 11.2, 11.3, 11.8, 11.8, 12.0, 12.2, 12.4, 13.0, 14.3, 15.0]\n",
    "\n",
    "# 빙어 무게\n",
    "smelt_weight = [6.7, 7.5, 7.0, 9.7, 9.8, 8.7, 10.0, 9.9, 9.8, 12.2, 13.4, 12.2, 19.7, 19.9]\n",
    "\n",
    "print('도미 길이 :', smelt_length)\n",
    "print('-------------------------------------------------------------------------------------------------------------------------')\n",
    "print('도미 무게 :', smelt_weight)\n",
    "print()\n",
    "print(len(smelt_length), len(smelt_weight))"
   ]
  },
  {
   "cell_type": "code",
   "execution_count": 10,
   "id": "63e141bc-4cb2-45a2-9d42-733bf92e0a3d",
   "metadata": {},
   "outputs": [],
   "source": [
    "lenght = bream_length + smelt_length\n",
    "weight = brean_weight + smelt_weight"
   ]
  },
  {
   "cell_type": "code",
   "execution_count": 13,
   "id": "36ae28a5-6c9d-4d9b-9abf-25ac144bf346",
   "metadata": {},
   "outputs": [],
   "source": [
    "fish_data = [[leng, wei] for leng, wei in zip(lenght,weight)] "
   ]
  },
  {
   "cell_type": "code",
   "execution_count": 15,
   "id": "175e3068-756c-4230-813f-6a511f9b513b",
   "metadata": {},
   "outputs": [
    {
     "data": {
      "text/plain": [
       "49"
      ]
     },
     "execution_count": 15,
     "metadata": {},
     "output_type": "execute_result"
    }
   ],
   "source": [
    "len(fish_data)"
   ]
  },
  {
   "cell_type": "code",
   "execution_count": 16,
   "id": "898fb866-bf32-49bb-b0af-3c92a7ec940a",
   "metadata": {},
   "outputs": [],
   "source": [
    "fish_target = [1]*35 + [0]*14"
   ]
  },
  {
   "cell_type": "code",
   "execution_count": 18,
   "id": "8f9bf08c-87ad-450a-9740-523544f16397",
   "metadata": {},
   "outputs": [
    {
     "data": {
      "text/plain": [
       "49"
      ]
     },
     "execution_count": 18,
     "metadata": {},
     "output_type": "execute_result"
    }
   ],
   "source": [
    "len(fish_target)"
   ]
  },
  {
   "cell_type": "markdown",
   "id": "ee1b8567-cfce-44f3-8b31-5efd73b68d2b",
   "metadata": {},
   "source": [
    "### numpy를 이용한 2차원 데이터 생성\n",
    "#### - tuple 형태로 생성"
   ]
  },
  {
   "cell_type": "code",
   "execution_count": 25,
   "id": "a2ccb0ea-b43a-43b9-b9d0-9020c6eebb49",
   "metadata": {
    "jupyter": {
     "source_hidden": true
    },
    "tags": []
   },
   "outputs": [
    {
     "data": {
      "text/plain": [
       "array([[1, 4],\n",
       "       [2, 5],\n",
       "       [3, 6]])"
      ]
     },
     "execution_count": 25,
     "metadata": {},
     "output_type": "execute_result"
    }
   ],
   "source": [
    "a = [1,2,3]\n",
    "b = [4,5,6]\n",
    "np.column_stack((a,b))"
   ]
  },
  {
   "cell_type": "code",
   "execution_count": 22,
   "id": "3aa9dcb4-050e-42d3-819b-2b01b1395d03",
   "metadata": {},
   "outputs": [],
   "source": [
    "fish_data = np.column_stack((lenght,weight))"
   ]
  },
  {
   "cell_type": "code",
   "execution_count": 24,
   "id": "dfdefab7-5dd5-43fd-9802-a307c151bd1f",
   "metadata": {},
   "outputs": [
    {
     "data": {
      "text/plain": [
       "49"
      ]
     },
     "execution_count": 24,
     "metadata": {},
     "output_type": "execute_result"
    }
   ],
   "source": [
    "len(fish_data)"
   ]
  },
  {
   "cell_type": "code",
   "execution_count": 33,
   "id": "bdbeaa51-402a-4c65-a350-219b910189e3",
   "metadata": {},
   "outputs": [],
   "source": [
    "fish_target = np.concatenate((np.ones(35),np.zeros(14)))"
   ]
  },
  {
   "cell_type": "code",
   "execution_count": 35,
   "id": "d89a39d1-0308-4e51-917a-154cb583480e",
   "metadata": {},
   "outputs": [
    {
     "name": "stdout",
     "output_type": "stream",
     "text": [
      "[1. 1. 1. 1. 1. 1. 1. 1. 1. 1. 1. 1. 1. 1. 1. 1. 1. 1. 1. 1. 1. 1. 1. 1.\n",
      " 1. 1. 1. 1. 1. 1. 1. 1. 1. 1. 1. 0. 0. 0. 0. 0. 0. 0. 0. 0. 0. 0. 0. 0.\n",
      " 0.]\n"
     ]
    }
   ],
   "source": [
    "print(fish_target)"
   ]
  },
  {
   "cell_type": "markdown",
   "id": "a9051eab-c857-4cfb-9024-4463b83787e7",
   "metadata": {
    "tags": []
   },
   "source": [
    "### 훈련데이터세트, 테스트데이터세트 생성\n",
    "- 훈련데이터세트 : 독립변수 train_data, train_target 데이터생성\n",
    "- 테스트데이터세트 : 독립변수 test_data, test_target 데이터생성"
   ]
  },
  {
   "cell_type": "markdown",
   "id": "860ab970-6c1b-438f-9d8f-99d3c6455951",
   "metadata": {},
   "source": [
    "#### numpy로 셔플하기"
   ]
  },
  {
   "cell_type": "code",
   "execution_count": 56,
   "id": "f8858242-6488-4e68-ac29-8db44bf10369",
   "metadata": {},
   "outputs": [],
   "source": [
    "np.random.seed(42)\n",
    "index_arr = np.arange(49)\n",
    "np.random.shuffle(index_arr)"
   ]
  },
  {
   "cell_type": "code",
   "execution_count": 57,
   "id": "f22819ed-fbd4-4388-b65d-64b1491681da",
   "metadata": {},
   "outputs": [
    {
     "data": {
      "text/plain": [
       "array([13, 45, 47, 44, 17, 27, 26, 25, 31, 19, 12,  4, 34,  8,  3,  6, 40,\n",
       "       41, 46, 15,  9, 16, 24, 33, 30,  0, 43, 32,  5, 29, 11, 36,  1, 21,\n",
       "        2, 37, 35, 23, 39, 10, 22, 18, 48, 20,  7, 42, 14, 28, 38])"
      ]
     },
     "execution_count": 57,
     "metadata": {},
     "output_type": "execute_result"
    }
   ],
   "source": [
    "index_arr"
   ]
  },
  {
   "cell_type": "code",
   "execution_count": 58,
   "id": "e9b46ada-4183-4c73-a006-f1b3064a7e49",
   "metadata": {},
   "outputs": [],
   "source": [
    "train_data = fish_data[index_arr[:35]]\n",
    "train_target = fish_target[index_arr[:35]]"
   ]
  },
  {
   "cell_type": "code",
   "execution_count": 59,
   "id": "5eb174a1-ed23-4f2a-ab23-81d7ac82aae6",
   "metadata": {},
   "outputs": [
    {
     "data": {
      "text/plain": [
       "array([1., 0., 0., 0., 1., 1., 1., 1., 1., 1., 1., 1., 1., 1., 1., 1., 0.,\n",
       "       0., 0., 1., 1., 1., 1., 1., 1., 1., 0., 1., 1., 1., 1., 0., 1., 1.,\n",
       "       1.])"
      ]
     },
     "execution_count": 59,
     "metadata": {},
     "output_type": "execute_result"
    }
   ],
   "source": [
    "train_target"
   ]
  },
  {
   "cell_type": "code",
   "execution_count": 60,
   "id": "434087d8-58de-47ef-88db-07b034fb96a7",
   "metadata": {},
   "outputs": [],
   "source": [
    "test_data = fish_data[index_arr[35:]]\n",
    "test_target = fish_target[index_arr[35:]]"
   ]
  },
  {
   "cell_type": "code",
   "execution_count": 62,
   "id": "7ad98b76-81e3-45be-a39f-08c1b4630ec3",
   "metadata": {},
   "outputs": [
    {
     "data": {
      "image/png": "[encoded data removed]",
      "text/plain": [
       "<Figure size 2000x1000 with 1 Axes>"
      ]
     },
     "metadata": {},
     "output_type": "display_data"
    }
   ],
   "source": [
    "# 시각화를 통해데이터 특징 분포 확인하기 (선형 or 비선형)\n",
    "fig = plt.figure(figsize=(20,10))\n",
    "plt.rc('font', family = 'Malgun Gothic', size = 18)\n",
    "\n",
    "plt.scatter(train_data[:,0],train_data[:,1])\n",
    "plt.scatter(test_data[:,0],test_data[:,1])\n",
    "plt.scatter(30, 600, marker='*', c='red')\n",
    "plt.show()\n",
    "\n",
    "# 해석\n",
    "# 파랑색 : 도미\n",
    "# 주황색 : 빙어\n",
    "# 도미와 빙어는 길이에 비례해서 무게가 증가하는 것으로 보임\n",
    "# 다만, 빙어의 경우, 길이에 비례해서 크게 무게가 증가되지는 않는다.\n",
    "# 빙어는 무게에 비해 길이의 영향을 덜 받는것으로 보인다."
   ]
  },
  {
   "cell_type": "markdown",
   "id": "ed43d527-16f6-4d2e-ab2a-ae164cafb2d9",
   "metadata": {},
   "source": [
    "#### sklearn 을 이용해 셔플하기"
   ]
  },
  {
   "cell_type": "code",
   "execution_count": 63,
   "id": "979d6a27-1e7b-4e70-877b-b72fe6735553",
   "metadata": {},
   "outputs": [],
   "source": [
    "from sklearn.model_selection import train_test_split"
   ]
  },
  {
   "cell_type": "code",
   "execution_count": 104,
   "id": "8bdaaf7b-aa6c-4efb-a383-82ae1811def4",
   "metadata": {},
   "outputs": [],
   "source": [
    "# 디폴트 비율 train : test = 7:3 or 7.5:2.5(대략) 사용\n",
    "train_input, test_input, train_target, test_target = \\\n",
    "    train_test_split(fish_data, fish_target, test_size=0.25,random_state=42)"
   ]
  },
  {
   "cell_type": "code",
   "execution_count": 113,
   "id": "f110feab-11ad-408b-ac56-6def10a5c70b",
   "metadata": {},
   "outputs": [
    {
     "name": "stdout",
     "output_type": "stream",
     "text": [
      "[[  30.   450. ]\n",
      " [  29.   363. ]\n",
      " [  29.7  500. ]\n",
      " [  11.3    8.7]\n",
      " [  11.8   10. ]\n",
      " [  13.    12.2]\n",
      " [  32.   600. ]\n",
      " [  30.7  500. ]\n",
      " [  33.   700. ]\n",
      " [  35.   700. ]\n",
      " [  41.   975. ]\n",
      " [  38.5  920. ]\n",
      " [  25.4  242. ]\n",
      " [  12.     9.8]\n",
      " [  39.5  925. ]\n",
      " [  29.7  450. ]\n",
      " [  37.  1000. ]\n",
      " [  31.   500. ]\n",
      " [  10.5    7.5]\n",
      " [  26.3  290. ]\n",
      " [  34.   685. ]\n",
      " [  26.5  340. ]\n",
      " [  10.6    7. ]\n",
      " [   9.8    6.7]\n",
      " [  35.   680. ]\n",
      " [  11.2    9.8]\n",
      " [  31.   475. ]\n",
      " [  34.5  620. ]\n",
      " [  33.5  610. ]\n",
      " [  15.    19.9]\n",
      " [  34.   575. ]\n",
      " [  30.   390. ]\n",
      " [  11.8    9.9]\n",
      " [  32.   600. ]\n",
      " [  36.   850. ]\n",
      " [  11.     9.7]]\n",
      "------------------------\n",
      "[[ 32.  340. ]\n",
      " [ 12.4  13.4]\n",
      " [ 14.3  19.7]\n",
      " [ 12.2  12.2]\n",
      " [ 33.  700. ]\n",
      " [ 36.  714. ]\n",
      " [ 35.  720. ]\n",
      " [ 35.  725. ]\n",
      " [ 38.5 955. ]\n",
      " [ 33.5 650. ]\n",
      " [ 31.5 500. ]\n",
      " [ 29.  430. ]\n",
      " [ 41.  950. ]]\n",
      "------------------------\n",
      "[1. 1. 1. 0. 0. 0. 1. 1. 1. 1. 1. 1. 1. 0. 1. 1. 1. 1. 0. 1. 1. 1. 0. 0.\n",
      " 1. 0. 1. 1. 1. 0. 1. 1. 0. 1. 1. 0.]\n",
      "------------------------\n",
      "[1. 0. 0. 0. 1. 1. 1. 1. 1. 1. 1. 1. 1.]\n"
     ]
    }
   ],
   "source": [
    "print(train_input)\n",
    "print('------------------------')\n",
    "print(test_input)\n",
    "print('------------------------')\n",
    "print(train_target)\n",
    "print('------------------------')\n",
    "print(test_target)"
   ]
  },
  {
   "cell_type": "code",
   "execution_count": 106,
   "id": "fbf77636-6925-43ee-82c8-e08e5c885f83",
   "metadata": {},
   "outputs": [],
   "source": [
    "# 훈련과 테스트 데이터 구분 비율 확인하기\n",
    "# 구분 비율은 train_input test_input 비율 체크"
   ]
  },
  {
   "cell_type": "code",
   "execution_count": 107,
   "id": "7075674f-b985-4ada-b027-693218995639",
   "metadata": {},
   "outputs": [
    {
     "data": {
      "text/plain": [
       "73.47"
      ]
     },
     "execution_count": 107,
     "metadata": {},
     "output_type": "execute_result"
    }
   ],
   "source": [
    "round(len(train_input) / len(fish_data) *100 ,2)"
   ]
  },
  {
   "cell_type": "code",
   "execution_count": 108,
   "id": "6a770cca-9353-4c7a-8d77-cf8a77674715",
   "metadata": {},
   "outputs": [
    {
     "data": {
      "text/plain": [
       "26.53"
      ]
     },
     "execution_count": 108,
     "metadata": {},
     "output_type": "execute_result"
    }
   ],
   "source": [
    "round(len(test_input) / len(fish_data) * 100, 2)"
   ]
  },
  {
   "cell_type": "code",
   "execution_count": 118,
   "id": "8b890097-5dd1-442c-beba-6abb454c4771",
   "metadata": {},
   "outputs": [
    {
     "name": "stdout",
     "output_type": "stream",
     "text": [
      "(36, 2) (36,)\n"
     ]
    }
   ],
   "source": [
    "# 훈련데이터 차원 확인\n",
    "print(train_input.shape, train_target.shape)"
   ]
  },
  {
   "cell_type": "code",
   "execution_count": 117,
   "id": "f199809a-6ce3-43e6-aa23-aab2178b35d2",
   "metadata": {},
   "outputs": [
    {
     "name": "stdout",
     "output_type": "stream",
     "text": [
      "(13, 2) (13,)\n"
     ]
    }
   ],
   "source": [
    "# 테스트데이터 차원 확인\n",
    "print(test_input.shape, test_target.shape)"
   ]
  },
  {
   "cell_type": "code",
   "execution_count": 132,
   "id": "03b3c7a8-fd01-4b82-875c-d81d95a45057",
   "metadata": {},
   "outputs": [
    {
     "data": {
      "text/plain": [
       "0.23076923076923078"
      ]
     },
     "execution_count": 132,
     "metadata": {},
     "output_type": "execute_result"
    }
   ],
   "source": [
    "3 / 13"
   ]
  },
  {
   "cell_type": "code",
   "execution_count": 133,
   "id": "222363b5-fee2-4cb7-b7f9-16f89c9ddd68",
   "metadata": {},
   "outputs": [],
   "source": [
    "# 정답 데이터(target_data)를 기준으로 비율 설정하여 셔플하기\n",
    "# 샘플링 편향 최소화 하기\n",
    "     # - stratify 속성 사용\n",
    "    # - 속성에는 기준값 사용(보통 종속데이터)\n",
    "    # - 종속데이터의 분류 값을 기준으로 test_size 비율로 셔플\n",
    "train_input, test_input, train_target, test_target = \\\n",
    "    train_test_split(fish_data, fish_target, stratify = fish_target,\n",
    "                     test_size=0.25,random_state=42)"
   ]
  },
  {
   "cell_type": "code",
   "execution_count": 134,
   "id": "2f9d8510-7312-4e6b-9c26-e799f16b517a",
   "metadata": {},
   "outputs": [
    {
     "data": {
      "text/plain": [
       "array([0., 0., 1., 0., 1., 0., 1., 1., 1., 1., 1., 1., 1.])"
      ]
     },
     "execution_count": 134,
     "metadata": {},
     "output_type": "execute_result"
    }
   ],
   "source": [
    "test_target"
   ]
  },
  {
   "cell_type": "code",
   "execution_count": 230,
   "id": "25576e98-f607-4b75-8055-627ba1f1ea25",
   "metadata": {},
   "outputs": [
    {
     "name": "stdout",
     "output_type": "stream",
     "text": [
      "(36, 2) (36,)\n"
     ]
    }
   ],
   "source": [
    "# 훈련데이터 차원 확인\n",
    "print(train_input.shape, train_target.shape)"
   ]
  },
  {
   "cell_type": "markdown",
   "id": "1d072b70-3eb8-4a24-ac6f-5ac54cf7bdc9",
   "metadata": {},
   "source": [
    "### 특정 위치의 생선 예측하기\n",
    "- 특정 위치(산점도)의 생선 : 예측 데이터 1개 사용"
   ]
  },
  {
   "cell_type": "code",
   "execution_count": 135,
   "id": "0f888131-d2e2-49eb-b358-ea42e349a2b6",
   "metadata": {},
   "outputs": [],
   "source": [
    "# [문제]\n",
    "# - 생선의 길이와 무게가 25cm, 150g인 생선 분류\n",
    "# - 산점도 시각화\n",
    "# - 모델 객체생성 > 훈련데이터 학습 > 정확도 확인 > 예측"
   ]
  },
  {
   "cell_type": "code",
   "execution_count": 180,
   "id": "92e953e0-eebc-4d8e-8e4e-47131ac77281",
   "metadata": {},
   "outputs": [
    {
     "data": {
      "text/plain": [
       "25"
      ]
     },
     "execution_count": 180,
     "metadata": {},
     "output_type": "execute_result"
    }
   ],
   "source": [
    "nfish = [[25,150]]\n",
    "nfish[0][0]"
   ]
  },
  {
   "cell_type": "code",
   "execution_count": 182,
   "id": "e092b87c-2c8f-4c8a-be88-86f497c876ad",
   "metadata": {},
   "outputs": [
    {
     "data": {
      "image/png": "[encoded data removed]",
      "text/plain": [
       "<Figure size 2000x1000 with 1 Axes>"
      ]
     },
     "metadata": {},
     "output_type": "display_data"
    }
   ],
   "source": [
    "# 시각화를 통해데이터 특징 분포 확인하기 (선형 or 비선형)\n",
    "fig = plt.figure(figsize=(20,10))\n",
    "plt.rc('font', family = 'Malgun Gothic', size = 18)\n",
    "\n",
    "plt.scatter(train_input[:,0],train_input[:,1])\n",
    "plt.scatter(test_input[:,0],test_input[:,1])\n",
    "plt.scatter(nfish[0][0], nfish[0][1], marker='*',s=500, c='red')\n",
    "plt.show()"
   ]
  },
  {
   "cell_type": "code",
   "execution_count": 155,
   "id": "22dd0fa9-cea7-4c46-bdd5-bed97baee8c0",
   "metadata": {},
   "outputs": [],
   "source": [
    "from sklearn.neighbors import KNeighborsClassifier"
   ]
  },
  {
   "cell_type": "code",
   "execution_count": 192,
   "id": "b5bf7faf-e553-4b13-9567-0bc4cd03ef03",
   "metadata": {},
   "outputs": [
    {
     "data": {
      "text/plain": [
       "1.0"
      ]
     },
     "execution_count": 192,
     "metadata": {},
     "output_type": "execute_result"
    }
   ],
   "source": [
    "kn = KNeighborsClassifier()\n",
    "kn.fit(train_input,train_target)\n",
    "kn.score(test_input,test_target)"
   ]
  },
  {
   "cell_type": "code",
   "execution_count": 193,
   "id": "3b547d6d-b02b-4301-80c7-ac54f7fc40ec",
   "metadata": {},
   "outputs": [
    {
     "data": {
      "text/plain": [
       "array([0.])"
      ]
     },
     "execution_count": 193,
     "metadata": {},
     "output_type": "execute_result"
    }
   ],
   "source": [
    "kn.predict(nfish)"
   ]
  },
  {
   "cell_type": "code",
   "execution_count": 196,
   "id": "6583282f-ed54-46b7-ae34-f553cfe0ad74",
   "metadata": {},
   "outputs": [
    {
     "name": "stdout",
     "output_type": "stream",
     "text": [
      "[[ 92.00086956 130.48375378 130.73859415 138.32150953 138.39320793]]\n",
      "[[21 33 19 30  1]]\n"
     ]
    }
   ],
   "source": [
    "# 사용된 이웃값 확인하기\n",
    "# - 모델 생성시 디폴트 n_neighbors=5개\n",
    "# - n_neighbors 값을 추출하기 위해 kneighbors() 함수 사용\n",
    "# - 첫번째 값 : n_neighbors의 값\n",
    "# - 두번째 값 : 첫번째 값의 인덱스 번호\n",
    "distances, indexes = kn.kneighbors(nfish)\n",
    "print(distances)\n",
    "print(indexes)"
   ]
  },
  {
   "cell_type": "code",
   "execution_count": 229,
   "id": "7a992ec9-136c-495d-b4b4-c619209887e7",
   "metadata": {},
   "outputs": [
    {
     "data": {
      "image/png": "[encoded data removed]",
      "text/plain": [
       "<Figure size 2000x1000 with 1 Axes>"
      ]
     },
     "metadata": {},
     "output_type": "display_data"
    }
   ],
   "source": [
    "# 시각화를 통해데이터 특징 분포 확인하기 (선형 or 비선형)\n",
    "fig = plt.figure(figsize=(20,10))\n",
    "plt.rc('font', family = 'Malgun Gothic', size = 18)\n",
    "\n",
    "plt.scatter(train_input[:,0],train_input[:,1], marker='D')\n",
    "plt.scatter(train_input[indexes,0],train_input[indexes,1], marker='o',c='green')\n",
    "# plt.scatter(test_input[:,0],test_input[:,1])\n",
    "plt.scatter(nfish[0][0], nfish[0][1], marker='*',s=500, c='red')\n",
    "plt.show()"
   ]
  },
  {
   "cell_type": "code",
   "execution_count": null,
   "id": "fca38e3c-8e11-40d3-9aa8-987c66d0718d",
   "metadata": {},
   "outputs": [],
   "source": [
    "# (해석)\n",
    "# - x축의 범위와 y축의 범위가 너무 큰 차이\n",
    "# - x축 : 10~40\n",
    "# - y축 : 0~1000\n",
    "# - 두 축의 범위 값이 너무 크게 차이나서 발생\n",
    "# - y축이 조금만 올라가도 거리는 크게 벌어짐(도미들의 위치가 조금만 올라가도 거리는 크게 벌어진다)\n",
    "\n",
    "# '스케일이 다르다'\n",
    "# - 분석시 매우 흔하게 발생하는 현상으로 전처리 필수\n",
    "# - 전처리 방법 x축, y축의 값을 동일하게 설정"
   ]
  },
  {
   "cell_type": "code",
   "execution_count": 232,
   "id": "27cd0a69-2960-4580-b54f-f9a479f1742f",
   "metadata": {},
   "outputs": [
    {
     "data": {
      "image/png": "[encoded data removed]",
      "text/plain": [
       "<Figure size 2000x1000 with 1 Axes>"
      ]
     },
     "metadata": {},
     "output_type": "display_data"
    }
   ],
   "source": [
    "# 시각화를 통해데이터 특징 분포 확인하기 (선형 or 비선형)\n",
    "fig = plt.figure(figsize=(20,10))\n",
    "plt.rc('font', family = 'Malgun Gothic', size = 18)\n",
    "\n",
    "plt.scatter(train_input[:,0],train_input[:,1], marker='D')\n",
    "plt.scatter(train_input[indexes,0],train_input[indexes,1], marker='o',c='green')\n",
    "# plt.scatter(test_input[:,0],test_input[:,1])\n",
    "plt.scatter(nfish[0][0], nfish[0][1], marker='*',s=500, c='red')\n",
    "plt.xlim((0,1000))\n",
    "plt.show()"
   ]
  },
  {
   "cell_type": "markdown",
   "id": "039ce49c-0dc2-4fe7-ae0a-f49f58365f61",
   "metadata": {},
   "source": [
    "## ★스케일 맞추기(전처리 핵심)\n",
    "- 표준점수(standard score) 사용\n",
    "- 표준점수 : 각 데이터가 원점(0)에서 몇 표준편차 만큼 떨어져 있는지\n",
    "- 표준점수 계산공식 : (각 데이터값-데이터세트 전체 평균값 / 데이터 세트 전체 표준편자값\n",
    "- 평균, 표준편차 계산 : numpy 사용"
   ]
  },
  {
   "cell_type": "code",
   "execution_count": 236,
   "id": "01d881f3-891c-43ec-b3a6-fb46d60fa902",
   "metadata": {},
   "outputs": [
    {
     "data": {
      "text/plain": [
       "array([ 27.29722222, 454.09722222])"
      ]
     },
     "execution_count": 236,
     "metadata": {},
     "output_type": "execute_result"
    }
   ],
   "source": [
    "# 훈련데이터 전체 평균 구하기\n",
    "mean = np.mean(train_input, axis=0)\n",
    "mean"
   ]
  },
  {
   "cell_type": "code",
   "execution_count": 238,
   "id": "15071357-7bee-45dc-97a4-51d4c8378a08",
   "metadata": {},
   "outputs": [
    {
     "data": {
      "text/plain": [
       "array([  9.98244253, 323.29893931])"
      ]
     },
     "execution_count": 238,
     "metadata": {},
     "output_type": "execute_result"
    }
   ],
   "source": [
    "# 훈련데이터 전체 표준편차 구하기\n",
    "std = np.std(train_input, axis=0)\n",
    "std"
   ]
  },
  {
   "cell_type": "code",
   "execution_count": 259,
   "id": "523d686a-04fd-45ce-bb33-8e1d08e849ed",
   "metadata": {},
   "outputs": [
    {
     "data": {
      "text/plain": [
       "array([[ 0.24070039,  0.14198246],\n",
       "       [-1.51237757, -1.36683783],\n",
       "       [ 0.5712808 ,  0.76060496],\n",
       "       [-1.60253587, -1.37766373],\n",
       "       [ 1.22242404,  1.45655528],\n",
       "       [ 0.17057727, -0.07453542],\n",
       "       [ 0.87180845,  0.80390854],\n",
       "       [ 0.87180845,  1.22457184],\n",
       "       [ 0.37092904,  0.06465464],\n",
       "       [ 0.77163257,  0.82246721],\n",
       "       [ 0.97198434,  1.68853872],\n",
       "       [-1.61255346, -1.3742613 ],\n",
       "       [ 0.72154463,  0.51315596],\n",
       "       [-1.53241275, -1.3742613 ],\n",
       "       [ 0.17057727, -0.28177396],\n",
       "       [ 0.5712808 ,  0.76060496],\n",
       "       [ 0.34087627,  0.14198246],\n",
       "       [ 1.12224816,  1.54934866],\n",
       "       [ 0.62136874,  0.60594934],\n",
       "       [-1.30200822, -1.34363949],\n",
       "       [ 0.42101698,  0.14198246],\n",
       "       [-0.19005591, -0.65604058],\n",
       "       [-1.75279969, -1.38384995],\n",
       "       [ 0.47110492,  0.45129371],\n",
       "       [-1.68267658, -1.38137546],\n",
       "       [ 0.62136874,  0.48222484],\n",
       "       [-1.67265899, -1.38292202],\n",
       "       [ 0.77163257,  0.76060496],\n",
       "       [ 0.47110492,  0.45129371],\n",
       "       [ 0.77163257,  0.83793278],\n",
       "       [-1.43223687, -1.36683783],\n",
       "       [ 0.27075315, -0.01267317],\n",
       "       [ 0.47110492, -0.35291555],\n",
       "       [-1.2318851 , -1.34302087],\n",
       "       [ 0.27075315, -0.19825992],\n",
       "       [ 1.37268787,  1.61121091]])"
      ]
     },
     "execution_count": 259,
     "metadata": {},
     "output_type": "execute_result"
    }
   ],
   "source": [
    "# 훈련데이터 표준점수 구하기\n",
    "train_scaled = (train_input - mean) / std\n",
    "train_scaled"
   ]
  },
  {
   "cell_type": "code",
   "execution_count": 271,
   "id": "6680b754-1861-4e48-9dce-102e663008a4",
   "metadata": {},
   "outputs": [
    {
     "data": {
      "text/plain": [
       "array([ 26.38461538, 417.92307692])"
      ]
     },
     "execution_count": 271,
     "metadata": {},
     "output_type": "execute_result"
    }
   ],
   "source": [
    "# 테스트 데이터 평균 구하기\n",
    "test_mean = np.mean(test_input, axis=0)\n",
    "test_mean"
   ]
  },
  {
   "cell_type": "code",
   "execution_count": 272,
   "id": "be104beb-4f0b-46ef-899d-20578ac22a38",
   "metadata": {},
   "outputs": [
    {
     "data": {
      "text/plain": [
       "array([ 10.52687741, 327.37247465])"
      ]
     },
     "execution_count": 272,
     "metadata": {},
     "output_type": "execute_result"
    }
   ],
   "source": [
    "# 테스트 데이터 표준편차 구하기\n",
    "test_std = np.std(test_input, axis=0)\n",
    "test_std"
   ]
  },
  {
   "cell_type": "code",
   "execution_count": 273,
   "id": "bfe2aef2-e82d-4354-98ce-5b211fa6e854",
   "metadata": {},
   "outputs": [
    {
     "data": {
      "text/plain": [
       "array([[-1.46146049, -1.24696824],\n",
       "       [-1.38546454, -1.24635731],\n",
       "       [ 0.31494474,  0.09798296],\n",
       "       [-1.38546454, -1.24605185],\n",
       "       [ 0.01096095, -0.23802574],\n",
       "       [-1.32846758, -1.23566612],\n",
       "       [ 0.72342294,  0.81581973],\n",
       "       [ 0.72342294,  0.47981103],\n",
       "       [ 1.15090013,  1.5336565 ],\n",
       "       [ 0.81841787,  0.8005466 ],\n",
       "       [-0.00803803, -0.39075697],\n",
       "       [ 0.43843815,  0.25071418],\n",
       "       [ 1.38838746,  1.62529523]])"
      ]
     },
     "execution_count": 273,
     "metadata": {},
     "output_type": "execute_result"
    }
   ],
   "source": [
    "# 테스트 데이터 표준점수 구하기\n",
    "test_scaled = (test_input - test_mean) / test_std\n",
    "test_scaled"
   ]
  },
  {
   "cell_type": "code",
   "execution_count": 274,
   "id": "88a966af-dcc5-4951-a01d-e7d4d4f08c99",
   "metadata": {},
   "outputs": [
    {
     "data": {
      "text/plain": [
       "array([[-0.23012627, -0.94060693]])"
      ]
     },
     "execution_count": 274,
     "metadata": {},
     "output_type": "execute_result"
    }
   ],
   "source": [
    "# 예측데이터(샘플데이터) 표준점수 구하기\n",
    "nfish_scaled = (nfish - mean) / std\n",
    "nfish_scaled"
   ]
  },
  {
   "cell_type": "code",
   "execution_count": 305,
   "id": "f4b6d85c-24b3-4734-8140-fd5e6a479484",
   "metadata": {},
   "outputs": [
    {
     "data": {
      "text/plain": [
       "1.0"
      ]
     },
     "execution_count": 305,
     "metadata": {},
     "output_type": "execute_result"
    }
   ],
   "source": [
    "# 스케일 데이터 훈련 및 테스트 하기\n",
    "kn_scale = KNeighborsClassifier()\n",
    "kn_scale.fit(train_scaled, train_target)\n",
    "kn_scale.score(test_scaled, test_target)"
   ]
  },
  {
   "cell_type": "code",
   "execution_count": 306,
   "id": "05dc24e1-9e4b-4454-a78a-3c8539830a13",
   "metadata": {},
   "outputs": [
    {
     "name": "stdout",
     "output_type": "stream",
     "text": [
      "도미\n"
     ]
    }
   ],
   "source": [
    "# 스케일 샘플 데이터 예측하기\n",
    "if kn_scale.predict(nfish_scaled) == 1:\n",
    "    print('도미')\n",
    "else :\n",
    "    print('빙어')"
   ]
  },
  {
   "cell_type": "code",
   "execution_count": 310,
   "id": "8b8c8017-0cd9-462b-b6f1-69c400ccbba2",
   "metadata": {},
   "outputs": [
    {
     "name": "stdout",
     "output_type": "stream",
     "text": [
      "[[0.2873737  0.7711188  0.89552179 0.91493515 0.95427626]]\n",
      "[[21 14 34 32  5]]\n"
     ]
    }
   ],
   "source": [
    "# 사용된 이웃값 확인하기\n",
    "# - 모델 생성시 디폴트 n_neighbors=5개\n",
    "# - n_neighbors 값을 추출하기 위해 kneighbors() 함수 사용\n",
    "# - 첫번째 값 : n_neighbors의 값\n",
    "# - 두번째 값 : 첫번째 값의 인덱스 번호\n",
    "distances, indexes = kn_scale.kneighbors(nfish_scaled)\n",
    "print(distances)\n",
    "print(indexes)"
   ]
  },
  {
   "cell_type": "code",
   "execution_count": 317,
   "id": "4f807865-f9b4-4e51-9780-761787ee9c80",
   "metadata": {},
   "outputs": [
    {
     "data": {
      "image/png": "[encoded data removed]",
      "text/plain": [
       "<Figure size 2000x1000 with 1 Axes>"
      ]
     },
     "metadata": {},
     "output_type": "display_data"
    }
   ],
   "source": [
    "# 시각화를 통해데이터 특징 분포 확인하기 (선형 or 비선형)\n",
    "fig = plt.figure(figsize=(20,10))\n",
    "plt.rc('font', family = 'Malgun Gothic', size = 18)\n",
    "\n",
    "plt.scatter(train_scaled[:,0],train_scaled[:,1], marker='D', c ='orange')\n",
    "plt.scatter(train_scaled[indexes,0],train_scaled[indexes,1], marker='D', c='navy')\n",
    "# plt.scatter(test_scaled[:,0],test_scaled[:,1], c ='navy')\n",
    "plt.scatter(nfish_scaled[0][0], nfish_scaled[0][1], marker='*',s=500, c='red')\n",
    "plt.show()\n",
    "\n",
    "# 훈련데이터 스케일 = 예측데이터 스케일"
   ]
  }
 ],
 "metadata": {
  "kernelspec": {
   "display_name": "ml_kernel",
   "language": "python",
   "name": "ml"
  },
  "language_info": {
   "codemirror_mode": {
    "name": "ipython",
    "version": 3
   },
   "file_extension": ".py",
   "mimetype": "text/x-python",
   "name": "python",
   "nbconvert_exporter": "python",
   "pygments_lexer": "ipython3",
   "version": "3.9.12"
  }
 },
 "nbformat": 4,
 "nbformat_minor": 5
}
