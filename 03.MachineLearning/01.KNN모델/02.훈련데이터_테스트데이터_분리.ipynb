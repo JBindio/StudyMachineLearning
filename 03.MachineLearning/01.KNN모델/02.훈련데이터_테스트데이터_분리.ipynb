{
 "cells": [
  {
   "cell_type": "markdown",
   "id": "4a364a58-7182-4f59-9c42-960b63112b18",
   "metadata": {
    "tags": []
   },
   "source": [
    "### 머신러닝 맛보기"
   ]
  },
  {
   "cell_type": "code",
   "execution_count": 32,
   "id": "829e764b-b18f-4981-bf63-7c007998764c",
   "metadata": {},
   "outputs": [],
   "source": [
    "import pandas as pd\n",
    "import numpy as np\n",
    "import matplotlib.pyplot as plt\n",
    "import matplotlib\n",
    "import seaborn as sns\n",
    "from matplotlib import font_manager, rc\n",
    "import platform"
   ]
  },
  {
   "cell_type": "code",
   "execution_count": 33,
   "id": "7447a6d0-7678-4daa-b9c1-4b2d596fad90",
   "metadata": {},
   "outputs": [],
   "source": [
    "from sklearn.neighbors import KNeighborsClassifier"
   ]
  },
  {
   "cell_type": "code",
   "execution_count": 34,
   "id": "9eec9554-db46-4d38-90e0-d56612c4fabd",
   "metadata": {},
   "outputs": [],
   "source": [
    "# seaborn 설정 리셋\n",
    "sns.reset_defaults()\n",
    "\n",
    "# 폰트설정\n",
    "if platform.system() == 'Windows' :\n",
    "    path = 'c:/Windows/Fonts/malgun.ttf'\n",
    "    font_name = font_manager.FontProperties(fname=path).get_name()\n",
    "    rc('font', family=font_name)\n",
    "elif platform.system() == 'Darwin':\n",
    "    rc('font', family='AppleGothic')\n",
    "else :\n",
    "    print('Check your OS System')\n",
    "    \n",
    "# 그래프에 마이너스 표시\n",
    "matplotlib.rcParams['axes.unicode_minus'] = False"
   ]
  },
  {
   "cell_type": "code",
   "execution_count": 35,
   "id": "6469ef7a-766d-41a5-9e9d-d3c30f794c9b",
   "metadata": {},
   "outputs": [],
   "source": [
    "# 훈련데이터와 테스트데이터 분리하기\n",
    "    # - 수집한 데이터 : 데이터세트\n",
    "    # - 훈련에 사용되는 데이터 : 훈련데이터세트\n",
    "    # - 예측에 사용되는 데이터 : 테스트데이터세트\n",
    "    \n",
    "# 훈련데이터와 테스트데이터로 분리하는 방법\n",
    "    # - 훈련데이터와 테스트데이터를 따로 준비\n",
    "    # - 데이터세트를 특정 비율 또는 갯수로 나누어서 준비"
   ]
  },
  {
   "cell_type": "code",
   "execution_count": 36,
   "id": "c06b11bd-5c68-47ce-b5ec-9236135ba7b3",
   "metadata": {},
   "outputs": [
    {
     "name": "stdout",
     "output_type": "stream",
     "text": [
      "도미 길이 : [25.4, 26.3, 26.5, 29.0, 29.0, 29.7, 29.7, 30.0, 30.0, 30.7, 31.0, 31.0, 31.5, 32.0, 32.0, 32.0, 33.0, 33.0, 33.5, 33.5, 34.0, 34.0, 34.5, 35.0, 35.0, 35.0, 35.0, 36.0, 36.0, 37.0, 38.5, 38.5, 39.5, 41.0, 41.0]\n",
      "-------------------------------------------------------------------------------------------------------------------------\n",
      "도미 무게 : [242.0, 290.0, 340.0, 363.0, 430.0, 450.0, 500.0, 390.0, 450.0, 500.0, 475.0, 500.0, 500.0, 340.0, 600.0, 600.0, 700.0, 700.0, 610.0, 650.0, 575.0, 685.0, 620.0, 680.0, 700.0, 725.0, 720.0, 714.0, 850.0, 1000.0, 920.0, 955.0, 925.0, 975.0, 950.0]\n",
      "\n",
      "35 35\n"
     ]
    }
   ],
   "source": [
    "# 데이터 가지고 오기\n",
    "\n",
    "# 1. 도미 데이터\n",
    "# 도미 길이\n",
    "bream_length = [25.4, 26.3, 26.5, 29.0, 29.0, 29.7, 29.7, 30.0, \n",
    "                30.0, 30.7, 31.0, 31.0, 31.5, 32.0, 32.0, 32.0, \n",
    "                33.0, 33.0, 33.5, 33.5, 34.0, 34.0, 34.5, 35.0, \n",
    "                35.0, 35.0, 35.0, 36.0, 36.0, 37.0, 38.5, 38.5, \n",
    "                39.5, 41.0, 41.0]\n",
    "# 도미 무게\n",
    "brean_weight = [242.0, 290.0, 340.0, 363.0, 430.0, 450.0, 500.0, \n",
    "                390.0, 450.0, 500.0, 475.0, 500.0, 500.0, 340.0, \n",
    "                600.0, 600.0, 700.0, 700.0, 610.0, 650.0, 575.0, \n",
    "                685.0, 620.0, 680.0, 700.0, 725.0, 720.0, 714.0, \n",
    "                850.0, 1000.0, 920.0, 955.0, 925.0, 975.0, 950.0]\n",
    "\n",
    "print('도미 길이 :', bream_length)\n",
    "print('-------------------------------------------------------------------------------------------------------------------------')\n",
    "print('도미 무게 :', brean_weight)\n",
    "print()\n",
    "print(len(bream_length), len(brean_weight))"
   ]
  },
  {
   "cell_type": "code",
   "execution_count": 37,
   "id": "239de387-3312-4c91-a6aa-11dccf77d831",
   "metadata": {},
   "outputs": [
    {
     "name": "stdout",
     "output_type": "stream",
     "text": [
      "도미 길이 : [9.8, 10.5, 10.6, 11.0, 11.2, 11.3, 11.8, 11.8, 12.0, 12.2, 12.4, 13.0, 14.3, 15.0]\n",
      "-------------------------------------------------------------------------------------------------------------------------\n",
      "도미 무게 : [6.7, 7.5, 7.0, 9.7, 9.8, 8.7, 10.0, 9.9, 9.8, 12.2, 13.4, 12.2, 19.7, 19.9]\n",
      "\n",
      "14 14\n"
     ]
    }
   ],
   "source": [
    "# 데이터 가지고 오기\n",
    "\n",
    "# 2. 빙어 데이터\n",
    "# 빙어 길이\n",
    "smelt_length = [9.8, 10.5, 10.6, 11.0, 11.2, 11.3, 11.8, 11.8, 12.0, 12.2, 12.4, 13.0, 14.3, 15.0]\n",
    "\n",
    "# 빙어 무게\n",
    "smelt_weight = [6.7, 7.5, 7.0, 9.7, 9.8, 8.7, 10.0, 9.9, 9.8, 12.2, 13.4, 12.2, 19.7, 19.9]\n",
    "\n",
    "print('도미 길이 :', smelt_length)\n",
    "print('-------------------------------------------------------------------------------------------------------------------------')\n",
    "print('도미 무게 :', smelt_weight)\n",
    "print()\n",
    "print(len(smelt_length), len(smelt_weight))"
   ]
  },
  {
   "cell_type": "code",
   "execution_count": 38,
   "id": "0552ead3-66ee-4b74-b934-a093288be06c",
   "metadata": {
    "tags": []
   },
   "outputs": [],
   "source": [
    "# [문제]\n",
    "# 도미, 빙어 데이터세트 이용\n",
    "# -각각에 대한 정답데이터 생성\n",
    "# -하나의 2차원데이터 생성\n",
    "# - 훈련데이터와 테스트데이터 생성하기\n",
    "# - 훈련데이터 변수: train_input, train_target\n",
    "# - 테스트데이터 변수: test_input, test_target\n",
    "\n",
    "# 훈련데이터 35개 테스트데이터 14개로 분리하여\n",
    "# - 객체생성 > 훈련데이터 학습 > 정확도 평가"
   ]
  },
  {
   "cell_type": "code",
   "execution_count": 40,
   "id": "9b4d74f2-e822-421d-8585-295db1791a7b",
   "metadata": {},
   "outputs": [],
   "source": [
    "lenght = bream_length + smelt_length"
   ]
  },
  {
   "cell_type": "code",
   "execution_count": 41,
   "id": "5ca5b412-76b3-480a-a40b-800b230ab32e",
   "metadata": {},
   "outputs": [],
   "source": [
    "weight = brean_weight + smelt_weight"
   ]
  },
  {
   "cell_type": "code",
   "execution_count": 42,
   "id": "bf573950-39b4-4767-b33f-cc4e7ba59c7e",
   "metadata": {},
   "outputs": [],
   "source": [
    "fish_data = [[leng,wei] for leng, wei in zip(lenght,weight)]"
   ]
  },
  {
   "cell_type": "code",
   "execution_count": 43,
   "id": "ca8de704-bef5-4474-bf6f-d5ca91b707c7",
   "metadata": {},
   "outputs": [],
   "source": [
    "fish_target = [1]*35+[0]*14"
   ]
  },
  {
   "cell_type": "code",
   "execution_count": 60,
   "id": "c66ad775-17a0-4d11-b1a0-9a8c9d47e4c4",
   "metadata": {},
   "outputs": [],
   "source": [
    "train_input = fish_data[:35]\n",
    "train_target = fish_target[:35]"
   ]
  },
  {
   "cell_type": "code",
   "execution_count": 61,
   "id": "b0f90311-0104-41c1-9715-d36b0ffbbfb3",
   "metadata": {},
   "outputs": [],
   "source": [
    "test_input = fish_data[35:]\n",
    "test_target = fish_target[35:]"
   ]
  },
  {
   "cell_type": "code",
   "execution_count": 62,
   "id": "d06e6755-3941-4ec6-9c0a-7232ebf293aa",
   "metadata": {
    "tags": []
   },
   "outputs": [
    {
     "data": {
      "text/plain": [
       "0.0"
      ]
     },
     "execution_count": 62,
     "metadata": {},
     "output_type": "execute_result"
    }
   ],
   "source": [
    "kn = KNeighborsClassifier()\n",
    "kn.fit(train_input,train_target)\n",
    "kn.score(test_input,test_target)"
   ]
  },
  {
   "cell_type": "markdown",
   "id": "3e198502-aaba-4b0d-9825-429decc8bbc6",
   "metadata": {
    "tags": []
   },
   "source": [
    "### 샘플링 편향\n",
    "- 특정데이터가 몰려있는 부분으로만 훈련이 이루어진 경우\n",
    "- 샘플링 편향을 해결방안 : 훈련 및 테스트 데이터 생성시 섞기"
   ]
  },
  {
   "cell_type": "code",
   "execution_count": 88,
   "id": "141dbe08-445c-471e-91fc-49de97fc6fc5",
   "metadata": {},
   "outputs": [],
   "source": [
    "# 데이터 섞기위해 numpy의 배열타입으로 변경\n",
    "input_arr = np.array(fish_data)\n",
    "target_arr = np.array(fish_target)"
   ]
  },
  {
   "cell_type": "code",
   "execution_count": 89,
   "id": "4c2864a3-3985-48e2-a1ea-ddb7975b71a2",
   "metadata": {},
   "outputs": [
    {
     "name": "stdout",
     "output_type": "stream",
     "text": [
      "(49, 2)\n",
      "(49,)\n"
     ]
    }
   ],
   "source": [
    "print(input_arr.shape)\n",
    "print(target_arr.shape)"
   ]
  },
  {
   "cell_type": "code",
   "execution_count": 95,
   "id": "1dd7644d-3152-4baa-9eff-d1af2f0f5757",
   "metadata": {},
   "outputs": [
    {
     "name": "stdout",
     "output_type": "stream",
     "text": [
      "index(섞기전) = [ 0  1  2  3  4  5  6  7  8  9 10 11 12 13 14 15 16 17 18 19 20 21 22 23\n",
      " 24 25 26 27 28 29 30 31 32 33 34 35 36 37 38 39 40 41 42 43 44 45 46 47\n",
      " 48]\n",
      "------------------------------------------------------------------------------------------\n",
      "index(섞은후) = [13 45 47 44 17 27 26 25 31 19 12  4 34  8  3  6 40 41 46 15  9 16 24 33\n",
      " 30  0 43 32  5 29 11 36  1 21  2 37 35 23 39 10 22 18 48 20  7 42 14 28\n",
      " 38]\n",
      "------------------------------------------------------------------------------------------\n"
     ]
    }
   ],
   "source": [
    "# 배열(데이터) 섞기(numpy.shuffle())\n",
    "np.random.seed(42)\n",
    "# 0 ~ 48 까지의 순차적인 번호 생성\n",
    "index = np.arange(49)\n",
    "print('index(섞기전) =',index)\n",
    "print('------------------------------------------------------------------------------------------')\n",
    "\n",
    "np.random.shuffle(index)\n",
    "print('index(섞은후) =',index)\n",
    "print('------------------------------------------------------------------------------------------')"
   ]
  },
  {
   "cell_type": "code",
   "execution_count": 101,
   "id": "c94f534b-7563-434f-842e-18547125577f",
   "metadata": {},
   "outputs": [],
   "source": [
    "train_input = input_arr[index[:35]]\n",
    "train_target = target_arr[index[:35]]"
   ]
  },
  {
   "cell_type": "code",
   "execution_count": 102,
   "id": "94d1dc0a-461d-43e3-9b31-9754d5de9a7f",
   "metadata": {},
   "outputs": [
    {
     "name": "stdout",
     "output_type": "stream",
     "text": [
      "[[  32.   340. ]\n",
      " [  12.4   13.4]\n",
      " [  14.3   19.7]\n",
      " [  12.2   12.2]\n",
      " [  33.   700. ]\n",
      " [  36.   714. ]\n",
      " [  35.   720. ]\n",
      " [  35.   725. ]\n",
      " [  38.5  955. ]\n",
      " [  33.5  650. ]\n",
      " [  31.5  500. ]\n",
      " [  29.   430. ]\n",
      " [  41.   950. ]\n",
      " [  30.   450. ]\n",
      " [  29.   363. ]\n",
      " [  29.7  500. ]\n",
      " [  11.3    8.7]\n",
      " [  11.8   10. ]\n",
      " [  13.    12.2]\n",
      " [  32.   600. ]\n",
      " [  30.7  500. ]\n",
      " [  33.   700. ]\n",
      " [  35.   700. ]\n",
      " [  41.   975. ]\n",
      " [  38.5  920. ]\n",
      " [  25.4  242. ]\n",
      " [  12.     9.8]\n",
      " [  39.5  925. ]\n",
      " [  29.7  450. ]\n",
      " [  37.  1000. ]\n",
      " [  31.   500. ]\n",
      " [  10.5    7.5]\n",
      " [  26.3  290. ]\n",
      " [  34.   685. ]\n",
      " [  26.5  340. ]]\n",
      "[1 0 0 0 1 1 1 1 1 1 1 1 1 1 1 1 0 0 0 1 1 1 1 1 1 1 0 1 1 1 1 0 1 1 1]\n"
     ]
    }
   ],
   "source": [
    "print(train_input)\n",
    "print(train_target)"
   ]
  },
  {
   "cell_type": "code",
   "execution_count": 113,
   "id": "c87a81cc-1534-4a71-b1b9-ba37d5723823",
   "metadata": {},
   "outputs": [
    {
     "data": {
      "text/plain": [
       "[[32.0, 340.0],\n",
       " [12.4, 13.4],\n",
       " [14.3, 19.7],\n",
       " [12.2, 12.2],\n",
       " [33.0, 700.0],\n",
       " [36.0, 714.0],\n",
       " [35.0, 720.0],\n",
       " [35.0, 725.0],\n",
       " [38.5, 955.0],\n",
       " [33.5, 650.0],\n",
       " [31.5, 500.0],\n",
       " [29.0, 430.0],\n",
       " [41.0, 950.0],\n",
       " [30.0, 450.0],\n",
       " [29.0, 363.0],\n",
       " [29.7, 500.0],\n",
       " [11.3, 8.7],\n",
       " [11.8, 10.0],\n",
       " [13.0, 12.2],\n",
       " [32.0, 600.0],\n",
       " [30.7, 500.0],\n",
       " [33.0, 700.0],\n",
       " [35.0, 700.0],\n",
       " [41.0, 975.0],\n",
       " [38.5, 920.0],\n",
       " [25.4, 242.0],\n",
       " [12.0, 9.8],\n",
       " [39.5, 925.0],\n",
       " [29.7, 450.0],\n",
       " [37.0, 1000.0],\n",
       " [31.0, 500.0],\n",
       " [10.5, 7.5],\n",
       " [26.3, 290.0],\n",
       " [34.0, 685.0],\n",
       " [26.5, 340.0]]"
      ]
     },
     "execution_count": 113,
     "metadata": {},
     "output_type": "execute_result"
    }
   ],
   "source": [
    "# shuffle = []\n",
    "# for i in index:\n",
    "#     shuffle.append(fish_data[i])"
   ]
  },
  {
   "cell_type": "code",
   "execution_count": 104,
   "id": "c32b133c-eac9-4288-9fad-52be352f456e",
   "metadata": {},
   "outputs": [
    {
     "name": "stdout",
     "output_type": "stream",
     "text": [
      "[[ 10.6   7. ]\n",
      " [  9.8   6.7]\n",
      " [ 35.  680. ]\n",
      " [ 11.2   9.8]\n",
      " [ 31.  475. ]\n",
      " [ 34.5 620. ]\n",
      " [ 33.5 610. ]\n",
      " [ 15.   19.9]\n",
      " [ 34.  575. ]\n",
      " [ 30.  390. ]\n",
      " [ 11.8   9.9]\n",
      " [ 32.  600. ]\n",
      " [ 36.  850. ]\n",
      " [ 11.    9.7]]\n",
      "[0 0 1 0 1 1 1 0 1 1 0 1 1 0]\n"
     ]
    }
   ],
   "source": [
    "# 테스트 데이터 생성하기\n",
    "test_input = input_arr[index[35:]]\n",
    "test_target = target_arr[index[35:]]\n",
    "print(test_input)\n",
    "print(test_target)"
   ]
  },
  {
   "cell_type": "code",
   "execution_count": 109,
   "id": "3512e172-fc12-4416-ad81-880b42775e56",
   "metadata": {},
   "outputs": [
    {
     "data": {
      "image/png": "[encoded data removed]",
      "text/plain": [
       "<Figure size 2000x1000 with 1 Axes>"
      ]
     },
     "metadata": {},
     "output_type": "display_data"
    }
   ],
   "source": [
    "# 시각화를 통해데이터 특징 분포 확인하기 (선형 or 비선형)\n",
    "fig = plt.figure(figsize=(20,10))\n",
    "plt.rc('font', family = 'Malgun Gothic', size = 18)\n",
    "\n",
    "plt.scatter(train_input[:,0],train_input[:,1])\n",
    "plt.scatter(test_input[:,0],test_input[:,1])\n",
    "plt.scatter(30, 600, marker='*', c='red')\n",
    "plt.show()\n",
    "\n",
    "# 해석\n",
    "# 파랑색 : 도미\n",
    "# 주황색 : 빙어\n",
    "# 도미와 빙어는 길이에 비례해서 무게가 증가하는 것으로 보임\n",
    "# 다만, 빙어의 경우, 길이에 비례해서 크게 무게가 증가되지는 않는다.\n",
    "# 빙어는 무게에 비해 길이의 영향을 덜 받는것으로 보인다."
   ]
  },
  {
   "cell_type": "code",
   "execution_count": 110,
   "id": "227e38c4-9a44-41d1-bacc-858ca251d072",
   "metadata": {},
   "outputs": [
    {
     "data": {
      "text/plain": [
       "1.0"
      ]
     },
     "execution_count": 110,
     "metadata": {},
     "output_type": "execute_result"
    }
   ],
   "source": [
    "kn = KNeighborsClassifier()\n",
    "kn.fit(train_input,train_target)\n",
    "kn.score(test_input,test_target)"
   ]
  },
  {
   "cell_type": "code",
   "execution_count": 111,
   "id": "48273f12-08cb-437a-87ed-3846f5c1b542",
   "metadata": {},
   "outputs": [
    {
     "data": {
      "text/plain": [
       "array([0, 0, 1, 0, 1, 1, 1, 0, 1, 1, 0, 1, 1, 0])"
      ]
     },
     "execution_count": 111,
     "metadata": {},
     "output_type": "execute_result"
    }
   ],
   "source": [
    "kn.predict(test_input)"
   ]
  }
 ],
 "metadata": {
  "kernelspec": {
   "display_name": "ml_kernel",
   "language": "python",
   "name": "ml"
  },
  "language_info": {
   "codemirror_mode": {
    "name": "ipython",
    "version": 3
   },
   "file_extension": ".py",
   "mimetype": "text/x-python",
   "name": "python",
   "nbconvert_exporter": "python",
   "pygments_lexer": "ipython3",
   "version": "3.9.12"
  }
 },
 "nbformat": 4,
 "nbformat_minor": 5
}
